{
 "cells": [
  {
   "cell_type": "markdown",
   "id": "75b6f867",
   "metadata": {},
   "source": [
    "# Torch transformation-in-training pipeline prototype\n",
    "This notebook gives an overview of the prototype parameter and activation quantization-aware-training pipeline and facilities available for Torch-backed modules in Rockpool.\n",
    "\n",
    "This is still work-in-progress and subject to change.\n",
    "\n",
    "The torch pipeline is based on Torch's `functional_call` API, new in Torch 1.12.\n",
    "\n",
    "## Design goals\n",
    "* No need to modify pre-defined modules to make \"magic quantization\" modules\n",
    "* General solution that can be applied widely to modules and parameters\n",
    "* Convenient API for specifying transformations over parameters in a network in a \"grouped\" way, using Rockpool's parameter families\n",
    "* Similar API for parameter- and activity-transformation\n",
    "* Quantization controllable at a fine-grained level\n",
    "* Provide useful and flexible transformation methods --- can be used for QAT, dropout, pruning..."
   ]
  },
  {
   "cell_type": "code",
   "execution_count": 1,
   "id": "83676234",
   "metadata": {},
   "outputs": [
    {
     "name": "stderr",
     "output_type": "stream",
     "text": [
      "/home/mina/.pyenv/versions/3.8.7/envs/py3.8_torch1.12/lib/python3.8/site-packages/tqdm/auto.py:22: TqdmWarning: IProgress not found. Please update jupyter and ipywidgets. See https://ipywidgets.readthedocs.io/en/stable/user_install.html\n",
      "  from .autonotebook import tqdm as notebook_tqdm\n"
     ]
    }
   ],
   "source": [
    "# - Basic imports\n",
    "from rockpool.nn.modules import LinearTorch, LIFTorch\n",
    "from rockpool.nn.combinators import Sequential, Residual\n",
    "\n",
    "import torch"
   ]
  },
  {
   "cell_type": "code",
   "execution_count": 2,
   "id": "29f984fb",
   "metadata": {},
   "outputs": [],
   "source": [
    "# - Transformation pipeline imports\n",
    "import rockpool.transform.torch_transform as tt\n",
    "import rockpool.utilities.tree_utils as tu"
   ]
  },
  {
   "cell_type": "markdown",
   "id": "12101216",
   "metadata": {},
   "source": [
    "## Parameter transformations\n",
    "The parameter transformation pipeline allows you to insert transformations to any parameter in the forward pass before evolution, in a configurable way. You would use this to perform quantisation-aware-training, random parameter attacks, connection pruning, ...\n",
    "\n",
    "We'll begin here with a simple Rockpool SNN that uses most of the features of network composition in Rockpool, and is compatible with Xylo."
   ]
  },
  {
   "cell_type": "code",
   "execution_count": null,
   "id": "ab431ab2",
   "metadata": {},
   "outputs": [],
   "source": [
    "# - Build a network to use\n",
    "net = Sequential(\n",
    "    LinearTorch((3, 5)),\n",
    "    LIFTorch(5),\n",
    "    Residual(\n",
    "        LinearTorch((5, 5)),\n",
    "        LIFTorch(5, has_rec=True),\n",
    "    ),\n",
    "    LinearTorch((5, 3)),\n",
    "    LIFTorch(3),\n",
    ")\n",
    "net"
   ]
  },
  {
   "cell_type": "raw",
   "id": "22854914",
   "metadata": {
    "raw_mimetype": "text/restructuredtext"
   },
   "source": [
    "Now we build a configuration that describes the desired parameter transformation to apply to each parameter. We will transform weights with :py:func:`.stochastic_rounding` and transform biases with :py:func:`.dropout`. We can use parameter families to select the parameters to transform and which transformation to apply."
   ]
  },
  {
   "cell_type": "code",
   "execution_count": null,
   "id": "1995f681",
   "metadata": {},
   "outputs": [],
   "source": [
    "# - Get the 'weights' parameter family, and specify stochastic rounding\n",
    "tconfig = tt.make_param_T_config(\n",
    "    net, lambda p: tt.stochastic_rounding(p, num_levels=2**2), \"weights\"\n",
    ")\n",
    "tconfig"
   ]
  },
  {
   "cell_type": "code",
   "execution_count": null,
   "id": "669fc4f3",
   "metadata": {},
   "outputs": [],
   "source": [
    "# - Now we add in the bias transformation\n",
    "tu.tree_update(\n",
    "    tconfig, tt.make_param_T_config(net, lambda p: tt.dropout(p, 0.3), \"biases\")\n",
    ")\n",
    "tconfig"
   ]
  },
  {
   "cell_type": "raw",
   "id": "4c2c022b",
   "metadata": {
    "raw_mimetype": "text/restructuredtext"
   },
   "source": [
    "We then use this quantization configuration tree to patch the network with transformation modules, with the :py:func:`.make_param_T_network` helper function."
   ]
  },
  {
   "cell_type": "code",
   "execution_count": null,
   "id": "2a4586ed",
   "metadata": {},
   "outputs": [],
   "source": [
    "# - We now use this configuration to patch the original network with transformation modules\n",
    "tnet = tt.make_param_T_network(net, tconfig)\n",
    "tnet"
   ]
  },
  {
   "cell_type": "raw",
   "id": "0364f365",
   "metadata": {
    "raw_mimetype": "text/restructuredtext"
   },
   "source": [
    "Each of the transformed modules is now wrapped in a :py:class:`.TWrapper` module --- these special wrapper modules apply any required transformations to the wrapped module, in the forward pass, injecting the transformed parameters and then evolving the wrapped module as usual. The original module doesn't need to know anything special, and simply uses the quantized parameters passed to it.\n",
    "\n",
    "The parameters are held by the original modules, un-transofmred, so that any parameters updates during training are applied to the un-transformed parameters.\n",
    "\n",
    "If we investigate the :py:meth:`.Module.parameters` of the network we can see this structure:"
   ]
  },
  {
   "cell_type": "code",
   "execution_count": null,
   "id": "f3134b4f",
   "metadata": {},
   "outputs": [],
   "source": [
    "tnet.parameters(\"weights\")"
   ]
  },
  {
   "cell_type": "markdown",
   "id": "2b1fd41e",
   "metadata": {},
   "source": [
    "These are the un-transformed parameters, in floating-point format. But if we evolve the module by calling it, the parameters will all be transformed in the forward pass:"
   ]
  },
  {
   "cell_type": "code",
   "execution_count": null,
   "id": "218adea8",
   "metadata": {},
   "outputs": [],
   "source": [
    "out, ns, rd = tnet(torch.ones(1, 10, 3))\n",
    "out"
   ]
  },
  {
   "cell_type": "markdown",
   "id": "a006050a",
   "metadata": {},
   "source": [
    "**Training goes here!**\n"
   ]
  },
  {
   "cell_type": "raw",
   "id": "89b1d3b6",
   "metadata": {
    "raw_mimetype": "text/restructuredtext"
   },
   "source": [
    "Here you can train the model, interacting with it as any other Rockpool :py:class:`.TorchModule`.\n",
    "\n",
    "Once we've trained the model, you might want to access the transformed parameters. At this point you have two options:\n",
    "\n",
    "1. you can execute the transformation such that the parameters are updated manually, using the helper function :py:func:`.apply_T`. This will \"burn in\" the transformation, storing the result as the \"real\" parameters within the module:"
   ]
  },
  {
   "cell_type": "code",
   "execution_count": null,
   "id": "ec107009",
   "metadata": {},
   "outputs": [],
   "source": [
    "ttnet = tt.apply_T(tnet, inplace=True)\n",
    "ttnet"
   ]
  },
  {
   "cell_type": "markdown",
   "id": "d215f181",
   "metadata": {},
   "source": [
    "If we now examine the parameters, we will see the low-resolution quantized versions (still stored as floating-point numbers -- this transformation did not force the parameters to be integers)."
   ]
  },
  {
   "cell_type": "code",
   "execution_count": null,
   "id": "538c9571",
   "metadata": {},
   "outputs": [],
   "source": [
    "ttnet.parameters(\"weights\")"
   ]
  },
  {
   "cell_type": "raw",
   "id": "3bc1e966",
   "metadata": {
    "raw_mimetype": "text/restructuredtext"
   },
   "source": [
    "You can now convert the network back to the original \"unpatched\" structure with the helper function  :py:func:`.remove_T_net`."
   ]
  },
  {
   "cell_type": "code",
   "execution_count": null,
   "id": "f32ed0da",
   "metadata": {},
   "outputs": [],
   "source": [
    "unpatched_net = tt.remove_T_net(ttnet, inplace=True)\n",
    "unpatched_net"
   ]
  },
  {
   "cell_type": "raw",
   "id": "0f39649f",
   "metadata": {
    "raw_mimetype": "text/restructuredtext"
   },
   "source": [
    "Compare this with the original network above.\n",
    "\n",
    "2. The second option is to \"unpatch\" the network with :py:func:`.remove_T_net` and use post-training quantisation through whatever method you prefer. This might be preferable if you have included \"destructive\" transformations such as :py:func:`.dropout`."
   ]
  },
  {
   "cell_type": "markdown",
   "id": "83d34883",
   "metadata": {},
   "source": [
    "### How to: Quantize to round numbers"
   ]
  },
  {
   "cell_type": "raw",
   "id": "f39e1630",
   "metadata": {
    "raw_mimetype": "text/restructuredtext"
   },
   "source": [
    "We might want to quantize to integer levels, for example when targetting processors that use integer logic and representations for parameters (such as Xylo). This is possible with :py:func:`.stochastic_rounding`.\n",
    "\n",
    "The cell below shows you how to use :py:func:`.stochastic_rounding` to target signed integer parameter values. By default, :py:func:`.stochastic_rounding` makes sure that zero in the input space maps to a zero in the output space."
   ]
  },
  {
   "cell_type": "code",
   "execution_count": null,
   "id": "0b489351",
   "metadata": {},
   "outputs": [],
   "source": [
    "w = torch.rand((5, 5)) - 0.5\n",
    "\n",
    "num_bits = 4\n",
    "\n",
    "tt.stochastic_rounding(\n",
    "    w,\n",
    "    output_range=[-(2 ** (num_bits - 1)) + 1, 2 ** (num_bits - 1)],\n",
    "    num_levels=2**num_bits,\n",
    ")"
   ]
  },
  {
   "cell_type": "markdown",
   "id": "6e0b520c",
   "metadata": {},
   "source": [
    "## Activity transformations\n",
    "There is a similar pipeline available for activity transformations. This can be used to transform the output of modules in the forward pass, without modifying the module code.\n",
    "\n",
    "Let's begin again with a simple SNN artchitecture:"
   ]
  },
  {
   "cell_type": "code",
   "execution_count": null,
   "id": "c0d28ca7",
   "metadata": {},
   "outputs": [],
   "source": [
    "# - Build a network to use\n",
    "net = Sequential(\n",
    "    LinearTorch((3, 5)),\n",
    "    LIFTorch(5),\n",
    "    Residual(\n",
    "        LinearTorch((5, 5)),\n",
    "        LIFTorch(5, has_rec=True),\n",
    "    ),\n",
    "    LinearTorch((5, 3)),\n",
    "    LIFTorch(3),\n",
    ")\n",
    "net"
   ]
  },
  {
   "cell_type": "raw",
   "id": "3f87e259",
   "metadata": {
    "raw_mimetype": "text/restructuredtext"
   },
   "source": [
    "We need to build a configuration to patch the network with. We can conveniently specify which modules to transform according to the module class. Here we'll perform rounding of output activations to 8-bit signed integers, using the function :py:func:`.deterministic_rounding`."
   ]
  },
  {
   "cell_type": "code",
   "execution_count": null,
   "id": "704bea66",
   "metadata": {},
   "outputs": [],
   "source": [
    "# - Build a null configuration tree, which can be manipulated directly\n",
    "tt.make_act_T_config(net)\n",
    "\n",
    "# - Specify a transformation function as a lambda\n",
    "T_fn = lambda p: tt.deterministic_rounding(\n",
    "    p, output_range=[-128, 127], num_levels=2**8\n",
    ")\n",
    "\n",
    "# - Conveniently build a configuration tree by selecting a module class\n",
    "tconf = tt.make_act_T_config(net, T_fn, LinearTorch)\n",
    "tconf"
   ]
  },
  {
   "cell_type": "raw",
   "id": "bdc34acd",
   "metadata": {
    "raw_mimetype": "text/restructuredtext"
   },
   "source": [
    "Now we patch the network, analogously to the parameter transformation above, using the helper function :py:func:`.make_act_T_network`:"
   ]
  },
  {
   "cell_type": "code",
   "execution_count": null,
   "id": "69de444d",
   "metadata": {},
   "outputs": [],
   "source": [
    "# - Make a transformed network by patching with the configuration\n",
    "tnet = tt.make_act_T_network(net, tconf)\n",
    "tnet"
   ]
  },
  {
   "cell_type": "raw",
   "id": "9040d7c2",
   "metadata": {
    "raw_mimetype": "text/restructuredtext"
   },
   "source": [
    "Again, the network has been patched (this time with :py:class:`.ActWrapper` modules), each of which handle the transformations for a single wrapped module.\n",
    "\n",
    "Now we evolve the module as useful, and check the outputs of the :py:clas:`LinearTorch` layers:"
   ]
  },
  {
   "cell_type": "code",
   "execution_count": null,
   "id": "1e491a97",
   "metadata": {},
   "outputs": [],
   "source": [
    "# - We evolve the module as usual\n",
    "out, ns, rd = tnet(torch.ones(1, 10, 3), record=True)"
   ]
  },
  {
   "cell_type": "code",
   "execution_count": null,
   "id": "7c70b447",
   "metadata": {},
   "outputs": [],
   "source": [
    "# - Examine the recorded outputs from the network; the LinearTorch layers have quantised output\n",
    "rd"
   ]
  },
  {
   "cell_type": "markdown",
   "id": "4d627220",
   "metadata": {},
   "source": [
    "As expected, the outputs of the Linear layers are now signed 8-bit integers, maintained as floating-point representation."
   ]
  },
  {
   "cell_type": "markdown",
   "id": "667c4744",
   "metadata": {},
   "source": [
    "## Decay transformations\n",
    "In case of training decays, decay parameter of LIF neurons $\\exp{(-dt/\\tau)}$ can be quantized to match the \n",
    "way that decay is implemented in Xylo:\n",
    "\n",
    " bitshift subtraction:\n",
    " $V_{mem}~~ \\rightarrow V_{mem} \\cdot (1- \\frac{1}{2^N})$ "
   ]
  },
  {
   "cell_type": "code",
   "execution_count": 3,
   "id": "5b0f6b61",
   "metadata": {},
   "outputs": [
    {
     "data": {
      "text/plain": [
       "TorchSequential  with shape (3, 3) {\n",
       "    LinearTorch '0_LinearTorch' with shape (3, 5)\n",
       "    LIFTorch '1_LIFTorch' with shape (5, 5)\n",
       "    TorchResidual '2_TorchResidual' with shape (5, 5) {\n",
       "        LinearTorch '0_LinearTorch' with shape (5, 5)\n",
       "        LIFTorch '1_LIFTorch' with shape (5, 5)\n",
       "    }\n",
       "    LinearTorch '3_LinearTorch' with shape (5, 3)\n",
       "    LIFTorch '4_LIFTorch' with shape (3, 3)\n",
       "}"
      ]
     },
     "execution_count": 3,
     "metadata": {},
     "output_type": "execute_result"
    }
   ],
   "source": [
    "# - Build a network to use\n",
    "# activate the decay training for the last layer\n",
    "net_decay = Sequential(\n",
    "    LinearTorch((3, 5)),\n",
    "    LIFTorch(5),\n",
    "    Residual(\n",
    "        LinearTorch((5, 5)),\n",
    "        LIFTorch(5, has_rec=True),\n",
    "    ),\n",
    "    LinearTorch((5, 3)),\n",
    "    LIFTorch(3, decay_training=True),\n",
    ")\n",
    "net_decay"
   ]
  },
  {
   "cell_type": "code",
   "execution_count": 5,
   "id": "9451dac6",
   "metadata": {},
   "outputs": [
    {
     "name": "stdout",
     "output_type": "stream",
     "text": [
      "{'alpha': <function <lambda> at 0x7fae52552790>, 'beta': <function <lambda> at 0x7fae52552790>}\n",
      "TorchSequential  with shape (3, 3) {\n",
      "    LinearTorch '0_LinearTorch' with shape (3, 5)\n",
      "    LIFTorch '1_LIFTorch' with shape (5, 5)\n",
      "    TorchResidual '2_TorchResidual' with shape (5, 5) {\n",
      "        LinearTorch '0_LinearTorch' with shape (5, 5)\n",
      "        LIFTorch '1_LIFTorch' with shape (5, 5)\n",
      "    }\n",
      "    LinearTorch '3_LinearTorch' with shape (5, 3)\n",
      "    TWrapper '4_LIFTorch' with shape (3, 3) {\n",
      "        LIFTorch '_mod' with shape (3, 3)\n",
      "    }\n",
      "}\n"
     ]
    }
   ],
   "source": [
    "tconfig_decay = tt.make_param_T_config(net_decay, lambda p: tt.t_decay(p), \"decays\")\n",
    "print(tconfig_decay[\"4_LIFTorch\"])"
   ]
  },
  {
   "cell_type": "code",
   "execution_count": 6,
   "id": "0e7f0063",
   "metadata": {},
   "outputs": [
    {
     "name": "stdout",
     "output_type": "stream",
     "text": [
      "TorchSequential  with shape (3, 3) {\n",
      "    LinearTorch '0_LinearTorch' with shape (3, 5)\n",
      "    LIFTorch '1_LIFTorch' with shape (5, 5)\n",
      "    TorchResidual '2_TorchResidual' with shape (5, 5) {\n",
      "        LinearTorch '0_LinearTorch' with shape (5, 5)\n",
      "        LIFTorch '1_LIFTorch' with shape (5, 5)\n",
      "    }\n",
      "    LinearTorch '3_LinearTorch' with shape (5, 3)\n",
      "    TWrapper '4_LIFTorch' with shape (3, 3) {\n",
      "        LIFTorch '_mod' with shape (3, 3)\n",
      "    }\n",
      "}\n"
     ]
    }
   ],
   "source": [
    "t_net_decay = tt.make_param_T_network(net_decay, tconfig_decay)\n",
    "print(t_net_decay)"
   ]
  },
  {
   "cell_type": "markdown",
   "id": "09847d38",
   "metadata": {},
   "source": [
    "## Building a network with bitshift decays \n",
    "in case of passing BitShift_training=True to the LIF neurons the membrane and synaptic decays will be directly applied based on bitshift subtraction. For quantization its enough to round them. \n"
   ]
  },
  {
   "cell_type": "code",
   "execution_count": 8,
   "id": "1af0b8ae",
   "metadata": {},
   "outputs": [
    {
     "data": {
      "text/plain": [
       "TorchSequential  with shape (3, 3) {\n",
       "    LinearTorch '0_LinearTorch' with shape (3, 5)\n",
       "    LIFTorch '1_LIFTorch' with shape (5, 5)\n",
       "    TorchResidual '2_TorchResidual' with shape (5, 5) {\n",
       "        LinearTorch '0_LinearTorch' with shape (5, 5)\n",
       "        LIFTorch '1_LIFTorch' with shape (5, 5)\n",
       "    }\n",
       "    LinearTorch '3_LinearTorch' with shape (5, 3)\n",
       "    LIFTorch '4_LIFTorch' with shape (3, 3)\n",
       "}"
      ]
     },
     "execution_count": 8,
     "metadata": {},
     "output_type": "execute_result"
    }
   ],
   "source": [
    "# - Build a network to use\n",
    "# activate the decay training for the last layer\n",
    "net_bitshift = Sequential(\n",
    "    LinearTorch((3, 5)),\n",
    "    LIFTorch(5),\n",
    "    Residual(\n",
    "        LinearTorch((5, 5)),\n",
    "        LIFTorch(5, has_rec=True),\n",
    "    ),\n",
    "    LinearTorch((5, 3)),\n",
    "    LIFTorch(3, BitShift_training=True),\n",
    ")\n",
    "net_bitshift"
   ]
  },
  {
   "cell_type": "code",
   "execution_count": 13,
   "id": "c424a741",
   "metadata": {},
   "outputs": [
    {
     "name": "stdout",
     "output_type": "stream",
     "text": [
      "{'dash_mem': <function <lambda> at 0x7fadbe1cf280>, 'dash_syn': <function <lambda> at 0x7fadbe1cf280>}\n"
     ]
    }
   ],
   "source": [
    "tconfig_bitshift = tt.make_param_T_config(\n",
    "    net_bitshift, lambda p: tt.round_passthrough(p), \"bitshifts\"\n",
    ")\n",
    "print(tconfig_bitshift[\"4_LIFTorch\"])"
   ]
  },
  {
   "cell_type": "code",
   "execution_count": null,
   "id": "7b95f583",
   "metadata": {},
   "outputs": [],
   "source": []
  }
 ],
 "metadata": {
  "kernelspec": {
   "display_name": "Python 3.8.7 64-bit ('py3.8_torch1.12')",
   "language": "python",
   "name": "python3"
  },
  "language_info": {
   "codemirror_mode": {
    "name": "ipython",
    "version": 3
   },
   "file_extension": ".py",
   "mimetype": "text/x-python",
   "name": "python",
   "nbconvert_exporter": "python",
   "pygments_lexer": "ipython3",
   "version": "3.8.7"
  },
  "vscode": {
   "interpreter": {
    "hash": "f9bd1bf386d42091ca19c180a45216f16e5793edc5ffec88353d413783d71a94"
   }
  }
 },
 "nbformat": 4,
 "nbformat_minor": 5
}
