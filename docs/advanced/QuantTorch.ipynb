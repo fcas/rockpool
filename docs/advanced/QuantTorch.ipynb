{
 "cells": [
  {
   "cell_type": "markdown",
   "id": "75b6f867",
   "metadata": {},
   "source": [
    "# Torch transformation-in-training pipeline prototype\n",
    "This notebook gives an overview of the prototype parameter and activation quantization-aware-training pipeline and facilities available for Torch-backed modules in Rockpool.\n",
    "\n",
    "This is still work-in-progress and subject to change.\n",
    "\n",
    "The torch pipeline is based on Torch's `functional_call` API, new in Torch 1.12.\n",
    "\n",
    "## Design goals\n",
    "* No need to modify pre-defined modules to make \"magic quantization\" modules\n",
    "* General solution that can be applied widely to modules and parameters\n",
    "* Convenient API for specifying transformations over parameters in a network in a \"grouped\" way, using Rockpool's parameter families\n",
    "* Similar API for parameter- and activity-transformation\n",
    "* Quantization controllable at a fine-grained level\n",
    "* Provide useful and flexible transformation methods --- can be used for QAT, dropout, pruning..."
   ]
  },
  {
   "cell_type": "code",
   "execution_count": 1,
   "id": "83676234",
   "metadata": {},
   "outputs": [],
   "source": [
    "# - Basic imports\n",
    "from rockpool.nn.modules import LinearTorch, LIFTorch\n",
    "from rockpool.nn.combinators import Sequential, Residual\n",
    "\n",
    "import torch"
   ]
  },
  {
   "cell_type": "code",
   "execution_count": 2,
   "id": "29f984fb",
   "metadata": {},
   "outputs": [],
   "source": [
    "# - Transformation pipeline imports\n",
    "import rockpool.transform.torch_transform as tt\n",
    "import rockpool.utilities.tree_utils as tu"
   ]
  },
  {
   "cell_type": "markdown",
   "id": "12101216",
   "metadata": {},
   "source": [
    "## Parameter transformations\n",
    "The parameter transformation pipeline allows you to insert transformations to any parameter in the forward pass before evolution, in a configurable way. You would use this to perform quantisation-aware-training, random parameter attacks, connection pruning, ...\n",
    "\n",
    "We'll begin here with a simple Rockpool SNN that uses most of the features of network composition in Rockpool, and is compatible with Xylo."
   ]
  },
  {
   "cell_type": "code",
   "execution_count": 3,
   "id": "ab431ab2",
   "metadata": {},
   "outputs": [
    {
     "data": {
      "text/plain": [
       "TorchSequential  with shape (3, 3) {\n",
       "    LinearTorch '0_LinearTorch' with shape (3, 5)\n",
       "    LIFTorch '1_LIFTorch' with shape (5, 5)\n",
       "    TorchResidual '2_TorchResidual' with shape (5, 5) {\n",
       "        LinearTorch '0_LinearTorch' with shape (5, 5)\n",
       "        LIFTorch '1_LIFTorch' with shape (5, 5)\n",
       "    }\n",
       "    LinearTorch '3_LinearTorch' with shape (5, 3)\n",
       "    LIFTorch '4_LIFTorch' with shape (3, 3)\n",
       "}"
      ]
     },
     "execution_count": 3,
     "metadata": {},
     "output_type": "execute_result"
    }
   ],
   "source": [
    "# - Build a network to use\n",
    "net = Sequential(\n",
    "    LinearTorch((3, 5)),\n",
    "    LIFTorch(5),\n",
    "    Residual(\n",
    "        LinearTorch((5, 5)),\n",
    "        LIFTorch(5, has_rec = True),\n",
    "    ),\n",
    "    LinearTorch((5, 3)),\n",
    "    LIFTorch(3),\n",
    ")\n",
    "net"
   ]
  },
  {
   "cell_type": "raw",
   "id": "22854914",
   "metadata": {
    "raw_mimetype": "text/restructuredtext"
   },
   "source": [
    "Now we build a configuration that describes the desired parameter transformation to apply to each parameter. We will transform weights with :py:func:`.stochastic_rounding` and transform biases with :py:func:`.dropout`. We can use parameter families to select the parameters to transform and which transformation to apply."
   ]
  },
  {
   "cell_type": "code",
   "execution_count": 4,
   "id": "1995f681",
   "metadata": {},
   "outputs": [
    {
     "data": {
      "text/plain": [
       "{'0_LinearTorch': {'weight': <function __main__.<lambda>(p)>},\n",
       " '2_TorchResidual': {'0_LinearTorch': {'weight': <function __main__.<lambda>(p)>},\n",
       "  '1_LIFTorch': {'w_rec': <function __main__.<lambda>(p)>}},\n",
       " '3_LinearTorch': {'weight': <function __main__.<lambda>(p)>}}"
      ]
     },
     "execution_count": 4,
     "metadata": {},
     "output_type": "execute_result"
    }
   ],
   "source": [
    "# - Get the 'weights' parameter family, and specify stochastic rounding\n",
    "tconfig = tt.make_param_T_config(net, lambda p: tt.stochastic_rounding(p, num_levels=2**2), 'weights')\n",
    "tconfig"
   ]
  },
  {
   "cell_type": "code",
   "execution_count": 5,
   "id": "669fc4f3",
   "metadata": {},
   "outputs": [
    {
     "data": {
      "text/plain": [
       "{'0_LinearTorch': {'weight': <function __main__.<lambda>(p)>},\n",
       " '2_TorchResidual': {'0_LinearTorch': {'weight': <function __main__.<lambda>(p)>},\n",
       "  '1_LIFTorch': {'w_rec': <function __main__.<lambda>(p)>}},\n",
       " '3_LinearTorch': {'weight': <function __main__.<lambda>(p)>}}"
      ]
     },
     "execution_count": 5,
     "metadata": {},
     "output_type": "execute_result"
    }
   ],
   "source": [
    "# - Now we add in the bias transformation\n",
    "tu.tree_update(tconfig, tt.make_param_T_config(net, lambda p: tt.dropout(p, 0.3), 'biases'))\n",
    "tconfig"
   ]
  },
  {
   "cell_type": "raw",
   "id": "4c2c022b",
   "metadata": {
    "raw_mimetype": "text/restructuredtext"
   },
   "source": [
    "We then use this quantization configuration tree to patch the network with transformation modules, with the :py:func:`.make_param_T_network` helper function."
   ]
  },
  {
   "cell_type": "code",
   "execution_count": 6,
   "id": "2a4586ed",
   "metadata": {},
   "outputs": [
    {
     "data": {
      "text/plain": [
       "TorchSequential  with shape (3, 3) {\n",
       "    TWrapper '0_LinearTorch' with shape (3, 5) {\n",
       "        LinearTorch '_mod' with shape (3, 5)\n",
       "    }\n",
       "    LIFTorch '1_LIFTorch' with shape (5, 5)\n",
       "    TorchResidual '2_TorchResidual' with shape (5, 5) {\n",
       "        TWrapper '0_LinearTorch' with shape (5, 5) {\n",
       "            LinearTorch '_mod' with shape (5, 5)\n",
       "        }\n",
       "        TWrapper '1_LIFTorch' with shape (5, 5) {\n",
       "            LIFTorch '_mod' with shape (5, 5)\n",
       "        }\n",
       "    }\n",
       "    TWrapper '3_LinearTorch' with shape (5, 3) {\n",
       "        LinearTorch '_mod' with shape (5, 3)\n",
       "    }\n",
       "    LIFTorch '4_LIFTorch' with shape (3, 3)\n",
       "}"
      ]
     },
     "execution_count": 6,
     "metadata": {},
     "output_type": "execute_result"
    }
   ],
   "source": [
    "# - We now use this configuration to patch the original network with transformation modules\n",
    "tnet = tt.make_param_T_network(net, tconfig)\n",
    "tnet"
   ]
  },
  {
   "cell_type": "raw",
   "id": "0364f365",
   "metadata": {
    "raw_mimetype": "text/restructuredtext"
   },
   "source": [
    "Each of the transformed modules is now wrapped in a :py:class:`.TWrapper` module --- these special wrapper modules apply any required transformations to the wrapped module, in the forward pass, injecting the transformed parameters and then evolving the wrapped module as usual. The original module doesn't need to know anything special, and simply uses the quantized parameters passed to it.\n",
    "\n",
    "The parameters are held by the original modules, un-transofmred, so that any parameters updates during training are applied to the un-transformed parameters.\n",
    "\n",
    "If we investigate the :py:meth:`.Module.parameters` of the network we can see this structure:"
   ]
  },
  {
   "cell_type": "code",
   "execution_count": 7,
   "id": "f3134b4f",
   "metadata": {},
   "outputs": [
    {
     "data": {
      "text/plain": [
       "{'0_LinearTorch': {'_mod': {'weight': Parameter containing:\n",
       "   tensor([[ 0.5187, -0.9304,  0.0414,  0.3679, -1.2738],\n",
       "           [ 0.3060, -1.1478,  0.1919,  1.0421,  0.5358],\n",
       "           [-1.2082, -0.5775,  0.7186, -0.1107, -0.8000]], requires_grad=True)}},\n",
       " '2_TorchResidual': {'0_LinearTorch': {'_mod': {'weight': Parameter containing:\n",
       "    tensor([[-0.1623, -1.0501, -0.6565,  0.2511, -0.2790],\n",
       "            [-0.7212,  0.1158,  0.1436, -1.0457, -0.8841],\n",
       "            [ 0.1946,  0.1269,  0.1576,  0.8541, -0.8278],\n",
       "            [-0.2922,  0.6165, -0.4600, -0.2130, -1.0764],\n",
       "            [-0.7831, -0.3994, -1.0361, -1.0295, -0.1791]], requires_grad=True)}},\n",
       "  '1_LIFTorch': {'_mod': {'w_rec': Parameter containing:\n",
       "    tensor([[ 0.6341, -0.3931, -0.6714,  0.1988,  0.0611],\n",
       "            [ 1.0097,  0.7559,  0.5021,  0.0831, -0.2205],\n",
       "            [-0.2008,  0.4110, -0.8212, -0.0223,  0.0696],\n",
       "            [ 0.2445, -0.7481, -1.0580, -0.9971,  0.1447],\n",
       "            [ 0.1631,  0.5020, -0.0158,  0.7330,  0.2719]], requires_grad=True)}}},\n",
       " '3_LinearTorch': {'_mod': {'weight': Parameter containing:\n",
       "   tensor([[ 0.0805,  0.5694, -0.7834],\n",
       "           [ 0.8903,  0.0333,  0.0870],\n",
       "           [-0.9424,  0.6415, -0.2874],\n",
       "           [ 0.9424, -1.0182, -0.1854],\n",
       "           [ 0.7965, -0.7369,  0.2937]], requires_grad=True)}}}"
      ]
     },
     "execution_count": 7,
     "metadata": {},
     "output_type": "execute_result"
    }
   ],
   "source": [
    "tnet.parameters('weights')"
   ]
  },
  {
   "cell_type": "markdown",
   "id": "2b1fd41e",
   "metadata": {},
   "source": [
    "These are the un-transformed parameters, in floating-point format. But if we evolve the module by calling it, the parameters will all be transformed in the forward pass:"
   ]
  },
  {
   "cell_type": "code",
   "execution_count": 8,
   "id": "218adea8",
   "metadata": {},
   "outputs": [
    {
     "data": {
      "text/plain": [
       "tensor([[[-0., 0., -0.],\n",
       "         [-0., -0., -0.],\n",
       "         [-0., -0., -0.],\n",
       "         [-0., -0., -0.],\n",
       "         [-0., -0., -0.],\n",
       "         [-0., -0., -0.],\n",
       "         [-0., -0., -0.],\n",
       "         [-0., -0., -0.],\n",
       "         [3., -0., -0.],\n",
       "         [7., -0., -0.]]], grad_fn=<CopySlices>)"
      ]
     },
     "execution_count": 8,
     "metadata": {},
     "output_type": "execute_result"
    }
   ],
   "source": [
    "out, ns, rd = tnet(torch.ones(1, 10, 3))\n",
    "out"
   ]
  },
  {
   "cell_type": "markdown",
   "id": "a006050a",
   "metadata": {},
   "source": [
    "**Training goes here!**\n"
   ]
  },
  {
   "cell_type": "raw",
   "id": "89b1d3b6",
   "metadata": {
    "raw_mimetype": "text/restructuredtext"
   },
   "source": [
    "Here you can train the model, interacting with it as any other Rockpool :py:class:`.TorchModule`.\n",
    "\n",
    "Once we've trained the model, you might want to access the transformed parameters. At this point you have two options:\n",
    "\n",
    "1. you can execute the transformation such that the parameters are updated manually, using the helper function :py:func:`.apply_T`. This will \"burn in\" the transformation, storing the result as the \"real\" parameters within the module:"
   ]
  },
  {
   "cell_type": "code",
   "execution_count": 9,
   "id": "ec107009",
   "metadata": {},
   "outputs": [
    {
     "data": {
      "text/plain": [
       "TorchSequential  with shape (3, 3) {\n",
       "    TWrapper '0_LinearTorch' with shape (3, 5) {\n",
       "        LinearTorch '_mod' with shape (3, 5)\n",
       "    }\n",
       "    LIFTorch '1_LIFTorch' with shape (5, 5)\n",
       "    TorchResidual '2_TorchResidual' with shape (5, 5) {\n",
       "        TWrapper '0_LinearTorch' with shape (5, 5) {\n",
       "            LinearTorch '_mod' with shape (5, 5)\n",
       "        }\n",
       "        TWrapper '1_LIFTorch' with shape (5, 5) {\n",
       "            LIFTorch '_mod' with shape (5, 5)\n",
       "        }\n",
       "    }\n",
       "    TWrapper '3_LinearTorch' with shape (5, 3) {\n",
       "        LinearTorch '_mod' with shape (5, 3)\n",
       "    }\n",
       "    LIFTorch '4_LIFTorch' with shape (3, 3)\n",
       "}"
      ]
     },
     "execution_count": 9,
     "metadata": {},
     "output_type": "execute_result"
    }
   ],
   "source": [
    "ttnet = tt.apply_T(tnet, inplace=True)\n",
    "ttnet"
   ]
  },
  {
   "cell_type": "markdown",
   "id": "d215f181",
   "metadata": {},
   "source": [
    "If we now examine the parameters, we will see the low-resolution quantized versions (still stored as floating-point numbers -- this transformation did not force the parameters to be integers)."
   ]
  },
  {
   "cell_type": "code",
   "execution_count": 10,
   "id": "538c9571",
   "metadata": {},
   "outputs": [
    {
     "data": {
      "text/plain": [
       "{'0_LinearTorch': {'_mod': {'weight': Parameter containing:\n",
       "   tensor([[ 1.2738, -0.4246, -0.4246,  0.4246, -1.2738],\n",
       "           [ 0.4246, -1.2738,  0.4246,  1.2738,  0.4246],\n",
       "           [-0.4246, -0.4246,  0.4246,  0.4246, -0.4246]], requires_grad=True)}},\n",
       " '2_TorchResidual': {'0_LinearTorch': {'_mod': {'weight': Parameter containing:\n",
       "    tensor([[-0.3588, -1.0764, -1.0764, -0.3588, -0.3588],\n",
       "            [-1.0764, -0.3588,  0.3588, -1.0764, -1.0764],\n",
       "            [ 0.3588, -0.3588,  0.3588,  0.3588, -1.0764],\n",
       "            [-0.3588,  1.0764, -0.3588, -0.3588, -1.0764],\n",
       "            [-1.0764, -0.3588, -1.0764, -1.0764, -0.3588]], requires_grad=True)}},\n",
       "  '1_LIFTorch': {'_mod': {'w_rec': Parameter containing:\n",
       "    tensor([[ 0.3527, -0.3527, -0.3527,  0.3527, -0.3527],\n",
       "            [ 1.0580,  0.3527,  0.3527,  0.3527, -0.3527],\n",
       "            [ 0.3527,  0.3527, -1.0580, -0.3527, -0.3527],\n",
       "            [ 0.3527, -1.0580, -1.0580, -1.0580, -0.3527],\n",
       "            [ 0.3527,  0.3527, -0.3527,  1.0580,  0.3527]], requires_grad=True)}}},\n",
       " '3_LinearTorch': {'_mod': {'weight': Parameter containing:\n",
       "   tensor([[ 0.3394,  0.3394, -1.0182],\n",
       "           [ 1.0182,  0.3394, -0.3394],\n",
       "           [-1.0182,  1.0182, -0.3394],\n",
       "           [ 1.0182, -1.0182, -0.3394],\n",
       "           [ 1.0182, -0.3394,  0.3394]], requires_grad=True)}}}"
      ]
     },
     "execution_count": 10,
     "metadata": {},
     "output_type": "execute_result"
    }
   ],
   "source": [
    "ttnet.parameters('weights')"
   ]
  },
  {
   "cell_type": "raw",
   "id": "3bc1e966",
   "metadata": {
    "raw_mimetype": "text/restructuredtext"
   },
   "source": [
    "You can now convert the network back to the original \"unpatched\" structure with the helper function  :py:func:`.remove_T_net`."
   ]
  },
  {
   "cell_type": "code",
   "execution_count": 12,
   "id": "f32ed0da",
   "metadata": {},
   "outputs": [
    {
     "data": {
      "text/plain": [
       "TorchSequential  with shape (3, 3) {\n",
       "    LinearTorch '0_LinearTorch' with shape (3, 5)\n",
       "    LIFTorch '1_LIFTorch' with shape (5, 5)\n",
       "    TorchResidual '2_TorchResidual' with shape (5, 5) {\n",
       "        LinearTorch '0_LinearTorch' with shape (5, 5)\n",
       "        LIFTorch '1_LIFTorch' with shape (5, 5)\n",
       "    }\n",
       "    LinearTorch '3_LinearTorch' with shape (5, 3)\n",
       "    LIFTorch '4_LIFTorch' with shape (3, 3)\n",
       "}"
      ]
     },
     "execution_count": 12,
     "metadata": {},
     "output_type": "execute_result"
    }
   ],
   "source": [
    "unpatched_net = tt.remove_T_net(ttnet, inplace = True)\n",
    "unpatched_net"
   ]
  },
  {
   "cell_type": "raw",
   "id": "0f39649f",
   "metadata": {
    "raw_mimetype": "text/restructuredtext"
   },
   "source": [
    "Compare this with the original network above.\n",
    "\n",
    "2. The second option is to \"unpatch\" the network with :py:func:`.remove_T_net` and use post-training quantisation through whatever method you prefer. This might be preferable if you have included \"destructive\" transformations such as :py:func:`.dropout`."
   ]
  },
  {
   "cell_type": "markdown",
   "id": "83d34883",
   "metadata": {},
   "source": [
    "### How to: Quantize to round numbers"
   ]
  },
  {
   "cell_type": "raw",
   "id": "f39e1630",
   "metadata": {
    "raw_mimetype": "text/restructuredtext"
   },
   "source": [
    "We might want to quantize to integer levels, for example when targetting processors that use integer logic and representations for parameters (such as Xylo). This is possible with :py:func:`.stochastic_rounding`.\n",
    "\n",
    "The cell below shows you how to use :py:func:`.stochastic_rounding` to target signed integer parameter values. By default, :py:func:`.stochastic_rounding` makes sure that zero in the input space maps to a zero in the output space."
   ]
  },
  {
   "cell_type": "code",
   "execution_count": 13,
   "id": "0b489351",
   "metadata": {},
   "outputs": [
    {
     "data": {
      "text/plain": [
       "tensor([[ 7.,  6.,  5.,  8., -4.],\n",
       "        [-6.,  5., -7.,  1.,  5.],\n",
       "        [ 1.,  3., -3., -2., -2.],\n",
       "        [ 3.,  6., -2., -3.,  0.],\n",
       "        [ 8.,  1.,  6.,  4., -1.]])"
      ]
     },
     "execution_count": 13,
     "metadata": {},
     "output_type": "execute_result"
    }
   ],
   "source": [
    "w = torch.rand((5, 5)) - 0.5\n",
    "\n",
    "num_bits = 4\n",
    "\n",
    "tt.stochastic_rounding(\n",
    "    w,\n",
    "    output_range=[-2**(num_bits-1)+1, 2**(num_bits-1)],\n",
    "    num_levels=2**num_bits,\n",
    ")"
   ]
  },
  {
   "cell_type": "markdown",
   "id": "6e0b520c",
   "metadata": {},
   "source": [
    "## Activity transformations\n",
    "There is a similar pipeline available for activity transformations. This can be used to transform the output of modules in the forward pass, without modifying the module code.\n",
    "\n",
    "Let's begin again with a simple SNN artchitecture:"
   ]
  },
  {
   "cell_type": "code",
   "execution_count": 14,
   "id": "c0d28ca7",
   "metadata": {},
   "outputs": [
    {
     "data": {
      "text/plain": [
       "TorchSequential  with shape (3, 3) {\n",
       "    LinearTorch '0_LinearTorch' with shape (3, 5)\n",
       "    LIFTorch '1_LIFTorch' with shape (5, 5)\n",
       "    TorchResidual '2_TorchResidual' with shape (5, 5) {\n",
       "        LinearTorch '0_LinearTorch' with shape (5, 5)\n",
       "        LIFTorch '1_LIFTorch' with shape (5, 5)\n",
       "    }\n",
       "    LinearTorch '3_LinearTorch' with shape (5, 3)\n",
       "    LIFTorch '4_LIFTorch' with shape (3, 3)\n",
       "}"
      ]
     },
     "execution_count": 14,
     "metadata": {},
     "output_type": "execute_result"
    }
   ],
   "source": [
    "# - Build a network to use\n",
    "net = Sequential(\n",
    "    LinearTorch((3, 5)),\n",
    "    LIFTorch(5),\n",
    "    Residual(\n",
    "        LinearTorch((5, 5)),\n",
    "        LIFTorch(5, has_rec = True),\n",
    "    ),\n",
    "    LinearTorch((5, 3)),\n",
    "    LIFTorch(3),\n",
    ")\n",
    "net"
   ]
  },
  {
   "cell_type": "raw",
   "id": "3f87e259",
   "metadata": {
    "raw_mimetype": "text/restructuredtext"
   },
   "source": [
    "We need to build a configuration to patch the network with. We can conveniently specify which modules to transform according to the module class. Here we'll perform rounding of output activations to 8-bit signed integers, using the function :py:func:`.deterministic_rounding`."
   ]
  },
  {
   "cell_type": "code",
   "execution_count": 15,
   "id": "704bea66",
   "metadata": {},
   "outputs": [
    {
     "data": {
      "text/plain": [
       "{'': None,\n",
       " '0_LinearTorch': {'': <function __main__.<lambda>(p)>},\n",
       " '1_LIFTorch': {'': None},\n",
       " '2_TorchResidual': {'': None,\n",
       "  '0_LinearTorch': {'': <function __main__.<lambda>(p)>},\n",
       "  '1_LIFTorch': {'': None}},\n",
       " '3_LinearTorch': {'': <function __main__.<lambda>(p)>},\n",
       " '4_LIFTorch': {'': None}}"
      ]
     },
     "execution_count": 15,
     "metadata": {},
     "output_type": "execute_result"
    }
   ],
   "source": [
    "# - Build a null configuration tree, which can be manipulated directly\n",
    "tt.make_act_T_config(net)\n",
    "\n",
    "# - Specify a transformation function as a lambda\n",
    "T_fn = lambda p: tt.deterministic_rounding(p, output_range = [-128, 127], num_levels = 2**8)\n",
    "\n",
    "# - Conveniently build a configuration tree by selecting a module class\n",
    "tconf = tt.make_act_T_config(net, T_fn, LinearTorch)\n",
    "tconf"
   ]
  },
  {
   "cell_type": "raw",
   "id": "bdc34acd",
   "metadata": {
    "raw_mimetype": "text/restructuredtext"
   },
   "source": [
    "Now we patch the network, analogously to the parameter transformation above, using the helper function :py:func:`.make_act_T_network`:"
   ]
  },
  {
   "cell_type": "code",
   "execution_count": 16,
   "id": "69de444d",
   "metadata": {},
   "outputs": [
    {
     "data": {
      "text/plain": [
       "TorchSequential  with shape (3, 3) {\n",
       "    ActWrapper '0_LinearTorch' with shape (3, 5) {\n",
       "        LinearTorch '_mod' with shape (3, 5)\n",
       "    }\n",
       "    LIFTorch '1_LIFTorch' with shape (5, 5)\n",
       "    TorchResidual '2_TorchResidual' with shape (5, 5) {\n",
       "        ActWrapper '0_LinearTorch' with shape (5, 5) {\n",
       "            LinearTorch '_mod' with shape (5, 5)\n",
       "        }\n",
       "        LIFTorch '1_LIFTorch' with shape (5, 5)\n",
       "    }\n",
       "    ActWrapper '3_LinearTorch' with shape (5, 3) {\n",
       "        LinearTorch '_mod' with shape (5, 3)\n",
       "    }\n",
       "    LIFTorch '4_LIFTorch' with shape (3, 3)\n",
       "}"
      ]
     },
     "execution_count": 16,
     "metadata": {},
     "output_type": "execute_result"
    }
   ],
   "source": [
    "# - Make a transformed network by patching with the configuration\n",
    "tnet = tt.make_act_T_network(net, tconf)\n",
    "tnet"
   ]
  },
  {
   "cell_type": "raw",
   "id": "9040d7c2",
   "metadata": {
    "raw_mimetype": "text/restructuredtext"
   },
   "source": [
    "Again, the network has been patched (this time with :py:class:`.ActWrapper` modules), each of which handle the transformations for a single wrapped module.\n",
    "\n",
    "Now we evolve the module as useful, and check the outputs of the :py:clas:`LinearTorch` layers:"
   ]
  },
  {
   "cell_type": "code",
   "execution_count": 17,
   "id": "1e491a97",
   "metadata": {},
   "outputs": [],
   "source": [
    "# - We evolve the module as usual\n",
    "out, ns, rd = tnet(torch.ones(1, 10, 3), record = True)"
   ]
  },
  {
   "cell_type": "code",
   "execution_count": 18,
   "id": "7c70b447",
   "metadata": {},
   "outputs": [
    {
     "data": {
      "text/plain": [
       "{'0_LinearTorch': {},\n",
       " '0_LinearTorch_output': tensor([[[-128.,   94.,  -59.,  124.,  -94.],\n",
       "          [-128.,   94.,  -59.,  124.,  -94.],\n",
       "          [-128.,   94.,  -59.,  124.,  -94.],\n",
       "          [-128.,   94.,  -59.,  124.,  -94.],\n",
       "          [-128.,   94.,  -59.,  124.,  -94.],\n",
       "          [-128.,   94.,  -59.,  124.,  -94.],\n",
       "          [-128.,   94.,  -59.,  124.,  -94.],\n",
       "          [-128.,   94.,  -59.,  124.,  -94.],\n",
       "          [-128.,   94.,  -59.,  124.,  -94.],\n",
       "          [-128.,   94.,  -59.,  124.,  -94.]]], requires_grad=True),\n",
       " '1_LIFTorch': {'vmem': tensor([[[-1.2176e+02,  4.1557e-01, -5.6123e+01,  9.5245e-01, -8.9416e+01],\n",
       "           [-3.5340e+02,  8.6557e-01, -1.6289e+02,  5.8304e-02, -2.5952e+02],\n",
       "           [-6.8391e+02,  2.0020e-01, -3.1524e+02,  9.3555e-01, -5.0224e+02],\n",
       "           [-1.1031e+03,  5.2795e-01, -5.0846e+02,  2.9263e-01, -8.1009e+02],\n",
       "           [-1.6015e+03,  4.6997e-02, -7.3821e+02,  2.5238e-01, -1.1761e+03],\n",
       "           [-2.1705e+03,  2.2644e-01, -1.0005e+03,  7.5500e-02, -1.5939e+03],\n",
       "           [-2.8019e+03,  6.3788e-01, -1.2915e+03,  2.8864e-01, -2.0576e+03],\n",
       "           [-3.4883e+03,  3.9307e-02, -1.6079e+03,  6.1102e-01, -2.5617e+03],\n",
       "           [-4.2228e+03,  4.0704e-01, -1.9465e+03,  9.8364e-01, -3.1011e+03],\n",
       "           [-4.9992e+03,  7.7075e-01, -2.3043e+03,  5.4791e-01, -3.6713e+03]]],\n",
       "         grad_fn=<CopySlices>),\n",
       "  'isyn': tensor([[[[-121.7574],\n",
       "            [  89.4156],\n",
       "            [ -56.1225],\n",
       "            [ 117.9525],\n",
       "            [ -89.4156]],\n",
       "  \n",
       "           [[-237.5766],\n",
       "            [ 174.4703],\n",
       "            [-109.5080],\n",
       "            [ 230.1523],\n",
       "            [-174.4703]],\n",
       "  \n",
       "           [[-347.7472],\n",
       "            [ 255.3768],\n",
       "            [-160.2897],\n",
       "            [ 336.8801],\n",
       "            [-255.3768]],\n",
       "  \n",
       "           [[-452.5447],\n",
       "            [ 332.3375],\n",
       "            [-208.5948],\n",
       "            [ 438.4027],\n",
       "            [-332.3375]],\n",
       "  \n",
       "           [[-552.2313],\n",
       "            [ 405.5448],\n",
       "            [-254.5441],\n",
       "            [ 534.9740],\n",
       "            [-405.5448]],\n",
       "  \n",
       "           [[-647.0560],\n",
       "            [ 475.1817],\n",
       "            [-298.2524],\n",
       "            [ 626.8354],\n",
       "            [-475.1817]],\n",
       "  \n",
       "           [[-737.2561],\n",
       "            [ 541.4225],\n",
       "            [-339.8290],\n",
       "            [ 714.2168],\n",
       "            [-541.4225]],\n",
       "  \n",
       "           [[-823.0571],\n",
       "            [ 604.4326],\n",
       "            [-379.3779],\n",
       "            [ 797.3365],\n",
       "            [-604.4326]],\n",
       "  \n",
       "           [[-904.6735],\n",
       "            [ 664.3696],\n",
       "            [-416.9980],\n",
       "            [ 876.4024],\n",
       "            [-664.3696]],\n",
       "  \n",
       "           [[-982.3095],\n",
       "            [ 721.3835],\n",
       "            [-452.7833],\n",
       "            [ 951.6122],\n",
       "            [-721.3835]]]], grad_fn=<CopySlices>),\n",
       "  'irec': tensor([[[[0.],\n",
       "            [0.],\n",
       "            [0.],\n",
       "            [0.],\n",
       "            [0.]],\n",
       "  \n",
       "           [[0.],\n",
       "            [0.],\n",
       "            [0.],\n",
       "            [0.],\n",
       "            [0.]],\n",
       "  \n",
       "           [[0.],\n",
       "            [0.],\n",
       "            [0.],\n",
       "            [0.],\n",
       "            [0.]],\n",
       "  \n",
       "           [[0.],\n",
       "            [0.],\n",
       "            [0.],\n",
       "            [0.],\n",
       "            [0.]],\n",
       "  \n",
       "           [[0.],\n",
       "            [0.],\n",
       "            [0.],\n",
       "            [0.],\n",
       "            [0.]],\n",
       "  \n",
       "           [[0.],\n",
       "            [0.],\n",
       "            [0.],\n",
       "            [0.],\n",
       "            [0.]],\n",
       "  \n",
       "           [[0.],\n",
       "            [0.],\n",
       "            [0.],\n",
       "            [0.],\n",
       "            [0.]],\n",
       "  \n",
       "           [[0.],\n",
       "            [0.],\n",
       "            [0.],\n",
       "            [0.],\n",
       "            [0.]],\n",
       "  \n",
       "           [[0.],\n",
       "            [0.],\n",
       "            [0.],\n",
       "            [0.],\n",
       "            [0.]],\n",
       "  \n",
       "           [[0.],\n",
       "            [0.],\n",
       "            [0.],\n",
       "            [0.],\n",
       "            [0.]]]]),\n",
       "  'U': tensor([[[0.0000, 1.0000, 0.0000, 1.0000, 0.0000],\n",
       "           [0.0000, 1.0000, 0.0000, 0.9115, 0.0000],\n",
       "           [0.0000, 0.9997, 0.0000, 1.0000, 0.0000],\n",
       "           [0.0000, 1.0000, 0.0000, 1.0000, 0.0000],\n",
       "           [0.0000, 0.8676, 0.0000, 1.0000, 0.0000],\n",
       "           [0.0000, 0.9999, 0.0000, 0.9535, 0.0000],\n",
       "           [0.0000, 1.0000, 0.0000, 1.0000, 0.0000],\n",
       "           [0.0000, 0.8281, 0.0000, 1.0000, 0.0000],\n",
       "           [0.0000, 1.0000, 0.0000, 1.0000, 0.0000],\n",
       "           [0.0000, 1.0000, 0.0000, 1.0000, 0.0000]]], grad_fn=<CopySlices>),\n",
       "  'spikes': tensor([[[ -0.,  89.,  -0., 117.,  -0.],\n",
       "           [ -0., 174.,  -0., 231.,  -0.],\n",
       "           [ -0., 256.,  -0., 336.,  -0.],\n",
       "           [ -0., 332.,  -0., 439.,  -0.],\n",
       "           [ -0., 406.,  -0., 535.,  -0.],\n",
       "           [ -0., 475.,  -0., 627.,  -0.],\n",
       "           [ -0., 541.,  -0., 714.,  -0.],\n",
       "           [ -0., 605.,  -0., 797.,  -0.],\n",
       "           [ -0., 664.,  -0., 876.,  -0.],\n",
       "           [ -0., 721.,  -0., 952.,  -0.]]], grad_fn=<CopySlices>)},\n",
       " '1_LIFTorch_output': tensor([[[ -0.,  89.,  -0., 117.,  -0.],\n",
       "          [ -0., 174.,  -0., 231.,  -0.],\n",
       "          [ -0., 256.,  -0., 336.,  -0.],\n",
       "          [ -0., 332.,  -0., 439.,  -0.],\n",
       "          [ -0., 406.,  -0., 535.,  -0.],\n",
       "          [ -0., 475.,  -0., 627.,  -0.],\n",
       "          [ -0., 541.,  -0., 714.,  -0.],\n",
       "          [ -0., 605.,  -0., 797.,  -0.],\n",
       "          [ -0., 664.,  -0., 876.,  -0.],\n",
       "          [ -0., 721.,  -0., 952.,  -0.]]], requires_grad=True),\n",
       " '2_TorchResidual': {'0_LinearTorch': {},\n",
       "  '0_LinearTorch_output': tensor([[[ -16.,    3.,   -1.,  -10.,   -4.],\n",
       "           [ -31.,    6.,   -2.,  -20.,   -8.],\n",
       "           [ -46.,   10.,   -3.,  -29.,  -11.],\n",
       "           [ -59.,   13.,   -4.,  -37.,  -15.],\n",
       "           [ -72.,   16.,   -4.,  -45.,  -18.],\n",
       "           [ -84.,   18.,   -5.,  -53.,  -21.],\n",
       "           [ -96.,   21.,   -6.,  -60.,  -24.],\n",
       "           [-107.,   24.,   -6.,  -67.,  -26.],\n",
       "           [-118.,   26.,   -7.,  -73.,  -29.],\n",
       "           [-128.,   28.,   -7.,  -80.,  -31.]]], requires_grad=True),\n",
       "  '1_LIFTorch': {'vmem': tensor([[[-1.5220e+01,  8.5369e-01, -9.5123e-01, -9.5123e+00, -3.8049e+00],\n",
       "            [-6.0478e+01,  2.4400e-01, -3.1133e+00, -3.6735e+01, -1.3566e+01],\n",
       "            [-1.5318e+02,  8.5411e-01, -5.5208e+00, -8.7323e+01, -2.7701e+01],\n",
       "            [-3.0504e+02,  2.4520e-01, -7.8982e+00, -1.6577e+02, -4.7001e+01],\n",
       "            [-5.2954e+02,  5.8224e-01, -8.1470e+00, -2.7549e+02, -6.9294e+01],\n",
       "            [-8.3473e+02,  5.0187e-01, -6.2227e+00, -4.2010e+02, -9.4531e+01],\n",
       "            [-1.2287e+03,  1.7900e-01, -1.7911e+00, -6.0162e+02, -1.2202e+02],\n",
       "            [-1.7176e+03,  7.7245e-01,  3.9578e-01, -8.2179e+02, -1.5018e+02],\n",
       "            [-2.3002e+03,  8.8590e-01,  6.8921e-01, -1.0815e+03, -1.8305e+02],\n",
       "            [-2.9736e+03,  9.3568e-01,  8.5873e-01, -1.3819e+03, -2.2398e+02]]],\n",
       "          grad_fn=<CopySlices>),\n",
       "   'isyn': tensor([[[[-1.5220e+01],\n",
       "             [ 2.8537e+00],\n",
       "             [-9.5123e-01],\n",
       "             [-9.5123e+00],\n",
       "             [-3.8049e+00]],\n",
       "   \n",
       "            [[-4.6001e+01],\n",
       "             [ 7.4319e+00],\n",
       "             [-2.2085e+00],\n",
       "             [-2.7687e+01],\n",
       "             [-9.9470e+00]],\n",
       "   \n",
       "            [[-9.5655e+01],\n",
       "             [ 1.2622e+01],\n",
       "             [-2.5593e+00],\n",
       "             [-5.2379e+01],\n",
       "             [-1.4797e+01]],\n",
       "   \n",
       "            [[-1.5933e+02],\n",
       "             [ 1.8433e+01],\n",
       "             [-2.6467e+00],\n",
       "             [-8.2704e+01],\n",
       "             [-2.0650e+01]],\n",
       "   \n",
       "            [[-2.3938e+02],\n",
       "             [ 2.3349e+01],\n",
       "             [-6.3397e-01],\n",
       "             [-1.1781e+02],\n",
       "             [-2.4585e+01]],\n",
       "   \n",
       "            [[-3.3101e+02],\n",
       "             [ 2.7948e+01],\n",
       "             [ 1.5269e+00],\n",
       "             [-1.5804e+02],\n",
       "             [-2.8617e+01]],\n",
       "   \n",
       "            [[-4.3468e+02],\n",
       "             [ 3.2702e+01],\n",
       "             [ 4.1282e+00],\n",
       "             [-2.0201e+02],\n",
       "             [-3.2100e+01]],\n",
       "   \n",
       "            [[-5.4885e+02],\n",
       "             [ 3.7602e+01],\n",
       "             [ 8.0995e+00],\n",
       "             [-2.4952e+02],\n",
       "             [-3.4111e+01]],\n",
       "   \n",
       "            [[-6.6638e+02],\n",
       "             [ 4.4151e+01],\n",
       "             [ 1.6313e+01],\n",
       "             [-2.9979e+02],\n",
       "             [-4.0193e+01]],\n",
       "   \n",
       "            [[-7.8550e+02],\n",
       "             [ 5.2093e+01],\n",
       "             [ 3.3203e+01],\n",
       "             [-3.5317e+02],\n",
       "             [-4.9859e+01]]]], grad_fn=<CopySlices>),\n",
       "   'irec': tensor([[[[  0.0000],\n",
       "             [  0.0000],\n",
       "             [  0.0000],\n",
       "             [  0.0000],\n",
       "             [  0.0000]],\n",
       "   \n",
       "            [[ -2.1397],\n",
       "             [ -1.0407],\n",
       "             [  0.6295],\n",
       "             [  0.4057],\n",
       "             [  1.3479]],\n",
       "   \n",
       "            [[ -8.5589],\n",
       "             [ -4.1628],\n",
       "             [  2.5180],\n",
       "             [  1.6227],\n",
       "             [  5.3916]],\n",
       "   \n",
       "            [[-12.8384],\n",
       "             [ -6.2442],\n",
       "             [  3.7770],\n",
       "             [  2.4341],\n",
       "             [  8.0875]],\n",
       "   \n",
       "            [[-20.3274],\n",
       "             [ -9.8866],\n",
       "             [  5.9802],\n",
       "             [  3.8540],\n",
       "             [ 12.8051]],\n",
       "   \n",
       "            [[-24.6069],\n",
       "             [-11.9680],\n",
       "             [  7.2392],\n",
       "             [  4.6654],\n",
       "             [ 15.5010]],\n",
       "   \n",
       "            [[-29.9562],\n",
       "             [-14.5698],\n",
       "             [  8.8129],\n",
       "             [  5.6796],\n",
       "             [ 18.8707]],\n",
       "   \n",
       "            [[-35.3055],\n",
       "             [-17.1715],\n",
       "             [ 10.3866],\n",
       "             [  6.6938],\n",
       "             [ 22.2405]],\n",
       "   \n",
       "            [[-33.7013],\n",
       "             [-17.1874],\n",
       "             [ 16.0496],\n",
       "             [  7.3532],\n",
       "             [ 20.8574]],\n",
       "   \n",
       "            [[-31.3843],\n",
       "             [-17.3873],\n",
       "             [ 25.5927],\n",
       "             [  8.5198],\n",
       "             [ 18.7769]]]], grad_fn=<CopySlices>),\n",
       "   'U': tensor([[[0.0000, 1.0000, 0.0000, 0.0000, 0.0000],\n",
       "            [0.0000, 0.9999, 0.0000, 0.0000, 0.0000],\n",
       "            [0.0000, 1.0000, 0.0000, 0.0000, 0.0000],\n",
       "            [0.0000, 0.9999, 0.0000, 0.0000, 0.0000],\n",
       "            [0.0000, 1.0000, 0.0000, 0.0000, 0.0000],\n",
       "            [0.0000, 1.0000, 0.0000, 0.0000, 0.0000],\n",
       "            [0.0000, 0.9992, 0.0000, 0.0000, 0.0000],\n",
       "            [0.0000, 1.0000, 1.0000, 0.0000, 0.0000],\n",
       "            [0.0000, 1.0000, 1.0000, 0.0000, 0.0000],\n",
       "            [0.0000, 1.0000, 1.0000, 0.0000, 0.0000]]], grad_fn=<CopySlices>),\n",
       "   'spikes': tensor([[[-0.,  2., -0., -0., -0.],\n",
       "            [-0.,  8., -0., -0., -0.],\n",
       "            [-0., 12., -0., -0., -0.],\n",
       "            [-0., 19., -0., -0., -0.],\n",
       "            [-0., 23., -0., -0., -0.],\n",
       "            [-0., 28., -0., -0., -0.],\n",
       "            [-0., 33., -0., -0., -0.],\n",
       "            [-0., 37.,  6., -0., -0.],\n",
       "            [-0., 44., 16., -0., -0.],\n",
       "            [-0., 52., 33., -0., -0.]]], grad_fn=<CopySlices>)},\n",
       "  '1_LIFTorch_output': tensor([[[-0.,  2., -0., -0., -0.],\n",
       "           [-0.,  8., -0., -0., -0.],\n",
       "           [-0., 12., -0., -0., -0.],\n",
       "           [-0., 19., -0., -0., -0.],\n",
       "           [-0., 23., -0., -0., -0.],\n",
       "           [-0., 28., -0., -0., -0.],\n",
       "           [-0., 33., -0., -0., -0.],\n",
       "           [-0., 37.,  6., -0., -0.],\n",
       "           [-0., 44., 16., -0., -0.],\n",
       "           [-0., 52., 33., -0., -0.]]], requires_grad=True)},\n",
       " '2_TorchResidual_output': tensor([[[ -0.,  91.,  -0., 117.,  -0.],\n",
       "          [ -0., 182.,  -0., 231.,  -0.],\n",
       "          [ -0., 268.,  -0., 336.,  -0.],\n",
       "          [ -0., 351.,  -0., 439.,  -0.],\n",
       "          [ -0., 429.,  -0., 535.,  -0.],\n",
       "          [ -0., 503.,  -0., 627.,  -0.],\n",
       "          [ -0., 574.,  -0., 714.,  -0.],\n",
       "          [ -0., 642.,   6., 797.,  -0.],\n",
       "          [ -0., 708.,  16., 876.,  -0.],\n",
       "          [ -0., 773.,  33., 952.,  -0.]]], requires_grad=True),\n",
       " '3_LinearTorch': {},\n",
       " '3_LinearTorch_output': tensor([[[   6.,  -12.,   15.],\n",
       "          [  12.,  -24.,   30.],\n",
       "          [  18.,  -35.,   44.],\n",
       "          [  24.,  -45.,   57.],\n",
       "          [  29.,  -55.,   70.],\n",
       "          [  34.,  -65.,   82.],\n",
       "          [  39.,  -74.,   94.],\n",
       "          [  43.,  -82.,  105.],\n",
       "          [  48.,  -91.,  116.],\n",
       "          [  52., -100.,  127.]]], requires_grad=True),\n",
       " '4_LIFTorch': {'vmem': tensor([[[ 7.0738e-01, -1.1415e+01,  2.6844e-01],\n",
       "           [ 5.1666e-01, -4.4546e+01,  3.6479e-01],\n",
       "           [ 6.3589e-01, -1.0771e+02,  2.5684e-01],\n",
       "           [ 9.6235e-01, -2.0741e+02,  3.7944e-01],\n",
       "           [ 2.0749e-01, -3.4945e+02,  6.3782e-01],\n",
       "           [ 9.6413e-01, -5.3897e+02,  5.0696e-01],\n",
       "           [ 5.2597e-01, -7.7957e+02,  7.3792e-02],\n",
       "           [ 2.0325e-01, -1.0734e+03,  7.6324e-02],\n",
       "           [ 8.3679e-02, -1.4233e+03,  8.8861e-01],\n",
       "           [ 1.4865e-01, -1.8316e+03,  5.5469e-01]]], grad_fn=<CopySlices>),\n",
       "  'isyn': tensor([[[[   5.7074],\n",
       "            [ -11.4148],\n",
       "            [  14.2684]],\n",
       "  \n",
       "           [[  16.8438],\n",
       "            [ -33.6876],\n",
       "            [  42.1094]],\n",
       "  \n",
       "           [[  33.1444],\n",
       "            [ -65.3376],\n",
       "            [  81.9098]],\n",
       "  \n",
       "           [[  54.3575],\n",
       "            [-104.9564],\n",
       "            [ 132.1351]],\n",
       "  \n",
       "           [[  79.2921],\n",
       "            [-152.1552],\n",
       "            [ 192.2769]],\n",
       "  \n",
       "           [[ 107.7668],\n",
       "            [-206.5645],\n",
       "            [ 260.9002]],\n",
       "  \n",
       "           [[ 139.6089],\n",
       "            [-266.8812],\n",
       "            [ 337.5916]],\n",
       "  \n",
       "           [[ 173.7029],\n",
       "            [-331.8660],\n",
       "            [ 421.0061]],\n",
       "  \n",
       "           [[ 210.8904],\n",
       "            [-402.2426],\n",
       "            [ 510.8160]],\n",
       "  \n",
       "           [[ 250.0690],\n",
       "            [-477.7480],\n",
       "            [ 606.7094]]]], grad_fn=<CopySlices>),\n",
       "  'irec': tensor([[[[0.],\n",
       "            [0.],\n",
       "            [0.]],\n",
       "  \n",
       "           [[0.],\n",
       "            [0.],\n",
       "            [0.]],\n",
       "  \n",
       "           [[0.],\n",
       "            [0.],\n",
       "            [0.]],\n",
       "  \n",
       "           [[0.],\n",
       "            [0.],\n",
       "            [0.]],\n",
       "  \n",
       "           [[0.],\n",
       "            [0.],\n",
       "            [0.]],\n",
       "  \n",
       "           [[0.],\n",
       "            [0.],\n",
       "            [0.]],\n",
       "  \n",
       "           [[0.],\n",
       "            [0.],\n",
       "            [0.]],\n",
       "  \n",
       "           [[0.],\n",
       "            [0.],\n",
       "            [0.]],\n",
       "  \n",
       "           [[0.],\n",
       "            [0.],\n",
       "            [0.]],\n",
       "  \n",
       "           [[0.],\n",
       "            [0.],\n",
       "            [0.]]]]),\n",
       "  'U': tensor([[[1.0000, 0.0000, 1.0000],\n",
       "           [1.0000, 0.0000, 1.0000],\n",
       "           [1.0000, 0.0000, 1.0000],\n",
       "           [1.0000, 0.0000, 1.0000],\n",
       "           [0.9998, 0.0000, 1.0000],\n",
       "           [1.0000, 0.0000, 1.0000],\n",
       "           [1.0000, 0.0000, 0.9503],\n",
       "           [0.9997, 0.0000, 0.9549],\n",
       "           [0.9660, 0.0000, 1.0000],\n",
       "           [0.9974, 0.0000, 1.0000]]], grad_fn=<CopySlices>),\n",
       "  'spikes': tensor([[[  5.,  -0.,  14.],\n",
       "           [ 17.,  -0.,  42.],\n",
       "           [ 33.,  -0.,  82.],\n",
       "           [ 54.,  -0., 132.],\n",
       "           [ 80.,  -0., 192.],\n",
       "           [107.,  -0., 261.],\n",
       "           [140.,  -0., 338.],\n",
       "           [174.,  -0., 421.],\n",
       "           [211.,  -0., 510.],\n",
       "           [250.,  -0., 607.]]], grad_fn=<CopySlices>)},\n",
       " '4_LIFTorch_output': tensor([[[  5.,  -0.,  14.],\n",
       "          [ 17.,  -0.,  42.],\n",
       "          [ 33.,  -0.,  82.],\n",
       "          [ 54.,  -0., 132.],\n",
       "          [ 80.,  -0., 192.],\n",
       "          [107.,  -0., 261.],\n",
       "          [140.,  -0., 338.],\n",
       "          [174.,  -0., 421.],\n",
       "          [211.,  -0., 510.],\n",
       "          [250.,  -0., 607.]]], requires_grad=True)}"
      ]
     },
     "execution_count": 18,
     "metadata": {},
     "output_type": "execute_result"
    }
   ],
   "source": [
    "# - Examine the recorded outputs from the network; the LinearTorch layers have quantised output\n",
    "rd"
   ]
  },
  {
   "cell_type": "markdown",
   "id": "4d627220",
   "metadata": {},
   "source": [
    "As expected, the outputs of the Linear layers are now signed 8-bit integers, maintained as floating-point representation."
   ]
  }
 ],
 "metadata": {
  "kernelspec": {
   "display_name": "Python 3 (ipykernel)",
   "language": "python",
   "name": "python3"
  },
  "language_info": {
   "codemirror_mode": {
    "name": "ipython",
    "version": 3
   },
   "file_extension": ".py",
   "mimetype": "text/x-python",
   "name": "python",
   "nbconvert_exporter": "python",
   "pygments_lexer": "ipython3",
   "version": "3.8.13"
  },
  "vscode": {
   "interpreter": {
    "hash": "7c0b9d47d5d3724c1090079e6a482fd3b557a4229bd09ca1206acef5b6a64516"
   }
  }
 },
 "nbformat": 4,
 "nbformat_minor": 5
}
