{
 "cells": [
  {
   "cell_type": "markdown",
   "metadata": {},
   "source": [
    "# Graph mapping"
   ]
  },
  {
   "cell_type": "raw",
   "metadata": {
    "raw_mimetype": "text/restructuredtext"
   },
   "source": [
    "You can extend the computational graphing capabilities of Rockpool, by adding new :py:class:`.graph.GraphModule` subclasses. These classes can be converted between eachother and the graph can be analysed in order to map networks on to hardware."
   ]
  },
  {
   "cell_type": "markdown",
   "metadata": {},
   "source": [
    "## Subclassing `GraphModule`"
   ]
  },
  {
   "cell_type": "raw",
   "metadata": {
    "raw_mimetype": "text/restructuredtext"
   },
   "source": [
    "All :py:class:`~.graph.GraphModule` classes are :py:class:`dataclass` es, and use the ``@dataclass`` decorator."
   ]
  },
  {
   "cell_type": "code",
   "execution_count": 2,
   "metadata": {},
   "outputs": [],
   "source": [
    "import rockpool.graph as rg\n",
    "from dataclasses import dataclass\n",
    "\n",
    "@dataclass(eq = False)\n",
    "class MyGraphModule(rg.GraphModule):\n",
    "    # - Define parameters as for any dataclass\n",
    "    param1: float\n",
    "    param2: int\n",
    "    param3: list"
   ]
  },
  {
   "cell_type": "raw",
   "metadata": {
    "raw_mimetype": "text/restructuredtext"
   },
   "source": [
    ":py:class:`~.graph.GraphModule` provides a :py:meth:`~.graph.GraphModule.__post_init__` method that can be used to perform any validity checks after initialisation. :py:meth:`~.graph.GraphModule.__post_init__` also ensures that the :py:attr:`~.graph.GraphModule:input_nodes` and :py:attr:`~.graph.GraphModule:output_nodes` are correctly connected to the module being created."
   ]
  },
  {
   "cell_type": "code",
   "execution_count": 3,
   "metadata": {},
   "outputs": [],
   "source": [
    "class MyGraphModule(MyGraphModule):\n",
    "    # - Any initialisation checks can be performed a __post_init__ method\n",
    "    def __post_init__(self, *args, **kwargs):\n",
    "        # - You *must* call super().__post_init__()\n",
    "        super().__post_init__(*args, **kwargs)\n",
    "        \n",
    "        if param1 < param2:\n",
    "            raise ValueError('param1 must be > param2')"
   ]
  },
  {
   "cell_type": "raw",
   "metadata": {
    "raw_mimetype": "text/restructuredtext"
   },
   "source": []
  },
  {
   "cell_type": "markdown",
   "metadata": {},
   "source": [
    "## Transforming `GraphModule` s"
   ]
  },
  {
   "cell_type": "code",
   "execution_count": null,
   "metadata": {},
   "outputs": [],
   "source": []
  },
  {
   "cell_type": "code",
   "execution_count": null,
   "metadata": {},
   "outputs": [],
   "source": []
  },
  {
   "cell_type": "markdown",
   "metadata": {},
   "source": [
    "## Creating a mapper"
   ]
  },
  {
   "cell_type": "code",
   "execution_count": null,
   "metadata": {},
   "outputs": [],
   "source": []
  },
  {
   "cell_type": "code",
   "execution_count": null,
   "metadata": {},
   "outputs": [],
   "source": []
  },
  {
   "cell_type": "markdown",
   "metadata": {},
   "source": [
    "## DRC checks"
   ]
  },
  {
   "cell_type": "code",
   "execution_count": null,
   "metadata": {},
   "outputs": [],
   "source": []
  }
 ],
 "metadata": {
  "kernelspec": {
   "display_name": "Python [conda env:wavesense]",
   "language": "python",
   "name": "conda-env-wavesense-py"
  },
  "language_info": {
   "codemirror_mode": {
    "name": "ipython",
    "version": 3
   },
   "file_extension": ".py",
   "mimetype": "text/x-python",
   "name": "python",
   "nbconvert_exporter": "python",
   "pygments_lexer": "ipython3",
   "version": "3.8.11"
  }
 },
 "nbformat": 4,
 "nbformat_minor": 4
}
