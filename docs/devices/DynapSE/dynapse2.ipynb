{
 "cells": [
  {
   "cell_type": "markdown",
   "metadata": {},
   "source": [
    "# Tutorial : Dynap-SE2 (UNDER CONSTRUCTION)"
   ]
  },
  {
   "cell_type": "code",
   "execution_count": 1,
   "metadata": {},
   "outputs": [
    {
     "name": "stdout",
     "output_type": "stream",
     "text": [
      "\n",
      "              -- N E S T --\n",
      "  Copyright (C) 2004 The NEST Initiative\n",
      "\n",
      " Version: nest-3.1\n",
      " Built: Sep 28 2021 11:43:45\n",
      "\n",
      " This program is provided AS IS and comes with\n",
      " NO WARRANTY. See the file LICENSE for details.\n",
      "\n",
      " Problems or suggestions?\n",
      "   Visit https://www.nest-simulator.org\n",
      "\n",
      " Type 'nest.help()' to find out more about NEST.\n",
      "\n"
     ]
    },
    {
     "name": "stderr",
     "output_type": "stream",
     "text": [
      "No protocol specified\n"
     ]
    }
   ],
   "source": [
    "# Ignore warnings\n",
    "import warnings\n",
    "warnings.filterwarnings('ignore')\n",
    "\n",
    "# Utils\n",
    "from typing import Dict, Optional\n",
    "import numpy as np\n",
    "import json\n",
    "import os\n",
    "import time\n",
    "import errno\n",
    "\n",
    "# Samna\n",
    "import samna\n",
    "from samna.dynapse2 import *\n",
    "\n",
    "# Rockpool Imports\n",
    "from rockpool.timeseries import TSEvent\n",
    "from rockpool.nn.modules.jax import LinearJax\n",
    "from rockpool.nn.combinators import Sequential\n",
    "\n",
    "## Dynap-SE2\n",
    "from rockpool.devices.dynapse.config.simconfig import DynapSimConfig, DynapSimCore\n",
    "from rockpool.devices.dynapse.dynapsim import DynapSim\n",
    "from rockpool.devices.dynapse.utils.figure import Figure\n",
    "from rockpool.devices.dynapse.config.weights import WeightParameters\n",
    "\n",
    "# - Plotting and config\n",
    "import matplotlib.pyplot as plt\n",
    "%matplotlib inline\n",
    "plt.rcParams['figure.figsize'] = [12, 4]\n",
    "plt.rcParams['figure.dpi'] = 100"
   ]
  },
  {
   "cell_type": "markdown",
   "metadata": {},
   "source": [
    "## Utils"
   ]
  },
  {
   "cell_type": "code",
   "execution_count": 2,
   "metadata": {},
   "outputs": [],
   "source": [
    "def set_parameter(parameters, name, coarse, fine):\n",
    "    parameter = parameters[name]\n",
    "    parameter.coarse_value = coarse\n",
    "    parameter.fine_value = fine\n",
    "\n",
    "\n",
    "def readable(file):\n",
    "    try:\n",
    "        f = open(file, mode=\"rb\", buffering=0)\n",
    "    except OSError:\n",
    "        return False\n",
    "    f.close()\n",
    "    return True\n",
    "\n",
    "\n",
    "def get_fpga_time(board):\n",
    "    destination = Dynapse2Destination()\n",
    "    destination.x_hop = -1\n",
    "    destination.y_hop = -1\n",
    "    destination.core = [True, True, True, True]\n",
    "\n",
    "    event = NormalGridEvent()\n",
    "    event.event = destination\n",
    "    event.timestamp = 0\n",
    "\n",
    "    while True:\n",
    "        board.input_interface_write_events(0, [event])\n",
    "        for timeout in range(1000):\n",
    "            evs = board.read_events()\n",
    "            if len(evs) > 0:\n",
    "                return evs[-1].timestamp\n"
   ]
  },
  {
   "cell_type": "markdown",
   "metadata": {},
   "source": [
    "## Connect to device"
   ]
  },
  {
   "cell_type": "code",
   "execution_count": 3,
   "metadata": {},
   "outputs": [],
   "source": [
    "number_of_chips = 1\n",
    "receiver_endpoint = \"tcp://0.0.0.0:33335\"\n",
    "sender_endpoint = \"tcp://0.0.0.0:33336\"\n",
    "node_id = 1\n",
    "interpreter_id = 2\n",
    "input_group_size = 16\n",
    "delay=True\n",
    "adaptation=False\n",
    "stp=False\n",
    "bitfile=\"./bitfiles/Dynapse2Stack.bit\"\n",
    "\n",
    "samna_node = samna.SamnaNode(sender_endpoint, receiver_endpoint, node_id)\n",
    "devices = samna.device.get_unopened_devices()\n",
    "board = samna.device.open_device(devices[0])\n",
    "\n",
    "\n",
    "samna.setup_local_node(receiver_endpoint, sender_endpoint, interpreter_id)\n",
    "samna.open_remote_node(node_id, \"device_node\")\n",
    "\n",
    "remote =  samna.device_node\n",
    "\n",
    "if not os.path.isfile(bitfile):\n",
    "    print(\"Bitfile %s not found\" % bitfile)\n",
    "    exit(errno.ENOENT)\n",
    "\n",
    "if not readable(bitfile):\n",
    "    print(\"Cannot read %s\" % bitfile)\n",
    "    exit(errno.EACCES)\n",
    "\n",
    "if not board.configure_opal_kelly(bitfile):\n",
    "    print(\"Failed to configure Opal Kelly\")\n",
    "    exit(errno.EIO)\n",
    "\n",
    "time.sleep(0.1)\n",
    "board.reset_fpga()\n",
    "time.sleep(0.1)\n",
    "\n",
    "model = board.get_model()\n",
    "model.reset(ResetType.PowerCycle, 0b1)\n",
    "time.sleep(1)"
   ]
  },
  {
   "cell_type": "code",
   "execution_count": 4,
   "metadata": {},
   "outputs": [],
   "source": [
    "myConfig = model.get_configuration()"
   ]
  },
  {
   "cell_type": "markdown",
   "metadata": {},
   "source": [
    "## Configure Parameters Manually"
   ]
  },
  {
   "cell_type": "code",
   "execution_count": 5,
   "metadata": {},
   "outputs": [
    {
     "name": "stdout",
     "output_type": "stream",
     "text": [
      "Configuring parameters\n"
     ]
    }
   ],
   "source": [
    "print(\"Configuring parameters\")\n",
    "\n",
    "# set neuron parameters\n",
    "set_parameter(myConfig.chips[0].cores[0].parameters, \"SOIF_GAIN_N\", 3, 80)\n",
    "set_parameter(myConfig.chips[0].cores[0].parameters, \"SOIF_LEAK_N\", 0, 50)\n",
    "set_parameter(myConfig.chips[0].cores[0].parameters, \"SOIF_REFR_N\", 1, 40)\n",
    "set_parameter(myConfig.chips[0].cores[0].parameters, \"SOIF_DC_P\", 0, 1)\n",
    "set_parameter(myConfig.chips[0].cores[0].parameters, \"SOIF_SPKTHR_P\", 3, 254)\n",
    "set_parameter(myConfig.chips[0].cores[0].parameters, \"SOAD_PWTAU_N\", 3, 80)\n",
    "set_parameter(myConfig.chips[0].cores[0].parameters, \"SOAD_GAIN_P\", 3, 80)\n",
    "set_parameter(myConfig.chips[0].cores[0].parameters, \"SOAD_TAU_P\", 0, 10)\n",
    "set_parameter(myConfig.chips[0].cores[0].parameters, \"SOAD_W_N\", 3, 80)\n",
    "set_parameter(myConfig.chips[0].cores[0].parameters, \"SOAD_CASC_P\", 5, 254)\n",
    "\n",
    "# set synapse parameters  -- enabled AM and SC\n",
    "set_parameter(myConfig.chips[0].cores[0].parameters, 'DEAM_ETAU_P', 2, 40)\n",
    "set_parameter(myConfig.chips[0].cores[0].parameters, 'DEAM_EGAIN_P', 3, 80)\n",
    "set_parameter(myConfig.chips[0].cores[0].parameters, 'DENM_ETAU_P', 1, 80)\n",
    "set_parameter(myConfig.chips[0].cores[0].parameters, 'DENM_EGAIN_P', 3, 80)\n",
    "set_parameter(myConfig.chips[0].cores[0].parameters, 'DESC_ITAU_P', 1, 160)\n",
    "set_parameter(myConfig.chips[0].cores[0].parameters, 'DESC_IGAIN_P', 4, 40)\n",
    "set_parameter(myConfig.chips[0].cores[0].parameters, 'SYAM_W0_P', 5, 80)\n",
    "set_parameter(myConfig.chips[0].cores[0].parameters, 'SYAM_W1_P', 5, 80)\n",
    "set_parameter(myConfig.chips[0].cores[0].parameters, 'SYAM_W2_P', 5, 80)\n",
    "set_parameter(myConfig.chips[0].cores[0].parameters, 'SYAM_W3_P', 5, 80)\n",
    "set_parameter(myConfig.chips[0].cores[0].parameters, 'SYPD_EXT_N', 3, 200)"
   ]
  },
  {
   "cell_type": "markdown",
   "metadata": {},
   "source": [
    "## Configure Memory"
   ]
  },
  {
   "cell_type": "code",
   "execution_count": 6,
   "metadata": {},
   "outputs": [],
   "source": [
    "sender_tag = 1024\n",
    "receiver_tag = 15"
   ]
  },
  {
   "cell_type": "code",
   "execution_count": 7,
   "metadata": {},
   "outputs": [
    {
     "name": "stdout",
     "output_type": "stream",
     "text": [
      "Configuring cams\n"
     ]
    }
   ],
   "source": [
    "print(\"Configuring cams\")\n",
    "\n",
    "# set CAM -- synapses\n",
    "cams = [Dynapse2Synapse() for _ in range(64)]\n",
    "cams[0].tag = sender_tag\n",
    "cams[0].dendrite = Dendrite.ampa\n",
    "cams[0].weight = [True, True, True, True]\n",
    "myConfig.chips[0].cores[0].neurons[0].synapses = cams"
   ]
  },
  {
   "cell_type": "code",
   "execution_count": 8,
   "metadata": {},
   "outputs": [
    {
     "name": "stdout",
     "output_type": "stream",
     "text": [
      "Configuring srams\n"
     ]
    }
   ],
   "source": [
    "print(\"Configuring srams\")\n",
    "\n",
    "destinations = [Dynapse2Destination() for _ in range(4)]\n",
    "destinations[0].tag = receiver_tag\n",
    "destinations[0].core = [True, False, False, False]\n",
    "destinations[0].x_hop = -2\n",
    "myConfig.chips[0].cores[0].neurons[0].destinations = destinations\n",
    "\n",
    "model.apply_configuration(myConfig)\n",
    "time.sleep(1)\n"
   ]
  },
  {
   "cell_type": "code",
   "execution_count": 9,
   "metadata": {},
   "outputs": [
    {
     "data": {
      "text/plain": [
       "2991760"
      ]
     },
     "execution_count": 9,
     "metadata": {},
     "output_type": "execute_result"
    }
   ],
   "source": [
    "get_fpga_time(board=board)"
   ]
  },
  {
   "cell_type": "code",
   "execution_count": 10,
   "metadata": {},
   "outputs": [
    {
     "data": {
      "text/plain": [
       "<matplotlib.collections.PathCollection at 0x7fbc1467d6a0>"
      ]
     },
     "execution_count": 10,
     "metadata": {},
     "output_type": "execute_result"
    },
    {
     "data": {
      "image/png": "[encoded data removed]",
      "text/plain": [
       "<Figure size 1200x400 with 1 Axes>"
      ]
     },
     "metadata": {
      "needs_background": "light"
     },
     "output_type": "display_data"
    }
   ],
   "source": [
    "from rockpool.devices.dynapse.deploy.fpga import TSEventSE2\n",
    "import numpy as np\n",
    "\n",
    "ts = get_fpga_time(board=board) + 1000000\n",
    "times = [t for t in np.arange(ts*1e-6, ts*1e-6 + 1.005, 1e-1)]\n",
    "channels = [0 for _ in range(len(times))]\n",
    "times2 = [t for t in np.arange(times[-1]+ 0.05, times[-1] + 0.1, 1e-2)]\n",
    "channels += [1 for _ in range(len(times2))]\n",
    "times = times + times2\n",
    "ts = TSEventSE2(times, channels, t_start = ts*1e-6 - 0.1, t_stop = times[-1] + .1, idx_map={0:(1, 0, 0, 1024), 1:(15,-1,-1,2047)})\n",
    "ts.plot()"
   ]
  },
  {
   "cell_type": "code",
   "execution_count": 11,
   "metadata": {},
   "outputs": [
    {
     "name": "stderr",
     "output_type": "stream",
     "text": [
      "WARNING:absl:No GPU/TPU found, falling back to CPU. (Set TF_CPP_MIN_LOG_LEVEL=0 and rerun for more info.)\n"
     ]
    }
   ],
   "source": [
    "simconfig = DynapSimConfig.from_Dynapse2Configuration(myConfig)"
   ]
  },
  {
   "cell_type": "code",
   "execution_count": 12,
   "metadata": {},
   "outputs": [],
   "source": [
    "n_in = len(simconfig.router.tag_map_in)\n",
    "n_rec = len(simconfig.router.idx_map)\n",
    "n_out  = len(simconfig.router.tag_map_out)\n",
    "n_syn = 4"
   ]
  },
  {
   "cell_type": "code",
   "execution_count": 13,
   "metadata": {},
   "outputs": [
    {
     "data": {
      "text/plain": [
       "DynapSim  with shape (4, 1)"
      ]
     },
     "execution_count": 13,
     "metadata": {},
     "output_type": "execute_result"
    }
   ],
   "source": [
    "# --- DynapSim Layer --- #\n",
    "dynapsim = DynapSim.from_DynapSimConfig(\n",
    "    shape=(n_rec * n_syn, n_rec), has_rec=True, simconfig=simconfig\n",
    ")\n",
    "dynapsim"
   ]
  },
  {
   "cell_type": "code",
   "execution_count": 14,
   "metadata": {},
   "outputs": [
    {
     "data": {
      "text/plain": [
       "LinearJax  with shape (1, 1)"
      ]
     },
     "execution_count": 14,
     "metadata": {},
     "output_type": "execute_result"
    }
   ],
   "source": [
    "# --- Output Layer --- #\n",
    "linear_out = LinearJax(\n",
    "    shape=(n_rec, n_out),\n",
    "    weight=simconfig.w_out,\n",
    "    has_bias=False,\n",
    ")\n",
    "linear_out"
   ]
  },
  {
   "cell_type": "code",
   "execution_count": 15,
   "metadata": {},
   "outputs": [
    {
     "data": {
      "text/plain": [
       "JaxSequential  with shape (4, 1) {\n",
       "    DynapSim '0_DynapSim' with shape (4, 1)\n",
       "    LinearJax '1_LinearJax' with shape (1, 1)\n",
       "}"
      ]
     },
     "execution_count": 15,
     "metadata": {},
     "output_type": "execute_result"
    }
   ],
   "source": [
    "model = Sequential(dynapsim, linear_out)\n",
    "model\n"
   ]
  },
  {
   "cell_type": "code",
   "execution_count": 16,
   "metadata": {},
   "outputs": [],
   "source": [
    "model.reset_state()\n",
    "spikes_in = np.zeros((100, 4))\n",
    "spikes_in[10] = 1\n",
    "spikes_in[20] = 1\n",
    "spikes_in[30] = 1\n",
    "spikes_in[40] = 1\n",
    "spikes_in[50] = 1\n",
    "spikes_in[60] = 1\n",
    "spikes_in[70] = 1\n",
    "spikes_in[80] = 1\n",
    "spikes_in[90] = 1\n",
    "out, state, record_dict = model(spikes_in, record=True)"
   ]
  },
  {
   "cell_type": "code",
   "execution_count": 17,
   "metadata": {},
   "outputs": [
    {
     "data": {
      "text/plain": [
       "<matplotlib.collections.PathCollection at 0x7fbc143060d0>"
      ]
     },
     "execution_count": 17,
     "metadata": {},
     "output_type": "execute_result"
    },
    {
     "data": {
      "image/png": "[encoded data removed]",
      "text/plain": [
       "<Figure size 1200x400 with 1 Axes>"
      ]
     },
     "metadata": {
      "needs_background": "light"
     },
     "output_type": "display_data"
    }
   ],
   "source": [
    "spike_ts_out = TSEvent.from_raster(out, name=\"Output spikes\", periodic=True, dt=1e-3)\n",
    "spike_ts_out.plot()"
   ]
  },
  {
   "cell_type": "code",
   "execution_count": 18,
   "metadata": {},
   "outputs": [
    {
     "data": {
      "text/plain": [
       "DynapSimTime(t_pulse_ahp=array([3.273717e-05]), t_pulse=array([1.35275773e-05]), t_ref=array([0.0107829]), tau_ahp=array([2.48180593]), tau_ampa=array([0.00622751]), tau_gaba=array([1.97456191e-06]), tau_nmda=array([0.02612203]), tau_shunt=array([0.01306161]), tau_mem=array([0.01200967]))"
      ]
     },
     "execution_count": 18,
     "metadata": {},
     "output_type": "execute_result"
    }
   ],
   "source": [
    "simconfig.time"
   ]
  },
  {
   "cell_type": "code",
   "execution_count": 19,
   "metadata": {},
   "outputs": [
    {
     "data": {
      "text/plain": [
       "DynapSimGain(r_gain_ahp=array([13047.51089153]), r_gain_ampa=array([53.45250766]), r_gain_gaba=array([5.64609701e-07]), r_gain_nmda=array([219.72870351]), r_gain_shunt=array([462.434723]), r_gain_mem=array([1377.48693116]))"
      ]
     },
     "execution_count": 19,
     "metadata": {},
     "output_type": "execute_result"
    }
   ],
   "source": [
    "simconfig.gain"
   ]
  },
  {
   "cell_type": "code",
   "execution_count": 20,
   "metadata": {},
   "outputs": [
    {
     "data": {
      "text/plain": [
       "DeviceArray([[[6.073194e-07, 0.000000e+00, 0.000000e+00, 0.000000e+00]]],            dtype=float32)"
      ]
     },
     "execution_count": 20,
     "metadata": {},
     "output_type": "execute_result"
    }
   ],
   "source": [
    "simconfig.w_in"
   ]
  },
  {
   "cell_type": "code",
   "execution_count": 21,
   "metadata": {},
   "outputs": [
    {
     "data": {
      "text/plain": [
       "{'SOIF_DC_P': (0, 1),\n",
       " 'DENM_NMREV_N': (0, 0),\n",
       " 'SOAD_GAIN_P': (3, 80),\n",
       " 'DEAM_EGAIN_P': (3, 80),\n",
       " 'DEGA_IGAIN_P': (0, 0),\n",
       " 'DENM_EGAIN_P': (3, 80),\n",
       " 'DESC_IGAIN_P': (4, 40),\n",
       " 'SOIF_GAIN_N': (3, 80),\n",
       " 'SOAD_PWTAU_N': (3, 80),\n",
       " 'SYPD_EXT_N': (3, 200),\n",
       " 'SOIF_REFR_N': (1, 40),\n",
       " 'SOIF_SPKTHR_P': (3, 254),\n",
       " 'SOAD_TAU_P': (0, 10),\n",
       " 'DEAM_ETAU_P': (2, 40),\n",
       " 'DEGA_ITAU_P': (5, 255),\n",
       " 'DENM_ETAU_P': (1, 80),\n",
       " 'DESC_ITAU_P': (1, 160),\n",
       " 'SOIF_LEAK_N': (0, 50),\n",
       " 'SYAM_W0_P': (5, 80),\n",
       " 'SYAM_W1_P': (5, 80),\n",
       " 'SYAM_W2_P': (5, 80),\n",
       " 'SYAM_W3_P': (5, 80),\n",
       " 'SOAD_W_N': (3, 80)}"
      ]
     },
     "execution_count": 21,
     "metadata": {},
     "output_type": "execute_result"
    }
   ],
   "source": [
    "simconfig.cores[0,0].export_Dynapse2Parameters()"
   ]
  },
  {
   "cell_type": "code",
   "execution_count": null,
   "metadata": {},
   "outputs": [],
   "source": []
  }
 ],
 "metadata": {
  "interpreter": {
   "hash": "8cdb4f296bfaf5452445098d1924ce754cc482cb6ccf2720dd292449c9d36440"
  },
  "kernelspec": {
   "display_name": "Python 3.9.7 ('rockpool_dynapse')",
   "language": "python",
   "name": "python3"
  },
  "language_info": {
   "codemirror_mode": {
    "name": "ipython",
    "version": 3
   },
   "file_extension": ".py",
   "mimetype": "text/x-python",
   "name": "python",
   "nbconvert_exporter": "python",
   "pygments_lexer": "ipython3",
   "version": "3.9.7"
  },
  "orig_nbformat": 4
 },
 "nbformat": 4,
 "nbformat_minor": 2
}
