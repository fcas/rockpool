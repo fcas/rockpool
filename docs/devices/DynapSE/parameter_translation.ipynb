{
    "cells": [
        {
            "cell_type": "markdown",
            "metadata": {},
            "source": [
                "# Tutorial : Parameter Translation\n",
                "This notebook shows how rockpool translates the high level parameters to low level hardware configuraiton"
            ]
        },
        {
            "cell_type": "code",
            "execution_count": 1,
            "metadata": {},
            "outputs": [],
            "source": [
                "## Dynap-SE\n",
                "from rockpool.devices.dynapse.config.simconfig import DynapSimConfig\n",
                "from rockpool.devices.dynapse.infrastructure.biasgen import BiasGenSE2"
            ]
        },
        {
            "cell_type": "markdown",
            "metadata": {},
            "source": [
                "## Option 1: Using Simulation Configuration Object\n",
                "\n",
                "Using the simulation configuration object, one can get a dynapse simulator or a hardware parameters"
            ]
        },
        {
            "cell_type": "code",
            "execution_count": 2,
            "metadata": {},
            "outputs": [
                {
                    "name": "stdout",
                    "output_type": "stream",
                    "text": [
                        "\u001b[0;31mSignature:\u001b[0m\n",
                        "\u001b[0mDynapSimConfig\u001b[0m\u001b[0;34m.\u001b[0m\u001b[0mfrom_specification\u001b[0m\u001b[0;34m(\u001b[0m\u001b[0;34m\u001b[0m\n",
                        "\u001b[0;34m\u001b[0m    \u001b[0mshape\u001b[0m\u001b[0;34m:\u001b[0m \u001b[0;34m'Optional[Union[Tuple[int], int]]'\u001b[0m\u001b[0;34m,\u001b[0m\u001b[0;34m\u001b[0m\n",
                        "\u001b[0;34m\u001b[0m    \u001b[0mw_in\u001b[0m\u001b[0;34m:\u001b[0m \u001b[0;34m'Optional[np.ndarray]'\u001b[0m \u001b[0;34m=\u001b[0m \u001b[0;32mNone\u001b[0m\u001b[0;34m,\u001b[0m\u001b[0;34m\u001b[0m\n",
                        "\u001b[0;34m\u001b[0m    \u001b[0mw_rec\u001b[0m\u001b[0;34m:\u001b[0m \u001b[0;34m'Optional[np.ndarray]'\u001b[0m \u001b[0;34m=\u001b[0m \u001b[0;32mNone\u001b[0m\u001b[0;34m,\u001b[0m\u001b[0;34m\u001b[0m\n",
                        "\u001b[0;34m\u001b[0m    \u001b[0mw_in_mask\u001b[0m\u001b[0;34m:\u001b[0m \u001b[0;34m'Optional[np.ndarray]'\u001b[0m \u001b[0;34m=\u001b[0m \u001b[0;32mNone\u001b[0m\u001b[0;34m,\u001b[0m\u001b[0;34m\u001b[0m\n",
                        "\u001b[0;34m\u001b[0m    \u001b[0mw_rec_mask\u001b[0m\u001b[0;34m:\u001b[0m \u001b[0;34m'Optional[np.ndarray]'\u001b[0m \u001b[0;34m=\u001b[0m \u001b[0;32mNone\u001b[0m\u001b[0;34m,\u001b[0m\u001b[0;34m\u001b[0m\n",
                        "\u001b[0;34m\u001b[0m    \u001b[0mw_out\u001b[0m\u001b[0;34m:\u001b[0m \u001b[0;34m'Optional[np.ndarray]'\u001b[0m \u001b[0;34m=\u001b[0m \u001b[0;32mNone\u001b[0m\u001b[0;34m,\u001b[0m\u001b[0;34m\u001b[0m\n",
                        "\u001b[0;34m\u001b[0m    \u001b[0mIdc\u001b[0m\u001b[0;34m:\u001b[0m \u001b[0;34m'float'\u001b[0m \u001b[0;34m=\u001b[0m \u001b[0;32mNone\u001b[0m\u001b[0;34m,\u001b[0m\u001b[0;34m\u001b[0m\n",
                        "\u001b[0;34m\u001b[0m    \u001b[0mIf_nmda\u001b[0m\u001b[0;34m:\u001b[0m \u001b[0;34m'float'\u001b[0m \u001b[0;34m=\u001b[0m \u001b[0;32mNone\u001b[0m\u001b[0;34m,\u001b[0m\u001b[0;34m\u001b[0m\n",
                        "\u001b[0;34m\u001b[0m    \u001b[0mr_gain_ahp\u001b[0m\u001b[0;34m:\u001b[0m \u001b[0;34m'float'\u001b[0m \u001b[0;34m=\u001b[0m \u001b[0;36m1000\u001b[0m\u001b[0;34m,\u001b[0m\u001b[0;34m\u001b[0m\n",
                        "\u001b[0;34m\u001b[0m    \u001b[0mr_gain_ampa\u001b[0m\u001b[0;34m:\u001b[0m \u001b[0;34m'float'\u001b[0m \u001b[0;34m=\u001b[0m \u001b[0;36m100\u001b[0m\u001b[0;34m,\u001b[0m\u001b[0;34m\u001b[0m\n",
                        "\u001b[0;34m\u001b[0m    \u001b[0mr_gain_gaba\u001b[0m\u001b[0;34m:\u001b[0m \u001b[0;34m'float'\u001b[0m \u001b[0;34m=\u001b[0m \u001b[0;36m100\u001b[0m\u001b[0;34m,\u001b[0m\u001b[0;34m\u001b[0m\n",
                        "\u001b[0;34m\u001b[0m    \u001b[0mr_gain_nmda\u001b[0m\u001b[0;34m:\u001b[0m \u001b[0;34m'float'\u001b[0m \u001b[0;34m=\u001b[0m \u001b[0;36m100\u001b[0m\u001b[0;34m,\u001b[0m\u001b[0;34m\u001b[0m\n",
                        "\u001b[0;34m\u001b[0m    \u001b[0mr_gain_shunt\u001b[0m\u001b[0;34m:\u001b[0m \u001b[0;34m'float'\u001b[0m \u001b[0;34m=\u001b[0m \u001b[0;36m100\u001b[0m\u001b[0;34m,\u001b[0m\u001b[0;34m\u001b[0m\n",
                        "\u001b[0;34m\u001b[0m    \u001b[0mr_gain_mem\u001b[0m\u001b[0;34m:\u001b[0m \u001b[0;34m'float'\u001b[0m \u001b[0;34m=\u001b[0m \u001b[0;36m4\u001b[0m\u001b[0;34m,\u001b[0m\u001b[0;34m\u001b[0m\n",
                        "\u001b[0;34m\u001b[0m    \u001b[0mt_pulse_ahp\u001b[0m\u001b[0;34m:\u001b[0m \u001b[0;34m'float'\u001b[0m \u001b[0;34m=\u001b[0m \u001b[0;36m1e-06\u001b[0m\u001b[0;34m,\u001b[0m\u001b[0;34m\u001b[0m\n",
                        "\u001b[0;34m\u001b[0m    \u001b[0mt_pulse\u001b[0m\u001b[0;34m:\u001b[0m \u001b[0;34m'float'\u001b[0m \u001b[0;34m=\u001b[0m \u001b[0;36m1e-05\u001b[0m\u001b[0;34m,\u001b[0m\u001b[0;34m\u001b[0m\n",
                        "\u001b[0;34m\u001b[0m    \u001b[0mt_ref\u001b[0m\u001b[0;34m:\u001b[0m \u001b[0;34m'float'\u001b[0m \u001b[0;34m=\u001b[0m \u001b[0;36m0.002\u001b[0m\u001b[0;34m,\u001b[0m\u001b[0;34m\u001b[0m\n",
                        "\u001b[0;34m\u001b[0m    \u001b[0mIspkthr\u001b[0m\u001b[0;34m:\u001b[0m \u001b[0;34m'float'\u001b[0m \u001b[0;34m=\u001b[0m \u001b[0;36m1e-06\u001b[0m\u001b[0;34m,\u001b[0m\u001b[0;34m\u001b[0m\n",
                        "\u001b[0;34m\u001b[0m    \u001b[0mtau_ahp\u001b[0m\u001b[0;34m:\u001b[0m \u001b[0;34m'float'\u001b[0m \u001b[0;34m=\u001b[0m \u001b[0;36m0.05\u001b[0m\u001b[0;34m,\u001b[0m\u001b[0;34m\u001b[0m\n",
                        "\u001b[0;34m\u001b[0m    \u001b[0mtau_ampa\u001b[0m\u001b[0;34m:\u001b[0m \u001b[0;34m'float'\u001b[0m \u001b[0;34m=\u001b[0m \u001b[0;36m0.01\u001b[0m\u001b[0;34m,\u001b[0m\u001b[0;34m\u001b[0m\n",
                        "\u001b[0;34m\u001b[0m    \u001b[0mtau_gaba\u001b[0m\u001b[0;34m:\u001b[0m \u001b[0;34m'float'\u001b[0m \u001b[0;34m=\u001b[0m \u001b[0;36m0.1\u001b[0m\u001b[0;34m,\u001b[0m\u001b[0;34m\u001b[0m\n",
                        "\u001b[0;34m\u001b[0m    \u001b[0mtau_nmda\u001b[0m\u001b[0;34m:\u001b[0m \u001b[0;34m'float'\u001b[0m \u001b[0;34m=\u001b[0m \u001b[0;36m0.1\u001b[0m\u001b[0;34m,\u001b[0m\u001b[0;34m\u001b[0m\n",
                        "\u001b[0;34m\u001b[0m    \u001b[0mtau_shunt\u001b[0m\u001b[0;34m:\u001b[0m \u001b[0;34m'float'\u001b[0m \u001b[0;34m=\u001b[0m \u001b[0;36m0.01\u001b[0m\u001b[0;34m,\u001b[0m\u001b[0;34m\u001b[0m\n",
                        "\u001b[0;34m\u001b[0m    \u001b[0mtau_mem\u001b[0m\u001b[0;34m:\u001b[0m \u001b[0;34m'float'\u001b[0m \u001b[0;34m=\u001b[0m \u001b[0;36m0.02\u001b[0m\u001b[0;34m,\u001b[0m\u001b[0;34m\u001b[0m\n",
                        "\u001b[0;34m\u001b[0m    \u001b[0mIw_0\u001b[0m\u001b[0;34m:\u001b[0m \u001b[0;34m'float'\u001b[0m \u001b[0;34m=\u001b[0m \u001b[0;36m1e-09\u001b[0m\u001b[0;34m,\u001b[0m\u001b[0;34m\u001b[0m\n",
                        "\u001b[0;34m\u001b[0m    \u001b[0mIw_1\u001b[0m\u001b[0;34m:\u001b[0m \u001b[0;34m'float'\u001b[0m \u001b[0;34m=\u001b[0m \u001b[0;36m2e-09\u001b[0m\u001b[0;34m,\u001b[0m\u001b[0;34m\u001b[0m\n",
                        "\u001b[0;34m\u001b[0m    \u001b[0mIw_2\u001b[0m\u001b[0;34m:\u001b[0m \u001b[0;34m'float'\u001b[0m \u001b[0;34m=\u001b[0m \u001b[0;36m4e-09\u001b[0m\u001b[0;34m,\u001b[0m\u001b[0;34m\u001b[0m\n",
                        "\u001b[0;34m\u001b[0m    \u001b[0mIw_3\u001b[0m\u001b[0;34m:\u001b[0m \u001b[0;34m'float'\u001b[0m \u001b[0;34m=\u001b[0m \u001b[0;36m8e-09\u001b[0m\u001b[0;34m,\u001b[0m\u001b[0;34m\u001b[0m\n",
                        "\u001b[0;34m\u001b[0m    \u001b[0mIw_ahp\u001b[0m\u001b[0;34m:\u001b[0m \u001b[0;34m'float'\u001b[0m \u001b[0;34m=\u001b[0m \u001b[0;36m1e-09\u001b[0m\u001b[0;34m,\u001b[0m\u001b[0;34m\u001b[0m\n",
                        "\u001b[0;34m\u001b[0m    \u001b[0mC_ahp\u001b[0m\u001b[0;34m:\u001b[0m \u001b[0;34m'float'\u001b[0m \u001b[0;34m=\u001b[0m \u001b[0;36m4e-11\u001b[0m\u001b[0;34m,\u001b[0m\u001b[0;34m\u001b[0m\n",
                        "\u001b[0;34m\u001b[0m    \u001b[0mC_ampa\u001b[0m\u001b[0;34m:\u001b[0m \u001b[0;34m'float'\u001b[0m \u001b[0;34m=\u001b[0m \u001b[0;36m2.45e-11\u001b[0m\u001b[0;34m,\u001b[0m\u001b[0;34m\u001b[0m\n",
                        "\u001b[0;34m\u001b[0m    \u001b[0mC_gaba\u001b[0m\u001b[0;34m:\u001b[0m \u001b[0;34m'float'\u001b[0m \u001b[0;34m=\u001b[0m \u001b[0;36m2.5e-11\u001b[0m\u001b[0;34m,\u001b[0m\u001b[0;34m\u001b[0m\n",
                        "\u001b[0;34m\u001b[0m    \u001b[0mC_nmda\u001b[0m\u001b[0;34m:\u001b[0m \u001b[0;34m'float'\u001b[0m \u001b[0;34m=\u001b[0m \u001b[0;36m2.5e-11\u001b[0m\u001b[0;34m,\u001b[0m\u001b[0;34m\u001b[0m\n",
                        "\u001b[0;34m\u001b[0m    \u001b[0mC_pulse_ahp\u001b[0m\u001b[0;34m:\u001b[0m \u001b[0;34m'float'\u001b[0m \u001b[0;34m=\u001b[0m \u001b[0;36m5e-13\u001b[0m\u001b[0;34m,\u001b[0m\u001b[0;34m\u001b[0m\n",
                        "\u001b[0;34m\u001b[0m    \u001b[0mC_pulse\u001b[0m\u001b[0;34m:\u001b[0m \u001b[0;34m'float'\u001b[0m \u001b[0;34m=\u001b[0m \u001b[0;36m5e-13\u001b[0m\u001b[0;34m,\u001b[0m\u001b[0;34m\u001b[0m\n",
                        "\u001b[0;34m\u001b[0m    \u001b[0mC_ref\u001b[0m\u001b[0;34m:\u001b[0m \u001b[0;34m'float'\u001b[0m \u001b[0;34m=\u001b[0m \u001b[0;36m1.5e-12\u001b[0m\u001b[0;34m,\u001b[0m\u001b[0;34m\u001b[0m\n",
                        "\u001b[0;34m\u001b[0m    \u001b[0mC_shunt\u001b[0m\u001b[0;34m:\u001b[0m \u001b[0;34m'float'\u001b[0m \u001b[0;34m=\u001b[0m \u001b[0;36m2.45e-11\u001b[0m\u001b[0;34m,\u001b[0m\u001b[0;34m\u001b[0m\n",
                        "\u001b[0;34m\u001b[0m    \u001b[0mC_mem\u001b[0m\u001b[0;34m:\u001b[0m \u001b[0;34m'float'\u001b[0m \u001b[0;34m=\u001b[0m \u001b[0;36m3e-12\u001b[0m\u001b[0;34m,\u001b[0m\u001b[0;34m\u001b[0m\n",
                        "\u001b[0;34m\u001b[0m    \u001b[0mIo\u001b[0m\u001b[0;34m:\u001b[0m \u001b[0;34m'float'\u001b[0m \u001b[0;34m=\u001b[0m \u001b[0;36m5e-13\u001b[0m\u001b[0;34m,\u001b[0m\u001b[0;34m\u001b[0m\n",
                        "\u001b[0;34m\u001b[0m    \u001b[0mkappa_n\u001b[0m\u001b[0;34m:\u001b[0m \u001b[0;34m'float'\u001b[0m \u001b[0;34m=\u001b[0m \u001b[0;36m0.75\u001b[0m\u001b[0;34m,\u001b[0m\u001b[0;34m\u001b[0m\n",
                        "\u001b[0;34m\u001b[0m    \u001b[0mkappa_p\u001b[0m\u001b[0;34m:\u001b[0m \u001b[0;34m'float'\u001b[0m \u001b[0;34m=\u001b[0m \u001b[0;36m0.66\u001b[0m\u001b[0;34m,\u001b[0m\u001b[0;34m\u001b[0m\n",
                        "\u001b[0;34m\u001b[0m    \u001b[0mUt\u001b[0m\u001b[0;34m:\u001b[0m \u001b[0;34m'float'\u001b[0m \u001b[0;34m=\u001b[0m \u001b[0;36m0.025\u001b[0m\u001b[0;34m,\u001b[0m\u001b[0;34m\u001b[0m\n",
                        "\u001b[0;34m\u001b[0m    \u001b[0mVth\u001b[0m\u001b[0;34m:\u001b[0m \u001b[0;34m'float'\u001b[0m \u001b[0;34m=\u001b[0m \u001b[0;36m0.7\u001b[0m\u001b[0;34m,\u001b[0m\u001b[0;34m\u001b[0m\n",
                        "\u001b[0;34m\u001b[0m\u001b[0;34m)\u001b[0m \u001b[0;34m->\u001b[0m \u001b[0;34m'DynapSimConfig'\u001b[0m\u001b[0;34m\u001b[0m\u001b[0;34m\u001b[0m\u001b[0m\n",
                        "\u001b[0;31mDocstring:\u001b[0m\n",
                        "from_specification is a class factory method using the weight specifications and the current/layout parameters\n",
                        "One can directly define w_in/w_rec/w_out or one can define the weight masks.\n",
                        "If weight masks are defined, weight matrices are calculated using the simulation currents and weight masks together\n",
                        "All the simulation currents and layout parameter can be passed by kwargs. For more info, please check `DynapSimCore.from_specification()`\n",
                        "\n",
                        ":param shape: the network shape (n_input, n_hidden, n_output). If shape is int, then it means that the input and output should not be considered.\n",
                        ":type shape: Optional[Union[Tuple[int], int]]\n",
                        ":param w_in: input weight matrix, defaults to None\n",
                        ":type w_in: Optional[np.ndarray], optional\n",
                        ":param w_rec: recurrent weight matrix, defaults to None\n",
                        ":type w_rec: Optional[np.ndarray], optional\n",
                        ":param w_in_mask: the weight mask to set the input weight matrix. Used if `w_in` is None, defaults to None\n",
                        ":type w_in_mask: Optional[np.ndarray], optional\n",
                        ":param w_rec_mask: the weight mask to set the recurrent weight matrix. Used if `w_rec` is None, defaults to None\n",
                        ":type w_rec_mask: Optional[np.ndarray], optional\n",
                        ":param w_out: the output weight mask (binary in general), defaults to None\n",
                        ":type w_out: Optional[np.ndarray], optional\n",
                        ":param Idc: Constant DC current injected to membrane in Amperes, defaults to None\n",
                        ":type Idc: float, optional\n",
                        ":param If_nmda: NMDA gate soft cut-off current setting the NMDA gating voltage in Amperes, defaults to None\n",
                        ":type If_nmda: float, optional\n",
                        ":param r_gain_ahp: spike frequency adaptation block gain ratio :math:`Igain_ahp/Itau_ahp`, defaults to 100\n",
                        ":type r_gain_ahp: float, optional\n",
                        ":param r_gain_ampa: excitatory AMPA synpse gain ratio :math:`Igain_ampa/Itau_ampa`, defaults to 100\n",
                        ":type r_gain_ampa: float, optional\n",
                        ":param r_gain_gaba: inhibitory GABA synpse gain ratio :math:`Igain_gaba/Itau_gaba `, defaults to 100\n",
                        ":type r_gain_gaba: float, optional\n",
                        ":param r_gain_nmda: excitatory NMDA synpse gain ratio :math:`Igain_nmda/Itau_nmda`, defaults to 100\n",
                        ":type r_gain_nmda: float, optional\n",
                        ":param r_gain_shunt: inhibitory SHUNT synpse gain ratio :math:`Igain_shunt/Itau_shunt`, defaults to 100\n",
                        ":type r_gain_shunt: float, optional\n",
                        ":param r_gain_mem: neuron membrane gain ratio :math:`Igain_mem/Itau_mem`, defaults to 2\n",
                        ":type r_gain_mem: float, optional\n",
                        ":param t_pulse_ahp: the spike pulse width for spike frequency adaptation circuit in seconds, defaults to 1e-6\n",
                        ":type t_pulse_ahp: float, optional\n",
                        ":param t_pulse: the spike pulse width for neuron membrane in seconds, defaults to 10e-6\n",
                        ":type t_pulse: float, optional\n",
                        ":param t_ref: refractory period of the neurons in seconds, defaults to 2e-2\n",
                        ":type t_ref: float, optional\n",
                        ":param Ispkthr: spiking threshold current, neuron spikes if :math:`Imem > Ispkthr` in Amperes, defaults to 1e-6\n",
                        ":type Ispkthr: float, optional\n",
                        ":param tau_ahp: Spike frequency leakage time constant in seconds, defaults to 50e-3\n",
                        ":type tau_ahp: float, optional\n",
                        ":param tau_ampa: AMPA synapse leakage time constant in seconds, defaults to 10e-3\n",
                        ":type tau_ampa: float, optional\n",
                        ":param tau_gaba: GABA synapse leakage time constant in seconds, defaults to 100e-3\n",
                        ":type tau_gaba: float, optional\n",
                        ":param tau_nmda: NMDA synapse leakage time constant in seconds, defaults to 100e-3\n",
                        ":type tau_nmda: float, optional\n",
                        ":param tau_shunt:SHUNT synapse leakage time constant in seconds, defaults to 10e-3\n",
                        ":type tau_shunt: float, optional\n",
                        ":param tau_mem: Neuron membrane leakage time constant in seconds, defaults to 20e-3\n",
                        ":type tau_mem: float, optional\n",
                        ":param Iw_0: weight bit 0 current of the neurons of the core in Amperes, defaults to 1e-6\n",
                        ":type Iw_0: float\n",
                        ":param Iw_1: weight bit 1 current of the neurons of the core in Amperes, defaults to 2e-6\n",
                        ":type Iw_1: float\n",
                        ":param Iw_2: weight bit 2 current of the neurons of the core in Amperes, defaults to 4e-6\n",
                        ":type Iw_2: float\n",
                        ":param Iw_3: weight bit 3 current of the neurons of the core in Amperes, defaults to 8e-6\n",
                        ":type Iw_3: float\n",
                        ":param Iw_ahp: spike frequency adaptation weight current of the neurons of the core in Amperes, defaults to 1e-6\n",
                        ":type Iw_ahp: float\n",
                        ":param C_ahp: AHP synapse capacitance in Farads, defaults to 40e-12\n",
                        ":type C_ahp: float, optional\n",
                        ":param C_ampa: AMPA synapse capacitance in Farads, defaults to 24.5e-12\n",
                        ":type C_ampa: float, optional\n",
                        ":param C_gaba: GABA synapse capacitance in Farads, defaults to 25e-12\n",
                        ":type C_gaba: float, optional\n",
                        ":param C_nmda: NMDA synapse capacitance in Farads, defaults to 25e-12\n",
                        ":type C_nmda: float, optional\n",
                        ":param C_pulse_ahp: spike frequency adaptation circuit pulse-width creation sub-circuit capacitance in Farads, defaults to 0.5e-12\n",
                        ":type C_pulse_ahp: float, optional\n",
                        ":param C_pulse: pulse-width creation sub-circuit capacitance in Farads, defaults to 0.5e-12\n",
                        ":type C_pulse: float, optional\n",
                        ":param C_ref: refractory period sub-circuit capacitance in Farads, defaults to 1.5e-12\n",
                        ":type C_ref: float, optional\n",
                        ":param C_shunt: SHUNT synapse capacitance in Farads, defaults to 24.5e-12\n",
                        ":type C_shunt: float, optional\n",
                        ":param C_mem: neuron membrane capacitance in Farads, defaults to 3e-12\n",
                        ":type C_mem: float, optional\n",
                        ":param Io: Dark current in Amperes that flows through the transistors even at the idle state, defaults to 5e-13\n",
                        ":type Io: Union[float, np.ndarray], optional\n",
                        ":param kappa_n: Subthreshold slope factor (n-type transistor), defaults to 0.75\n",
                        ":type kappa_n: Union[float, np.ndarray], optional\n",
                        ":param kappa_p: Subthreshold slope factor (p-type transistor), defaults to 0.66\n",
                        ":type kappa_p: Union[float, np.ndarray], optional\n",
                        ":param Ut: Thermal voltage in Volts, defaults to 25e-3\n",
                        ":type Ut: Union[float, np.ndarray], optional\n",
                        ":param Vth: The cut-off Vgs potential of the transistors in Volts (not type specific), defaults to 7e-1\n",
                        ":type Vth: Union[float, np.ndarray], optional\n",
                        ":return: a `DynapSimConfig` object created from specifications\n",
                        ":rtype: DynapSimConfig\n",
                        "\u001b[0;31mFile:\u001b[0m      ~/SynSense Dropbox/Ugurcan Cakal/repos/rockpool/rockpool/devices/dynapse/config/simconfig.py\n",
                        "\u001b[0;31mType:\u001b[0m      method\n"
                    ]
                }
            ],
            "source": [
                "simconfig = DynapSimConfig.from_specification?"
            ]
        },
        {
            "cell_type": "code",
            "execution_count": null,
            "metadata": {},
            "outputs": [],
            "source": [
                "simconfig = DynapSimConfig.from_specification"
            ]
        },
        {
            "cell_type": "code",
            "execution_count": 3,
            "metadata": {},
            "outputs": [],
            "source": [
                "simconfig = DynapSimConfig.from_specification"
            ]
        },
        {
            "cell_type": "code",
            "execution_count": 4,
            "metadata": {},
            "outputs": [],
            "source": [
                "simconfig = DynapSimConfig.from_specification"
            ]
        },
        {
            "cell_type": "code",
            "execution_count": 5,
            "metadata": {},
            "outputs": [
                {
                    "name": "stderr",
                    "output_type": "stream",
                    "text": [
                        "WARNING:absl:No GPU/TPU found, falling back to CPU. (Set TF_CPP_MIN_LOG_LEVEL=0 and rerun for more info.)\n"
                    ]
                }
            ],
            "source": [
                "simconfig = DynapSimConfig.from_specification(1)"
            ]
        },
        {
            "cell_type": "code",
            "execution_count": 6,
            "metadata": {},
            "outputs": [
                {
                    "data": {
                        "text/plain": [
                            "DynapSimLayout(C_ahp=array([4.e-11]), C_ampa=array([2.45e-11]), C_gaba=array([2.5e-11]), C_nmda=array([2.5e-11]), C_pulse_ahp=array([5.e-13]), C_pulse=array([5.e-13]), C_ref=array([1.5e-12]), C_shunt=array([2.45e-11]), C_mem=array([3.e-12]), Io=array([5.e-13]), kappa_n=array([0.75]), kappa_p=array([0.66]), Ut=array([0.025]), Vth=array([0.7]))"
                        ]
                    },
                    "execution_count": 6,
                    "metadata": {},
                    "output_type": "execute_result"
                }
            ],
            "source": [
                "simconfig.layout"
            ]
        },
        {
            "cell_type": "code",
            "execution_count": 7,
            "metadata": {},
            "outputs": [
                {
                    "data": {
                        "text/plain": [
                            "DynapSimTime(t_pulse_ahp=array([1.e-06]), t_pulse=array([1.e-05]), t_ref=array([0.002]), tau_ahp=array([0.05]), tau_ampa=array([0.01]), tau_gaba=array([0.1]), tau_nmda=array([0.1]), tau_shunt=array([0.01]), tau_mem=array([0.02]))"
                        ]
                    },
                    "execution_count": 7,
                    "metadata": {},
                    "output_type": "execute_result"
                }
            ],
            "source": [
                "simconfig.time"
            ]
        },
        {
            "cell_type": "code",
            "execution_count": 8,
            "metadata": {},
            "outputs": [
                {
                    "data": {
                        "text/plain": [
                            "DynapSimCurrents(Idc=array([5.e-13]), If_nmda=array([5.e-13]), Igain_ahp=array([2.83687943e-08]), Igain_ampa=array([8.68794326e-09]), Igain_gaba=array([8.86524823e-10]), Igain_nmda=array([8.86524823e-10]), Igain_shunt=array([8.68794326e-09]), Igain_mem=array([2.12765957e-11]), Ipulse_ahp=array([3.5e-07]), Ipulse=array([3.5e-08]), Iref=array([5.25e-10]), Ispkthr=array([1.e-06]), Itau_ahp=array([2.83687943e-11]), Itau_ampa=array([8.68794326e-11]), Itau_gaba=array([8.86524823e-12]), Itau_nmda=array([8.86524823e-12]), Itau_shunt=array([8.68794326e-11]), Itau_mem=array([5.31914894e-12]), Iw_ahp=array([1.e-09]))"
                        ]
                    },
                    "execution_count": 8,
                    "metadata": {},
                    "output_type": "execute_result"
                }
            ],
            "source": [
                "simconfig.currents"
            ]
        },
        {
            "cell_type": "code",
            "execution_count": 9,
            "metadata": {},
            "outputs": [
                {
                    "data": {
                        "text/plain": [
                            "{'IF_DC_P': (0, 8),\n",
                            " 'IF_NMDA_N': (0, 8),\n",
                            " 'IF_AHTHR_N': (4, 145),\n",
                            " 'NPDPIE_THR_F_P': (4, 44),\n",
                            " 'NPDPII_THR_S_P': (3, 35),\n",
                            " 'NPDPIE_THR_S_P': (3, 35),\n",
                            " 'NPDPII_THR_F_P': (4, 44),\n",
                            " 'IF_THR_N': (1, 52),\n",
                            " 'PULSE_PWLK_P': (4, 178),\n",
                            " 'IF_RFR_N': (2, 163),\n",
                            " 'IF_AHTAU_N': (1, 69),\n",
                            " 'NPDPIE_TAU_F_P': (1, 211),\n",
                            " 'NPDPII_TAU_S_P': (0, 151),\n",
                            " 'NPDPIE_TAU_S_P': (0, 151),\n",
                            " 'NPDPII_TAU_F_P': (1, 211),\n",
                            " 'IF_TAU1_N': (5, 34),\n",
                            " 'PS_WEIGHT_INH_S_N': (3, 39),\n",
                            " 'PS_WEIGHT_INH_F_N': (3, 78),\n",
                            " 'PS_WEIGHT_EXC_S_N': (3, 157),\n",
                            " 'PS_WEIGHT_EXC_F_N': (4, 41),\n",
                            " 'IF_AHW_P': (3, 39)}"
                        ]
                    },
                    "execution_count": 9,
                    "metadata": {},
                    "output_type": "execute_result"
                }
            ],
            "source": [
                "simconfig.export_Dynapse1Parameters()"
            ]
        },
        {
            "cell_type": "code",
            "execution_count": 10,
            "metadata": {},
            "outputs": [
                {
                    "data": {
                        "text/plain": [
                            "{'SOIF_DC_P': (0, 4),\n",
                            " 'DENM_NMREV_N': (0, 0),\n",
                            " 'SOAD_GAIN_P': (4, 37),\n",
                            " 'DEAM_EGAIN_P': (3, 92),\n",
                            " 'DEGA_IGAIN_P': (2, 76),\n",
                            " 'DENM_EGAIN_P': (2, 76),\n",
                            " 'DESC_IGAIN_P': (3, 92),\n",
                            " 'SOIF_GAIN_N': (0, 71),\n",
                            " 'SOAD_PWTAU_N': (5, 42),\n",
                            " 'SYPD_EXT_N': (4, 32),\n",
                            " 'SOIF_REFR_N': (1, 223),\n",
                            " 'SOIF_SPKTHR_P': (5, 255),\n",
                            " 'SOAD_TAU_P': (1, 67),\n",
                            " 'DEAM_ETAU_P': (1, 208),\n",
                            " 'DEGA_ITAU_P': (0, 170),\n",
                            " 'DENM_ETAU_P': (0, 170),\n",
                            " 'DESC_ITAU_P': (1, 208),\n",
                            " 'SOIF_LEAK_N': (0, 29),\n",
                            " 'SYAM_W0_P': (3, 31),\n",
                            " 'SYAM_W1_P': (3, 67),\n",
                            " 'SYAM_W2_P': (3, 138),\n",
                            " 'SYAM_W3_P': (4, 31),\n",
                            " 'SOAD_W_N': (2, 58)}"
                        ]
                    },
                    "execution_count": 10,
                    "metadata": {},
                    "output_type": "execute_result"
                }
            ],
            "source": [
                "simconfig.export_Dynapse2Parameters()"
            ]
        },
        {
            "cell_type": "markdown",
            "metadata": {},
            "source": [
                "## Option 2 : Bias Generator\n",
                "One can use the bias generator directly to convert parameters\n",
                "It will use the lookup tables depending on cadence measurements, and scaling values indicated."
            ]
        },
        {
            "cell_type": "code",
            "execution_count": 11,
            "metadata": {},
            "outputs": [
                {
                    "data": {
                        "text/plain": [
                            "(4, 243)"
                        ]
                    },
                    "execution_count": 11,
                    "metadata": {},
                    "output_type": "execute_result"
                }
            ],
            "source": [
                "biasgen = BiasGenSE2()\n",
                "biasgen.get_coarse_fine(name=\"SOIF_DC_P\", current_value=10e-8)\n"
            ]
        },
        {
            "cell_type": "code",
            "execution_count": 12,
            "metadata": {},
            "outputs": [
                {
                    "data": {
                        "text/plain": [
                            "(4, 138)"
                        ]
                    },
                    "execution_count": 12,
                    "metadata": {},
                    "output_type": "execute_result"
                }
            ],
            "source": [
                "biasgen.get_coarse_fine(name=\"SOAD_GAIN_P\", current_value=10e-8)\n"
            ]
        },
        {
            "cell_type": "code",
            "execution_count": 14,
            "metadata": {},
            "outputs": [
                {
                    "data": {
                        "text/plain": [
                            "(4, 146)"
                        ]
                    },
                    "execution_count": 14,
                    "metadata": {},
                    "output_type": "execute_result"
                }
            ],
            "source": [
                "biasgen.get_coarse_fine(name=\"SOIF_LEAK_N\", current_value=10e-8)\n"
            ]
        },
        {
            "cell_type": "code",
            "execution_count": null,
            "metadata": {},
            "outputs": [],
            "source": []
        }
    ],
    "metadata": {
        "interpreter": {
            "hash": "563178da4d2f83233e8fe69c4a4c639f48fd5510273c5c460aa8c07326743f38"
        },
        "kernelspec": {
            "display_name": "Python 3.10.4 ('rockpool')",
            "language": "python",
            "name": "python3"
        },
        "language_info": {
            "codemirror_mode": {
                "name": "ipython",
                "version": 3
            },
            "file_extension": ".py",
            "mimetype": "text/x-python",
            "name": "python",
            "nbconvert_exporter": "python",
            "pygments_lexer": "ipython3",
            "version": "3.10.4"
        },
        "orig_nbformat": 4
    },
    "nbformat": 4,
    "nbformat_minor": 2
}
