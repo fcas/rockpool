{
 "cells": [
  {
   "cell_type": "code",
   "execution_count": 1,
   "id": "3cc28616",
   "metadata": {},
   "outputs": [],
   "source": [
    "from rockpool.nn.modules import LIFJax, LinearJax\n",
    "from rockpool.nn.combinators import Sequential"
   ]
  },
  {
   "cell_type": "code",
   "execution_count": 2,
   "id": "6e48bc0a",
   "metadata": {},
   "outputs": [],
   "source": [
    "from rockpool.devices.dynapse.dynapsim import DynapSim"
   ]
  },
  {
   "cell_type": "code",
   "execution_count": 4,
   "id": "f91a3ef1",
   "metadata": {},
   "outputs": [],
   "source": [
    "# net = Sequential(\n",
    "#     LinearJax((5, 10)),\n",
    "#     LIFJax((10,)),\n",
    "#     LinearJax((10, 20)),\n",
    "#     LIFJax((20,))\n",
    "# )\n",
    "\n",
    "# # Train...\n",
    "\n",
    "# graph = net.as_graph()\n",
    "# dse_spec = dynapse.mapper(graph)\n",
    "# Q_dse_spec = dynapse.quantise(dse_spec) # Uses `WeightParameters`\n",
    "\n",
    "# dsim_net = DynapSim.from_specification(Q_dse_spec)\n",
    "# dsamna_net = DynapSamna.from_specification(Q_dse_spec)\n",
    "\n",
    "# # or\n",
    "\n",
    "# high_level_config = ...\n",
    "# low_level_hw_config = samna.dynapse.config....\n",
    "\n",
    "# dse_config = dynapse.config_from_specification(Q_dse_spec)\n",
    "\n",
    "# dsim_net = DynapSim(high_level_config)\n",
    "# dsim_net = DynapSim(low_level_hw_config)\n",
    "\n",
    "# hdk_device = dynapse.find_dynapse_hdks()[0]\n",
    "\n",
    "# dsamna_net = DynapSamna(low_level_hw_config: samna.dynapse.config.DynapSE2Configuration, hdk_device, dt = 1e-3)\n",
    "# dsamna_net = DynapSamna(high_level_config: rockpoo.devices.dynapse.config..., hdk_device, dt = 1e-3)"
   ]
  },
  {
   "cell_type": "code",
   "execution_count": 5,
   "id": "7b3835c6",
   "metadata": {},
   "outputs": [
    {
     "data": {
      "text/plain": [
       "JaxSequential  with shape (5, 20) {\n",
       "    LinearJax '0_LinearJax' with shape (5, 10)\n",
       "    LIFJax '1_LIFJax' with shape (10, 10)\n",
       "    LinearJax '2_LinearJax' with shape (10, 20)\n",
       "    LIFJax '3_LIFJax' with shape (20, 20)\n",
       "}"
      ]
     },
     "execution_count": 5,
     "metadata": {},
     "output_type": "execute_result"
    }
   ],
   "source": [
    "net"
   ]
  },
  {
   "cell_type": "code",
   "execution_count": 6,
   "id": "b992a7cb",
   "metadata": {},
   "outputs": [],
   "source": [
    "N = 10\n",
    "\n",
    "ds_mod = DynapSim.from_specification(\n",
    "    (4 * N, N),\n",
    ")"
   ]
  },
  {
   "cell_type": "code",
   "execution_count": 99,
   "id": "e3dcbb27",
   "metadata": {},
   "outputs": [
    {
     "data": {
      "text/plain": [
       "JaxSequential  with shape (5, 10) {\n",
       "    LinearJax '0_LinearJax' with shape (5, 32)\n",
       "    DynapSim '1_DynapSim' with shape (32, 8)\n",
       "    LinearJax '2_LinearJax' with shape (8, 40)\n",
       "    DynapSim '3_DynapSim' with shape (40, 10)\n",
       "}"
      ]
     },
     "execution_count": 99,
     "metadata": {},
     "output_type": "execute_result"
    }
   ],
   "source": [
    "dse_net = Sequential(\n",
    "    LinearJax((5, 4*8)),\n",
    "    DynapSim.from_specification((4*8, 8), dt = 1e-3),\n",
    "    LinearJax((8, 4*10)),\n",
    "    DynapSim.from_specification((4*10, 10), dt = 1e-3),\n",
    ")\n",
    "dse_net"
   ]
  },
  {
   "cell_type": "code",
   "execution_count": 100,
   "id": "870d9001",
   "metadata": {},
   "outputs": [
    {
     "data": {
      "text/plain": [
       "{'0_LinearJax': {},\n",
       " '1_DynapSim': {'iahp': DeviceArray([5.e-13, 5.e-13, 5.e-13, 5.e-13, 5.e-13, 5.e-13, 5.e-13,\n",
       "               5.e-13], dtype=float32),\n",
       "  'iampa': DeviceArray([5.e-13, 5.e-13, 5.e-13, 5.e-13, 5.e-13, 5.e-13, 5.e-13,\n",
       "               5.e-13], dtype=float32),\n",
       "  'igaba': DeviceArray([5.e-13, 5.e-13, 5.e-13, 5.e-13, 5.e-13, 5.e-13, 5.e-13,\n",
       "               5.e-13], dtype=float32),\n",
       "  'imem': DeviceArray([5.e-13, 5.e-13, 5.e-13, 5.e-13, 5.e-13, 5.e-13, 5.e-13,\n",
       "               5.e-13], dtype=float32),\n",
       "  'inmda': DeviceArray([5.e-13, 5.e-13, 5.e-13, 5.e-13, 5.e-13, 5.e-13, 5.e-13,\n",
       "               5.e-13], dtype=float32),\n",
       "  'ishunt': DeviceArray([5.e-13, 5.e-13, 5.e-13, 5.e-13, 5.e-13, 5.e-13, 5.e-13,\n",
       "               5.e-13], dtype=float32),\n",
       "  'spikes': DeviceArray([0., 0., 0., 0., 0., 0., 0., 0.], dtype=float32),\n",
       "  'timer_ref': DeviceArray([0., 0., 0., 0., 0., 0., 0., 0.], dtype=float32),\n",
       "  'vmem': DeviceArray([0., 0., 0., 0., 0., 0., 0., 0.], dtype=float32),\n",
       "  'rng_key': DeviceArray([         0, 3299018721], dtype=uint32)},\n",
       " '2_LinearJax': {},\n",
       " '3_DynapSim': {'iahp': DeviceArray([5.e-13, 5.e-13, 5.e-13, 5.e-13, 5.e-13, 5.e-13, 5.e-13,\n",
       "               5.e-13, 5.e-13, 5.e-13], dtype=float32),\n",
       "  'iampa': DeviceArray([5.e-13, 5.e-13, 5.e-13, 5.e-13, 5.e-13, 5.e-13, 5.e-13,\n",
       "               5.e-13, 5.e-13, 5.e-13], dtype=float32),\n",
       "  'igaba': DeviceArray([5.e-13, 5.e-13, 5.e-13, 5.e-13, 5.e-13, 5.e-13, 5.e-13,\n",
       "               5.e-13, 5.e-13, 5.e-13], dtype=float32),\n",
       "  'imem': DeviceArray([5.e-13, 5.e-13, 5.e-13, 5.e-13, 5.e-13, 5.e-13, 5.e-13,\n",
       "               5.e-13, 5.e-13, 5.e-13], dtype=float32),\n",
       "  'inmda': DeviceArray([5.e-13, 5.e-13, 5.e-13, 5.e-13, 5.e-13, 5.e-13, 5.e-13,\n",
       "               5.e-13, 5.e-13, 5.e-13], dtype=float32),\n",
       "  'ishunt': DeviceArray([5.e-13, 5.e-13, 5.e-13, 5.e-13, 5.e-13, 5.e-13, 5.e-13,\n",
       "               5.e-13, 5.e-13, 5.e-13], dtype=float32),\n",
       "  'spikes': DeviceArray([0., 0., 0., 0., 0., 0., 0., 0., 0., 0.], dtype=float32),\n",
       "  'timer_ref': DeviceArray([0., 0., 0., 0., 0., 0., 0., 0., 0., 0.], dtype=float32),\n",
       "  'vmem': DeviceArray([0., 0., 0., 0., 0., 0., 0., 0., 0., 0.], dtype=float32),\n",
       "  'rng_key': DeviceArray([         0, 1457966471], dtype=uint32)}}"
      ]
     },
     "execution_count": 100,
     "metadata": {},
     "output_type": "execute_result"
    }
   ],
   "source": [
    "dse_net.state()"
   ]
  },
  {
   "cell_type": "code",
   "execution_count": 90,
   "id": "504b70ad",
   "metadata": {},
   "outputs": [],
   "source": [
    "dse_net[0].weight = np.clip(dse_net[0].weight * 1e-12, -np.inf, np.inf)\n",
    "# dse_net[0].weight\n",
    "\n",
    "dse_net[2].weight = np.clip(dse_net[2].weight * 1e-12, -np.inf, np.inf)\n",
    "# dse_net[2].weight"
   ]
  },
  {
   "cell_type": "code",
   "execution_count": 91,
   "id": "c1ced012",
   "metadata": {},
   "outputs": [],
   "source": [
    "import jax\n",
    "import matplotlib.pyplot as plt"
   ]
  },
  {
   "cell_type": "code",
   "execution_count": 92,
   "id": "44e32c28",
   "metadata": {},
   "outputs": [],
   "source": [
    "# jdse_net = jax.jit(dse_net)"
   ]
  },
  {
   "cell_type": "code",
   "execution_count": 93,
   "id": "c60c53e3",
   "metadata": {},
   "outputs": [],
   "source": [
    "import numpy as np\n",
    "\n",
    "fP = 0.01\n",
    "T = 1000\n",
    "dt = 1e-3\n",
    "spikes = np.random.rand(T, 5) < fP"
   ]
  },
  {
   "cell_type": "code",
   "execution_count": 94,
   "id": "8c3a042d",
   "metadata": {},
   "outputs": [
    {
     "data": {
      "text/plain": [
       "<matplotlib.image.AxesImage at 0x1516c44c0>"
      ]
     },
     "execution_count": 94,
     "metadata": {},
     "output_type": "execute_result"
    },
    {
     "data": {
      "image/png": "[encoded data removed]",
      "text/plain": [
       "<Figure size 432x288 with 1 Axes>"
      ]
     },
     "metadata": {
      "needs_background": "light"
     },
     "output_type": "display_data"
    }
   ],
   "source": [
    "plt.imshow(spikes.T, aspect='auto')"
   ]
  },
  {
   "cell_type": "code",
   "execution_count": 95,
   "id": "f4db38a1",
   "metadata": {},
   "outputs": [],
   "source": [
    "out, state, record_dict = dse_net(spikes, record = True)"
   ]
  },
  {
   "cell_type": "code",
   "execution_count": 96,
   "id": "2eab60d4",
   "metadata": {},
   "outputs": [
    {
     "data": {
      "text/plain": [
       "DeviceArray([[ 0.,  0., 16., ...,  0.,  0., 13.],\n",
       "             [ 0.,  0., 39., ...,  0.,  0., 33.],\n",
       "             [ 0.,  0., 65., ...,  0.,  0., 56.],\n",
       "             ...,\n",
       "             [ 0.,  0.,  0., ...,  0.,  0.,  0.],\n",
       "             [ 0.,  0.,  0., ...,  0.,  0.,  0.],\n",
       "             [ 0.,  0.,  0., ...,  0.,  0.,  0.]], dtype=float32)"
      ]
     },
     "execution_count": 96,
     "metadata": {},
     "output_type": "execute_result"
    }
   ],
   "source": [
    "out"
   ]
  },
  {
   "cell_type": "code",
   "execution_count": 97,
   "id": "c31a6412",
   "metadata": {},
   "outputs": [
    {
     "data": {
      "text/plain": [
       "<matplotlib.image.AxesImage at 0x1516391f0>"
      ]
     },
     "execution_count": 97,
     "metadata": {},
     "output_type": "execute_result"
    },
    {
     "data": {
      "image/png": "[encoded data removed]",
      "text/plain": [
       "<Figure size 432x288 with 1 Axes>"
      ]
     },
     "metadata": {
      "needs_background": "light"
     },
     "output_type": "display_data"
    }
   ],
   "source": [
    "plt.imshow(out.T, aspect = 'auto')"
   ]
  },
  {
   "cell_type": "code",
   "execution_count": 98,
   "id": "bcbff27b",
   "metadata": {},
   "outputs": [
    {
     "data": {
      "text/plain": [
       "{'0_LinearJax': {},\n",
       " '1_DynapSim': {'iahp': DeviceArray([4.7445035e-09, 4.8941943e-13, 1.0226299e-08, 4.8669976e-13,\n",
       "               2.6895193e-09, 3.2034362e-09, 1.0671010e-08, 4.8825890e-13],            dtype=float32),\n",
       "  'iampa': DeviceArray([4.8975114e-13, 4.8941943e-13, 4.8642150e-13, 4.8669976e-13,\n",
       "               1.8263687e-01, 5.0093089e-13, 1.4385395e-01, 4.8825890e-13],            dtype=float32),\n",
       "  'igaba': DeviceArray([4.8975114e-13, 4.8941943e-13, 1.4389985e-02, 4.8669976e-13,\n",
       "               6.8845199e-03, 5.0093089e-13, 5.0530896e-13, 4.8825890e-13],            dtype=float32),\n",
       "  'imem': DeviceArray([4.8975114e-13, 4.8941943e-13, 4.8642150e-13, 4.8669976e-13,\n",
       "               5.1325816e-13, 5.0093089e-13, 5.0530896e-13, 4.8825890e-13],            dtype=float32),\n",
       "  'inmda': DeviceArray([1.4603990e-01, 4.8941943e-13, 1.1686010e-01, 4.8669976e-13,\n",
       "               1.2872547e-01, 1.4423564e-01, 1.6403776e-01, 8.2406938e-02],            dtype=float32),\n",
       "  'ishunt': DeviceArray([4.8975114e-13, 1.6251338e-01, 4.8642150e-13, 6.7974508e-02,\n",
       "               1.0481826e-01, 5.0093089e-13, 5.0530896e-13, 5.5062734e-02],            dtype=float32),\n",
       "  'spikes': DeviceArray([         0, 3516096772], dtype=uint32),\n",
       "  'timer_ref': DeviceArray([0., 0., 0., 0., 0., 0., 0., 0.], dtype=float32),\n",
       "  'vmem': DeviceArray([0.06081944, 0.        , 0.16869573, 0.        , 0.09131579,\n",
       "               0.0097533 , 0.04218451, 0.        ], dtype=float32),\n",
       "  'rng_key': DeviceArray([0., 0., 0., 0., 0., 0., 0., 0.], dtype=float32)},\n",
       " '2_LinearJax': {},\n",
       " '3_DynapSim': {'iahp': DeviceArray([5.0957979e-13, 5.0171179e-13, 6.3925271e-10, 5.0156483e-13,\n",
       "               4.8864905e-13, 6.2638947e-09, 5.3387909e-13, 4.9458462e-13,\n",
       "               4.9386585e-13, 2.9549838e-09], dtype=float32),\n",
       "  'iampa': DeviceArray([5.09579792e-13, 5.01711791e-13, 8.13289955e-02,\n",
       "               5.01564827e-13, 4.88649052e-13, 1.15284286e-01,\n",
       "               5.33879093e-13, 4.94584625e-13, 4.93865853e-13,\n",
       "               1.19838156e-01], dtype=float32),\n",
       "  'igaba': DeviceArray([1.2455597e-01, 5.0171179e-13, 5.5906788e-02, 5.0156483e-13,\n",
       "               9.5018066e-02, 5.0328302e-13, 5.3387909e-13, 4.9458462e-13,\n",
       "               5.4186508e-02, 3.2440440e-03], dtype=float32),\n",
       "  'imem': DeviceArray([5.0957979e-13, 5.0171179e-13, 5.0132066e-13, 5.0156483e-13,\n",
       "               4.8864905e-13, 5.0328302e-13, 5.3387909e-13, 4.9458462e-13,\n",
       "               4.9386585e-13, 5.1971741e-13], dtype=float32),\n",
       "  'inmda': DeviceArray([5.0957979e-13, 5.0171179e-13, 5.0132066e-13, 5.0156483e-13,\n",
       "               7.8785256e-02, 2.4734866e-02, 5.3387909e-13, 4.9458462e-13,\n",
       "               4.9386585e-13, 5.1971741e-13], dtype=float32),\n",
       "  'ishunt': DeviceArray([1.0240635e-01, 5.0171179e-13, 5.0132066e-13, 5.0156483e-13,\n",
       "               4.8864905e-13, 6.6771731e-02, 5.3387909e-13, 3.9409245e-03,\n",
       "               4.9386585e-13, 5.1971741e-13], dtype=float32),\n",
       "  'spikes': DeviceArray([         0, 2882230215], dtype=uint32),\n",
       "  'timer_ref': DeviceArray([0., 0., 0., 0., 0., 0., 0., 0., 0., 0.], dtype=float32),\n",
       "  'vmem': DeviceArray([0.        , 0.        , 0.0460638 , 0.        , 0.        ,\n",
       "               0.04315561, 0.        , 0.        , 0.        , 0.09748626],            dtype=float32),\n",
       "  'rng_key': DeviceArray([0., 0., 0., 0., 0., 0., 0., 0., 0., 0.], dtype=float32)}}"
      ]
     },
     "execution_count": 98,
     "metadata": {},
     "output_type": "execute_result"
    }
   ],
   "source": [
    "state"
   ]
  },
  {
   "cell_type": "code",
   "execution_count": null,
   "id": "5cd12088",
   "metadata": {},
   "outputs": [],
   "source": [
    "new_params = devices.dynapse.regen_mismatch(net)\n",
    "    # - Iterate through network\n",
    "    # Look for DynapSim modules\n",
    "    # Generate new mismatched parameters for all DynapSim modules\n",
    "    # Return the new parameter dict for the entire network\n",
    "net = net.set_attributes(new_params)"
   ]
  },
  {
   "cell_type": "code",
   "execution_count": null,
   "id": "cc2bf1f5",
   "metadata": {},
   "outputs": [],
   "source": [
    "DynapSim(use_mismatch = True, mismatch_scale = 0.05, mismatch_sigma_rule = 2.0)"
   ]
  }
 ],
 "metadata": {
  "kernelspec": {
   "display_name": "rockpool",
   "language": "python",
   "name": "rockpool"
  },
  "language_info": {
   "codemirror_mode": {
    "name": "ipython",
    "version": 3
   },
   "file_extension": ".py",
   "mimetype": "text/x-python",
   "name": "python",
   "nbconvert_exporter": "python",
   "pygments_lexer": "ipython3",
   "version": "3.10.4"
  }
 },
 "nbformat": 4,
 "nbformat_minor": 5
}
