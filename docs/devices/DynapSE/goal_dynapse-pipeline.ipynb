{
 "cells": [
  {
   "cell_type": "code",
   "execution_count": 1,
   "id": "3cc28616",
   "metadata": {},
   "outputs": [
    {
     "name": "stderr",
     "output_type": "stream",
     "text": [
      "/Users/ugurcancakal/rockpool/lib/python3.10/site-packages/jax/_src/lib/__init__.py:33: UserWarning: JAX on Mac ARM machines is experimental and minimally tested. Please see https://github.com/google/jax/issues/5501 in the event of problems.\n",
      "  warnings.warn(\"JAX on Mac ARM machines is experimental and minimally tested. \"\n"
     ]
    }
   ],
   "source": [
    "from rockpool.nn.modules import LIFJax, LinearJax\n",
    "from rockpool.nn.combinators import Sequential\n",
    "import numpy as np"
   ]
  },
  {
   "cell_type": "code",
   "execution_count": 2,
   "id": "6e48bc0a",
   "metadata": {},
   "outputs": [],
   "source": [
    "from rockpool.devices.dynapse.dynapsim import DynapSim"
   ]
  },
  {
   "cell_type": "code",
   "execution_count": 3,
   "id": "b992a7cb",
   "metadata": {},
   "outputs": [
    {
     "name": "stderr",
     "output_type": "stream",
     "text": [
      "WARNING:absl:No GPU/TPU found, falling back to CPU. (Set TF_CPP_MIN_LOG_LEVEL=0 and rerun for more info.)\n"
     ]
    }
   ],
   "source": [
    "N = 10\n",
    "\n",
    "ds_mod = DynapSim.from_specification(\n",
    "    (4 * N, N),\n",
    ")"
   ]
  },
  {
   "cell_type": "code",
   "execution_count": 4,
   "id": "e3dcbb27",
   "metadata": {},
   "outputs": [
    {
     "data": {
      "text/plain": [
       "JaxSequential  with shape (5, 8) {\n",
       "    LinearJax '0_LinearJax' with shape (5, 32)\n",
       "    DynapSim '1_DynapSim' with shape (32, 8)\n",
       "}"
      ]
     },
     "execution_count": 4,
     "metadata": {},
     "output_type": "execute_result"
    }
   ],
   "source": [
    "dse_net = Sequential(\n",
    "    LinearJax((5, 4*8)),\n",
    "    DynapSim.from_specification((4*8, 8), dt = 1e-3),\n",
    "    # LIFJax((4*8))\n",
    "#     LinearJax((8, 4*10)),\n",
    "#     DynapSim.from_specification((4*10, 10), dt = 1e-3),\n",
    ")\n",
    "dse_net"
   ]
  },
  {
   "cell_type": "code",
   "execution_count": 5,
   "id": "870d9001",
   "metadata": {},
   "outputs": [
    {
     "data": {
      "text/plain": [
       "{'0_LinearJax': {},\n",
       " '1_DynapSim': {'iahp': DeviceArray([5.e-13, 5.e-13, 5.e-13, 5.e-13, 5.e-13, 5.e-13, 5.e-13,\n",
       "               5.e-13], dtype=float32),\n",
       "  'iampa': DeviceArray([5.e-13, 5.e-13, 5.e-13, 5.e-13, 5.e-13, 5.e-13, 5.e-13,\n",
       "               5.e-13], dtype=float32),\n",
       "  'igaba': DeviceArray([5.e-13, 5.e-13, 5.e-13, 5.e-13, 5.e-13, 5.e-13, 5.e-13,\n",
       "               5.e-13], dtype=float32),\n",
       "  'imem': DeviceArray([5.e-13, 5.e-13, 5.e-13, 5.e-13, 5.e-13, 5.e-13, 5.e-13,\n",
       "               5.e-13], dtype=float32),\n",
       "  'inmda': DeviceArray([5.e-13, 5.e-13, 5.e-13, 5.e-13, 5.e-13, 5.e-13, 5.e-13,\n",
       "               5.e-13], dtype=float32),\n",
       "  'ishunt': DeviceArray([5.e-13, 5.e-13, 5.e-13, 5.e-13, 5.e-13, 5.e-13, 5.e-13,\n",
       "               5.e-13], dtype=float32),\n",
       "  'spikes': DeviceArray([0., 0., 0., 0., 0., 0., 0., 0.], dtype=float32),\n",
       "  'timer_ref': DeviceArray([0., 0., 0., 0., 0., 0., 0., 0.], dtype=float32),\n",
       "  'vmem': DeviceArray([0., 0., 0., 0., 0., 0., 0., 0.], dtype=float32),\n",
       "  'rng_key': DeviceArray([         0, 2442051542], dtype=uint32)}}"
      ]
     },
     "execution_count": 5,
     "metadata": {},
     "output_type": "execute_result"
    }
   ],
   "source": [
    "dse_net.state()"
   ]
  },
  {
   "cell_type": "code",
   "execution_count": 6,
   "id": "504b70ad",
   "metadata": {},
   "outputs": [
    {
     "data": {
      "text/plain": [
       "array([[4.92595914e-01, 6.18790550e-01, 1.46073000e-01, 1.54355614e-01,\n",
       "        5.00000000e-13, 7.09207974e-01, 5.00000000e-13, 6.51995077e-02,\n",
       "        5.00000000e-13, 5.00000000e-13, 5.00000000e-13, 8.05803129e-01,\n",
       "        5.00000000e-13, 1.03543077e+00, 5.00000000e-13, 6.33036993e-01,\n",
       "        5.00000000e-13, 5.00000000e-13, 5.00000000e-13, 5.00000000e-13,\n",
       "        5.00000000e-13, 7.08322378e-01, 1.03942962e+00, 2.38628266e-01,\n",
       "        4.32300828e-03, 9.02544428e-01, 5.00000000e-13, 2.18066156e-01,\n",
       "        6.03524987e-01, 8.90833692e-01, 5.00000000e-13, 1.38116606e-01],\n",
       "       [7.31649581e-01, 4.08479365e-01, 5.66043560e-01, 1.00791484e+00,\n",
       "        5.00000000e-13, 1.02694988e+00, 9.05132119e-01, 6.19562426e-01,\n",
       "        9.91575093e-02, 7.34929917e-01, 5.00000000e-13, 5.00000000e-13,\n",
       "        5.54560859e-01, 5.00000000e-13, 5.00000000e-13, 5.00000000e-13,\n",
       "        6.73457902e-02, 5.00000000e-13, 8.08306154e-01, 5.00000000e-13,\n",
       "        8.27865668e-01, 5.00000000e-13, 7.83138136e-01, 1.41847692e-01,\n",
       "        5.00000000e-13, 8.99587920e-01, 5.00000000e-13, 5.00000000e-13,\n",
       "        1.58416328e-01, 1.08111228e+00, 5.00000000e-13, 7.91568466e-02],\n",
       "       [7.16607897e-01, 5.00000000e-13, 1.02376497e+00, 5.00000000e-13,\n",
       "        3.08150427e-01, 5.00000000e-13, 5.00000000e-13, 3.96556650e-01,\n",
       "        1.07347799e+00, 5.00000000e-13, 4.60499680e-01, 5.00000000e-13,\n",
       "        7.18452414e-01, 5.00000000e-13, 5.00000000e-13, 9.54927750e-01,\n",
       "        5.00000000e-13, 5.00000000e-13, 5.00000000e-13, 5.00000000e-13,\n",
       "        9.95823096e-01, 6.11233306e-01, 5.00000000e-13, 5.00000000e-13,\n",
       "        5.00000000e-13, 1.83585115e-01, 5.00000000e-13, 1.39224762e-01,\n",
       "        8.80637114e-01, 5.00000000e-13, 5.00000000e-13, 2.21689752e-01],\n",
       "       [5.00000000e-13, 5.00000000e-13, 5.00000000e-13, 1.06014027e+00,\n",
       "        6.18387477e-01, 7.48958359e-01, 8.99024616e-01, 7.90237496e-01,\n",
       "        3.50605257e-01, 9.33581678e-02, 5.00000000e-13, 5.00000000e-13,\n",
       "        8.77153162e-01, 5.00000000e-13, 5.00000000e-13, 5.00000000e-13,\n",
       "        5.00000000e-13, 5.00000000e-13, 5.00000000e-13, 9.78366244e-01,\n",
       "        5.00000000e-13, 9.32027920e-01, 5.00000000e-13, 5.00000000e-13,\n",
       "        5.00000000e-13, 5.00000000e-13, 5.00000000e-13, 3.94968558e-01,\n",
       "        5.00000000e-13, 2.99124625e-01, 5.00000000e-13, 2.66026935e-02],\n",
       "       [5.00000000e-13, 5.00000000e-13, 5.00000000e-13, 5.00000000e-13,\n",
       "        1.01871749e+00, 9.23665288e-01, 6.53140972e-01, 5.00000000e-13,\n",
       "        3.24684600e-01, 5.00000000e-13, 5.00000000e-13, 5.00000000e-13,\n",
       "        5.91498973e-01, 5.00000000e-13, 5.00000000e-13, 5.00000000e-13,\n",
       "        5.00000000e-13, 1.05430147e+00, 5.00000000e-13, 5.60740647e-01,\n",
       "        3.05575113e-01, 6.19925134e-01, 7.06261775e-01, 5.00000000e-13,\n",
       "        5.00000000e-13, 4.24035355e-01, 5.62223862e-01, 5.00000000e-13,\n",
       "        7.68259282e-01, 5.33736261e-01, 9.08562949e-01, 5.00000000e-13]])"
      ]
     },
     "execution_count": 6,
     "metadata": {},
     "output_type": "execute_result"
    }
   ],
   "source": [
    "dse_net[0].weight = np.clip(dse_net[0].weight, 5e-13, np.inf)\n",
    "dse_net[0].weight\n",
    "\n",
    "# dse_net[2].weight = np.clip(dse_net[2].weight * 1e-12, -np.inf, np.inf)\n",
    "# dse_net[2].weight"
   ]
  },
  {
   "cell_type": "code",
   "execution_count": 7,
   "id": "c1ced012",
   "metadata": {},
   "outputs": [],
   "source": [
    "import jax\n",
    "import matplotlib.pyplot as plt"
   ]
  },
  {
   "cell_type": "code",
   "execution_count": 8,
   "id": "44e32c28",
   "metadata": {},
   "outputs": [],
   "source": [
    "# jdse_net = jax.jit(dse_net)"
   ]
  },
  {
   "cell_type": "code",
   "execution_count": 9,
   "id": "c60c53e3",
   "metadata": {},
   "outputs": [],
   "source": [
    "import numpy as np\n",
    "\n",
    "fP = 0.01\n",
    "T = 1000\n",
    "dt = 1e-3\n",
    "spikes = np.random.rand(1, T, 5) < fP"
   ]
  },
  {
   "cell_type": "code",
   "execution_count": 10,
   "id": "8c3a042d",
   "metadata": {},
   "outputs": [
    {
     "data": {
      "text/plain": [
       "<matplotlib.image.AxesImage at 0x29cb78e50>"
      ]
     },
     "execution_count": 10,
     "metadata": {},
     "output_type": "execute_result"
    },
    {
     "data": {
      "image/png": "[encoded data removed]",
      "text/plain": [
       "<Figure size 432x288 with 1 Axes>"
      ]
     },
     "metadata": {
      "needs_background": "light"
     },
     "output_type": "display_data"
    }
   ],
   "source": [
    "plt.imshow(spikes.T, aspect='auto')"
   ]
  },
  {
   "cell_type": "code",
   "execution_count": 11,
   "id": "ae5563f3",
   "metadata": {},
   "outputs": [],
   "source": [
    "# dse_net[0].w_rec.T.shape"
   ]
  },
  {
   "cell_type": "code",
   "execution_count": 12,
   "id": "f4db38a1",
   "metadata": {},
   "outputs": [],
   "source": [
    "out, state, record_dict = dse_net(spikes)"
   ]
  },
  {
   "cell_type": "code",
   "execution_count": 13,
   "id": "7482794b",
   "metadata": {},
   "outputs": [
    {
     "data": {
      "text/plain": [
       "(1, 1000, 8)"
      ]
     },
     "execution_count": 13,
     "metadata": {},
     "output_type": "execute_result"
    }
   ],
   "source": [
    "out.shape"
   ]
  },
  {
   "cell_type": "code",
   "execution_count": 14,
   "id": "2eab60d4",
   "metadata": {},
   "outputs": [
    {
     "data": {
      "text/plain": [
       "DeviceArray([[[5.1312118e-13, 4.8832357e-13, 5.0882497e-13, ...,\n",
       "               4.9298418e-13, 5.2545815e-13, 5.0605201e-13],\n",
       "              [5.1312118e-13, 4.8832357e-13, 5.0882497e-13, ...,\n",
       "               4.9298418e-13, 5.2545815e-13, 5.0605201e-13],\n",
       "              [5.1312118e-13, 4.8832357e-13, 5.0882497e-13, ...,\n",
       "               4.9298418e-13, 5.2545815e-13, 5.0605201e-13],\n",
       "              ...,\n",
       "              [5.1312118e-13, 4.8832357e-13, 5.0882497e-13, ...,\n",
       "               4.9298418e-13, 5.2545815e-13, 5.0605201e-13],\n",
       "              [5.1312118e-13, 4.8832357e-13, 5.0882497e-13, ...,\n",
       "               4.9298418e-13, 5.2545815e-13, 5.0605201e-13],\n",
       "              [5.1312118e-13, 4.8832357e-13, 5.0882497e-13, ...,\n",
       "               4.9298418e-13, 5.2545815e-13, 5.0605201e-13]]],            dtype=float32)"
      ]
     },
     "execution_count": 14,
     "metadata": {},
     "output_type": "execute_result"
    }
   ],
   "source": [
    "record_dict[\"1_DynapSim\"][\"imem\"]"
   ]
  },
  {
   "cell_type": "code",
   "execution_count": 15,
   "id": "c31a6412",
   "metadata": {},
   "outputs": [
    {
     "data": {
      "text/plain": [
       "<matplotlib.image.AxesImage at 0x29e98eaa0>"
      ]
     },
     "execution_count": 15,
     "metadata": {},
     "output_type": "execute_result"
    },
    {
     "data": {
      "image/png": "[encoded data removed]",
      "text/plain": [
       "<Figure size 432x288 with 1 Axes>"
      ]
     },
     "metadata": {
      "needs_background": "light"
     },
     "output_type": "display_data"
    }
   ],
   "source": [
    "plt.imshow(out.T, aspect = 'auto')"
   ]
  },
  {
   "cell_type": "code",
   "execution_count": 16,
   "id": "bcbff27b",
   "metadata": {},
   "outputs": [
    {
     "data": {
      "text/plain": [
       "{'0_LinearJax': {},\n",
       " '1_DynapSim': {'iahp': DeviceArray([[8.0573898e-10, 5.0155480e-10, 2.1757915e-10, 5.8479332e-10,\n",
       "                5.1113166e-13, 4.9298418e-13, 5.2545815e-13, 9.0792818e-10]],            dtype=float32),\n",
       "  'iampa': DeviceArray([[7.9237791e-03, 1.5363467e-01, 4.1006221e-03, 1.0481839e-02,\n",
       "                5.1113166e-13, 1.1837631e-02, 5.2545815e-13, 1.7059876e-01]],            dtype=float32),\n",
       "  'igaba': DeviceArray([[2.1261042e-02, 3.8073972e-02, 1.3652697e-05, 1.0931261e-02,\n",
       "                1.3732712e-01, 1.3457781e-01, 6.0620461e-02, 3.4833819e-02]],            dtype=float32),\n",
       "  'imem': DeviceArray([[5.1312118e-13, 4.8832357e-13, 5.0882497e-13, 4.8784989e-13,\n",
       "                5.1113166e-13, 4.9298418e-13, 5.2545815e-13, 5.0605201e-13]],            dtype=float32),\n",
       "  'inmda': DeviceArray([[0.06834935, 0.11206826, 0.0334309 , 0.12447365, 0.05529706,\n",
       "                0.22506858, 0.14419308, 0.15493402]], dtype=float32),\n",
       "  'ishunt': DeviceArray([[1.7944681e-02, 1.8641353e-01, 9.3130819e-02, 5.4103017e-02,\n",
       "                2.8491499e-02, 1.7463924e-01, 1.0359614e-02, 5.0605201e-13]],            dtype=float32),\n",
       "  'rng_key': DeviceArray([[0.0000000e+00, 2.4420516e+09]], dtype=float32),\n",
       "  'spikes': DeviceArray([[0., 0., 0., 0., 0., 0., 0., 0.]], dtype=float32),\n",
       "  'timer_ref': DeviceArray([[0.00697581, 0.00271048, 0.        , 0.        , 0.        ,\n",
       "                0.        , 0.        , 0.01749721]], dtype=float32),\n",
       "  'vmem': DeviceArray([[0., 0., 0., 0., 0., 0., 0., 0.]], dtype=float32)}}"
      ]
     },
     "execution_count": 16,
     "metadata": {},
     "output_type": "execute_result"
    }
   ],
   "source": [
    "state"
   ]
  },
  {
   "cell_type": "code",
   "execution_count": 17,
   "id": "5cd12088",
   "metadata": {},
   "outputs": [],
   "source": [
    "# new_params = devices.dynapse.regen_mismatch(net)\n",
    "#     # - Iterate through network\n",
    "#     # Look for DynapSim modules\n",
    "#     # Generate new mismatched parameters for all DynapSim modules\n",
    "#     # Return the new parameter dict for the entire network\n",
    "# net = net.set_attributes(new_params)"
   ]
  },
  {
   "cell_type": "code",
   "execution_count": 18,
   "id": "cc2bf1f5",
   "metadata": {},
   "outputs": [],
   "source": [
    "# DynapSim(use_mismatch = True, mismatch_scale = 0.05, mismatch_sigma_rule = 2.0)"
   ]
  },
  {
   "cell_type": "code",
   "execution_count": null,
   "id": "eadb789a",
   "metadata": {},
   "outputs": [],
   "source": []
  },
  {
   "cell_type": "code",
   "execution_count": null,
   "id": "b950f382",
   "metadata": {},
   "outputs": [],
   "source": []
  },
  {
   "cell_type": "code",
   "execution_count": 19,
   "id": "f91a3ef1",
   "metadata": {},
   "outputs": [],
   "source": [
    "# net = Sequential(\n",
    "#     LinearJax((5, 10)),\n",
    "#     LIFJax((10,)),\n",
    "#     LinearJax((10, 20)),\n",
    "#     LIFJax((20,))\n",
    "# )\n",
    "\n",
    "# # Train...\n",
    "\n",
    "# graph = net.as_graph()\n",
    "# dse_spec = dynapse.mapper(graph)\n",
    "# Q_dse_spec = dynapse.quantise(dse_spec) # Uses `WeightParameters`\n",
    "\n",
    "# dsim_net = DynapSim.from_specification(Q_dse_spec)\n",
    "# dsamna_net = DynapSamna.from_specification(Q_dse_spec)\n",
    "\n",
    "# # or\n",
    "\n",
    "# high_level_config = ...\n",
    "# low_level_hw_config = samna.dynapse.config....\n",
    "\n",
    "# dse_config = dynapse.config_from_specification(Q_dse_spec)\n",
    "\n",
    "# dsim_net = DynapSim(high_level_config)\n",
    "# dsim_net = DynapSim(low_level_hw_config)\n",
    "\n",
    "# hdk_device = dynapse.find_dynapse_hdks()[0]\n",
    "\n",
    "# dsamna_net = DynapSamna(low_level_hw_config: samna.dynapse.config.DynapSE2Configuration, hdk_device, dt = 1e-3)\n",
    "# dsamna_net = DynapSamna(high_level_config: rockpoo.devices.dynapse.config..., hdk_device, dt = 1e-3)"
   ]
  }
 ],
 "metadata": {
  "kernelspec": {
   "display_name": "rockpool",
   "language": "python",
   "name": "rockpool"
  },
  "language_info": {
   "codemirror_mode": {
    "name": "ipython",
    "version": 3
   },
   "file_extension": ".py",
   "mimetype": "text/x-python",
   "name": "python",
   "nbconvert_exporter": "python",
   "pygments_lexer": "ipython3",
   "version": "3.10.4"
  }
 },
 "nbformat": 4,
 "nbformat_minor": 5
}
