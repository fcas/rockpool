{
 "cells": [
  {
   "cell_type": "code",
   "execution_count": 1,
   "id": "3cc28616",
   "metadata": {},
   "outputs": [
    {
     "name": "stderr",
     "output_type": "stream",
     "text": [
      "/Users/ugurcancakal/rockpool/lib/python3.10/site-packages/jax/_src/lib/__init__.py:33: UserWarning: JAX on Mac ARM machines is experimental and minimally tested. Please see https://github.com/google/jax/issues/5501 in the event of problems.\n",
      "  warnings.warn(\"JAX on Mac ARM machines is experimental and minimally tested. \"\n"
     ]
    }
   ],
   "source": [
    "from rockpool.nn.modules import LIFJax, LinearJax\n",
    "from rockpool.nn.combinators import Sequential\n",
    "import numpy as np"
   ]
  },
  {
   "cell_type": "code",
   "execution_count": 2,
   "id": "6e48bc0a",
   "metadata": {},
   "outputs": [],
   "source": [
    "from rockpool.devices.dynapse.dynapsim import DynapSim"
   ]
  },
  {
   "cell_type": "code",
   "execution_count": 3,
   "id": "b992a7cb",
   "metadata": {},
   "outputs": [
    {
     "name": "stderr",
     "output_type": "stream",
     "text": [
      "WARNING:absl:No GPU/TPU found, falling back to CPU. (Set TF_CPP_MIN_LOG_LEVEL=0 and rerun for more info.)\n"
     ]
    }
   ],
   "source": [
    "N = 10\n",
    "\n",
    "ds_mod = DynapSim.from_specification(\n",
    "    (4 * N, N),\n",
    ")"
   ]
  },
  {
   "cell_type": "code",
   "execution_count": 4,
   "id": "e3dcbb27",
   "metadata": {},
   "outputs": [
    {
     "data": {
      "text/plain": [
       "JaxSequential  with shape (5, 8) {\n",
       "    LinearJax '0_LinearJax' with shape (5, 32)\n",
       "    DynapSim '1_DynapSim' with shape (32, 8)\n",
       "}"
      ]
     },
     "execution_count": 4,
     "metadata": {},
     "output_type": "execute_result"
    }
   ],
   "source": [
    "dse_net = Sequential(\n",
    "    LinearJax((5, 4*8)),\n",
    "    DynapSim.from_specification((4*8, 8), dt = 1e-3),\n",
    "    # LIFJax((4*8))\n",
    "#     LinearJax((8, 4*10)),\n",
    "#     DynapSim.from_specification((4*10, 10), dt = 1e-3),\n",
    ")\n",
    "dse_net"
   ]
  },
  {
   "cell_type": "code",
   "execution_count": 5,
   "id": "870d9001",
   "metadata": {},
   "outputs": [
    {
     "data": {
      "text/plain": [
       "{'0_LinearJax': {},\n",
       " '1_DynapSim': {'iahp': DeviceArray([5.e-13, 5.e-13, 5.e-13, 5.e-13, 5.e-13, 5.e-13, 5.e-13,\n",
       "               5.e-13], dtype=float32),\n",
       "  'iampa': DeviceArray([5.e-13, 5.e-13, 5.e-13, 5.e-13, 5.e-13, 5.e-13, 5.e-13,\n",
       "               5.e-13], dtype=float32),\n",
       "  'igaba': DeviceArray([5.e-13, 5.e-13, 5.e-13, 5.e-13, 5.e-13, 5.e-13, 5.e-13,\n",
       "               5.e-13], dtype=float32),\n",
       "  'imem': DeviceArray([5.e-13, 5.e-13, 5.e-13, 5.e-13, 5.e-13, 5.e-13, 5.e-13,\n",
       "               5.e-13], dtype=float32),\n",
       "  'inmda': DeviceArray([5.e-13, 5.e-13, 5.e-13, 5.e-13, 5.e-13, 5.e-13, 5.e-13,\n",
       "               5.e-13], dtype=float32),\n",
       "  'ishunt': DeviceArray([5.e-13, 5.e-13, 5.e-13, 5.e-13, 5.e-13, 5.e-13, 5.e-13,\n",
       "               5.e-13], dtype=float32),\n",
       "  'spikes': DeviceArray([0., 0., 0., 0., 0., 0., 0., 0.], dtype=float32),\n",
       "  'timer_ref': DeviceArray([0., 0., 0., 0., 0., 0., 0., 0.], dtype=float32),\n",
       "  'vmem': DeviceArray([0., 0., 0., 0., 0., 0., 0., 0.], dtype=float32),\n",
       "  'rng_key': DeviceArray([         0, 1077201664], dtype=uint32)}}"
      ]
     },
     "execution_count": 5,
     "metadata": {},
     "output_type": "execute_result"
    }
   ],
   "source": [
    "dse_net.state()"
   ]
  },
  {
   "cell_type": "code",
   "execution_count": 6,
   "id": "504b70ad",
   "metadata": {},
   "outputs": [
    {
     "data": {
      "text/plain": [
       "array([[3.88631872e-01, 7.73026910e-01, 5.00000000e-13, 8.60344193e-01,\n",
       "        5.00000000e-13, 3.51897605e-01, 5.00000000e-13, 5.00000000e-13,\n",
       "        5.00000000e-13, 5.00000000e-13, 9.17157421e-01, 3.72749681e-01,\n",
       "        5.00000000e-13, 1.02968746e-01, 5.00000000e-13, 3.67952481e-01,\n",
       "        5.00000000e-13, 5.00000000e-13, 1.75205740e-01, 8.44523581e-01,\n",
       "        3.43392219e-01, 1.72598736e-01, 5.00000000e-13, 5.00000000e-13,\n",
       "        7.62287488e-01, 1.34383228e-01, 3.48149822e-01, 1.08871471e+00,\n",
       "        3.32333589e-01, 5.00000000e-13, 5.00000000e-13, 3.51847732e-02],\n",
       "       [5.00000000e-13, 1.23025723e-01, 5.00000000e-13, 5.00000000e-13,\n",
       "        2.23067106e-01, 5.00000000e-13, 5.00000000e-13, 5.00000000e-13,\n",
       "        4.80404744e-04, 5.00000000e-13, 7.16436144e-01, 4.02970150e-01,\n",
       "        5.00000000e-13, 5.00000000e-13, 2.68380848e-01, 7.18362213e-01,\n",
       "        4.96473460e-02, 5.00000000e-13, 5.00000000e-13, 5.00000000e-13,\n",
       "        2.09475323e-01, 5.00000000e-13, 5.55152728e-01, 5.00000000e-13,\n",
       "        1.28420798e-01, 5.00000000e-13, 5.00000000e-13, 7.67742576e-01,\n",
       "        7.64158300e-01, 9.05583813e-01, 1.07723551e-01, 5.71881602e-01],\n",
       "       [7.03286889e-01, 1.71273450e-01, 5.00000000e-13, 5.00000000e-13,\n",
       "        2.01157073e-01, 5.00000000e-13, 7.82517487e-01, 6.14208437e-01,\n",
       "        1.09827924e-01, 5.00000000e-13, 5.00000000e-13, 5.00000000e-13,\n",
       "        5.00000000e-13, 3.95698590e-01, 5.00000000e-13, 5.00000000e-13,\n",
       "        1.05520195e+00, 5.00000000e-13, 5.00000000e-13, 1.09259698e+00,\n",
       "        5.00000000e-13, 7.04340817e-01, 5.00000000e-13, 4.25814168e-01,\n",
       "        8.58928962e-01, 2.49848407e-01, 5.00000000e-13, 4.30953970e-01,\n",
       "        8.55734147e-01, 5.00000000e-13, 7.29031451e-01, 1.06078127e-02],\n",
       "       [6.36808846e-01, 7.92707676e-01, 5.00000000e-13, 5.00000000e-13,\n",
       "        5.00000000e-13, 5.00000000e-13, 5.00000000e-13, 5.00000000e-13,\n",
       "        1.90069080e-02, 5.00000000e-13, 1.46986902e-02, 5.00000000e-13,\n",
       "        2.30454978e-02, 8.81145936e-01, 5.00000000e-13, 5.00000000e-13,\n",
       "        2.12480533e-01, 1.05780310e+00, 2.13927711e-02, 5.00000000e-13,\n",
       "        8.81305586e-01, 5.10237117e-01, 4.22318974e-01, 8.75171211e-01,\n",
       "        5.00000000e-13, 5.00000000e-13, 5.00000000e-13, 5.00000000e-13,\n",
       "        8.48453520e-02, 5.00000000e-13, 5.08457172e-01, 7.61125102e-01],\n",
       "       [5.00000000e-13, 3.32022026e-01, 5.00000000e-13, 5.00000000e-13,\n",
       "        5.00000000e-13, 6.58618402e-01, 8.23151465e-01, 5.00000000e-13,\n",
       "        5.00000000e-13, 1.06932665e+00, 7.60473347e-01, 5.00000000e-13,\n",
       "        5.00000000e-13, 5.00000000e-13, 9.91629011e-01, 5.00000000e-13,\n",
       "        5.00000000e-13, 6.26558492e-01, 5.00000000e-13, 5.00000000e-13,\n",
       "        8.10745193e-01, 6.26383516e-01, 5.00000000e-13, 5.00000000e-13,\n",
       "        5.00000000e-13, 5.00000000e-13, 5.00000000e-13, 5.00000000e-13,\n",
       "        1.04581458e+00, 2.65851121e-01, 5.00000000e-13, 1.04143388e+00]])"
      ]
     },
     "execution_count": 6,
     "metadata": {},
     "output_type": "execute_result"
    }
   ],
   "source": [
    "dse_net[0].weight = np.clip(dse_net[0].weight, 5e-13, np.inf)\n",
    "dse_net[0].weight\n",
    "\n",
    "# dse_net[2].weight = np.clip(dse_net[2].weight * 1e-12, -np.inf, np.inf)\n",
    "# dse_net[2].weight"
   ]
  },
  {
   "cell_type": "code",
   "execution_count": 7,
   "id": "c1ced012",
   "metadata": {},
   "outputs": [],
   "source": [
    "import jax\n",
    "import matplotlib.pyplot as plt"
   ]
  },
  {
   "cell_type": "code",
   "execution_count": 8,
   "id": "44e32c28",
   "metadata": {},
   "outputs": [],
   "source": [
    "# jdse_net = jax.jit(dse_net)"
   ]
  },
  {
   "cell_type": "code",
   "execution_count": 9,
   "id": "c60c53e3",
   "metadata": {},
   "outputs": [],
   "source": [
    "import numpy as np\n",
    "\n",
    "fP = 0.01\n",
    "T = 1000\n",
    "dt = 1e-3\n",
    "spikes = np.random.rand(1, T, 5) < fP"
   ]
  },
  {
   "cell_type": "code",
   "execution_count": 10,
   "id": "8c3a042d",
   "metadata": {},
   "outputs": [
    {
     "data": {
      "text/plain": [
       "<matplotlib.image.AxesImage at 0x29f7c9630>"
      ]
     },
     "execution_count": 10,
     "metadata": {},
     "output_type": "execute_result"
    },
    {
     "data": {
      "image/png": "[encoded data removed]",
      "text/plain": [
       "<Figure size 432x288 with 1 Axes>"
      ]
     },
     "metadata": {
      "needs_background": "light"
     },
     "output_type": "display_data"
    }
   ],
   "source": [
    "plt.imshow(spikes.T, aspect='auto')"
   ]
  },
  {
   "cell_type": "code",
   "execution_count": 11,
   "id": "ae5563f3",
   "metadata": {},
   "outputs": [],
   "source": [
    "# dse_net[0].w_rec.T.shape"
   ]
  },
  {
   "cell_type": "code",
   "execution_count": 12,
   "id": "f4db38a1",
   "metadata": {},
   "outputs": [],
   "source": [
    "out, state, record_dict = dse_net(spikes)"
   ]
  },
  {
   "cell_type": "code",
   "execution_count": 13,
   "id": "7482794b",
   "metadata": {},
   "outputs": [
    {
     "data": {
      "text/plain": [
       "(1, 1000, 8)"
      ]
     },
     "execution_count": 13,
     "metadata": {},
     "output_type": "execute_result"
    }
   ],
   "source": [
    "out.shape"
   ]
  },
  {
   "cell_type": "code",
   "execution_count": 14,
   "id": "2eab60d4",
   "metadata": {},
   "outputs": [
    {
     "data": {
      "text/plain": [
       "DeviceArray([[[5.0641240e-13, 4.9631593e-13, 4.9656302e-13, ...,\n",
       "               4.7289283e-13, 5.1135447e-13, 4.9764316e-13],\n",
       "              [5.0641240e-13, 4.9631593e-13, 4.9656302e-13, ...,\n",
       "               4.7289283e-13, 5.1135447e-13, 4.9764316e-13],\n",
       "              [5.0641240e-13, 4.9631593e-13, 4.9656302e-13, ...,\n",
       "               4.7289283e-13, 5.1135447e-13, 4.9764316e-13],\n",
       "              ...,\n",
       "              [5.0641240e-13, 4.9631593e-13, 4.9656302e-13, ...,\n",
       "               4.7289283e-13, 5.1135447e-13, 4.9764316e-13],\n",
       "              [5.0641240e-13, 4.9631593e-13, 4.9656302e-13, ...,\n",
       "               4.7289283e-13, 5.1135447e-13, 4.9764316e-13],\n",
       "              [5.0641240e-13, 4.9631593e-13, 4.9656302e-13, ...,\n",
       "               4.7289283e-13, 5.1135447e-13, 4.9764316e-13]]],            dtype=float32)"
      ]
     },
     "execution_count": 14,
     "metadata": {},
     "output_type": "execute_result"
    }
   ],
   "source": [
    "record_dict[\"1_DynapSim\"][\"imem\"]"
   ]
  },
  {
   "cell_type": "code",
   "execution_count": 15,
   "id": "c31a6412",
   "metadata": {},
   "outputs": [
    {
     "data": {
      "text/plain": [
       "<matplotlib.image.AxesImage at 0x29f0c8d90>"
      ]
     },
     "execution_count": 15,
     "metadata": {},
     "output_type": "execute_result"
    },
    {
     "data": {
      "image/png": "[encoded data removed]",
      "text/plain": [
       "<Figure size 432x288 with 1 Axes>"
      ]
     },
     "metadata": {
      "needs_background": "light"
     },
     "output_type": "display_data"
    }
   ],
   "source": [
    "plt.imshow(out.T, aspect = 'auto')"
   ]
  },
  {
   "cell_type": "code",
   "execution_count": 16,
   "id": "bcbff27b",
   "metadata": {},
   "outputs": [
    {
     "data": {
      "text/plain": [
       "{'0_LinearJax': {},\n",
       " '1_DynapSim': {'iahp': DeviceArray([[5.0641240e-13, 1.9743323e-09, 7.5331880e-10, 4.9438188e-13,\n",
       "                7.6016132e-10, 7.3895789e-10, 5.1135447e-13, 4.9764316e-13]],            dtype=float32),\n",
       "  'iampa': DeviceArray([[1.55028269e-01, 1.26726821e-01, 1.18706815e-01,\n",
       "                4.94381879e-13, 7.17382953e-02, 3.85386087e-02,\n",
       "                5.11354468e-13, 4.97643159e-13]], dtype=float32),\n",
       "  'igaba': DeviceArray([[0.15127583, 0.07288104, 0.00953074, 0.01210798, 0.01113058,\n",
       "                0.01928964, 0.02811995, 0.10284416]], dtype=float32),\n",
       "  'imem': DeviceArray([[5.0641240e-13, 4.9631593e-13, 4.9656302e-13, 4.9438188e-13,\n",
       "                5.0244460e-13, 4.7289283e-13, 5.1135447e-13, 4.9764316e-13]],            dtype=float32),\n",
       "  'inmda': DeviceArray([[0.06110824, 0.16302368, 0.06612627, 0.01081133, 0.03521227,\n",
       "                0.12591588, 0.18927939, 0.05855198]], dtype=float32),\n",
       "  'ishunt': DeviceArray([[5.0641240e-13, 4.9631593e-13, 4.9656302e-13, 1.8450561e-01,\n",
       "                5.0244460e-13, 9.4649958e-04, 1.4764148e-01, 4.9764316e-13]],            dtype=float32),\n",
       "  'rng_key': DeviceArray([[0.0000000e+00, 1.0772017e+09]], dtype=float32),\n",
       "  'spikes': DeviceArray([[ 0.,  0.,  0.,  0., 28.,  0.,  0.,  0.]], dtype=float32),\n",
       "  'timer_ref': DeviceArray([[0.        , 0.05050363, 0.00255466, 0.        , 0.05544244,\n",
       "                0.003568  , 0.        , 0.        ]], dtype=float32),\n",
       "  'vmem': DeviceArray([[0.       , 0.       , 0.       , 0.       , 1.5463426,\n",
       "                0.       , 0.       , 0.       ]], dtype=float32)}}"
      ]
     },
     "execution_count": 16,
     "metadata": {},
     "output_type": "execute_result"
    }
   ],
   "source": [
    "state"
   ]
  },
  {
   "cell_type": "code",
   "execution_count": 17,
   "id": "5cd12088",
   "metadata": {},
   "outputs": [],
   "source": [
    "# new_params = devices.dynapse.regen_mismatch(net)\n",
    "#     # - Iterate through network\n",
    "#     # Look for DynapSim modules\n",
    "#     # Generate new mismatched parameters for all DynapSim modules\n",
    "#     # Return the new parameter dict for the entire network\n",
    "# net = net.set_attributes(new_params)"
   ]
  },
  {
   "cell_type": "code",
   "execution_count": 18,
   "id": "cc2bf1f5",
   "metadata": {},
   "outputs": [],
   "source": [
    "# DynapSim(use_mismatch = True, mismatch_scale = 0.05, mismatch_sigma_rule = 2.0)"
   ]
  },
  {
   "cell_type": "code",
   "execution_count": null,
   "id": "eadb789a",
   "metadata": {},
   "outputs": [],
   "source": []
  },
  {
   "cell_type": "code",
   "execution_count": null,
   "id": "b950f382",
   "metadata": {},
   "outputs": [],
   "source": []
  },
  {
   "cell_type": "code",
   "execution_count": 19,
   "id": "f91a3ef1",
   "metadata": {},
   "outputs": [],
   "source": [
    "# net = Sequential(\n",
    "#     LinearJax((5, 10)),\n",
    "#     LIFJax((10,)),\n",
    "#     LinearJax((10, 20)),\n",
    "#     LIFJax((20,))\n",
    "# )\n",
    "\n",
    "# # Train...\n",
    "\n",
    "# graph = net.as_graph()\n",
    "# dse_spec = dynapse.mapper(graph)\n",
    "# Q_dse_spec = dynapse.quantise(dse_spec) # Uses `WeightParameters`\n",
    "\n",
    "# dsim_net = DynapSim.from_specification(Q_dse_spec)\n",
    "# dsamna_net = DynapSamna.from_specification(Q_dse_spec)\n",
    "\n",
    "# # or\n",
    "\n",
    "# high_level_config = ...\n",
    "# low_level_hw_config = samna.dynapse.config....\n",
    "\n",
    "# dse_config = dynapse.config_from_specification(Q_dse_spec)\n",
    "\n",
    "# dsim_net = DynapSim(high_level_config)\n",
    "# dsim_net = DynapSim(low_level_hw_config)\n",
    "\n",
    "# hdk_device = dynapse.find_dynapse_hdks()[0]\n",
    "\n",
    "# dsamna_net = DynapSamna(low_level_hw_config: samna.dynapse.config.DynapSE2Configuration, hdk_device, dt = 1e-3)\n",
    "# dsamna_net = DynapSamna(high_level_config: rockpoo.devices.dynapse.config..., hdk_device, dt = 1e-3)"
   ]
  }
 ],
 "metadata": {
  "kernelspec": {
   "display_name": "rockpool",
   "language": "python",
   "name": "rockpool"
  },
  "language_info": {
   "codemirror_mode": {
    "name": "ipython",
    "version": 3
   },
   "file_extension": ".py",
   "mimetype": "text/x-python",
   "name": "python",
   "nbconvert_exporter": "python",
   "pygments_lexer": "ipython3",
   "version": "3.10.4"
  }
 },
 "nbformat": 4,
 "nbformat_minor": 5
}
