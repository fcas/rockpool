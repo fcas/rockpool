{
 "cells": [
  {
   "cell_type": "code",
   "execution_count": 1,
   "metadata": {},
   "outputs": [],
   "source": [
    "import numpy as np\n",
    "from rockpool.devices.dynapse import BiasGen"
   ]
  },
  {
   "cell_type": "code",
   "execution_count": 2,
   "metadata": {},
   "outputs": [
    {
     "name": "stdout",
     "output_type": "stream",
     "text": [
      "[1.50e-11 1.05e-10 8.20e-10 6.50e-09 5.00e-08 4.00e-07 3.20e-06 2.40e-05]\n",
      "(4, 51)\n",
      "(4, 51)\n",
      "(4, 51)\n",
      "(5, 6)\n",
      "1000000.0\n",
      "941176.0\n"
     ]
    }
   ],
   "source": [
    "print(BiasGen.coarse_base)\n",
    "print(BiasGen.get_coarse_fine(1000000, coarse_smallest = True, exact=True))\n",
    "print(BiasGen.get_coarse_fine(1000000, coarse_smallest = True, exact=False))\n",
    "print(BiasGen.get_coarse_fine(1000000, coarse_smallest = False, exact=True))\n",
    "print(BiasGen.get_coarse_fine(1000000, coarse_smallest = False, exact=False))\n",
    "##\n",
    "print(BiasGen.get_linear(4,51))\n",
    "print(BiasGen.get_linear(5,6))"
   ]
  },
  {
   "cell_type": "code",
   "execution_count": 15,
   "metadata": {},
   "outputs": [
    {
     "name": "stdout",
     "output_type": "stream",
     "text": [
      "Bias current = 0.0 (*1e-14), can be obtained with either:(1, 0) or (0, 0)\n",
      "Bias current = 41.0 (*1e-14), can be obtained with either:(1, 1) or (0, 7)\n",
      "Bias current = 82.0 (*1e-14), can be obtained with either:(1, 2) or (0, 14)\n",
      "Bias current = 124.0 (*1e-14), can be obtained with either:(1, 3) or (0, 21)\n",
      "Bias current = 165.0 (*1e-14), can be obtained with either:(1, 4) or (0, 28)\n",
      "Bias current = 206.0 (*1e-14), can be obtained with either:(1, 5) or (0, 35)\n",
      "Bias current = 247.0 (*1e-14), can be obtained with either:(1, 6) or (0, 42)\n",
      "Bias current = 288.0 (*1e-14), can be obtained with either:(1, 7) or (0, 49)\n",
      "Bias current = 329.0 (*1e-14), can be obtained with either:(1, 8) or (0, 56)\n",
      "Bias current = 371.0 (*1e-14), can be obtained with either:(1, 9) or (0, 63)\n",
      "Bias current = 412.0 (*1e-14), can be obtained with either:(1, 10) or (0, 70)\n",
      "Bias current = 453.0 (*1e-14), can be obtained with either:(1, 11) or (0, 77)\n",
      "Bias current = 494.0 (*1e-14), can be obtained with either:(1, 12) or (0, 84)\n",
      "Bias current = 535.0 (*1e-14), can be obtained with either:(1, 13) or (0, 91)\n",
      "Bias current = 576.0 (*1e-14), can be obtained with either:(1, 14) or (0, 98)\n",
      "Bias current = 618.0 (*1e-14), can be obtained with either:(1, 15) or (0, 105)\n",
      "Bias current = 659.0 (*1e-14), can be obtained with either:(1, 16) or (0, 112)\n",
      "Bias current = 700.0 (*1e-14), can be obtained with either:(1, 17) or (0, 119)\n",
      "Bias current = 741.0 (*1e-14), can be obtained with either:(1, 18) or (0, 126)\n",
      "Bias current = 782.0 (*1e-14), can be obtained with either:(1, 19) or (0, 133)\n",
      "Bias current = 824.0 (*1e-14), can be obtained with either:(1, 20) or (0, 140)\n",
      "Bias current = 865.0 (*1e-14), can be obtained with either:(1, 21) or (0, 147)\n",
      "Bias current = 906.0 (*1e-14), can be obtained with either:(1, 22) or (0, 154)\n",
      "Bias current = 947.0 (*1e-14), can be obtained with either:(1, 23) or (0, 161)\n",
      "Bias current = 988.0 (*1e-14), can be obtained with either:(1, 24) or (0, 168)\n",
      "Bias current = 1029.0 (*1e-14), can be obtained with either:(1, 25) or (0, 175)\n",
      "Bias current = 1071.0 (*1e-14), can be obtained with either:(1, 26) or (0, 182)\n",
      "Bias current = 1112.0 (*1e-14), can be obtained with either:(1, 27) or (0, 189)\n",
      "Bias current = 1153.0 (*1e-14), can be obtained with either:(1, 28) or (0, 196)\n",
      "Bias current = 1194.0 (*1e-14), can be obtained with either:(1, 29) or (0, 203)\n",
      "Bias current = 1235.0 (*1e-14), can be obtained with either:(1, 30) or (0, 210)\n",
      "Bias current = 1276.0 (*1e-14), can be obtained with either:(1, 31) or (0, 217)\n",
      "Bias current = 1318.0 (*1e-14), can be obtained with either:(1, 32) or (0, 224)\n",
      "Bias current = 1359.0 (*1e-14), can be obtained with either:(1, 33) or (0, 231)\n",
      "Bias current = 1400.0 (*1e-14), can be obtained with either:(1, 34) or (0, 238)\n",
      "Bias current = 1441.0 (*1e-14), can be obtained with either:(1, 35) or (0, 245)\n",
      "Bias current = 1482.0 (*1e-14), can be obtained with either:(1, 36) or (0, 252)\n",
      "Bias current = 0.0 (*1e-14), can be obtained with either:(2, 0) or (0, 0)\n",
      "Bias current = 965.0 (*1e-14), can be obtained with either:(2, 3) or (0, 164)\n",
      "Bias current = 6753.0 (*1e-14), can be obtained with either:(2, 21) or (1, 164)\n",
      "Bias current = 0.0 (*1e-14), can be obtained with either:(3, 0) or (0, 0)\n",
      "Bias current = 0.0 (*1e-14), can be obtained with either:(4, 0) or (0, 0)\n",
      "Bias current = 254902.0 (*1e-14), can be obtained with either:(4, 13) or (3, 100)\n",
      "Bias current = 509804.0 (*1e-14), can be obtained with either:(4, 26) or (3, 200)\n",
      "Bias current = 0.0 (*1e-14), can be obtained with either:(5, 0) or (0, 0)\n",
      "Bias current = 156863.0 (*1e-14), can be obtained with either:(5, 1) or (4, 8)\n",
      "Bias current = 313726.0 (*1e-14), can be obtained with either:(5, 2) or (4, 16)\n",
      "Bias current = 470588.0 (*1e-14), can be obtained with either:(5, 3) or (4, 24)\n",
      "Bias current = 627451.0 (*1e-14), can be obtained with either:(5, 4) or (4, 32)\n",
      "Bias current = 784314.0 (*1e-14), can be obtained with either:(5, 5) or (4, 40)\n",
      "Bias current = 941176.0 (*1e-14), can be obtained with either:(5, 6) or (4, 48)\n",
      "Bias current = 1098039.0 (*1e-14), can be obtained with either:(5, 7) or (4, 56)\n",
      "Bias current = 1254902.0 (*1e-14), can be obtained with either:(5, 8) or (4, 64)\n",
      "Bias current = 1411765.0 (*1e-14), can be obtained with either:(5, 9) or (4, 72)\n",
      "Bias current = 1568628.0 (*1e-14), can be obtained with either:(5, 10) or (4, 80)\n",
      "Bias current = 1725490.0 (*1e-14), can be obtained with either:(5, 11) or (4, 88)\n",
      "Bias current = 1882353.0 (*1e-14), can be obtained with either:(5, 12) or (4, 96)\n",
      "Bias current = 2039216.0 (*1e-14), can be obtained with either:(5, 13) or (4, 104)\n",
      "Bias current = 2196078.0 (*1e-14), can be obtained with either:(5, 14) or (4, 112)\n",
      "Bias current = 2352941.0 (*1e-14), can be obtained with either:(5, 15) or (4, 120)\n",
      "Bias current = 2509804.0 (*1e-14), can be obtained with either:(5, 16) or (4, 128)\n",
      "Bias current = 2666667.0 (*1e-14), can be obtained with either:(5, 17) or (4, 136)\n",
      "Bias current = 2823530.0 (*1e-14), can be obtained with either:(5, 18) or (4, 144)\n",
      "Bias current = 2980392.0 (*1e-14), can be obtained with either:(5, 19) or (4, 152)\n",
      "Bias current = 3137255.0 (*1e-14), can be obtained with either:(5, 20) or (4, 160)\n",
      "Bias current = 3294118.0 (*1e-14), can be obtained with either:(5, 21) or (4, 168)\n",
      "Bias current = 3450980.0 (*1e-14), can be obtained with either:(5, 22) or (4, 176)\n",
      "Bias current = 3607843.0 (*1e-14), can be obtained with either:(5, 23) or (4, 184)\n",
      "Bias current = 3764706.0 (*1e-14), can be obtained with either:(5, 24) or (4, 192)\n",
      "Bias current = 3921569.0 (*1e-14), can be obtained with either:(5, 25) or (4, 200)\n",
      "Bias current = 4078432.0 (*1e-14), can be obtained with either:(5, 26) or (4, 208)\n",
      "Bias current = 4235294.0 (*1e-14), can be obtained with either:(5, 27) or (4, 216)\n",
      "Bias current = 4392157.0 (*1e-14), can be obtained with either:(5, 28) or (4, 224)\n",
      "Bias current = 4549020.0 (*1e-14), can be obtained with either:(5, 29) or (4, 232)\n",
      "Bias current = 4705882.0 (*1e-14), can be obtained with either:(5, 30) or (4, 240)\n",
      "Bias current = 4862745.0 (*1e-14), can be obtained with either:(5, 31) or (4, 248)\n",
      "Bias current = 0.0 (*1e-14), can be obtained with either:(6, 0) or (0, 0)\n",
      "Bias current = 1254902.0 (*1e-14), can be obtained with either:(6, 1) or (4, 64)\n",
      "Bias current = 2509804.0 (*1e-14), can be obtained with either:(6, 2) or (4, 128)\n",
      "Bias current = 3764706.0 (*1e-14), can be obtained with either:(6, 3) or (4, 192)\n",
      "Bias current = 5019608.0 (*1e-14), can be obtained with either:(6, 4) or (5, 32)\n",
      "Bias current = 6274510.0 (*1e-14), can be obtained with either:(6, 5) or (5, 40)\n",
      "Bias current = 7529412.0 (*1e-14), can be obtained with either:(6, 6) or (5, 48)\n",
      "Bias current = 8784314.0 (*1e-14), can be obtained with either:(6, 7) or (5, 56)\n",
      "Bias current = 10039216.0 (*1e-14), can be obtained with either:(6, 8) or (5, 64)\n",
      "Bias current = 11294118.0 (*1e-14), can be obtained with either:(6, 9) or (5, 72)\n",
      "Bias current = 12549020.0 (*1e-14), can be obtained with either:(6, 10) or (5, 80)\n",
      "Bias current = 13803921.0 (*1e-14), can be obtained with either:(6, 11) or (5, 88)\n",
      "Bias current = 15058824.0 (*1e-14), can be obtained with either:(6, 12) or (5, 96)\n",
      "Bias current = 16313726.0 (*1e-14), can be obtained with either:(6, 13) or (5, 104)\n",
      "Bias current = 17568628.0 (*1e-14), can be obtained with either:(6, 14) or (5, 112)\n",
      "Bias current = 18823530.0 (*1e-14), can be obtained with either:(6, 15) or (5, 120)\n",
      "Bias current = 20078432.0 (*1e-14), can be obtained with either:(6, 16) or (5, 128)\n",
      "Bias current = 21333334.0 (*1e-14), can be obtained with either:(6, 17) or (5, 136)\n",
      "Bias current = 22588236.0 (*1e-14), can be obtained with either:(6, 18) or (5, 144)\n",
      "Bias current = 23843136.0 (*1e-14), can be obtained with either:(6, 19) or (5, 152)\n",
      "Bias current = 25098040.0 (*1e-14), can be obtained with either:(6, 20) or (5, 160)\n",
      "Bias current = 26352942.0 (*1e-14), can be obtained with either:(6, 21) or (5, 168)\n",
      "Bias current = 27607842.0 (*1e-14), can be obtained with either:(6, 22) or (5, 176)\n",
      "Bias current = 28862746.0 (*1e-14), can be obtained with either:(6, 23) or (5, 184)\n",
      "Bias current = 30117648.0 (*1e-14), can be obtained with either:(6, 24) or (5, 192)\n",
      "Bias current = 31372550.0 (*1e-14), can be obtained with either:(6, 25) or (5, 200)\n",
      "Bias current = 32627452.0 (*1e-14), can be obtained with either:(6, 26) or (5, 208)\n",
      "Bias current = 33882352.0 (*1e-14), can be obtained with either:(6, 27) or (5, 216)\n",
      "Bias current = 35137256.0 (*1e-14), can be obtained with either:(6, 28) or (5, 224)\n",
      "Bias current = 36392156.0 (*1e-14), can be obtained with either:(6, 29) or (5, 232)\n",
      "Bias current = 37647060.0 (*1e-14), can be obtained with either:(6, 30) or (5, 240)\n",
      "Bias current = 38901960.0 (*1e-14), can be obtained with either:(6, 31) or (5, 248)\n",
      "Bias current = 0.0 (*1e-14), can be obtained with either:(7, 0) or (0, 0)\n",
      "Bias current = 9411765.0 (*1e-14), can be obtained with either:(7, 1) or (5, 60)\n",
      "Bias current = 18823530.0 (*1e-14), can be obtained with either:(7, 2) or (5, 120)\n",
      "Bias current = 28235294.0 (*1e-14), can be obtained with either:(7, 3) or (5, 180)\n",
      "Bias current = 37647060.0 (*1e-14), can be obtained with either:(7, 4) or (5, 240)\n",
      "Bias current = 56470588.0 (*1e-14), can be obtained with either:(7, 6) or (6, 45)\n",
      "Bias current = 75294120.0 (*1e-14), can be obtained with either:(7, 8) or (6, 60)\n",
      "Bias current = 94117648.0 (*1e-14), can be obtained with either:(7, 10) or (6, 75)\n",
      "Bias current = 112941176.0 (*1e-14), can be obtained with either:(7, 12) or (6, 90)\n",
      "Bias current = 150588240.0 (*1e-14), can be obtained with either:(7, 16) or (6, 120)\n",
      "Bias current = 169411776.0 (*1e-14), can be obtained with either:(7, 18) or (6, 135)\n",
      "Bias current = 188235296.0 (*1e-14), can be obtained with either:(7, 20) or (6, 150)\n",
      "Bias current = 225882352.0 (*1e-14), can be obtained with either:(7, 24) or (6, 180)\n",
      "Bias current = 244705888.0 (*1e-14), can be obtained with either:(7, 26) or (6, 195)\n",
      "Bias current = 282352960.0 (*1e-14), can be obtained with either:(7, 30) or (6, 225)\n",
      "Bias current = 301176480.0 (*1e-14), can be obtained with either:(7, 32) or (6, 240)\n",
      "Bias current = 320000000.0 (*1e-14), can be obtained with either:(7, 34) or (6, 255)\n"
     ]
    }
   ],
   "source": [
    "def test_coarse_fine():\n",
    "    for c in range(8):\n",
    "        for f in range(0, 256):\n",
    "            linear = BiasGen.get_linear(c,f)\n",
    "            coarse, fine = BiasGen.get_coarse_fine(linear)\n",
    "            STR = f\"Bias current = {linear} (*1e-14), can be obtained with either:{c, f} or {coarse,fine}\"\n",
    "            try:\n",
    "                assert c == coarse, STR\n",
    "                assert f == fine, STR\n",
    "            except AssertionError as e:\n",
    "                linear1 = BiasGen.get_linear(c,f)\n",
    "                linear2 = BiasGen.get_linear(coarse,fine)\n",
    "                print(e)\n",
    "                str_not_equal = f\"Bias current {c,f,linear1} != {coarse,fine,linear2}\"\n",
    "                assert linear1 == linear2, str_not_equal\n",
    "            \n",
    "        \n",
    "test_coarse_fine()\n"
   ]
  },
  {
   "cell_type": "code",
   "execution_count": 10,
   "metadata": {},
   "outputs": [
    {
     "name": "stdout",
     "output_type": "stream",
     "text": [
      "--2021-09-02 18:23:18--  https://gitlab.com/neuroinf/ctxctl_contrib/-/raw/d7543c870fa027c72ebb62f20b0f45f6638b00db/linear_fine_coarse_bias_map.npy\n",
      "Resolving gitlab.com (gitlab.com)... 172.65.251.78, 2606:4700:90:0:f22e:fbec:5bed:a9b9\n",
      "Connecting to gitlab.com (gitlab.com)|172.65.251.78|:443... connected.\n",
      "HTTP request sent, awaiting response... 200 OK\n",
      "Length: 43616 (43K) [application/octet-stream]\n",
      "Saving to: ‘linear_fine_coarse_bias_map.npy.4’\n",
      "\n",
      "linear_fine_coarse_ 100%[===================>]  42,59K  --.-KB/s    in 0,01s   \n",
      "\n",
      "2021-09-02 18:23:18 (2,94 MB/s) - ‘linear_fine_coarse_bias_map.npy.4’ saved [43616/43616]\n",
      "\n"
     ]
    }
   ],
   "source": [
    "!wget https://gitlab.com/neuroinf/ctxctl_contrib/-/raw/d7543c870fa027c72ebb62f20b0f45f6638b00db/linear_fine_coarse_bias_map.npy\n",
    "lookup_dimitrii = np.load('linear_fine_coarse_bias_map.npy').astype(np.float32)"
   ]
  },
  {
   "cell_type": "code",
   "execution_count": 11,
   "metadata": {},
   "outputs": [
    {
     "name": "stdout",
     "output_type": "stream",
     "text": [
      "\n",
      "Arrays are not equal\n",
      "\n",
      "Mismatched elements: 296 / 5436 (5.45%)\n",
      "Max absolute difference: 256.\n",
      "Max relative difference: 5.16193e-06\n",
      " x: array([[0.000000e+00, 0.000000e+00, 0.000000e+00],\n",
      "       [0.000000e+00, 1.000000e+00, 6.000000e+00],\n",
      "       [0.000000e+00, 2.000000e+00, 1.200000e+01],...\n",
      " y: array([[0.000000e+00, 0.000000e+00, 0.000000e+00],\n",
      "       [0.000000e+00, 1.000000e+00, 6.000000e+00],\n",
      "       [0.000000e+00, 2.000000e+00, 1.200000e+01],...\n"
     ]
    }
   ],
   "source": [
    "cfl = BiasGen.get_lookup_table()\n",
    "try:\n",
    "    np.testing.assert_array_equal(lookup_dimitrii, cfl, verbose=True)\n",
    "except AssertionError as e:\n",
    "    print(e)"
   ]
  },
  {
   "cell_type": "code",
   "execution_count": 12,
   "metadata": {},
   "outputs": [],
   "source": [
    "import sys\n",
    "np.set_printoptions(threshold=sys.maxsize)"
   ]
  },
  {
   "cell_type": "code",
   "execution_count": 13,
   "metadata": {
    "scrolled": true
   },
   "outputs": [
    {
     "data": {
      "text/plain": [
       "array([7.00e+00, 2.55e+02, 2.40e+09], dtype=float32)"
      ]
     },
     "execution_count": 13,
     "metadata": {},
     "output_type": "execute_result"
    }
   ],
   "source": [
    "cfl[-1]"
   ]
  },
  {
   "cell_type": "code",
   "execution_count": 14,
   "metadata": {
    "scrolled": true
   },
   "outputs": [
    {
     "data": {
      "text/plain": [
       "array([7.00e+00, 2.55e+02, 2.40e+09], dtype=float32)"
      ]
     },
     "execution_count": 14,
     "metadata": {},
     "output_type": "execute_result"
    }
   ],
   "source": [
    "lookup_dimitrii[-1]"
   ]
  }
 ],
 "metadata": {
  "kernelspec": {
   "display_name": "synsense",
   "language": "python",
   "name": "synsense"
  },
  "language_info": {
   "codemirror_mode": {
    "name": "ipython",
    "version": 3
   },
   "file_extension": ".py",
   "mimetype": "text/x-python",
   "name": "python",
   "nbconvert_exporter": "python",
   "pygments_lexer": "ipython3",
   "version": "3.8.10"
  }
 },
 "nbformat": 4,
 "nbformat_minor": 4
}
