{
 "cells": [
  {
   "cell_type": "code",
   "execution_count": 4,
   "metadata": {},
   "outputs": [],
   "source": [
    "from rockpool.devices.dynapse.infrastructure.biasgen import BiasGenSE2\n",
    "from rockpool.devices.dynapse.samna_alias.dynapse2 import Dynapse2Parameter"
   ]
  },
  {
   "cell_type": "markdown",
   "metadata": {},
   "source": [
    "Construct the bias generator simulator and construct the bias parameter\n",
    "Note that if you have samna Dynapse2Parameter object it just works fine as well"
   ]
  },
  {
   "cell_type": "code",
   "execution_count": 8,
   "metadata": {},
   "outputs": [],
   "source": [
    "biasgen_se2 = BiasGenSE2()\n",
    "param = Dynapse2Parameter(\"SOIF_CC_N\", 1, 2, \"N\")"
   ]
  },
  {
   "cell_type": "markdown",
   "metadata": {},
   "source": [
    "Param to bias converter uses the transistor lookup tables and scaling parameters and returns respective current value in amperes"
   ]
  },
  {
   "cell_type": "code",
   "execution_count": 9,
   "metadata": {},
   "outputs": [
    {
     "data": {
      "text/plain": [
       "3.3833643622545587e-12"
      ]
     },
     "execution_count": 9,
     "metadata": {},
     "output_type": "execute_result"
    }
   ],
   "source": [
    "biasgen_se2.param_to_bias(\"SOIF_CC_N\", param)"
   ]
  }
 ],
 "metadata": {
  "interpreter": {
   "hash": "563178da4d2f83233e8fe69c4a4c639f48fd5510273c5c460aa8c07326743f38"
  },
  "kernelspec": {
   "display_name": "Python 3.10.4 ('rockpool')",
   "language": "python",
   "name": "python3"
  },
  "language_info": {
   "codemirror_mode": {
    "name": "ipython",
    "version": 3
   },
   "file_extension": ".py",
   "mimetype": "text/x-python",
   "name": "python",
   "nbconvert_exporter": "python",
   "pygments_lexer": "ipython3",
   "version": "3.10.4"
  },
  "orig_nbformat": 4
 },
 "nbformat": 4,
 "nbformat_minor": 2
}
