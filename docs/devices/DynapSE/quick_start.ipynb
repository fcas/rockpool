{
 "cells": [
  {
   "cell_type": "markdown",
   "metadata": {},
   "source": [
    "# Tutorial : Quick Start with Dynap-SE2\n",
    "\n",
    "## Introduction\n",
    "\n",
    "<img src=https://raw.githubusercontent.com/synsense/rockpool/dev/dynapse_support/docs/devices/DynapSE/images/dynapse2.jpeg\n",
    " width=\"1024\">\n",
    "\n",
    "Dynap-SE2, (DYnamic Neuromorphic Asynchronous Processor - ScalablE 2) inherits the event-driven nature of the DYNAP family. The mixed-signal chip uses analog spiking neurons and analog synapses as the computing units, which directly emulates biological behavior. Transistors of the neural cores operate in the subthreshold region, which results in power consumption of about one-thousandth to one-millionth of the state-of-the-art digital neuromorphic chips, below mW. Each chip features 1024 adaptive exponential integrate-and-fire analog ultra-low-power spiking neurons and 64 synapses per neuron with configurable delay, weight, and short-term plasticity. \n"
   ]
  },
  {
   "cell_type": "markdown",
   "metadata": {},
   "source": [
    "## Architecture Overview\n",
    "\n",
    "<img src=https://raw.githubusercontent.com/synsense/rockpool/dev/dynapse_support/docs/devices/DynapSE/images/dynapse_architecture.png width=\"1024\">\n",
    "\n",
    "Each Dynap-SE2 chip has 1024 neurons distributed over 4 individually configurable neural cores, connected by a patented hierarchical routing grid. \n",
    "The tag-based routing infrastructure provides direct communication from one chip to 15×15 surrounding chips (7 steps west, 7 steps north, 7 steps east, 7 steps south), connecting up to 230k neurons. \n",
    "Each neural core holds a `parameter group` to set the neuronal and synaptic parameters for its 256 neurons and their pre-synaptic synapses. \n",
    "The neurons in the same core share the same parameter values, including time constants, refractory periods, synaptic connection strengths and etc. \n",
    "Special digital to analog conveters, bias generators denominated as `BG`, set these parameter current values.\n",
    "\n",
    "The neural computation unit is the main building block creating the dynamics.\n",
    "Each neural core pieces together 256 analog neurons sharing the same parameter set.\n",
    "CAM and SRAM are the digital memory blocks holding the transmitting and receiving event configurations.\n",
    "Analog computation takes place in the synapses and the neuron soma.\n",
    "\n",
    "Four different synapses: AMPA, GABA, NMDA, and SHUNT, integrate the incoming events and inject current into the membrane.\n",
    "While AMPA and NMDA produce excitatory post-synaptic potentiation, GABA and SHUNT synapses produce inhibitory post-synaptic potentiation.\n",
    "In other words, AMPA and NMDA activation increase the chance that the neuron fires; GABA and SHUNT activation decrease the firing probability.\n",
    "The listening event setting stored in the CAM refers to a synapse type.\n",
    "Therefore, each of the 64 connections of a neuron can specify its synaptic processing unit.\n",
    "\n",
    "Neuron soma integrates the injection currents and holds a temporal state.\n",
    "Charging and discharging capacitors in configurable paths designates the temporal behavior.\n",
    "A secondary reading on the membrane capacitance, the membrane current, functions as the temporal state variable.\n",
    "Upon membrane current reaching the firing threshold, the neuron's reset mechanism steps in and triggers the event sensing units.\n",
    "The event is packaged in AER format and is broadcasted to indicated locations.\n",
    "In this way, the neuron computes the dynamics using analog sub-threshold circuits but conveys the resulting outputs using a digital routing mechanism."
   ]
  },
  {
   "cell_type": "markdown",
   "metadata": {},
   "source": [
    "## Simulation\n",
    "\n",
    "<img src=https://raw.githubusercontent.com/synsense/rockpool/dev/dynapse_support/docs/devices/DynapSE/images/spiking_neuron_operation.png width=\"1024\">\n",
    "\n",
    "Dynap-SE simulator uses transfer functions of the analog VLSI neuron&synapse implementations and solves them in time.\n",
    "It uses the Forward-Euler method, which is one of the oldest and simplest algorithms to solve first-order ordinary differential equations given an initial value.\n",
    "This way, given the current time step state, it predicts the next time step state.\n",
    "In this method, the following approximation to the first derivative term is applied.\n",
    "\n",
    "$$\n",
    "    \\dfrac{dy(t)}{dt} = \\dfrac{y_{n+1} - y_{n}}{\\Delta t}\n",
    "$$\n",
    "\n",
    "The trade-off here is to choose the time step wisely, in order not to accumulate the error such that it's misguiding a user.\n",
    "One should note that here the time-step should be chosen in such a way that any time constant is greater than 10 $\\Delta t$.\n"
   ]
  },
  {
   "cell_type": "markdown",
   "metadata": {},
   "source": [
    "## Step 0 : Define the Task"
   ]
  },
  {
   "cell_type": "markdown",
   "metadata": {},
   "source": [
    "## Step 1 : Build a Network\n"
   ]
  },
  {
   "cell_type": "markdown",
   "metadata": {},
   "source": [
    "## Step 2 : Simulate\n"
   ]
  },
  {
   "cell_type": "markdown",
   "metadata": {},
   "source": [
    "## Step 3 : Optimize"
   ]
  },
  {
   "cell_type": "markdown",
   "metadata": {},
   "source": [
    "## Step 4 : Quantize Weights"
   ]
  },
  {
   "cell_type": "markdown",
   "metadata": {},
   "source": [
    "## Step 5 : Quantize Parameters"
   ]
  },
  {
   "cell_type": "markdown",
   "metadata": {},
   "source": [
    "## Step 6 : Run the Network on Dynap-SE2 Stack Board"
   ]
  }
 ],
 "metadata": {
  "kernelspec": {
   "display_name": "Python 3.10.4 ('rockpool')",
   "language": "python",
   "name": "python3"
  },
  "language_info": {
   "name": "python",
   "version": "3.10.4"
  },
  "orig_nbformat": 4,
  "vscode": {
   "interpreter": {
    "hash": "563178da4d2f83233e8fe69c4a4c639f48fd5510273c5c460aa8c07326743f38"
   }
  }
 },
 "nbformat": 4,
 "nbformat_minor": 2
}
