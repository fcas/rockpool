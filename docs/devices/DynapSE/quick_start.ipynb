{
 "cells": [
  {
   "cell_type": "markdown",
   "metadata": {},
   "source": [
    "# Tutorial : Quick Start with Dynap-SE2\n",
    "\n",
    "## Introduction\n",
    "\n",
    "<img src=https://raw.githubusercontent.com/synsense/rockpool/dev/dynapse_support/docs/devices/DynapSE/images/dynapse2.jpeg\n",
    " width=\"1024\">\n",
    "\n",
    "Dynap-SE2, (DYnamic Neuromorphic Asynchronous Processor - ScalablE 2) inherits the event-driven nature of the DYNAP family. The mixed-signal chip uses analog spiking neurons and analog synapses as the computing units, which directly emulates biological behavior. Transistors of the neural cores operate in the subthreshold region, which results in power consumption of about one-thousandth to one-millionth of the state-of-the-art digital neuromorphic chips, below mW. Each chip features 1024 adaptive exponential integrate-and-fire analog ultra-low-power spiking neurons and 64 synapses per neuron with configurable delay, weight, and short-term plasticity. \n"
   ]
  },
  {
   "cell_type": "markdown",
   "metadata": {},
   "source": [
    "## Architecture Overview\n",
    "\n"
   ]
  }
 ],
 "metadata": {
  "kernelspec": {
   "display_name": "Python 3.10.4 ('rockpool')",
   "language": "python",
   "name": "python3"
  },
  "language_info": {
   "name": "python",
   "version": "3.10.4"
  },
  "orig_nbformat": 4,
  "vscode": {
   "interpreter": {
    "hash": "563178da4d2f83233e8fe69c4a4c639f48fd5510273c5c460aa8c07326743f38"
   }
  }
 },
 "nbformat": 4,
 "nbformat_minor": 2
}
