{
    "cells": [
        {
            "cell_type": "code",
            "execution_count": 1,
            "metadata": {},
            "outputs": [
                {
                    "name": "stderr",
                    "output_type": "stream",
                    "text": [
                        "/Users/ugurcancakal/rockpool/lib/python3.10/site-packages/jax/_src/lib/__init__.py:33: UserWarning: JAX on Mac ARM machines is experimental and minimally tested. Please see https://github.com/google/jax/issues/5501 in the event of problems.\n",
                        "  warnings.warn(\"JAX on Mac ARM machines is experimental and minimally tested. \"\n"
                    ]
                }
            ],
            "source": [
                "from rockpool.devices.dynapse.quantize.weight_handler import WeightHandler\n",
                "from rockpool.devices.dynapse.quantize.autoencoder import autoencoder_quantization\n",
                "import numpy as np\n",
                "from copy import deepcopy\n",
                "\n",
                "from __future__ import annotations\n",
                "import logging\n",
                "\n",
                "from typing import Any, Callable, Dict, Optional, Tuple, Union\n",
                "\n",
                "import numpy as np\n",
                "from copy import deepcopy\n",
                "\n",
                "# JAX\n",
                "from jax import numpy as jnp\n",
                "from jax import jit, value_and_grad\n",
                "from jax.lax import scan, cond\n",
                "from rockpool.nn.modules.jax.jax_module import JaxModule\n",
                "from jax.example_libraries import optimizers\n",
                "\n",
                "\n",
                "# Rockpool\n",
                "from rockpool.training import jax_loss as l\n",
                "from rockpool.devices.dynapse.quantize.weight_handler import WeightHandler\n",
                "from rockpool.devices.dynapse.definitions import ArrayLike, WeightRecord\n",
                "\n",
                "import matplotlib.pyplot as plt"
            ]
        },
        {
            "cell_type": "code",
            "execution_count": 2,
            "metadata": {},
            "outputs": [],
            "source": [
                "# np.random.seed(2022)\n",
                "w_in = np.random.normal(size=(3, 4))\n",
                "w_rec = np.random.normal(size=(4, 4))\n",
                "\n",
                "w_in[1,2] = 0\n",
                "w_rec[2,3] = 0\n"
            ]
        },
        {
            "cell_type": "code",
            "execution_count": 3,
            "metadata": {},
            "outputs": [
                {
                    "data": {
                        "text/plain": [
                            "array([[ 0.37673898, -0.02521078, -0.02518564,  0.09741167],\n",
                            "       [ 0.42731533,  0.50688876,  0.        , -0.05213318],\n",
                            "       [-0.65395007, -0.07031549,  0.92342607, -0.16016535]])"
                        ]
                    },
                    "execution_count": 3,
                    "metadata": {},
                    "output_type": "execute_result"
                }
            ],
            "source": [
                "w_in"
            ]
        },
        {
            "cell_type": "code",
            "execution_count": 4,
            "metadata": {},
            "outputs": [
                {
                    "data": {
                        "text/plain": [
                            "array([[ 1.45060131, -1.05171792,  1.0860522 , -1.46137138],\n",
                            "       [ 0.49064709, -0.30835288,  0.29762151, -1.82400035],\n",
                            "       [-0.85537342,  0.55679224,  1.30134922,  0.        ],\n",
                            "       [-0.95513006, -0.05260742, -1.34513196, -0.1011775 ]])"
                        ]
                    },
                    "execution_count": 4,
                    "metadata": {},
                    "output_type": "execute_result"
                }
            ],
            "source": [
                "w_rec"
            ]
        },
        {
            "cell_type": "code",
            "execution_count": 5,
            "metadata": {},
            "outputs": [
                {
                    "name": "stderr",
                    "output_type": "stream",
                    "text": [
                        "WARNING:absl:No GPU/TPU found, falling back to CPU. (Set TF_CPP_MIN_LOG_LEVEL=0 and rerun for more info.)\n"
                    ]
                },
                {
                    "data": {
                        "text/plain": [
                            "{'weights_in': array([[ 2,  0,  0,  0],\n",
                            "        [ 8,  5,  0,  0],\n",
                            "        [ 8,  0, 11,  2]], dtype=int32),\n",
                            " 'sign_in': array([[ 1., -1., -1.,  1.],\n",
                            "        [ 1.,  1.,  0., -1.],\n",
                            "        [-1., -1.,  1., -1.]]),\n",
                            " 'weights_rec': array([[15,  9, 14, 15],\n",
                            "        [ 6,  2,  8, 15],\n",
                            "        [14,  3, 13,  0],\n",
                            "        [11,  0, 15,  0]], dtype=int32),\n",
                            " 'sign_rec': array([[ 1., -1.,  1., -1.],\n",
                            "        [ 1., -1.,  1., -1.],\n",
                            "        [-1.,  1.,  1.,  0.],\n",
                            "        [-1., -1., -1., -1.]]),\n",
                            " 'Iw': DeviceArray([0.51850843, 0.3307641 , 0.23797469, 0.35975307], dtype=float32)}"
                        ]
                    },
                    "execution_count": 5,
                    "metadata": {},
                    "output_type": "execute_result"
                }
            ],
            "source": [
                "# spec, loss_t = autoencoder_quantization(w_in, w_rec, 1, 4, fixed_epoch=True, num_epoch=int(1e5))\n",
                "spec, loss_t = autoencoder_quantization(w_in, w_rec, 1, 4, fixed_epoch=False)\n",
                "spec"
            ]
        },
        {
            "cell_type": "code",
            "execution_count": 6,
            "metadata": {},
            "outputs": [
                {
                    "data": {
                        "text/plain": [
                            "DeviceArray([[ 1.4470003 , -0.8782615 ,  0.9284919 , -1.4470003 ],\n",
                            "             [ 0.5687388 , -0.3307641 ,  0.35975307, -1.4470003 ],\n",
                            "             [-0.9284919 ,  0.84927255,  1.1162362 ,  0.        ],\n",
                            "             [-1.2090256 , -0.        , -1.4470003 , -0.        ]],            dtype=float32)"
                        ]
                    },
                    "execution_count": 6,
                    "metadata": {},
                    "output_type": "execute_result"
                }
            ],
            "source": [
                "w_res = WeightHandler.restore_weight_matrix(\n",
                "    len(spec[\"Iw\"]),\n",
                "    spec[\"Iw\"],\n",
                "    spec[\"weights_rec\"],\n",
                "    spec[\"sign_rec\"],\n",
                ")\n",
                "w_res\n"
            ]
        },
        {
            "cell_type": "code",
            "execution_count": 7,
            "metadata": {},
            "outputs": [
                {
                    "data": {
                        "text/plain": [
                            "array([[ 1.45060131, -1.05171792,  1.0860522 , -1.46137138],\n",
                            "       [ 0.49064709, -0.30835288,  0.29762151, -1.82400035],\n",
                            "       [-0.85537342,  0.55679224,  1.30134922,  0.        ],\n",
                            "       [-0.95513006, -0.05260742, -1.34513196, -0.1011775 ]])"
                        ]
                    },
                    "execution_count": 7,
                    "metadata": {},
                    "output_type": "execute_result"
                }
            ],
            "source": [
                "w_rec"
            ]
        },
        {
            "cell_type": "code",
            "execution_count": 8,
            "metadata": {},
            "outputs": [
                {
                    "data": {
                        "text/plain": [
                            "[<matplotlib.lines.Line2D at 0x2a7687790>]"
                        ]
                    },
                    "execution_count": 8,
                    "metadata": {},
                    "output_type": "execute_result"
                },
                {
                    "data": {
                        "image/png": "[encoded data removed]",
                        "text/plain": [
                            "<Figure size 432x288 with 1 Axes>"
                        ]
                    },
                    "metadata": {
                        "needs_background": "light"
                    },
                    "output_type": "display_data"
                }
            ],
            "source": [
                "plt.semilogy(loss_t)"
            ]
        },
        {
            "cell_type": "code",
            "execution_count": 9,
            "metadata": {},
            "outputs": [
                {
                    "data": {
                        "text/plain": [
                            "37000"
                        ]
                    },
                    "execution_count": 9,
                    "metadata": {},
                    "output_type": "execute_result"
                }
            ],
            "source": [
                "len(loss_t)"
            ]
        },
        {
            "cell_type": "code",
            "execution_count": 10,
            "metadata": {},
            "outputs": [
                {
                    "data": {
                        "text/plain": [
                            "DeviceArray(1.9488838, dtype=float32)"
                        ]
                    },
                    "execution_count": 10,
                    "metadata": {},
                    "output_type": "execute_result"
                },
                {
                    "data": {
                        "image/png": "[encoded data removed]",
                        "text/plain": [
                            "<Figure size 403.2x403.2 with 2 Axes>"
                        ]
                    },
                    "metadata": {
                        "needs_background": "light"
                    },
                    "output_type": "display_data"
                }
            ],
            "source": [
                "import matplotlib.pyplot as plt\n",
                "import seaborn as sns\n",
                "import pandas as pd\n",
                "import numpy as np\n",
                "plt.rcParams[\"figure.figsize\"] = [5.6, 5.6]\n",
                "ax = sns.heatmap(data=w_res - w_rec, annot=True, fmt='.1f')\n",
                "ax.collections[0].colorbar.set_label(\"Scaled Percent Difference\")\n",
                "plt.tight_layout()\n",
                "# plt.savefig(\"fn_wrec_quantized_4.png\", transparent=\"True\", bbox_inches=\"tight\")\n",
                "\n",
                "np.sum(abs(w_res-w_rec))"
            ]
        },
        {
            "cell_type": "code",
            "execution_count": 11,
            "metadata": {},
            "outputs": [
                {
                    "data": {
                        "text/plain": [
                            "0.0026548775"
                        ]
                    },
                    "execution_count": 11,
                    "metadata": {},
                    "output_type": "execute_result"
                }
            ],
            "source": [
                "loss_t[-1]"
            ]
        },
        {
            "cell_type": "code",
            "execution_count": null,
            "metadata": {},
            "outputs": [],
            "source": []
        }
    ],
    "metadata": {
        "kernelspec": {
            "display_name": "Python 3.10.4 ('rockpool')",
            "language": "python",
            "name": "python3"
        },
        "language_info": {
            "codemirror_mode": {
                "name": "ipython",
                "version": 3
            },
            "file_extension": ".py",
            "mimetype": "text/x-python",
            "name": "python",
            "nbconvert_exporter": "python",
            "pygments_lexer": "ipython3",
            "version": "3.10.4"
        },
        "orig_nbformat": 4,
        "vscode": {
            "interpreter": {
                "hash": "563178da4d2f83233e8fe69c4a4c639f48fd5510273c5c460aa8c07326743f38"
            }
        }
    },
    "nbformat": 4,
    "nbformat_minor": 2
}
