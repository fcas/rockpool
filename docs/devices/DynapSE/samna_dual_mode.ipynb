{
 "cells": [
  {
   "cell_type": "code",
   "execution_count": 1,
   "metadata": {},
   "outputs": [
    {
     "name": "stdout",
     "output_type": "stream",
     "text": [
      "Could not import package: No module named 'iaf_nest'\n"
     ]
    }
   ],
   "source": [
    "from samna import dynapse1 as dyn1\n",
    "from samna import dynapse2 as dyn2\n",
    "from rockpool.devices.dynapse.config import *"
   ]
  },
  {
   "cell_type": "code",
   "execution_count": null,
   "metadata": {},
   "outputs": [],
   "source": []
  },
  {
   "cell_type": "code",
   "execution_count": 2,
   "metadata": {},
   "outputs": [],
   "source": [
    "se1 = dyn1.Dynapse1Configuration()\n",
    "se2 = dyn2.Dynapse2Configuration()"
   ]
  },
  {
   "cell_type": "code",
   "execution_count": 3,
   "metadata": {},
   "outputs": [],
   "source": [
    "se1_params = se1.chips[0].cores[0].parameter_group.param_map\n",
    "se2_params = se2.chips[0].cores[0].parameters"
   ]
  },
  {
   "cell_type": "code",
   "execution_count": 17,
   "metadata": {
    "scrolled": false
   },
   "outputs": [
    {
     "data": {
      "text/plain": [
       "{'IF_AHTAU_N': <samna.dynapse1.Dynapse1Parameter at 0x7fada0d1f7b0>,\n",
       " 'IF_AHTHR_N': <samna.dynapse1.Dynapse1Parameter at 0x7fada0d1f4f0>,\n",
       " 'IF_AHW_P': <samna.dynapse1.Dynapse1Parameter at 0x7fada0d1f870>,\n",
       " 'IF_BUF_P': <samna.dynapse1.Dynapse1Parameter at 0x7fada0d1f8f0>,\n",
       " 'IF_CASC_N': <samna.dynapse1.Dynapse1Parameter at 0x7fada0d1f970>,\n",
       " 'IF_DC_P': <samna.dynapse1.Dynapse1Parameter at 0x7fada0d1f9f0>,\n",
       " 'IF_NMDA_N': <samna.dynapse1.Dynapse1Parameter at 0x7fada0d1fa70>,\n",
       " 'IF_RFR_N': <samna.dynapse1.Dynapse1Parameter at 0x7fada0d1faf0>,\n",
       " 'IF_TAU1_N': <samna.dynapse1.Dynapse1Parameter at 0x7fada0d1fb70>,\n",
       " 'IF_TAU2_N': <samna.dynapse1.Dynapse1Parameter at 0x7fada0d1fbf0>,\n",
       " 'IF_THR_N': <samna.dynapse1.Dynapse1Parameter at 0x7fada0d1fc70>,\n",
       " 'NPDPIE_TAU_F_P': <samna.dynapse1.Dynapse1Parameter at 0x7fada0d1fcf0>,\n",
       " 'NPDPIE_TAU_S_P': <samna.dynapse1.Dynapse1Parameter at 0x7fada0d1fd70>,\n",
       " 'NPDPIE_THR_F_P': <samna.dynapse1.Dynapse1Parameter at 0x7fada0d1fdf0>,\n",
       " 'NPDPIE_THR_S_P': <samna.dynapse1.Dynapse1Parameter at 0x7fada0d1fe70>,\n",
       " 'NPDPII_TAU_F_P': <samna.dynapse1.Dynapse1Parameter at 0x7fada0d1fef0>,\n",
       " 'NPDPII_TAU_S_P': <samna.dynapse1.Dynapse1Parameter at 0x7fada0d1ff70>,\n",
       " 'NPDPII_THR_F_P': <samna.dynapse1.Dynapse1Parameter at 0x7fada0d1e030>,\n",
       " 'NPDPII_THR_S_P': <samna.dynapse1.Dynapse1Parameter at 0x7fada0d1e0b0>,\n",
       " 'PS_WEIGHT_EXC_F_N': <samna.dynapse1.Dynapse1Parameter at 0x7fada0d1e0f0>,\n",
       " 'PS_WEIGHT_EXC_S_N': <samna.dynapse1.Dynapse1Parameter at 0x7fada0d1e130>,\n",
       " 'PS_WEIGHT_INH_F_N': <samna.dynapse1.Dynapse1Parameter at 0x7fada0d1e170>,\n",
       " 'PS_WEIGHT_INH_S_N': <samna.dynapse1.Dynapse1Parameter at 0x7fada0d1e1b0>,\n",
       " 'PULSE_PWLK_P': <samna.dynapse1.Dynapse1Parameter at 0x7fada0d1e230>,\n",
       " 'R2R_P': <samna.dynapse1.Dynapse1Parameter at 0x7fada0d1e2b0>}"
      ]
     },
     "execution_count": 17,
     "metadata": {},
     "output_type": "execute_result"
    }
   ],
   "source": [
    "se1_params"
   ]
  },
  {
   "cell_type": "code",
   "execution_count": 5,
   "metadata": {},
   "outputs": [
    {
     "data": {
      "text/plain": [
       "{'SYAM_STDW_N': <samna.dynapse2.Dynapse2Parameter at 0x7fada0d1e330>,\n",
       " 'SYAW_STDSTR_N': <samna.dynapse2.Dynapse2Parameter at 0x7fada0d1e3f0>,\n",
       " 'DEAM_EGAIN_P': <samna.dynapse2.Dynapse2Parameter at 0x7fada0d1e470>,\n",
       " 'SOAD_CASC_P': <samna.dynapse2.Dynapse2Parameter at 0x7fada0d1e4f0>,\n",
       " 'DEAM_ETAU_P': <samna.dynapse2.Dynapse2Parameter at 0x7fada0d1e570>,\n",
       " 'SOIF_CC_N': <samna.dynapse2.Dynapse2Parameter at 0x7fada0d1e5f0>,\n",
       " 'SOHO_VREF_M_P': <samna.dynapse2.Dynapse2Parameter at 0x7fada0d1e670>,\n",
       " 'SYPD_EXT_N': <samna.dynapse2.Dynapse2Parameter at 0x7fada0d1e6f0>,\n",
       " 'SYAM_W1_P': <samna.dynapse2.Dynapse2Parameter at 0x7fada0d1e770>,\n",
       " 'SOHO_VREF_H_P': <samna.dynapse2.Dynapse2Parameter at 0x7fada0d1e7f0>,\n",
       " 'SOHO_VREF_L_P': <samna.dynapse2.Dynapse2Parameter at 0x7fada0d1e870>,\n",
       " 'SOHO_VB_P': <samna.dynapse2.Dynapse2Parameter at 0x7fada0d1e8f0>,\n",
       " 'SYAM_W2_P': <samna.dynapse2.Dynapse2Parameter at 0x7fada0d1e970>,\n",
       " 'DENM_ITAU_P': <samna.dynapse2.Dynapse2Parameter at 0x7fada0d1e9f0>,\n",
       " 'SOCA_TAU_P': <samna.dynapse2.Dynapse2Parameter at 0x7fada0d1ea70>,\n",
       " 'SOHO_VREF_P': <samna.dynapse2.Dynapse2Parameter at 0x7fada0d1eaf0>,\n",
       " 'SOAD_TAU_P': <samna.dynapse2.Dynapse2Parameter at 0x7fada0d1eb70>,\n",
       " 'SYSA_VB_P': <samna.dynapse2.Dynapse2Parameter at 0x7fada0d1ebf0>,\n",
       " 'DENM_NMREV_N': <samna.dynapse2.Dynapse2Parameter at 0x7fada0d1ec70>,\n",
       " 'SOIF_DC_P': <samna.dynapse2.Dynapse2Parameter at 0x7fada0d1ecf0>,\n",
       " 'SOIF_SPKTHR_P': <samna.dynapse2.Dynapse2Parameter at 0x7fada0d1ed70>,\n",
       " 'SYPD_DLY2_P': <samna.dynapse2.Dynapse2Parameter at 0x7fada0d1edf0>,\n",
       " 'DENM_REV_N': <samna.dynapse2.Dynapse2Parameter at 0x7fada0d1ee70>,\n",
       " 'SOHO_VH_P': <samna.dynapse2.Dynapse2Parameter at 0x7fada0d1eef0>,\n",
       " 'SOAD_PWTAU_N': <samna.dynapse2.Dynapse2Parameter at 0x7fada0d1ef70>,\n",
       " 'SOHO_VRST_P': <samna.dynapse2.Dynapse2Parameter at 0x7fada0d20030>,\n",
       " 'SOIF_REFR_N': <samna.dynapse2.Dynapse2Parameter at 0x7fada0d200b0>,\n",
       " 'DEAM_ITAU_P': <samna.dynapse2.Dynapse2Parameter at 0x7fada0d20130>,\n",
       " 'DEGA_ITAU_P': <samna.dynapse2.Dynapse2Parameter at 0x7fada0d201b0>,\n",
       " 'DEGA_IGAIN_P': <samna.dynapse2.Dynapse2Parameter at 0x7fada0d20230>,\n",
       " 'SOCA_GAIN_P': <samna.dynapse2.Dynapse2Parameter at 0x7fada0d202b0>,\n",
       " 'SOIF_LEAK_N': <samna.dynapse2.Dynapse2Parameter at 0x7fada0d20330>,\n",
       " 'SOCA_W_N': <samna.dynapse2.Dynapse2Parameter at 0x7fada0d203b0>,\n",
       " 'SOAD_W_N': <samna.dynapse2.Dynapse2Parameter at 0x7fada0d20430>,\n",
       " 'DEAM_IGAIN_P': <samna.dynapse2.Dynapse2Parameter at 0x7fada0d204b0>,\n",
       " 'SYAM_W3_P': <samna.dynapse2.Dynapse2Parameter at 0x7fada0d20530>,\n",
       " 'DENM_ETAU_P': <samna.dynapse2.Dynapse2Parameter at 0x7fada0d205b0>,\n",
       " 'DENM_EGAIN_P': <samna.dynapse2.Dynapse2Parameter at 0x7fada0d20630>,\n",
       " 'DENM_IGAIN_P': <samna.dynapse2.Dynapse2Parameter at 0x7fada0d206b0>,\n",
       " 'DESC_IGAIN_P': <samna.dynapse2.Dynapse2Parameter at 0x7fada0d20730>,\n",
       " 'DESC_ITAU_P': <samna.dynapse2.Dynapse2Parameter at 0x7fada0d207b0>,\n",
       " 'SOIF_GAIN_N': <samna.dynapse2.Dynapse2Parameter at 0x7fada0d20830>,\n",
       " 'DEAM_REV_N': <samna.dynapse2.Dynapse2Parameter at 0x7fada0d208b0>,\n",
       " 'DEGA_REV_P': <samna.dynapse2.Dynapse2Parameter at 0x7fada0d20930>,\n",
       " 'SOAD_GAIN_P': <samna.dynapse2.Dynapse2Parameter at 0x7fada0d209b0>,\n",
       " 'DEAM_VRES_P': <samna.dynapse2.Dynapse2Parameter at 0x7fada0d20a30>,\n",
       " 'SYSA_VRES_N': <samna.dynapse2.Dynapse2Parameter at 0x7fada0d20ab0>,\n",
       " 'SYPD_DLY0_P': <samna.dynapse2.Dynapse2Parameter at 0x7fada0d20b30>,\n",
       " 'SYAM_W0_P': <samna.dynapse2.Dynapse2Parameter at 0x7fada0d20bb0>,\n",
       " 'DEAM_HRES_P': <samna.dynapse2.Dynapse2Parameter at 0x7fada0d20c30>,\n",
       " 'DEAM_NRES_P': <samna.dynapse2.Dynapse2Parameter at 0x7fada0d20cb0>,\n",
       " 'SYPD_DLY1_P': <samna.dynapse2.Dynapse2Parameter at 0x7fada0d20d30>}"
      ]
     },
     "execution_count": 5,
     "metadata": {},
     "output_type": "execute_result"
    }
   ],
   "source": [
    "se2_params"
   ]
  },
  {
   "cell_type": "code",
   "execution_count": 6,
   "metadata": {},
   "outputs": [],
   "source": [
    "layout = DynapSELayout()"
   ]
  },
  {
   "cell_type": "code",
   "execution_count": 7,
   "metadata": {},
   "outputs": [
    {
     "data": {
      "text/plain": [
       "1.5686274693115256e-08"
      ]
     },
     "execution_count": 7,
     "metadata": {},
     "output_type": "execute_result"
    }
   ],
   "source": [
    "DynapSEParameters(1).bias(layout, se1_params, \"IF_AHTAU_N\")"
   ]
  },
  {
   "cell_type": "code",
   "execution_count": 8,
   "metadata": {},
   "outputs": [
    {
     "data": {
      "text/plain": [
       "1.5021011778764488e-06"
      ]
     },
     "execution_count": 8,
     "metadata": {},
     "output_type": "execute_result"
    }
   ],
   "source": [
    "DynapSEParameters(2).bias(layout, se2_params, \"SOIF_CC_N\")"
   ]
  },
  {
   "cell_type": "code",
   "execution_count": 9,
   "metadata": {},
   "outputs": [
    {
     "data": {
      "text/plain": [
       "5.126309639779634e-12"
      ]
     },
     "execution_count": 9,
     "metadata": {},
     "output_type": "execute_result"
    }
   ],
   "source": [
    "BiasGenSE2().get_bias(1,2)"
   ]
  },
  {
   "cell_type": "code",
   "execution_count": 10,
   "metadata": {},
   "outputs": [
    {
     "data": {
      "text/plain": [
       "['__class__',\n",
       " '__delattr__',\n",
       " '__dir__',\n",
       " '__doc__',\n",
       " '__eq__',\n",
       " '__format__',\n",
       " '__ge__',\n",
       " '__getattribute__',\n",
       " '__gt__',\n",
       " '__hash__',\n",
       " '__init__',\n",
       " '__init_subclass__',\n",
       " '__le__',\n",
       " '__lt__',\n",
       " '__module__',\n",
       " '__ne__',\n",
       " '__new__',\n",
       " '__reduce__',\n",
       " '__reduce_ex__',\n",
       " '__repr__',\n",
       " '__setattr__',\n",
       " '__sizeof__',\n",
       " '__str__',\n",
       " '__subclasshook__',\n",
       " '_address',\n",
       " '_cookie',\n",
       " '_initial_type',\n",
       " '_switchable_type',\n",
       " 'coarse_value',\n",
       " 'fine_value',\n",
       " 'from_json',\n",
       " 'get_initial_type',\n",
       " 'get_pg_and_branch_pair',\n",
       " 'is_type_switchable',\n",
       " 'to_json',\n",
       " 'type']"
      ]
     },
     "execution_count": 10,
     "metadata": {},
     "output_type": "execute_result"
    }
   ],
   "source": [
    "dir(se2_params[\"SYAM_W2_P\"])"
   ]
  },
  {
   "cell_type": "code",
   "execution_count": 11,
   "metadata": {},
   "outputs": [],
   "source": [
    "biasgen_se2 = BiasGenSE2()"
   ]
  },
  {
   "cell_type": "code",
   "execution_count": 12,
   "metadata": {},
   "outputs": [
    {
     "data": {
      "text/plain": [
       "1.5021011778764488e-06"
      ]
     },
     "execution_count": 12,
     "metadata": {},
     "output_type": "execute_result"
    }
   ],
   "source": [
    "# use lookup and scale\n",
    "biasgen_se2.param_to_bias(\"SOIF_CC_N\", se2_params[\"SOIF_CC_N\"], True, True)"
   ]
  },
  {
   "cell_type": "code",
   "execution_count": 13,
   "metadata": {},
   "outputs": [
    {
     "data": {
      "text/plain": [
       "2.1120000246810377e-06"
      ]
     },
     "execution_count": 13,
     "metadata": {},
     "output_type": "execute_result"
    }
   ],
   "source": [
    "# use lookup and DO NOT scale\n",
    "biasgen_se2.param_to_bias(\"SOIF_CC_N\", se2_params[\"SOIF_CC_N\"], True, False)"
   ]
  },
  {
   "cell_type": "code",
   "execution_count": 14,
   "metadata": {},
   "outputs": [
    {
     "data": {
      "text/plain": [
       "2.275910875570377e-06"
      ]
     },
     "execution_count": 14,
     "metadata": {},
     "output_type": "execute_result"
    }
   ],
   "source": [
    "# DO NOT use lookup but scale\n",
    "biasgen_se2.param_to_bias(\"SOIF_CC_N\", se2_params[\"SOIF_CC_N\"], False, True)"
   ]
  },
  {
   "cell_type": "code",
   "execution_count": 15,
   "metadata": {},
   "outputs": [
    {
     "data": {
      "text/plain": [
       "3.2000000373955118e-06"
      ]
     },
     "execution_count": 15,
     "metadata": {},
     "output_type": "execute_result"
    }
   ],
   "source": [
    "# DO NOT use lookup and DO NOT scale\n",
    "biasgen_se2.param_to_bias(\"SOIF_CC_N\", se2_params[\"SOIF_CC_N\"], False, False)"
   ]
  },
  {
   "cell_type": "code",
   "execution_count": 16,
   "metadata": {},
   "outputs": [
    {
     "ename": "ValueError",
     "evalue": "Currently Dynap-SE1 and Dynap-SE2 are available. (version 1 or 2)!\nNo support for version: 0!",
     "output_type": "error",
     "traceback": [
      "\u001b[0;31m---------------------------------------------------------------------------\u001b[0m",
      "\u001b[0;31mValueError\u001b[0m                                Traceback (most recent call last)",
      "\u001b[0;32m<ipython-input-16-7a54424200de>\u001b[0m in \u001b[0;36m<module>\u001b[0;34m\u001b[0m\n\u001b[0;32m----> 1\u001b[0;31m \u001b[0mDynapSEParameters\u001b[0m\u001b[0;34m(\u001b[0m\u001b[0;36m0\u001b[0m\u001b[0;34m)\u001b[0m\u001b[0;34m\u001b[0m\u001b[0;34m\u001b[0m\u001b[0m\n\u001b[0m",
      "\u001b[0;32m~/SynSense Dropbox/Ugurcan Cakal/repos/rockpool_dynapse_working/rockpool/rockpool/devices/dynapse/config/circuits.py\u001b[0m in \u001b[0;36m__init__\u001b[0;34m(self, version)\u001b[0m\n",
      "\u001b[0;32m~/SynSense Dropbox/Ugurcan Cakal/repos/rockpool_dynapse_working/rockpool/rockpool/devices/dynapse/config/circuits.py\u001b[0m in \u001b[0;36m__post_init__\u001b[0;34m(self)\u001b[0m\n\u001b[1;32m     62\u001b[0m             \u001b[0mself\u001b[0m\u001b[0;34m.\u001b[0m\u001b[0mbias_gen\u001b[0m \u001b[0;34m=\u001b[0m \u001b[0mBiasGenSE2\u001b[0m\u001b[0;34m(\u001b[0m\u001b[0;34m)\u001b[0m\u001b[0;34m\u001b[0m\u001b[0;34m\u001b[0m\u001b[0m\n\u001b[1;32m     63\u001b[0m         \u001b[0;32melse\u001b[0m\u001b[0;34m:\u001b[0m\u001b[0;34m\u001b[0m\u001b[0;34m\u001b[0m\u001b[0m\n\u001b[0;32m---> 64\u001b[0;31m             raise ValueError(\n\u001b[0m\u001b[1;32m     65\u001b[0m                 \u001b[0;34mf\"Currently Dynap-SE1 and Dynap-SE2 are available. (version 1 or 2)!\\n\"\u001b[0m\u001b[0;34m\u001b[0m\u001b[0;34m\u001b[0m\u001b[0m\n\u001b[1;32m     66\u001b[0m                 \u001b[0;34mf\"No support for version: {self.version}!\"\u001b[0m\u001b[0;34m\u001b[0m\u001b[0;34m\u001b[0m\u001b[0m\n",
      "\u001b[0;31mValueError\u001b[0m: Currently Dynap-SE1 and Dynap-SE2 are available. (version 1 or 2)!\nNo support for version: 0!"
     ]
    }
   ],
   "source": [
    "DynapSEParameters(0)"
   ]
  }
 ],
 "metadata": {
  "interpreter": {
   "hash": "8cdb4f296bfaf5452445098d1924ce754cc482cb6ccf2720dd292449c9d36440"
  },
  "kernelspec": {
   "display_name": "Python 3.8.5 64-bit ('rockpool_dynapse': conda)",
   "language": "python",
   "name": "python3"
  },
  "language_info": {
   "codemirror_mode": {
    "name": "ipython",
    "version": 3
   },
   "file_extension": ".py",
   "mimetype": "text/x-python",
   "name": "python",
   "nbconvert_exporter": "python",
   "pygments_lexer": "ipython3",
   "version": "3.8.5"
  },
  "orig_nbformat": 4
 },
 "nbformat": 4,
 "nbformat_minor": 2
}
