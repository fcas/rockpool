{
 "cells": [
  {
   "cell_type": "markdown",
   "metadata": {},
   "source": [
    "## Experiment Parameters"
   ]
  },
  {
   "cell_type": "code",
   "execution_count": 1,
   "metadata": {},
   "outputs": [],
   "source": [
    "duration = .5\n",
    "n_channels = 3\n",
    "firing_rate = (100, 50, 10)"
   ]
  },
  {
   "cell_type": "code",
   "execution_count": 2,
   "metadata": {},
   "outputs": [],
   "source": [
    "import numpy as np\n",
    "from rockpool.timeseries import TSEvent, TSContinuous\n",
    "\n",
    "# - Plotting imports and config\n",
    "import matplotlib.pyplot as plt\n",
    "%matplotlib inline\n",
    "plt.rcParams['figure.figsize'] = [12, 4]\n",
    "plt.rcParams['figure.dpi'] = 300"
   ]
  },
  {
   "cell_type": "code",
   "execution_count": 3,
   "metadata": {},
   "outputs": [],
   "source": [
    "from rockpool.devices.dynapse.dpi_gui import ResponseGUI, SpikeParams\n",
    "from rockpool.devices.dynapse.utils import random_spike_train, custom_spike_train"
   ]
  },
  {
   "cell_type": "markdown",
   "metadata": {},
   "source": [
    "## Generate a random input pattern\n",
    "\n",
    "Here a random input spike train with a given rate will be generated and used in both of the simulations."
   ]
  },
  {
   "cell_type": "code",
   "execution_count": 4,
   "metadata": {},
   "outputs": [],
   "source": [
    "ts_spikes = []\n",
    "for rate in firing_rate:\n",
    "    ts_spike = random_spike_train(\n",
    "        duration = duration,\n",
    "        n_channels = 1,\n",
    "        rate = rate,\n",
    "    )\n",
    "    \n",
    "    ts_spikes.append(ts_spike)\n",
    "\n",
    "ts_spikes_random = custom_spike_train(times=np.array([]), channels=None, duration=duration)\n",
    "for ts in ts_spikes:\n",
    "    ts_spikes_random = ts_spikes_random.append_c(ts)\n",
    "\n",
    "# plt.figure()\n",
    "# ts_spikes_random.plot();"
   ]
  },
  {
   "cell_type": "code",
   "execution_count": 5,
   "metadata": {
    "scrolled": false
   },
   "outputs": [
    {
     "name": "stderr",
     "output_type": "stream",
     "text": [
      "WARNING:absl:No GPU/TPU found, falling back to CPU. (Set TF_CPP_MIN_LOG_LEVEL=0 and rerun for more info.)\n"
     ]
    },
    {
     "data": {
      "application/vnd.jupyter.widget-view+json": {
       "model_id": "7f1b6581f968427e88b3b2654d40c80f",
       "version_major": 2,
       "version_minor": 0
      },
      "text/plain": [
       "VBox(children=(Tab(children=(VBox(children=(HBox(children=(ToggleButtons(description='Spike Gen.:', options=('…"
      ]
     },
     "metadata": {},
     "output_type": "display_data"
    }
   ],
   "source": [
    "# Under-sampled simulation\n",
    "spike_params = SpikeParams(dt=1e-3)\n",
    "res = ResponseGUI((n_channels,), spike_params=spike_params, spike_in=ts_spikes_random)\n",
    "res.display()"
   ]
  },
  {
   "cell_type": "markdown",
   "metadata": {},
   "source": [
    "## Memory Usage"
   ]
  },
  {
   "cell_type": "code",
   "execution_count": 6,
   "metadata": {},
   "outputs": [
    {
     "name": "stdout",
     "output_type": "stream",
     "text": [
      "memory use: 604.92578125 MB\n"
     ]
    }
   ],
   "source": [
    "import os\n",
    "import psutil\n",
    "\n",
    "pid = os.getpid()\n",
    "python_process = psutil.Process(pid)\n",
    "memoryUse = python_process.memory_info()[0]/2.**20  # memory use in MB\n",
    "print(f\"memory use: {memoryUse} MB\")"
   ]
  }
 ],
 "metadata": {
  "kernelspec": {
   "display_name": "synsense",
   "language": "python",
   "name": "synsense"
  },
  "language_info": {
   "codemirror_mode": {
    "name": "ipython",
    "version": 3
   },
   "file_extension": ".py",
   "mimetype": "text/x-python",
   "name": "python",
   "nbconvert_exporter": "python",
   "pygments_lexer": "ipython3",
   "version": "3.8.10"
  }
 },
 "nbformat": 4,
 "nbformat_minor": 4
}
