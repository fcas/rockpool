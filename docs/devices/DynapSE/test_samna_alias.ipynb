{
    "cells": [
        {
            "cell_type": "code",
            "execution_count": 1,
            "metadata": {},
            "outputs": [
                {
                    "name": "stderr",
                    "output_type": "stream",
                    "text": [
                        "/Users/ugurcancakal/rockpool_xylosim/lib/python3.10/site-packages/tqdm/auto.py:22: TqdmWarning: IProgress not found. Please update jupyter and ipywidgets. See https://ipywidgets.readthedocs.io/en/stable/user_install.html\n",
                        "  from .autonotebook import tqdm as notebook_tqdm\n"
                    ]
                }
            ],
            "source": [
                "# Ignore warnings\n",
                "import warnings\n",
                "\n",
                "# warnings.filterwarnings(\"ignore\")\n",
                "\n",
                "import logging\n",
                "logging.basicConfig(level=logging.INFO)\n",
                "\n",
                "from typing import Optional, Tuple, Any\n",
                "\n",
                "from samna.dynapse2 import *\n",
                "import samna\n",
                "\n",
                "# Utils\n",
                "import numpy as np\n",
                "from tqdm import tqdm\n",
                "import time\n",
                "\n",
                "# Rockpool Imports\n",
                "from rockpool.timeseries import TSEvent\n",
                "from rockpool.nn.modules.jax import LinearJax\n",
                "from rockpool.nn.modules.jax import LIFJax\n",
                "from rockpool.nn.combinators import Sequential\n",
                "\n",
                "# DynapSE\n",
                "from rockpool.devices.dynapse.dynapsim import DynapSim\n",
                "from rockpool.devices.dynapse.utils.figure import Figure\n",
                "from rockpool.devices.dynapse.utils.spike_input import poisson_spike_train\n",
                "from rockpool.nn.modules.module import ModuleBase\n",
                "# from rockpool.devices.dynapse.ref.weights_old import WeightParameters\n",
                "from rockpool.devices.dynapse.quantize.weight_handler import WeightHandler\n",
                "\n",
                "## Dynap-SE2\n",
                "from rockpool.devices.dynapse.config.simconfig import DynapSimConfig\n",
                "from rockpool.devices.dynapse.samna_alias import dynapse2 as ds2\n",
                "from rockpool.devices.dynapse.interface.utils import find_dynapse_boards, configure_dynapse2_fpga, disconnect, raster_to_aer, capture_events_from_device\n",
                "from rockpool.devices.dynapse.interface.samna import DynapseSamna\n",
                "\n",
                "from rockpool.devices.dynapse.samna_alias.dynapse2 import Dynapse2Configuration\n",
                "# - Plotting and config\n",
                "import matplotlib.pyplot as plt\n",
                "\n",
                "# %matplotlib inline\n",
                "plt.rcParams[\"figure.figsize\"] = [5.6, 2.8]\n",
                "plt.rcParams[\"figure.dpi\"] = 1200\n",
                "plt.rcParams[\"font.family\"] = \"Times New Roman\"\n",
                "plt.rcParams[\"font.size\"] = 12\n"
            ]
        },
        {
            "cell_type": "code",
            "execution_count": 2,
            "metadata": {},
            "outputs": [
                {
                    "name": "stderr",
                    "output_type": "stream",
                    "text": [
                        "INFO:root: Total of 1 DYNAP-SE2 board(s) found with serial numbers : ['']\n"
                    ]
                }
            ],
            "source": [
                "## Connect to device\n",
                "se2_devices = find_dynapse_boards()"
            ]
        },
        {
            "cell_type": "code",
            "execution_count": 3,
            "metadata": {},
            "outputs": [],
            "source": [
                "found_se2 = len(se2_devices) > 0\n",
                "\n",
                "if not found_se2:\n",
                "    raise IOError('This tutorial requires a connected Dynap-SE2 Stack Board HDK to demonstrate.')\n",
                "else:\n",
                "    # board = configure_dynapse2_fpga(se2_devices[0])\n",
                "    se2_stack = se2_devices[0]"
            ]
        },
        {
            "cell_type": "code",
            "execution_count": 4,
            "metadata": {},
            "outputs": [
                {
                    "name": "stderr",
                    "output_type": "stream",
                    "text": [
                        "INFO:root:DYNAP-SE2 Stack is connected, configured and ready for operation!\n"
                    ]
                }
            ],
            "source": [
                "se2 = DynapseSamna((60,2), se2_stack)\n",
                "myConfig = se2.config"
            ]
        },
        {
            "cell_type": "code",
            "execution_count": 5,
            "metadata": {},
            "outputs": [
                {
                    "data": {
                        "text/plain": [
                            "<samna.dynapse2.Dynapse2Configuration at 0x173545630>"
                        ]
                    },
                    "execution_count": 5,
                    "metadata": {},
                    "output_type": "execute_result"
                }
            ],
            "source": [
                "myConfig"
            ]
        },
        {
            "cell_type": "code",
            "execution_count": 6,
            "metadata": {},
            "outputs": [],
            "source": [
                "se2_conf = Dynapse2Configuration.from_samna(myConfig)"
            ]
        },
        {
            "cell_type": "code",
            "execution_count": 7,
            "metadata": {},
            "outputs": [
                {
                    "data": {
                        "text/plain": [
                            "True"
                        ]
                    },
                    "execution_count": 7,
                    "metadata": {},
                    "output_type": "execute_result"
                }
            ],
            "source": [
                "myConfig.to_json() == se2_conf.to_json()"
            ]
        },
        {
            "cell_type": "code",
            "execution_count": 8,
            "metadata": {},
            "outputs": [
                {
                    "data": {
                        "text/plain": [
                            "True"
                        ]
                    },
                    "execution_count": 8,
                    "metadata": {},
                    "output_type": "execute_result"
                }
            ],
            "source": [
                "myConfig.chips[0].cores[0].neurons[0].destinations[0] == se2_conf.chips[0].cores[0].neurons[0].destinations[0].to_samna()"
            ]
        },
        {
            "cell_type": "code",
            "execution_count": 9,
            "metadata": {},
            "outputs": [
                {
                    "data": {
                        "text/plain": [
                            "<samna.dynapse2.Dynapse2Destination at 0x294f46770>"
                        ]
                    },
                    "execution_count": 9,
                    "metadata": {},
                    "output_type": "execute_result"
                }
            ],
            "source": [
                "se2_conf.chips[0].cores[0].neurons[0].destinations[0].to_samna()"
            ]
        },
        {
            "cell_type": "code",
            "execution_count": 10,
            "metadata": {},
            "outputs": [
                {
                    "data": {
                        "text/plain": [
                            "'{\\n    \"value0\": {\\n        \"core\": {\\n            \"value0\": false,\\n            \"value1\": false,\\n            \"value2\": false,\\n            \"value3\": false\\n        },\\n        \"xHop\": 0,\\n        \"yHop\": 0,\\n        \"tag\": 0\\n    }\\n}'"
                        ]
                    },
                    "execution_count": 10,
                    "metadata": {},
                    "output_type": "execute_result"
                }
            ],
            "source": [
                "se2_conf.chips[0].cores[0].neurons[0].destinations[0].to_json()"
            ]
        },
        {
            "cell_type": "code",
            "execution_count": 11,
            "metadata": {},
            "outputs": [],
            "source": [
                "# print(myConfig.chips[0].cores[0].neurons[0].synapses[0].to_json())"
            ]
        },
        {
            "cell_type": "code",
            "execution_count": 12,
            "metadata": {},
            "outputs": [],
            "source": [
                "# myConfig.chips[0].cores[0].neurons[0].destinations[0]"
            ]
        },
        {
            "cell_type": "code",
            "execution_count": 13,
            "metadata": {},
            "outputs": [],
            "source": [
                "# print(myConfig.chips[0].cores[0].to_json())"
            ]
        },
        {
            "cell_type": "code",
            "execution_count": 14,
            "metadata": {},
            "outputs": [
                {
                    "data": {
                        "text/plain": [
                            "<samna.dynapse2.NormalGridEvent at 0x2984a1430>"
                        ]
                    },
                    "execution_count": 14,
                    "metadata": {},
                    "output_type": "execute_result"
                }
            ],
            "source": [
                "samna.dynapse2.NormalGridEvent()"
            ]
        },
        {
            "cell_type": "code",
            "execution_count": 15,
            "metadata": {},
            "outputs": [],
            "source": [
                "from rockpool.devices.dynapse.samna_alias.dynapse2 import NormalGridEvent, Dynapse2Destination"
            ]
        },
        {
            "cell_type": "code",
            "execution_count": 16,
            "metadata": {},
            "outputs": [],
            "source": [
                "core = [1, 0 , 0, 0]\n",
                "x_hop = 1\n",
                "y_hop = 1\n",
                "tag = 1024\n",
                "event_time = 1.2\n",
                "dt_fpga = 1e-6\n",
                "\n",
                "event = NormalGridEvent(\n",
                "    event=Dynapse2Destination(core, x_hop, y_hop, tag),\n",
                "    timestamp=int(event_time / dt_fpga),\n",
                ")"
            ]
        },
        {
            "cell_type": "code",
            "execution_count": 17,
            "metadata": {},
            "outputs": [
                {
                    "name": "stdout",
                    "output_type": "stream",
                    "text": [
                        "True\n"
                    ]
                }
            ],
            "source": [
                "print(event.to_json() == event.to_samna().to_json())"
            ]
        },
        {
            "cell_type": "code",
            "execution_count": 18,
            "metadata": {},
            "outputs": [
                {
                    "name": "stdout",
                    "output_type": "stream",
                    "text": [
                        "{\n",
                        "    \"value0\": {\n",
                        "        \"event\": {\n",
                        "            \"core\": {\n",
                        "                \"value0\": true,\n",
                        "                \"value1\": false,\n",
                        "                \"value2\": false,\n",
                        "                \"value3\": false\n",
                        "            },\n",
                        "            \"xHop\": 1,\n",
                        "            \"yHop\": 1,\n",
                        "            \"tag\": 1024\n",
                        "        },\n",
                        "        \"timestamp\": 1200000\n",
                        "    }\n",
                        "}\n"
                    ]
                }
            ],
            "source": [
                "print(event.to_samna().to_json())"
            ]
        },
        {
            "cell_type": "code",
            "execution_count": 19,
            "metadata": {},
            "outputs": [
                {
                    "data": {
                        "text/plain": [
                            "True"
                        ]
                    },
                    "execution_count": 19,
                    "metadata": {},
                    "output_type": "execute_result"
                }
            ],
            "source": [
                "se2_conf.to_json() == myConfig.to_json()"
            ]
        },
        {
            "cell_type": "code",
            "execution_count": 20,
            "metadata": {},
            "outputs": [],
            "source": [
                "j_se2_conf = se2_conf.to_samna().to_json()\n",
                "\n",
                "with open(\"jse2.json\", \"w\") as f:\n",
                "    f.write(j_se2_conf)\n",
                "\n",
                "with open(\"mconfig.json\", \"w\") as f:\n",
                "    f.write(myConfig.to_json())"
            ]
        },
        {
            "cell_type": "code",
            "execution_count": null,
            "metadata": {},
            "outputs": [],
            "source": [
                "se2_conf.save()"
            ]
        },
        {
            "cell_type": "code",
            "execution_count": null,
            "metadata": {},
            "outputs": [],
            "source": []
        }
    ],
    "metadata": {
        "kernelspec": {
            "display_name": "Python 3.10.4 ('rockpool_xylosim')",
            "language": "python",
            "name": "python3"
        },
        "language_info": {
            "codemirror_mode": {
                "name": "ipython",
                "version": 3
            },
            "file_extension": ".py",
            "mimetype": "text/x-python",
            "name": "python",
            "nbconvert_exporter": "python",
            "pygments_lexer": "ipython3",
            "version": "3.10.4"
        },
        "orig_nbformat": 4,
        "vscode": {
            "interpreter": {
                "hash": "f273ebb3e2cd21f4dc14865dcedae547f71bab793487191cf33c3cc414e5c8d7"
            }
        }
    },
    "nbformat": 4,
    "nbformat_minor": 2
}
