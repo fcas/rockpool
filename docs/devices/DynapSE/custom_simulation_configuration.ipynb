{
 "cells": [
  {
   "cell_type": "markdown",
   "metadata": {},
   "source": [
    "# Custom Configuration"
   ]
  },
  {
   "cell_type": "code",
   "execution_count": 1,
   "metadata": {},
   "outputs": [
    {
     "name": "stdout",
     "output_type": "stream",
     "text": [
      "/home/ugurc/anaconda3/envs/synsense/lib/python3.8/site-packages/samna\n",
      "finished bindings\n",
      "No module named 'netgen' \n",
      "Router cannot extract the virtual connections from the network generator object!\n",
      "No module named 'netgen' \n",
      "Simulator object factory from the NetworkGenerator object is not possible!\n"
     ]
    }
   ],
   "source": [
    "from rockpool import (\n",
    "    TSEvent,\n",
    "    TSContinuous,\n",
    ")\n",
    "\n",
    "from rockpool.devices.dynapse import (\n",
    "    DynapSE1Jax,\n",
    "    DynapSE1NeuronSynapseJax,\n",
    "    DynapSE1Layout,\n",
    "    DPIParameters,\n",
    "    SynapseParameters,\n",
    "    FeedbackParameters,\n",
    "    MembraneParameters,\n",
    "    AHPParameters,\n",
    "    NMDAParameters,\n",
    "    AMPAParameters,\n",
    "    GABAAParameters,\n",
    "    GABABParameters,\n",
    "    DynapSE1SimCore,\n",
    "    random_spike_train,\n",
    "    step_pwl,\n",
    ")\n",
    "\n",
    "import numpy as np\n",
    "import jax.numpy as jnp\n",
    "\n",
    "# - Configuration of plots\n",
    "import matplotlib.pyplot as plt\n",
    "%matplotlib inline\n",
    "plt.rcParams['figure.figsize'] = [12, 4]\n",
    "plt.rcParams['figure.dpi'] = 300"
   ]
  },
  {
   "cell_type": "code",
   "execution_count": 2,
   "metadata": {},
   "outputs": [],
   "source": [
    "# Visualisation Utility\n",
    "def plot_out(output_spikes, name=\"Output Spikes\", *args, **kwargs):\n",
    "\n",
    "    out = TSEvent.from_raster(\n",
    "        output_spikes, \n",
    "        dt=dt, \n",
    "        name=name\n",
    "    )\n",
    "\n",
    "    out.plot(*args, **kwargs);\n",
    "    return out"
   ]
  },
  {
   "cell_type": "code",
   "execution_count": 3,
   "metadata": {
    "scrolled": true
   },
   "outputs": [
    {
     "name": "stdout",
     "output_type": "stream",
     "text": [
      "DynapSE1Layout(kappa_n=0.75, kappa_p=0.66, Ut=0.025, Io=5e-13)\n"
     ]
    }
   ],
   "source": [
    "# layout?\n",
    "\n",
    "layout = DynapSE1Layout(\n",
    "    kappa_n=0.75, \n",
    "    kappa_p=0.66, \n",
    "    Ut=0.025, \n",
    "    Io=5e-13\n",
    ")\n",
    "\n",
    "print(layout)"
   ]
  },
  {
   "cell_type": "code",
   "execution_count": 4,
   "metadata": {},
   "outputs": [
    {
     "name": "stdout",
     "output_type": "stream",
     "text": [
      "FeedbackParameters(Igain=5e-11, Ith=5e-10, Inorm=1e-11)\n"
     ]
    }
   ],
   "source": [
    "# feedback?\n",
    "\n",
    "feedback = FeedbackParameters(\n",
    "    Igain=5e-11, \n",
    "    Ith=5e-10, \n",
    "    Inorm=1e-11\n",
    ")\n",
    "\n",
    "# assert feedback == FeedbackParameters()\n",
    "\n",
    "print(feedback)"
   ]
  },
  {
   "cell_type": "code",
   "execution_count": 5,
   "metadata": {},
   "outputs": [
    {
     "name": "stdout",
     "output_type": "stream",
     "text": [
      "MembraneParameters(Itau=1.1347517730496453e-11, Ith=4.539007092198581e-11, tau=0.01, f_gain=4, C=3.2e-12, layout=DynapSE1Layout(kappa_n=0.75, kappa_p=0.66, Ut=0.025, Io=5e-13), Cref=5e-13, Cpulse=5e-13, Imem=5e-13, Iref=1.7730496453900708e-12, t_ref=0.01, Ipulse=1.7730496453900706e-09, t_pulse=1e-05, feedback=FeedbackParameters(Igain=5e-11, Ith=5e-10, Inorm=1e-11))\n"
     ]
    }
   ],
   "source": [
    "# DPIParameters?\n",
    "# MembraneParameters?\n",
    "\n",
    "mem = MembraneParameters(\n",
    "    Itau=None, # Deduce from tau & layout \n",
    "    f_gain=4, \n",
    "    C=3.2e-12, \n",
    "    tau=1e-2,\n",
    "    layout=layout,\n",
    "    Imem=None, # Set to dark current Io\n",
    "    feedback=feedback,\n",
    ")\n",
    "\n",
    "# assert mem == MembraneParameters()\n",
    "\n",
    "print(mem)"
   ]
  },
  {
   "cell_type": "code",
   "execution_count": 6,
   "metadata": {},
   "outputs": [
    {
     "name": "stdout",
     "output_type": "stream",
     "text": [
      "AHPParameters(Itau=7e-12, Ith=2.8e-11, tau=0.20263424518743664, f_gain=4, C=4e-11, layout=DynapSE1Layout(kappa_n=0.75, kappa_p=0.66, Ut=0.025, Io=5e-13), Iw=1e-07, Isyn=5e-13)\n"
     ]
    }
   ],
   "source": [
    "# DPIParameters?\n",
    "# SynapseParameters?\n",
    "# AHPParameters?\n",
    "\n",
    "ahp = AHPParameters(\n",
    "    Itau=7e-12, \n",
    "    f_gain=4, \n",
    "    C=4e-11, \n",
    "    tau=None, # Deduce from Itau & layout \n",
    "    layout=layout, \n",
    "    Iw=1e-07, \n",
    "    Isyn=None, # Set to dark current Io\n",
    ")\n",
    "\n",
    "# assert ahp == AHPParameters()\n",
    "\n",
    "print(ahp)"
   ]
  },
  {
   "cell_type": "code",
   "execution_count": 7,
   "metadata": {},
   "outputs": [
    {
     "name": "stdout",
     "output_type": "stream",
     "text": [
      "NMDAParameters(Itau=7e-12, Ith=2.8e-11, tau=0.14184397163120566, f_gain=4, C=2.8e-11, layout=DynapSE1Layout(kappa_n=0.75, kappa_p=0.66, Ut=0.025, Io=5e-13), Iw=1e-07, Isyn=5e-13)\n"
     ]
    }
   ],
   "source": [
    "# DPIParameters?\n",
    "# SynapseParameters?\n",
    "# NMDAParameters?\n",
    "\n",
    "nmda = NMDAParameters(\n",
    "    Itau=7e-12, \n",
    "    f_gain=4, \n",
    "    C=2.8e-11, \n",
    "    tau=None, # Deduce from Itau & layout \n",
    "    layout=layout, \n",
    "    Iw=1e-07, \n",
    "    Isyn=None, # Set to dark current Io\n",
    ")\n",
    "\n",
    "# assert nmda == NMDAParameters()\n",
    "\n",
    "print(nmda)"
   ]
  },
  {
   "cell_type": "code",
   "execution_count": 8,
   "metadata": {},
   "outputs": [
    {
     "name": "stdout",
     "output_type": "stream",
     "text": [
      "AMPAParameters(Itau=7e-12, Ith=2.8e-11, tau=0.14184397163120566, f_gain=4, C=2.8e-11, layout=DynapSE1Layout(kappa_n=0.75, kappa_p=0.66, Ut=0.025, Io=5e-13), Iw=1e-07, Isyn=5e-13)\n"
     ]
    }
   ],
   "source": [
    "ampa = AMPAParameters(\n",
    "    Itau=7e-12, \n",
    "    f_gain=4, \n",
    "    C=2.8e-11, \n",
    "    tau=None, # Deduce from Itau & layout \n",
    "    layout=layout, \n",
    "    Iw=1e-07, \n",
    "    Isyn=None, # Set to dark current Io\n",
    ")\n",
    "\n",
    "# assert ampa == AMPAParameters()\n",
    "\n",
    "print(ampa)"
   ]
  },
  {
   "cell_type": "code",
   "execution_count": 9,
   "metadata": {},
   "outputs": [
    {
     "name": "stdout",
     "output_type": "stream",
     "text": [
      "GABAAParameters(Itau=7e-12, Ith=2.8e-11, tau=0.13677811550151975, f_gain=4, C=2.7e-11, layout=DynapSE1Layout(kappa_n=0.75, kappa_p=0.66, Ut=0.025, Io=5e-13), Iw=1e-07, Isyn=5e-13)\n"
     ]
    }
   ],
   "source": [
    "gaba_a = GABAAParameters(\n",
    "    Itau=7e-12, \n",
    "    f_gain=4, \n",
    "    C=2.7e-11, \n",
    "    tau=None, # Deduce from Itau & layout \n",
    "    layout=layout, \n",
    "    Iw=1e-7, # Deactivate the block \n",
    "    Isyn=None, # Set to dark current Io\n",
    ")\n",
    "\n",
    "# assert gaba_a == GABAAParameters()\n",
    "\n",
    "print(gaba_a)"
   ]
  },
  {
   "cell_type": "code",
   "execution_count": 10,
   "metadata": {},
   "outputs": [
    {
     "name": "stdout",
     "output_type": "stream",
     "text": [
      "GABABParameters(Itau=7e-12, Ith=2.8e-11, tau=0.13677811550151975, f_gain=4, C=2.7e-11, layout=DynapSE1Layout(kappa_n=0.75, kappa_p=0.66, Ut=0.025, Io=5e-13), Iw=1e-07, Isyn=5e-13)\n"
     ]
    }
   ],
   "source": [
    "gaba_b = GABABParameters(\n",
    "    Itau=7e-12, \n",
    "    f_gain=4, \n",
    "    C=2.7e-11, \n",
    "    tau=None, # Deduce from Itau & layout \n",
    "    layout=layout, \n",
    "    Iw=1e-7, # Deactivate the block \n",
    "    Isyn=None, # Set to dark current Io\n",
    ")\n",
    "\n",
    "# assert gaba_b == GABABParameters()\n",
    "\n",
    "print(gaba_b)"
   ]
  },
  {
   "cell_type": "code",
   "execution_count": 11,
   "metadata": {},
   "outputs": [
    {
     "ename": "TypeError",
     "evalue": "__init__() got an unexpected keyword argument 't_ref'",
     "output_type": "error",
     "traceback": [
      "\u001b[0;31m---------------------------------------------------------------------------\u001b[0m",
      "\u001b[0;31mTypeError\u001b[0m                                 Traceback (most recent call last)",
      "\u001b[0;32m<ipython-input-11-084497aa03be>\u001b[0m in \u001b[0;36m<module>\u001b[0;34m\u001b[0m\n\u001b[1;32m      1\u001b[0m \u001b[0;31m# DynapSE1Parameters?\u001b[0m\u001b[0;34m\u001b[0m\u001b[0;34m\u001b[0m\u001b[0;34m\u001b[0m\u001b[0m\n\u001b[1;32m      2\u001b[0m \u001b[0;34m\u001b[0m\u001b[0m\n\u001b[0;32m----> 3\u001b[0;31m sim_config = DynapSE1SimCore(\n\u001b[0m\u001b[1;32m      4\u001b[0m     \u001b[0mt_ref\u001b[0m \u001b[0;34m=\u001b[0m \u001b[0;36m10e-3\u001b[0m\u001b[0;34m,\u001b[0m\u001b[0;34m\u001b[0m\u001b[0;34m\u001b[0m\u001b[0m\n\u001b[1;32m      5\u001b[0m     \u001b[0mt_pulse\u001b[0m \u001b[0;34m=\u001b[0m \u001b[0;36m1e-5\u001b[0m\u001b[0;34m,\u001b[0m\u001b[0;34m\u001b[0m\u001b[0;34m\u001b[0m\u001b[0m\n",
      "\u001b[0;31mTypeError\u001b[0m: __init__() got an unexpected keyword argument 't_ref'"
     ]
    }
   ],
   "source": [
    "# DynapSE1Parameters?\n",
    "\n",
    "sim_config = DynapSE1SimCore(\n",
    "    t_ref = 10e-3,\n",
    "    t_pulse = 1e-5,\n",
    "    fpulse_ahp = 0.1,\n",
    "    Ispkthr = 1e-9,\n",
    "    Ireset = None, # Set to dark current Io\n",
    "    Idc = None, # Set to dark current Io\n",
    "    If_nmda = None, # Set to dark current Io\n",
    "    layout = layout,\n",
    "    mem = mem,\n",
    "    ahp = ahp,\n",
    "    nmda = nmda,\n",
    "    ampa = ampa,\n",
    "    gaba_a = gaba_a,\n",
    "    gaba_b = gaba_b,\n",
    ")\n",
    "\n",
    "print(sim_config)"
   ]
  },
  {
   "cell_type": "code",
   "execution_count": null,
   "metadata": {},
   "outputs": [],
   "source": [
    "# DynapSE1NeuronSynapseJax?\n",
    "\n",
    "Nin = 3 # number of neurons\n",
    "Nrec = 5\n",
    "dt = 1e-3 # simulation time resolution\n",
    "\n",
    "w_in = np.array(\n",
    "       #  Gb Ga N  A\n",
    "       [[[0, 0, 0, 1],  # pre = 0 (virtual) post = 0 (device)\n",
    "         [0, 0, 0, 1],  #                   post = 1 (device)\n",
    "         [0, 0, 0, 0],  #                   post = 2 (device)\n",
    "         [0, 0, 0, 0],  #                   post = 3 (device)\n",
    "         [0, 0, 0, 1]], #                   post = 4 (device)\n",
    "\n",
    "        [[0, 0, 0, 0],  # pre = 1 (virtual)\n",
    "         [0, 0, 0, 0],\n",
    "         [0, 0, 1, 0],\n",
    "         [0, 0, 1, 0],\n",
    "         [0, 0, 0, 1]],\n",
    "\n",
    "        [[0, 0, 0, 0],  # pre = 2 (virtual)\n",
    "         [0, 0, 0, 0], \n",
    "         [0, 0, 0, 0],\n",
    "         [0, 0, 0, 0],\n",
    "         [0, 1, 0, 0]]], dtype=np.uint8)\n",
    "\n",
    "# Virtual(External Input)\n",
    "\n",
    "#     AMPA : 1 from v0 to n0, 1 from n5 to n1 1 from n5 to n4\n",
    "#     NMDA : 1 from v1 to n2, 1 from n6 to n3 1 from n6 to n4\n",
    "#     GABA_A: 1 from v2 to n4\n",
    "\n",
    "w_rec = np.array(\n",
    "      #  Gb Ga N  A\n",
    "       [[[0, 0, 0, 0],  # pre = 0 (device)  post = 0 (device)\n",
    "         [0, 0, 0, 1],  #                   post = 1 (device)\n",
    "         [0, 0, 0, 0],  #                   post = 2 (device)\n",
    "         [0, 0, 0, 0],  #                   post = 3 (device)\n",
    "         [0, 1, 0, 0]], #                   post = 4 (device)\n",
    "\n",
    "        [[0, 0, 0, 0],  # pre = 1 (device)\n",
    "         [0, 0, 0, 0],\n",
    "         [0, 0, 0, 0],\n",
    "         [0, 0, 0, 0],\n",
    "         [0, 0, 0, 0]],\n",
    "\n",
    "        [[2, 0, 0, 0],  # pre = 2 (device)\n",
    "         [0, 0, 0, 0],\n",
    "         [0, 0, 0, 0],\n",
    "         [0, 0, 0, 1],\n",
    "         [0, 0, 0, 0]],\n",
    "\n",
    "        [[0, 0, 0, 0],  # pre = 3 (device)\n",
    "         [0, 0, 0, 0],\n",
    "         [0, 0, 0, 1],\n",
    "         [0, 0, 0, 0],\n",
    "         [0, 0, 0, 0]],\n",
    "       \n",
    "        [[0, 0, 0, 0],  # pre = 4 (device)\n",
    "         [0, 0, 0, 0],\n",
    "         [0, 0, 0, 0],\n",
    "         [0, 0, 0, 0],\n",
    "         [0, 0, 1, 0]]], dtype=np.uint8)\n",
    "\n",
    "# Real\n",
    "#     AMPA : 1 from n0 to n1, 1 from n2 to n3, 1 from n3 to n2\n",
    "#     NMDA : 1 from n4 to n4\n",
    "#     GABA_A: 1 from n0 to n4\n",
    "#     GABA_B: 2 from n2 to n0\n",
    "\n",
    "modSE = DynapSE1NeuronSynapseJax(\n",
    "    shape=(Nin,Nrec),\n",
    "    sim_config=sim_config,\n",
    "    w_in = w_in,\n",
    "    w_rec = w_rec,\n",
    "    dt=dt,\n",
    "    rng_key=None, # Set randomly\n",
    "    spiking_input=True,\n",
    "    spiking_output=True,\n",
    ")\n",
    "\n",
    "print(modSE)"
   ]
  },
  {
   "cell_type": "code",
   "execution_count": null,
   "metadata": {},
   "outputs": [],
   "source": [
    "T = 1\n",
    "rate = 50\n",
    "input_ts = random_spike_train(\n",
    "    duration=T,\n",
    "    n_channels=Nin,\n",
    "    rate=rate,\n",
    "    dt=dt,\n",
    "    name='Input Spike Train',\n",
    ")"
   ]
  },
  {
   "cell_type": "code",
   "execution_count": null,
   "metadata": {},
   "outputs": [],
   "source": [
    "input_ts.plot();"
   ]
  },
  {
   "cell_type": "code",
   "execution_count": null,
   "metadata": {},
   "outputs": [],
   "source": [
    "out_spikes, new_state, record_dict = modSE(input_ts.raster(dt = dt))\n",
    "out = plot_out(out_spikes);"
   ]
  },
  {
   "cell_type": "code",
   "execution_count": null,
   "metadata": {},
   "outputs": [],
   "source": []
  }
 ],
 "metadata": {
  "kernelspec": {
   "display_name": "synsense",
   "language": "python",
   "name": "synsense"
  },
  "language_info": {
   "codemirror_mode": {
    "name": "ipython",
    "version": 3
   },
   "file_extension": ".py",
   "mimetype": "text/x-python",
   "name": "python",
   "nbconvert_exporter": "python",
   "pygments_lexer": "ipython3",
   "version": "3.8.10"
  }
 },
 "nbformat": 4,
 "nbformat_minor": 4
}
