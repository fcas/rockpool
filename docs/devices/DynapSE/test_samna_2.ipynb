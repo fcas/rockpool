{
    "cells": [
        {
            "cell_type": "code",
            "execution_count": 1,
            "metadata": {},
            "outputs": [
                {
                    "name": "stderr",
                    "output_type": "stream",
                    "text": [
                        "/Users/ugurcancakal/rockpool/lib/python3.10/site-packages/jax/_src/lib/__init__.py:33: UserWarning: JAX on Mac ARM machines is experimental and minimally tested. Please see https://github.com/google/jax/issues/5501 in the event of problems.\n",
                        "  warnings.warn(\"JAX on Mac ARM machines is experimental and minimally tested. \"\n"
                    ]
                }
            ],
            "source": [
                "# Ignore warnings\n",
                "import warnings\n",
                "\n",
                "# warnings.filterwarnings(\"ignore\")\n",
                "\n",
                "import logging\n",
                "logging.basicConfig(level=logging.INFO)\n",
                "\n",
                "from typing import Optional, Tuple, Any\n",
                "\n",
                "from samna.dynapse2 import *\n",
                "import samna\n",
                "\n",
                "# Utils\n",
                "import numpy as np\n",
                "from tqdm import tqdm\n",
                "import time\n",
                "\n",
                "# Rockpool Imports\n",
                "from rockpool.timeseries import TSEvent\n",
                "from rockpool.nn.modules.jax import LinearJax\n",
                "from rockpool.nn.modules.jax import LIFJax\n",
                "from rockpool.nn.combinators import Sequential\n",
                "\n",
                "# DynapSE\n",
                "from rockpool.devices.dynapse.dynapsim import DynapSim\n",
                "from rockpool.devices.dynapse.utils.figure import Figure\n",
                "from rockpool.devices.dynapse.utils.spike_input import poisson_spike_train\n",
                "from rockpool.nn.modules.module import ModuleBase\n",
                "# from rockpool.devices.dynapse.ref.weights_old import WeightParameters\n",
                "from rockpool.devices.dynapse.quantize.weight_handler import WeightHandler\n",
                "\n",
                "## Dynap-SE2\n",
                "from rockpool.devices.dynapse.config.simconfig import DynapSimConfig\n",
                "from rockpool.devices.dynapse.samna_alias import dynapse2 as ds2\n",
                "from rockpool.devices.dynapse.interface.utils import find_dynapse_boards,configure_dynapse2_fpga, get_model, disconnect, capture_timeseries_from_device, dispatch_timeseries_to_device\n",
                "from rockpool.devices.dynapse.interface.samna import DynapseSamna\n",
                "\n",
                "# - Plotting and config\n",
                "import matplotlib.pyplot as plt\n",
                "\n",
                "# %matplotlib inline\n",
                "plt.rcParams[\"figure.figsize\"] = [5.6, 2.8]\n",
                "plt.rcParams[\"figure.dpi\"] = 1200\n",
                "plt.rcParams[\"font.family\"] = \"Times New Roman\"\n",
                "plt.rcParams[\"font.size\"] = 12\n"
            ]
        },
        {
            "cell_type": "code",
            "execution_count": 2,
            "metadata": {},
            "outputs": [
                {
                    "name": "stderr",
                    "output_type": "stream",
                    "text": [
                        "INFO:root: Total of 1 DYNAP-SE2 board(s) found with serial numbers : ['']\n"
                    ]
                }
            ],
            "source": [
                "devices = find_dynapse_boards()"
            ]
        },
        {
            "cell_type": "code",
            "execution_count": 3,
            "metadata": {},
            "outputs": [
                {
                    "name": "stderr",
                    "output_type": "stream",
                    "text": [
                        "INFO:root:DYNAP-SE2 Stack is connected, configured and ready for operation!\n"
                    ]
                }
            ],
            "source": [
                "board = configure_dynapse2_fpga(devices[0])"
            ]
        },
        {
            "cell_type": "code",
            "execution_count": null,
            "metadata": {},
            "outputs": [],
            "source": []
        },
        {
            "cell_type": "code",
            "execution_count": 4,
            "metadata": {},
            "outputs": [],
            "source": [
                "se2 = DynapseSamna((1,1),board)"
            ]
        },
        {
            "cell_type": "code",
            "execution_count": 5,
            "metadata": {},
            "outputs": [
                {
                    "data": {
                        "text/plain": [
                            "0.101367"
                        ]
                    },
                    "execution_count": 5,
                    "metadata": {},
                    "output_type": "execute_result"
                }
            ],
            "source": [
                "se2.current_timestamp()"
            ]
        },
        {
            "cell_type": "code",
            "execution_count": 6,
            "metadata": {},
            "outputs": [
                {
                    "data": {
                        "text/plain": [
                            "True"
                        ]
                    },
                    "execution_count": 6,
                    "metadata": {},
                    "output_type": "execute_result"
                }
            ],
            "source": [
                "se2.reset_time()"
            ]
        },
        {
            "cell_type": "code",
            "execution_count": 7,
            "metadata": {},
            "outputs": [
                {
                    "data": {
                        "text/plain": [
                            "0.059077"
                        ]
                    },
                    "execution_count": 7,
                    "metadata": {},
                    "output_type": "execute_result"
                }
            ],
            "source": [
                "se2.current_timestamp()"
            ]
        },
        {
            "cell_type": "code",
            "execution_count": null,
            "metadata": {},
            "outputs": [],
            "source": [
                "se2(spike_)"
            ]
        },
        {
            "cell_type": "code",
            "execution_count": 8,
            "metadata": {},
            "outputs": [
                {
                    "name": "stderr",
                    "output_type": "stream",
                    "text": [
                        "WARNING:root:DYNAP-SE2 Stack disconnected!\n"
                    ]
                }
            ],
            "source": [
                "disconnect(board)"
            ]
        },
        {
            "cell_type": "code",
            "execution_count": null,
            "metadata": {},
            "outputs": [],
            "source": []
        }
    ],
    "metadata": {
        "kernelspec": {
            "display_name": "Python 3.10.4 ('rockpool')",
            "language": "python",
            "name": "python3"
        },
        "language_info": {
            "codemirror_mode": {
                "name": "ipython",
                "version": 3
            },
            "file_extension": ".py",
            "mimetype": "text/x-python",
            "name": "python",
            "nbconvert_exporter": "python",
            "pygments_lexer": "ipython3",
            "version": "3.10.4"
        },
        "orig_nbformat": 4,
        "vscode": {
            "interpreter": {
                "hash": "563178da4d2f83233e8fe69c4a4c639f48fd5510273c5c460aa8c07326743f38"
            }
        }
    },
    "nbformat": 4,
    "nbformat_minor": 2
}
