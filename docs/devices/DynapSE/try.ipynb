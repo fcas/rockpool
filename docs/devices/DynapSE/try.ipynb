{
 "cells": [
  {
   "cell_type": "code",
   "execution_count": 1,
   "metadata": {},
   "outputs": [
    {
     "name": "stderr",
     "output_type": "stream",
     "text": [
      "WARNING:absl:No GPU/TPU found, falling back to CPU. (Set TF_CPP_MIN_LOG_LEVEL=0 and rerun for more info.)\n"
     ]
    }
   ],
   "source": [
    "from measure_syn_tau import *\n",
    "from rockpool.devices.dynapse import *"
   ]
  },
  {
   "cell_type": "code",
   "execution_count": 2,
   "metadata": {},
   "outputs": [
    {
     "ename": "NameError",
     "evalue": "name 'get_board' is not defined",
     "output_type": "error",
     "traceback": [
      "\u001b[0;31m---------------------------------------------------------------------------\u001b[0m",
      "\u001b[0;31mNameError\u001b[0m                                 Traceback (most recent call last)",
      "\u001b[0;32m<ipython-input-2-7710fb4fe592>\u001b[0m in \u001b[0;36m<module>\u001b[0;34m\u001b[0m\n\u001b[0;32m----> 1\u001b[0;31m \u001b[0msim_board\u001b[0m \u001b[0;34m=\u001b[0m \u001b[0mget_board\u001b[0m\u001b[0;34m(\u001b[0m\u001b[0mAMPABase\u001b[0m\u001b[0;34m(\u001b[0m\u001b[0mSOIF_LEAK_N\u001b[0m\u001b[0;34m=\u001b[0m\u001b[0;34m(\u001b[0m\u001b[0;36m1\u001b[0m\u001b[0;34m,\u001b[0m\u001b[0;36m50\u001b[0m\u001b[0;34m)\u001b[0m\u001b[0;34m)\u001b[0m\u001b[0;34m)\u001b[0m\u001b[0;34m\u001b[0m\u001b[0;34m\u001b[0m\u001b[0m\n\u001b[0m",
      "\u001b[0;31mNameError\u001b[0m: name 'get_board' is not defined"
     ]
    }
   ],
   "source": [
    "sim_board = get_board(AMPABase(SOIF_LEAK_N=(1,50)))"
   ]
  },
  {
   "cell_type": "code",
   "execution_count": null,
   "metadata": {},
   "outputs": [
    {
     "ename": "NameError",
     "evalue": "name 'DynapSE1Jax' is not defined",
     "output_type": "error",
     "traceback": [
      "\u001b[0;31m---------------------------------------------------------------------------\u001b[0m",
      "\u001b[0;31mNameError\u001b[0m                                 Traceback (most recent call last)",
      "\u001b[0;32m<ipython-input-3-f05e23c20dd5>\u001b[0m in \u001b[0;36m<module>\u001b[0;34m\u001b[0m\n\u001b[0;32m----> 1\u001b[0;31m \u001b[0mse1\u001b[0m \u001b[0;34m=\u001b[0m \u001b[0mDynapSE1Jax\u001b[0m\u001b[0;34m(\u001b[0m\u001b[0;34m(\u001b[0m\u001b[0;36m20\u001b[0m\u001b[0;34m,\u001b[0m\u001b[0;36m5\u001b[0m\u001b[0;34m)\u001b[0m\u001b[0;34m,\u001b[0m \u001b[0msim_board\u001b[0m\u001b[0;34m,\u001b[0m \u001b[0mw_rec\u001b[0m\u001b[0;34m=\u001b[0m\u001b[0mnp\u001b[0m\u001b[0;34m.\u001b[0m\u001b[0mzeros\u001b[0m\u001b[0;34m(\u001b[0m\u001b[0;34m(\u001b[0m\u001b[0;36m5\u001b[0m\u001b[0;34m,\u001b[0m\u001b[0;36m5\u001b[0m\u001b[0;34m,\u001b[0m\u001b[0;36m4\u001b[0m\u001b[0;34m)\u001b[0m\u001b[0;34m)\u001b[0m\u001b[0;34m,\u001b[0m \u001b[0mdt\u001b[0m\u001b[0;34m=\u001b[0m\u001b[0;36m1e-3\u001b[0m\u001b[0;34m)\u001b[0m\u001b[0;34m\u001b[0m\u001b[0;34m\u001b[0m\u001b[0m\n\u001b[0m",
      "\u001b[0;31mNameError\u001b[0m: name 'DynapSE1Jax' is not defined"
     ]
    }
   ],
   "source": [
    "se1 = DynapSE1Jax((20,5), sim_board, w_rec=np.zeros((5,5,4)), dt=1e-3)"
   ]
  },
  {
   "cell_type": "code",
   "execution_count": null,
   "metadata": {},
   "outputs": [
    {
     "data": {
      "text/plain": [
       "DeviceArray([[[0.0000000e+00, 0.0000000e+00, 0.0000000e+00,\n",
       "               4.9159473e-07],\n",
       "              [0.0000000e+00, 0.0000000e+00, 0.0000000e+00,\n",
       "               0.0000000e+00],\n",
       "              [0.0000000e+00, 0.0000000e+00, 0.0000000e+00,\n",
       "               0.0000000e+00],\n",
       "              [0.0000000e+00, 0.0000000e+00, 0.0000000e+00,\n",
       "               0.0000000e+00],\n",
       "              [0.0000000e+00, 0.0000000e+00, 0.0000000e+00,\n",
       "               0.0000000e+00]],\n",
       "\n",
       "             [[0.0000000e+00, 0.0000000e+00, 0.0000000e+00,\n",
       "               0.0000000e+00],\n",
       "              [0.0000000e+00, 0.0000000e+00, 0.0000000e+00,\n",
       "               4.9159473e-07],\n",
       "              [0.0000000e+00, 0.0000000e+00, 0.0000000e+00,\n",
       "               0.0000000e+00],\n",
       "              [0.0000000e+00, 0.0000000e+00, 0.0000000e+00,\n",
       "               0.0000000e+00],\n",
       "              [0.0000000e+00, 0.0000000e+00, 0.0000000e+00,\n",
       "               0.0000000e+00]],\n",
       "\n",
       "             [[0.0000000e+00, 0.0000000e+00, 0.0000000e+00,\n",
       "               0.0000000e+00],\n",
       "              [0.0000000e+00, 0.0000000e+00, 0.0000000e+00,\n",
       "               0.0000000e+00],\n",
       "              [0.0000000e+00, 0.0000000e+00, 0.0000000e+00,\n",
       "               4.9159473e-07],\n",
       "              [0.0000000e+00, 0.0000000e+00, 0.0000000e+00,\n",
       "               0.0000000e+00],\n",
       "              [0.0000000e+00, 0.0000000e+00, 0.0000000e+00,\n",
       "               0.0000000e+00]],\n",
       "\n",
       "             [[0.0000000e+00, 0.0000000e+00, 0.0000000e+00,\n",
       "               0.0000000e+00],\n",
       "              [0.0000000e+00, 0.0000000e+00, 0.0000000e+00,\n",
       "               0.0000000e+00],\n",
       "              [0.0000000e+00, 0.0000000e+00, 0.0000000e+00,\n",
       "               0.0000000e+00],\n",
       "              [0.0000000e+00, 0.0000000e+00, 0.0000000e+00,\n",
       "               4.9159473e-07],\n",
       "              [0.0000000e+00, 0.0000000e+00, 0.0000000e+00,\n",
       "               0.0000000e+00]],\n",
       "\n",
       "             [[0.0000000e+00, 0.0000000e+00, 0.0000000e+00,\n",
       "               0.0000000e+00],\n",
       "              [0.0000000e+00, 0.0000000e+00, 0.0000000e+00,\n",
       "               0.0000000e+00],\n",
       "              [0.0000000e+00, 0.0000000e+00, 0.0000000e+00,\n",
       "               0.0000000e+00],\n",
       "              [0.0000000e+00, 0.0000000e+00, 0.0000000e+00,\n",
       "               0.0000000e+00],\n",
       "              [0.0000000e+00, 0.0000000e+00, 0.0000000e+00,\n",
       "               4.9159473e-07]]], dtype=float32)"
      ]
     },
     "execution_count": 4,
     "metadata": {},
     "output_type": "execute_result"
    }
   ],
   "source": [
    "sim_board.bit_mask = np.array([0b0000, 0b0000, 0b0000, 0b0001])\n",
    "CAM_in = np.zeros((5,5,4))\n",
    "CAM_in[0][0][3] = 1\n",
    "CAM_in[1][1][3] = 1\n",
    "CAM_in[2][2][3] = 1\n",
    "CAM_in[3][3][3] = 1\n",
    "CAM_in[4][4][3] = 1\n",
    "w_in = sim_board.weight_matrix(CAM_in)\n",
    "# w_in = sim_board.weight_matrix(np.ones((5,5,4)))\n",
    "fpga = DynapSEFPGA((5,20), sim_board, w_in = w_in)\n",
    "w_in\n",
    "\n"
   ]
  },
  {
   "cell_type": "code",
   "execution_count": null,
   "metadata": {},
   "outputs": [],
   "source": [
    "modSE = TimedModuleWrapper(Sequential(fpga, se1), dt=se1.dt,)"
   ]
  },
  {
   "cell_type": "code",
   "execution_count": null,
   "metadata": {},
   "outputs": [
    {
     "data": {
      "image/png": "[encoded data removed]",
      "text/plain": [
       "<Figure size 432x288 with 1 Axes>"
      ]
     },
     "metadata": {
      "needs_background": "light"
     },
     "output_type": "display_data"
    }
   ],
   "source": [
    "input_ts = custom_spike_train(\n",
    "    times = [0.01, 0.01, 0.01, 0.01, 0.01],\n",
    "    channels = [0, 1, 2, 3, 4],\n",
    "    duration = 0.250,\n",
    "    name = \"Pulse Trigger\",\n",
    ")\n",
    "\n",
    "input_ts.plot();"
   ]
  },
  {
   "cell_type": "code",
   "execution_count": null,
   "metadata": {},
   "outputs": [],
   "source": [
    "out_spikes, new_state, record_dict = modSE(input_ts, record=True)"
   ]
  },
  {
   "cell_type": "code",
   "execution_count": null,
   "metadata": {},
   "outputs": [],
   "source": [
    "rd = record_dict[\"1_DynapSE1Jax\"]"
   ]
  },
  {
   "cell_type": "code",
   "execution_count": null,
   "metadata": {},
   "outputs": [
    {
     "data": {
      "image/png": "[encoded data removed]",
      "text/plain": [
       "<Figure size 432x288 with 1 Axes>"
      ]
     },
     "metadata": {
      "needs_background": "light"
     },
     "output_type": "display_data"
    }
   ],
   "source": [
    "Figure.plot_Ix(rd[\"Vmem\"], name=\"$V_{mem}$\", idx_map=se1.idx_map);"
   ]
  },
  {
   "cell_type": "code",
   "execution_count": null,
   "metadata": {},
   "outputs": [],
   "source": [
    "import jax\n",
    "j_modSE =jax.jit(modSE.module)"
   ]
  },
  {
   "cell_type": "code",
   "execution_count": null,
   "metadata": {},
   "outputs": [],
   "source": [
    "out_spikes, new_state, record_dict = j_modSE(input_ts.raster(1e-3))"
   ]
  },
  {
   "cell_type": "code",
   "execution_count": null,
   "metadata": {},
   "outputs": [],
   "source": [
    "_params = {\n",
    "    \"Itau_syn\": sim_board.Itau_syn,\n",
    "    \"f_gain_syn\": sim_board.f_gain_syn,\n",
    "    \"Itau_ahp\": sim_board.Itau_ahp,\n",
    "    \"f_gain_ahp\": sim_board.f_gain_ahp,\n",
    "    \"Iw_ahp\": sim_board.Iw_ahp,\n",
    "    \"Itau_mem\": sim_board.Itau_mem,\n",
    "    \"Itau2_mem\": sim_board.Itau2_mem,\n",
    "    \"f_gain_mem\": sim_board.f_gain_mem,\n",
    "    \"Idc\": sim_board.Idc,\n",
    "    \"If_nmda\": sim_board.If_nmda,\n",
    "    \"Iref\": sim_board.Iref,\n",
    "    \"Ipulse\": sim_board.Ipulse,\n",
    "    \"Ispkthr\": sim_board.Ispkthr,\n",
    "}\n"
   ]
  },
  {
   "cell_type": "code",
   "execution_count": null,
   "metadata": {},
   "outputs": [],
   "source": [
    "key = rand.PRNGKey(0)\n",
    "md = MismatchDevice(key, **_params)"
   ]
  },
  {
   "cell_type": "code",
   "execution_count": null,
   "metadata": {},
   "outputs": [
    {
     "data": {
      "text/plain": [
       "['Itau_syn',\n",
       " 'f_gain_syn',\n",
       " 'Itau_ahp',\n",
       " 'f_gain_ahp',\n",
       " 'Iw_ahp',\n",
       " 'Itau_mem',\n",
       " 'Itau2_mem',\n",
       " 'f_gain_mem',\n",
       " 'Idc',\n",
       " 'If_nmda',\n",
       " 'Iref',\n",
       " 'Ipulse',\n",
       " 'Ispkthr']"
      ]
     },
     "execution_count": 14,
     "metadata": {},
     "output_type": "execute_result"
    }
   ],
   "source": [
    "md.params\n",
    "# md.mm_Iw_ahp\n"
   ]
  },
  {
   "cell_type": "code",
   "execution_count": null,
   "metadata": {},
   "outputs": [
    {
     "data": {
      "text/plain": [
       "DeviceArray([[8.8652479e-12, 8.6879427e-11, 8.8652479e-12, 1.0046859e-10],\n",
       "             [8.8652479e-12, 8.6879427e-11, 8.8652479e-12, 5.1244613e-11],\n",
       "             [8.8652479e-12, 8.6879427e-11, 8.8652479e-12, 3.3937821e-11],\n",
       "             [8.8652479e-12, 8.6879427e-11, 8.8652479e-12, 2.6117625e-11],\n",
       "             [8.8652479e-12, 8.6879427e-11, 8.8652479e-12, 2.0736874e-11]],            dtype=float32)"
      ]
     },
     "execution_count": 15,
     "metadata": {},
     "output_type": "execute_result"
    }
   ],
   "source": [
    "md.Itau_syn"
   ]
  },
  {
   "cell_type": "code",
   "execution_count": null,
   "metadata": {},
   "outputs": [
    {
     "data": {
      "text/plain": [
       "DeviceArray([[ 0.02409321,  0.00183803, -0.03660947,  0.00908429],\n",
       "             [ 0.0097414 , -0.02229522, -0.00578669, -0.01114686],\n",
       "             [-0.00121222, -0.00821408, -0.03680379, -0.05553284],\n",
       "             [-0.01207715,  0.00777755,  0.02210908, -0.01715741],\n",
       "             [ 0.04032115, -0.00218733, -0.05503287,  0.00415209]],            dtype=float32)"
      ]
     },
     "execution_count": 16,
     "metadata": {},
     "output_type": "execute_result"
    }
   ],
   "source": [
    "md.mm_Itau_syn"
   ]
  },
  {
   "cell_type": "code",
   "execution_count": null,
   "metadata": {},
   "outputs": [
    {
     "data": {
      "text/plain": [
       "DeviceArray([[9.0788401e-12, 8.7039112e-11, 8.5406959e-12, 1.0138128e-10],\n",
       "             [8.9516077e-12, 8.4942428e-11, 8.8139478e-12, 5.0673396e-11],\n",
       "             [8.8545013e-12, 8.6165790e-11, 8.5389733e-12, 3.2053159e-11],\n",
       "             [8.7581808e-12, 8.7555137e-11, 9.0612500e-12, 2.5669515e-11],\n",
       "             [9.2227051e-12, 8.6689392e-11, 8.3773682e-12, 2.0822975e-11]],            dtype=float32)"
      ]
     },
     "execution_count": 17,
     "metadata": {},
     "output_type": "execute_result"
    }
   ],
   "source": [
    "md.effective(\"Itau_syn\")"
   ]
  },
  {
   "cell_type": "code",
   "execution_count": null,
   "metadata": {},
   "outputs": [
    {
     "data": {
      "text/plain": [
       "jaxlib.xla_extension.DeviceArray"
      ]
     },
     "execution_count": 18,
     "metadata": {},
     "output_type": "execute_result"
    }
   ],
   "source": [
    "type(md.get_effective(md.Itau_syn, md.mm_Itau_syn))"
   ]
  }
 ],
 "metadata": {
  "interpreter": {
   "hash": "8cdb4f296bfaf5452445098d1924ce754cc482cb6ccf2720dd292449c9d36440"
  },
  "kernelspec": {
   "display_name": "Python 3.8.5 64-bit ('rockpool_dynapse': conda)",
   "language": "python",
   "name": "python3"
  },
  "language_info": {
   "codemirror_mode": {
    "name": "ipython",
    "version": 3
   },
   "file_extension": ".py",
   "mimetype": "text/x-python",
   "name": "python",
   "nbconvert_exporter": "python",
   "pygments_lexer": "ipython3",
   "version": "3.8.5"
  },
  "orig_nbformat": 4
 },
 "nbformat": 4,
 "nbformat_minor": 2
}
