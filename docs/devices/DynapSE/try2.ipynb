{
 "cells": [
  {
   "cell_type": "code",
   "execution_count": 1,
   "metadata": {},
   "outputs": [
    {
     "name": "stdout",
     "output_type": "stream",
     "text": [
      "Could not import package: No module named 'iaf_nest'\n"
     ]
    }
   ],
   "source": [
    "from rockpool.devices.dynapse import *\n",
    "import jax.numpy as jnp\n",
    "import numpy as np"
   ]
  },
  {
   "cell_type": "code",
   "execution_count": null,
   "metadata": {},
   "outputs": [],
   "source": []
  },
  {
   "cell_type": "code",
   "execution_count": 2,
   "metadata": {},
   "outputs": [],
   "source": [
    "CAM = np.array(\n",
    "    [\n",
    "        [\n",
    "            [0, 0, 0, 2],\n",
    "            [0, 0, 1, 0],\n",
    "            [0, 0, 0, 2],\n",
    "            [0, 0, 0, 0],\n",
    "            [0, 0, 0, 1],\n",
    "        ],\n",
    "        [\n",
    "            [0, 0, 0, 0],\n",
    "            [0, 0, 0, 0],\n",
    "            [0, 0, 0, 0],\n",
    "            [1, 0, 0, 0],\n",
    "            [0, 0, 1, 0],\n",
    "        ],\n",
    "        [\n",
    "            [0, 0, 0, 0],\n",
    "            [0, 0, 0, 0],\n",
    "            [0, 0, 0, 0],\n",
    "            [0, 0, 0, 0],\n",
    "            [0, 0, 0, 1],\n",
    "        ],\n",
    "    ],\n",
    "    dtype=np.float32,\n",
    ")"
   ]
  },
  {
   "cell_type": "code",
   "execution_count": 3,
   "metadata": {},
   "outputs": [],
   "source": [
    "bitmask = np.array(\n",
    "    [\n",
    "        [\n",
    "            [14, 4, 3, 7],\n",
    "            [7, 2, 7, 2],\n",
    "            [10, 14, 8, 13],\n",
    "            [10, 9, 1, 8],\n",
    "            [4, 15, 11, 7],\n",
    "        ],\n",
    "        [\n",
    "            [9, 11, 10, 13],\n",
    "            [12, 7, 6, 11],\n",
    "            [4, 6, 2, 11],\n",
    "            [10, 5, 13, 4],\n",
    "            [7, 3, 10, 3],\n",
    "        ],\n",
    "        [\n",
    "            [10, 1, 1, 12],\n",
    "            [14, 15, 0, 5],\n",
    "            [14, 11, 9, 0],\n",
    "            [12, 10, 10, 9],\n",
    "            [4, 14, 9, 3],\n",
    "        ],\n",
    "    ]\n",
    ")"
   ]
  },
  {
   "cell_type": "code",
   "execution_count": 4,
   "metadata": {},
   "outputs": [
    {
     "name": "stderr",
     "output_type": "stream",
     "text": [
      "WARNING:absl:No GPU/TPU found, falling back to CPU. (Set TF_CPP_MIN_LOG_LEVEL=0 and rerun for more info.)\n"
     ]
    }
   ],
   "source": [
    "simboard = DynapSE1SimBoard(5)\n",
    "Iw_0 = simboard.Iw_0\n",
    "Iw_1 = simboard.Iw_1\n",
    "Iw_2 = simboard.Iw_2\n",
    "Iw_3 = simboard.Iw_3"
   ]
  },
  {
   "cell_type": "code",
   "execution_count": 5,
   "metadata": {},
   "outputs": [],
   "source": [
    "def bit_select(bitmask: np.ndarray) -> jnp.DeviceArray:\n",
    "    \"\"\"\n",
    "    bit_select apply 4-bit mask to select bits\n",
    "        \n",
    "        0001 -> selected bit: 0\n",
    "        1000 -> selected bit: 3\n",
    "        0101 -> selected bit 0 and 2\n",
    "\n",
    "    :param bitmask: Binary mask to select (shape,)\n",
    "    :type bitmask: np.ndarray\n",
    "    :return: an array of indices of selected bits (4,shape)\n",
    "    :rtype: jnp.DeviceArray\n",
    "    \"\"\"\n",
    "    bits = range(4)  # [0,1,2,3]\n",
    "    bit_pattern = lambda n: (1 << n)  # 2^n\n",
    "\n",
    "    # Indexes of the IDs to be selected in bits list\n",
    "    idx = jnp.array([bitmask & bit_pattern(bit) for bit in bits], dtype=bool)\n",
    "    return idx"
   ]
  },
  {
   "cell_type": "code",
   "execution_count": 6,
   "metadata": {},
   "outputs": [],
   "source": [
    "# To broadcast on the post-synaptic neurons : pre, post, gate -> [(bits), post, pre, gate].T\n",
    "bits_trans = bit_select(bitmask.transpose(1, 0, 2)).T"
   ]
  },
  {
   "cell_type": "code",
   "execution_count": 7,
   "metadata": {},
   "outputs": [
    {
     "data": {
      "text/plain": [
       "(4, 3, 5, 4)"
      ]
     },
     "execution_count": 7,
     "metadata": {},
     "output_type": "execute_result"
    }
   ],
   "source": [
    "bits_trans.shape"
   ]
  },
  {
   "cell_type": "code",
   "execution_count": 8,
   "metadata": {},
   "outputs": [],
   "source": [
    "def weight_matrix(\n",
    "    Iw_0: jnp.DeviceArray,\n",
    "    Iw_1: jnp.DeviceArray,\n",
    "    Iw_2: jnp.DeviceArray,\n",
    "    Iw_3: jnp.DeviceArray,\n",
    "    CAM: np.ndarray, # assume only one\n",
    "    bitmask: np.ndarray,\n",
    "):\n",
    "\n",
    "    # post, bits\n",
    "    Iw = jnp.column_stack((Iw_0, Iw_1, Iw_2, Iw_3))\n",
    "\n",
    "    # To broadcast on the post-synaptic neurons \n",
    "    # pre, post, gate -> [(bits), post, pre, gate].T -> gate, pre, post, bits\n",
    "    bits_trans = bit_select(bitmask.transpose(1, 0, 2)).T\n",
    "\n",
    "    w_rec = jnp.sum(bits_trans * Iw, axis=-1).transpose(1, 2, 0)\n",
    "    \n",
    "    return w_rec"
   ]
  },
  {
   "cell_type": "code",
   "execution_count": 9,
   "metadata": {},
   "outputs": [
    {
     "data": {
      "text/plain": [
       "(2, 3, 5, 4)"
      ]
     },
     "execution_count": 9,
     "metadata": {},
     "output_type": "execute_result"
    }
   ],
   "source": [
    "np.stack((bitmask, bitmask)).shape"
   ]
  },
  {
   "cell_type": "code",
   "execution_count": 15,
   "metadata": {},
   "outputs": [],
   "source": [
    "a = weight_matrix(Iw_0, Iw_1, Iw_2, Iw_3, CAM, bitmask)"
   ]
  },
  {
   "cell_type": "code",
   "execution_count": 11,
   "metadata": {},
   "outputs": [],
   "source": [
    "from rockpool.devices.dynapse.autoencoder import WeightConfig  "
   ]
  },
  {
   "cell_type": "code",
   "execution_count": 12,
   "metadata": {},
   "outputs": [
    {
     "name": "stdout",
     "output_type": "stream",
     "text": [
      "HEY\n"
     ]
    }
   ],
   "source": [
    "wc = WeightConfig(None, Iw_0, Iw_1, Iw_2, Iw_3, bitmask)"
   ]
  },
  {
   "cell_type": "code",
   "execution_count": 16,
   "metadata": {},
   "outputs": [
    {
     "name": "stdout",
     "output_type": "stream",
     "text": [
      "HEY\n"
     ]
    }
   ],
   "source": [
    "(a ==wc.weights).all()"
   ]
  }
 ],
 "metadata": {
  "interpreter": {
   "hash": "8cdb4f296bfaf5452445098d1924ce754cc482cb6ccf2720dd292449c9d36440"
  },
  "kernelspec": {
   "display_name": "Python 3.8.5 64-bit ('rockpool_dynapse': conda)",
   "language": "python",
   "name": "python3"
  },
  "language_info": {
   "codemirror_mode": {
    "name": "ipython",
    "version": 3
   },
   "file_extension": ".py",
   "mimetype": "text/x-python",
   "name": "python",
   "nbconvert_exporter": "python",
   "pygments_lexer": "ipython3",
   "version": "3.8.5"
  },
  "orig_nbformat": 4
 },
 "nbformat": 4,
 "nbformat_minor": 2
}
