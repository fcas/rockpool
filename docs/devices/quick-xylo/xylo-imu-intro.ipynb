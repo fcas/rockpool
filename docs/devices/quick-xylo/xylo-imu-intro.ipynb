{
 "cells": [
  {
   "attachments": {},
   "cell_type": "markdown",
   "id": "698b1bd0",
   "metadata": {},
   "source": [
    "# Quick-start with Xylo-Imu"
   ]
  },
  {
   "attachments": {},
   "cell_type": "markdown",
   "id": "b6197c18",
   "metadata": {},
   "source": [
    "Xylo-IMU is a platform for imu sensory processing, combining a low-power imu interface with a low-power SNN inference core.\n",
    "Xylo-IMU is designed for sub-mW imu processing, in always-on applications.\n",
    "\n",
    "This notebook gives you an overview of interfacing from Rockpool to the various cores of Xylo-IMU."
   ]
  },
  {
   "attachments": {},
   "cell_type": "markdown",
   "id": "9697b5a0",
   "metadata": {},
   "source": [
    "## Part I: Using Xylo-Imu Core\n",
    "\n",
    "### Step 1: Build a network in rockpool and convert it to a hardware configuration"
   ]
  },
  {
   "cell_type": "code",
   "execution_count": 1,
   "id": "40af857a",
   "metadata": {},
   "outputs": [
    {
     "name": "stderr",
     "output_type": "stream",
     "text": [
      "/home/yining/anaconda3/envs/rockpool/lib/python3.9/site-packages/tqdm/auto.py:22: TqdmWarning: IProgress not found. Please update jupyter and ipywidgets. See https://ipywidgets.readthedocs.io/en/stable/user_install.html\n",
      "  from .autonotebook import tqdm as notebook_tqdm\n"
     ]
    }
   ],
   "source": [
    "from rockpool.devices.xylo.imu import XyloIMUMonitor, XyloIMUSamna, config_from_specification, mapper\n",
    "import rockpool.devices.xylo.imu.xylo_imu_devkit_utils as putils\n",
    "from rockpool.devices.xylo.imu.xylo_imu_samna import XyloIMUSamna\n",
    "from rockpool.transform import quantize_methods as q\n",
    "from rockpool.nn.modules import LIFTorch, LinearTorch\n",
    "from rockpool.nn.combinators import Sequential, Residual\n",
    "from rockpool import TSEvent, TSContinuous\n",
    "\n",
    "import numpy as np\n",
    "\n",
    "import sys\n",
    "!{sys.executable} -m pip install --quiet matplotlib\n",
    "import matplotlib.pyplot as plt\n",
    "%matplotlib inline\n",
    "plt.rcParams['figure.figsize'] = [12, 4]\n",
    "plt.rcParams['figure.dpi'] = 300\n",
    "\n",
    "# - Disable warnings\n",
    "import warnings\n",
    "warnings.filterwarnings('ignore')\n",
    "\n",
    "from IPython import display"
   ]
  },
  {
   "cell_type": "code",
   "execution_count": 2,
   "id": "995839cb",
   "metadata": {},
   "outputs": [],
   "source": [
    "# - Define the size of the network layers\n",
    "Nin = 2\n",
    "Nhidden = 4\n",
    "Nout = 2\n",
    "dt = 1e-2"
   ]
  },
  {
   "cell_type": "code",
   "execution_count": 3,
   "id": "3ffc65fd",
   "metadata": {},
   "outputs": [
    {
     "name": "stdout",
     "output_type": "stream",
     "text": [
      "TorchSequential  with shape (2, 2) {\n",
      "    LinearTorch '0_LinearTorch' with shape (2, 4)\n",
      "    LIFTorch '1_LIFTorch' with shape (4, 4)\n",
      "    TorchResidual '2_TorchResidual' with shape (4, 4) {\n",
      "        LinearTorch '0_LinearTorch' with shape (4, 4)\n",
      "        LIFTorch '1_LIFTorch' with shape (4, 4)\n",
      "    }\n",
      "    LinearTorch '3_LinearTorch' with shape (4, 2)\n",
      "    LIFTorch '4_LIFTorch' with shape (2, 2)\n",
      "}\n"
     ]
    }
   ],
   "source": [
    "# - Define the network architecture using combinators and modules\n",
    "net = Sequential(\n",
    "    LinearTorch((Nin, Nhidden), has_bias = False),\n",
    "    LIFTorch(Nhidden, dt = dt),\n",
    "    \n",
    "    Residual(\n",
    "        LinearTorch((Nhidden, Nhidden), has_bias = False),\n",
    "        LIFTorch(Nhidden, has_rec = True, threshold = 1., dt = dt),\n",
    "    ),\n",
    "    \n",
    "    LinearTorch((Nhidden, Nout), has_bias = False),\n",
    "    LIFTorch(Nout, dt = dt),\n",
    ")\n",
    "print(net)"
   ]
  },
  {
   "cell_type": "code",
   "execution_count": 4,
   "id": "dddc8e20",
   "metadata": {},
   "outputs": [],
   "source": [
    "# - Call the Xylo mapper on the extracted computational graph\n",
    "spec = mapper(net.as_graph(),  weight_dtype='float', threshold_dtype='float', dash_dtype='float')\n",
    "\n",
    "# - Quantize the specification\n",
    "spec.update(q.global_quantize(**spec))\n",
    "\n",
    "# # you can also try channel-wise quantization\n",
    "# spec.update(q.channel_quantize(**spec))\n",
    "# print(spec)\n",
    "\n",
    "# - Use rockpool.devices.xylo.config_from_specification to convert it to a hardware configuration\n",
    "config, is_valid, msg = config_from_specification(**spec)\n",
    "if not is_valid:\n",
    "    print(msg)"
   ]
  },
  {
   "cell_type": "code",
   "execution_count": 5,
   "id": "a4f99004",
   "metadata": {},
   "outputs": [
    {
     "name": "stdout",
     "output_type": "stream",
     "text": [
      "[<samna.xyloImuBoards.XyloImuTestBoard object at 0x7f2f29ff0630>]\n"
     ]
    }
   ],
   "source": [
    "# - Find and connect to a Xylo IMU HDK\n",
    "xylo_hdk_nodes = putils.find_xylo_imu_boards()\n",
    "print(xylo_hdk_nodes)\n",
    "\n",
    "if len(xylo_hdk_nodes) == 0:\n",
    "    assert False, 'This tutorial requires a connected Xylo IMU HDK to demonstrate.'\n",
    "else:\n",
    "    db = xylo_hdk_nodes[0]"
   ]
  },
  {
   "attachments": {},
   "cell_type": "markdown",
   "id": "a610054d",
   "metadata": {},
   "source": [
    "### Step 2: Using the XyloImuSamna to deploy the model on board"
   ]
  },
  {
   "cell_type": "code",
   "execution_count": 6,
   "id": "811bd097",
   "metadata": {},
   "outputs": [
    {
     "name": "stdout",
     "output_type": "stream",
     "text": [
      "Store device\n",
      "Config valid\n",
      "XyloIMUSamna  with shape (2, 8, 2)\n"
     ]
    }
   ],
   "source": [
    "# - Use rockpool.devices.xylo.XyloSamna to deploy to the HDK\n",
    "if db:\n",
    "    modSamna = XyloIMUSamna(db, config, dt = dt)\n",
    "    print(modSamna)"
   ]
  },
  {
   "cell_type": "code",
   "execution_count": null,
   "id": "b81bf2e3",
   "metadata": {},
   "outputs": [],
   "source": [
    "# - Generate some Poisson input\n",
    "T = 100\n",
    "f = 0.4\n",
    "input_spikes = np.random.rand(T, Nin) < f\n",
    "TSEvent.from_raster(input_spikes, dt, name = 'Poisson input events').plot();"
   ]
  },
  {
   "cell_type": "markdown",
   "id": "e6dfa7b6",
   "metadata": {},
   "source": [
    "## Streaming mode\n",
    "\n",
    "The streaming mode combines the imu interface and SNN inference core modules together in real time using the class :py:class:`.XyloIMUMonitor`.\n",
    "\n",
    "In this mode you only read the output events from the SNN core, without providing input."
   ]
  },
  {
   "cell_type": "markdown",
   "id": "bbb30b0e",
   "metadata": {},
   "source": [
    "### Step 1: Build a network in rockpool and convert it to a hardware configuration"
   ]
  },
  {
   "cell_type": "code",
   "execution_count": 2,
   "id": "f08664ac",
   "metadata": {},
   "outputs": [],
   "source": [
    "# - Define the size of the network layers\n",
    "Nin = 2\n",
    "Nhidden = 4\n",
    "Nout = 2\n",
    "dt = 1e-2"
   ]
  },
  {
   "cell_type": "code",
   "execution_count": 3,
   "id": "ef0cfd8d",
   "metadata": {},
   "outputs": [
    {
     "name": "stdout",
     "output_type": "stream",
     "text": [
      "TorchSequential  with shape (2, 2) {\n",
      "    LinearTorch '0_LinearTorch' with shape (2, 4)\n",
      "    LIFTorch '1_LIFTorch' with shape (4, 4)\n",
      "    TorchResidual '2_TorchResidual' with shape (4, 4) {\n",
      "        LinearTorch '0_LinearTorch' with shape (4, 4)\n",
      "        LIFTorch '1_LIFTorch' with shape (4, 4)\n",
      "    }\n",
      "    LinearTorch '3_LinearTorch' with shape (4, 2)\n",
      "    LIFTorch '4_LIFTorch' with shape (2, 2)\n",
      "}\n"
     ]
    }
   ],
   "source": [
    "# - Define the network architecture using combinators and modules\n",
    "net = Sequential(\n",
    "    LinearTorch((Nin, Nhidden), has_bias = False),\n",
    "    LIFTorch(Nhidden, dt = dt),\n",
    "    \n",
    "    Residual(\n",
    "        LinearTorch((Nhidden, Nhidden), has_bias = False),\n",
    "        LIFTorch(Nhidden, has_rec = True, threshold = 1., dt = dt),\n",
    "    ),\n",
    "    \n",
    "    LinearTorch((Nhidden, Nout), has_bias = False),\n",
    "    LIFTorch(Nout, dt = dt),\n",
    ")\n",
    "print(net)"
   ]
  },
  {
   "cell_type": "code",
   "execution_count": 4,
   "id": "ebc93d17",
   "metadata": {},
   "outputs": [],
   "source": [
    "# - Call the Xylo mapper on the extracted computational graph\n",
    "spec = mapper(net.as_graph(),  weight_dtype='float', threshold_dtype='float', dash_dtype='float')\n",
    "\n",
    "# - Quantize the specification\n",
    "spec.update(q.global_quantize(**spec))\n",
    "\n",
    "# # you can also try channel-wise quantization\n",
    "# spec.update(q.channel_quantize(**spec))\n",
    "# print(spec)\n",
    "\n",
    "# - Use rockpool.devices.xylo.config_from_specification to convert it to a hardware configuration\n",
    "config, is_valid, msg = config_from_specification(**spec)\n",
    "if not is_valid:\n",
    "    print(msg)"
   ]
  },
  {
   "cell_type": "code",
   "execution_count": 5,
   "id": "59dfc41c",
   "metadata": {},
   "outputs": [
    {
     "name": "stdout",
     "output_type": "stream",
     "text": [
      "[<samna.xyloImuBoards.XyloImuTestBoard object at 0x7fb1de939d70>]\n"
     ]
    }
   ],
   "source": [
    "# - Find and connect to a Xylo IMU HDK\n",
    "xylo_hdk_nodes = putils.find_xylo_imu_boards()\n",
    "print(xylo_hdk_nodes)\n",
    "\n",
    "if len(xylo_hdk_nodes) == 0:\n",
    "    assert False, 'This tutorial requires a connected Xylo IMU HDK to demonstrate.'\n",
    "else:\n",
    "    db = xylo_hdk_nodes[0]"
   ]
  },
  {
   "cell_type": "markdown",
   "id": "2f67f7ae",
   "metadata": {},
   "source": [
    "### Step 2: Deploy the network on chip and run simulation"
   ]
  },
  {
   "cell_type": "code",
   "execution_count": 6,
   "id": "dd0466bc",
   "metadata": {},
   "outputs": [],
   "source": [
    "# - Use XyloIMUMonitor to deploy to the HDK\n",
    "\n",
    "output_mode = \"Vmem\"\n",
    "T = 10\n",
    "\n",
    "modMonitor = XyloIMUMonitor(device=db, config=config, dt=dt, output_mode=output_mode)"
   ]
  },
  {
   "cell_type": "code",
   "execution_count": 7,
   "id": "ee1e1203",
   "metadata": {},
   "outputs": [],
   "source": [
    "# - A resultList stack to store the results\n",
    "\n",
    "class ResultList(object):\n",
    "    def __init__(self, max_len=100):\n",
    "        self._list = []\n",
    "        self.max_len = max_len\n",
    "\n",
    "    def reset(self):\n",
    "        self._list = []\n",
    "\n",
    "    def append(self, num):\n",
    "        if len(self._list) < self.max_len:\n",
    "            self._list.append(num)\n",
    "        else:\n",
    "            self._list[: self.max_len - 1] = self._list[1:]\n",
    "            self._list[self.max_len - 1] = num\n",
    "\n",
    "    def is_full(self):\n",
    "        if len(self._list) == self.max_len:\n",
    "            return True\n",
    "        else:\n",
    "            return False\n",
    "\n",
    "    def counts(self, features=[]):\n",
    "        count = 0\n",
    "        for _ in self._list:\n",
    "            if _ in features:\n",
    "                count += 1\n",
    "        return count\n",
    "\n",
    "    def __len__(self):\n",
    "        return len(self._list)\n",
    "\n",
    "    def print_result(self):\n",
    "        return self._list\n",
    "\n"
   ]
  },
  {
   "cell_type": "code",
   "execution_count": 8,
   "id": "2470044b",
   "metadata": {},
   "outputs": [
    {
     "data": {
      "image/png": "[encoded data removed]",
      "text/plain": [
       "<Figure size 3600x1200 with 1 Axes>"
      ]
     },
     "metadata": {
      "needs_background": "light"
     },
     "output_type": "display_data"
    }
   ],
   "source": [
    "# - Draw a real time image for output channels, you can shake the Xylo IMU device while running\n",
    "\n",
    "lines = [ResultList(max_len=10) for _ in range(Nout)]\n",
    "time_base = ResultList(max_len=10)\n",
    "tt = 0\n",
    "t_inference = 10.\n",
    "\n",
    "\n",
    "from time import time\n",
    "\n",
    "t_start = time()\n",
    "\n",
    "while (time() - t_start) < t_inference:\n",
    "    # - Perform inference on the Xylo IMU HDK\n",
    "    output, _, _ = modMonitor(input_data=np.zeros((T, Nin)))\n",
    "    if output is not None:\n",
    "        output = np.max(output, axis=0)\n",
    "        for i in range(Nout):\n",
    "            lines[i].append(output[i])\n",
    "\n",
    "        time_base.append(tt)\n",
    "        tt += 0.1\n",
    "        ax_time = time_base.print_result()\n",
    "        \n",
    "        for i in range(Nout):\n",
    "            plt.plot(ax_time, lines[i].print_result(), label=f\"class{i}\")\n",
    "\n",
    "        plt.xlabel('time')\n",
    "        plt.ylabel('Vmem')\n",
    "        plt.legend()\n",
    "        plt.pause(0.1)\n",
    "        display.clear_output(wait=True)"
   ]
  }
 ],
 "metadata": {
  "kernelspec": {
   "display_name": "Python 3 (ipykernel)",
   "language": "python",
   "name": "python3"
  },
  "language_info": {
   "codemirror_mode": {
    "name": "ipython",
    "version": 3
   },
   "file_extension": ".py",
   "mimetype": "text/x-python",
   "name": "python",
   "nbconvert_exporter": "python",
   "pygments_lexer": "ipython3",
   "version": "3.9.12"
  }
 },
 "nbformat": 4,
 "nbformat_minor": 5
}
