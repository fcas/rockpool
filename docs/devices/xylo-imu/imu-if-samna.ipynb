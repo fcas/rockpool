{
 "cells": [
  {
   "cell_type": "markdown",
   "metadata": {},
   "source": [
    "# IMUIF Samna\n",
    "\n",
    "This implementation will feed the input from the PC and make it possible to read the output of IMUIF module.\n",
    "Since it's not directly possible to read the output of IMUIF module, we'll implement a dummy network that will return whatever we feed it."
   ]
  },
  {
   "cell_type": "code",
   "execution_count": 1,
   "metadata": {},
   "outputs": [],
   "source": [
    "import numpy as np\n",
    "from rockpool.timeseries import TSEvent, TSContinuous\n",
    "from rockpool.devices.xylo.imu.preprocessing.identity_net import IdentityNet"
   ]
  },
  {
   "cell_type": "code",
   "execution_count": 2,
   "metadata": {},
   "outputs": [],
   "source": [
    "import numpy as np\n",
    "\n",
    "def word_to_numpy_array(word):\n",
    "    \n",
    "    # Define patterns for each character (Add more patterns as needed)\n",
    "    char_patterns = {\n",
    "        'a': ['01110', '10001', '10001', '11111', '10001'],\n",
    "        'b': ['11110', '10001', '11110', '10001', '11110'],\n",
    "        'c': ['01111', '10000', '10000', '10000', '01111'],\n",
    "        'd': ['11110', '10001', '10001', '10001', '11110'],\n",
    "        'e': ['11111', '10000', '11110', '10000', '11111'],\n",
    "        'f': ['11111', '10000', '11110', '10000', '10000'],\n",
    "        'g': ['01111', '10000', '10011', '10001', '01110'],\n",
    "        'h': ['10001', '10001', '11111', '10001', '10001'],\n",
    "        'i': ['01110', '00100', '00100', '00100', '01110'],\n",
    "        'j': ['00001', '00001', '00001', '10001', '01110'],\n",
    "        'k': ['10001', '10010', '11100', '10010', '10001'],\n",
    "        'l': ['10000', '10000', '10000', '10000', '11111'],\n",
    "        'm': ['10001', '11011', '10101', '10001', '10001'],\n",
    "        'n': ['10001', '11001', '10101', '10011', '10001'],\n",
    "        'o': ['01110', '10001', '10001', '10001', '01110'],\n",
    "        'p': ['11110', '10001', '11110', '10000', '10000'],\n",
    "        'q': ['01110', '10001', '10101', '10010', '01101'],\n",
    "        'r': ['11110', '10001', '11110', '10001', '10001'],\n",
    "        's': ['01111', '10000', '01110', '00001', '11110'],\n",
    "        't': ['11111', '00100', '00100', '00100', '00100'],\n",
    "        'u': ['10001', '10001', '10001', '10001', '01110'],\n",
    "        'v': ['10001', '10001', '10001', '01010', '00100'],\n",
    "        'w': ['10001', '10001', '10101', '11011', '10001'],\n",
    "        'x': ['10001', '01010', '00100', '01010', '10001'],\n",
    "        'y': ['10001', '01010', '00100', '00100', '00100'],\n",
    "        'z': ['11111', '00010', '00100', '01000', '11111'],\n",
    "        ' ': ['00000', '00000', '00000', '00000', '00000']\n",
    "    }\n",
    "\n",
    "    # Convert the word to lowercase and create the 2D NumPy array\n",
    "    word = word.lower()\n",
    "    rows, cols = 5, len(word) * 5  # 5 rows for each character, and calculate the total columns\n",
    "\n",
    "    result_array = np.zeros((rows, cols), dtype=np.int8)\n",
    "\n",
    "    for i, char in enumerate(word):\n",
    "        pattern = char_patterns.get(char, char_patterns[' '])\n",
    "        for r, row_pattern in enumerate(pattern):\n",
    "            for c, bit in enumerate(row_pattern):\n",
    "                result_array[r, i * 5 + c] = int(bit)\n",
    "\n",
    "    return result_array"
   ]
  },
  {
   "cell_type": "code",
   "execution_count": 3,
   "metadata": {},
   "outputs": [],
   "source": [
    "def three_channel_word(word1:str, word2:str, word3:str)->np.ndarray:\n",
    "    pattern1 = word_to_numpy_array(word1)\n",
    "    pattern2 = word_to_numpy_array(word2)\n",
    "    pattern3 = word_to_numpy_array(word3)\n",
    "\n",
    "    pattern = np.concatenate((pattern1, pattern2, pattern3), axis=0)\n",
    "    pattern = np.flip(pattern, axis=0).T\n",
    "    return pattern\n"
   ]
  },
  {
   "cell_type": "code",
   "execution_count": 4,
   "metadata": {},
   "outputs": [
    {
     "data": {
      "text/plain": [
       "<matplotlib.collections.PathCollection at 0x7fe3f2ac7fd0>"
      ]
     },
     "execution_count": 4,
     "metadata": {},
     "output_type": "execute_result"
    },
    {
     "data": {
      "image/png": "[encoded data removed]",
      "text/plain": [
       "<Figure size 432x288 with 1 Axes>"
      ]
     },
     "metadata": {
      "needs_background": "light"
     },
     "output_type": "display_data"
    }
   ],
   "source": [
    "input_data = three_channel_word('  S Y N S E N S E  ', 'A L G O R I T H M S', '  X Y L O   I M U  ')\n",
    "TSEvent.from_raster(input_data).plot()"
   ]
  },
  {
   "cell_type": "code",
   "execution_count": 5,
   "metadata": {},
   "outputs": [
    {
     "name": "stdout",
     "output_type": "stream",
     "text": [
      "No device provided, using XyloSim\n"
     ]
    }
   ],
   "source": [
    "mod = IdentityNet()\n",
    "\n",
    "# - Run simulation\n",
    "spike_out, state, record_dict = mod.evolve(input_data, record=True)"
   ]
  },
  {
   "cell_type": "code",
   "execution_count": 6,
   "metadata": {},
   "outputs": [
    {
     "data": {
      "text/plain": [
       "True"
      ]
     },
     "execution_count": 6,
     "metadata": {},
     "output_type": "execute_result"
    }
   ],
   "source": [
    "np.all(spike_out == input_data)"
   ]
  },
  {
   "cell_type": "code",
   "execution_count": 7,
   "metadata": {},
   "outputs": [
    {
     "data": {
      "text/plain": [
       "<matplotlib.collections.PathCollection at 0x7fe3f09c8e80>"
      ]
     },
     "execution_count": 7,
     "metadata": {},
     "output_type": "execute_result"
    },
    {
     "data": {
      "image/png": "[encoded data removed]",
      "text/plain": [
       "<Figure size 432x288 with 1 Axes>"
      ]
     },
     "metadata": {
      "needs_background": "light"
     },
     "output_type": "display_data"
    }
   ],
   "source": [
    "TSEvent.from_raster(spike_out, dt=mod.dt).plot()"
   ]
  }
 ],
 "metadata": {
  "kernelspec": {
   "display_name": "rockpool-env",
   "language": "python",
   "name": "python3"
  },
  "language_info": {
   "codemirror_mode": {
    "name": "ipython",
    "version": 3
   },
   "file_extension": ".py",
   "mimetype": "text/x-python",
   "name": "python",
   "nbconvert_exporter": "python",
   "pygments_lexer": "ipython3",
   "version": "3.10.6"
  },
  "orig_nbformat": 4
 },
 "nbformat": 4,
 "nbformat_minor": 2
}
