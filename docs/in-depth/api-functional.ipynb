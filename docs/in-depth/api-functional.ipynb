{
 "cells": [
  {
   "cell_type": "markdown",
   "metadata": {},
   "source": [
    "# Low-level functional API"
   ]
  },
  {
   "cell_type": "raw",
   "metadata": {
    "raw_mimetype": "text/restructuredtext"
   },
   "source": [
    "Rockpool :py:class:`.Module` s and the :py:class:`.JaxModule` base class support a functional form for manipulating parameters and for evolution. This is particularly important when using Jax, since this library requires a functional programming style."
   ]
  },
  {
   "cell_type": "markdown",
   "metadata": {},
   "source": [
    "## Functional evolution"
   ]
  },
  {
   "cell_type": "markdown",
   "metadata": {},
   "source": [
    "First let's set up a module to play with:"
   ]
  },
  {
   "cell_type": "code",
   "execution_count": 1,
   "metadata": {},
   "outputs": [
    {
     "name": "stderr",
     "output_type": "stream",
     "text": [
      "WARNING:absl:No GPU/TPU found, falling back to CPU. (Set TF_CPP_MIN_LOG_LEVEL=0 and rerun for more info.)\n"
     ]
    }
   ],
   "source": [
    "# - Rockpool imports\n",
    "from rockpool.nn.modules import RateEulerJax\n",
    "\n",
    "# - Other useful imports\n",
    "import numpy as np\n",
    "\n",
    "try:\n",
    "    from rich import print\n",
    "except:\n",
    "    pass\n",
    "\n",
    "# - Construct a module\n",
    "N = 3\n",
    "mod = RateEulerJax(N)"
   ]
  },
  {
   "cell_type": "markdown",
   "metadata": {},
   "source": [
    "Now if we evolve the module, we get the outputs we expect:"
   ]
  },
  {
   "cell_type": "code",
   "execution_count": 2,
   "metadata": {},
   "outputs": [],
   "source": [
    "# - Set up some input\n",
    "T = 10\n",
    "input = np.random.rand(T, N)\n",
    "output, new_state, record = mod(input)"
   ]
  },
  {
   "cell_type": "code",
   "execution_count": 3,
   "metadata": {},
   "outputs": [
    {
     "data": {
      "text/html": [
       "<pre style=\"white-space:pre;overflow-x:auto;line-height:normal;font-family:Menlo,'DejaVu Sans Mono',consolas,'Courier New',monospace\">output: <span style=\"font-weight: bold\">[[</span><span style=\"color: #000080; font-weight: bold\">0.00962074</span> <span style=\"color: #000080; font-weight: bold\">0.00679085</span> <span style=\"color: #000080; font-weight: bold\">0.00767025</span><span style=\"font-weight: bold\">]</span>\n",
       " <span style=\"font-weight: bold\">[</span><span style=\"color: #000080; font-weight: bold\">0.01311292</span> <span style=\"color: #000080; font-weight: bold\">0.011228</span>   <span style=\"color: #000080; font-weight: bold\">0.00973875</span><span style=\"font-weight: bold\">]</span>\n",
       " <span style=\"font-weight: bold\">[</span><span style=\"color: #000080; font-weight: bold\">0.02209423</span> <span style=\"color: #000080; font-weight: bold\">0.01471762</span> <span style=\"color: #000080; font-weight: bold\">0.01015393</span><span style=\"font-weight: bold\">]</span>\n",
       " <span style=\"font-weight: bold\">[</span><span style=\"color: #000080; font-weight: bold\">0.02304012</span> <span style=\"color: #000080; font-weight: bold\">0.01565035</span> <span style=\"color: #000080; font-weight: bold\">0.01895667</span><span style=\"font-weight: bold\">]</span>\n",
       " <span style=\"font-weight: bold\">[</span><span style=\"color: #000080; font-weight: bold\">0.03220616</span> <span style=\"color: #000080; font-weight: bold\">0.01847687</span> <span style=\"color: #000080; font-weight: bold\">0.02482708</span><span style=\"font-weight: bold\">]</span>\n",
       " <span style=\"font-weight: bold\">[</span><span style=\"color: #000080; font-weight: bold\">0.03869401</span> <span style=\"color: #000080; font-weight: bold\">0.02141168</span> <span style=\"color: #000080; font-weight: bold\">0.02935197</span><span style=\"font-weight: bold\">]</span>\n",
       " <span style=\"font-weight: bold\">[</span><span style=\"color: #000080; font-weight: bold\">0.04075316</span> <span style=\"color: #000080; font-weight: bold\">0.02338353</span> <span style=\"color: #000080; font-weight: bold\">0.03068529</span><span style=\"font-weight: bold\">]</span>\n",
       " <span style=\"font-weight: bold\">[</span><span style=\"color: #000080; font-weight: bold\">0.04245101</span> <span style=\"color: #000080; font-weight: bold\">0.03020225</span> <span style=\"color: #000080; font-weight: bold\">0.03880501</span><span style=\"font-weight: bold\">]</span>\n",
       " <span style=\"font-weight: bold\">[</span><span style=\"color: #000080; font-weight: bold\">0.04322707</span> <span style=\"color: #000080; font-weight: bold\">0.03096111</span> <span style=\"color: #000080; font-weight: bold\">0.04299983</span><span style=\"font-weight: bold\">]</span>\n",
       " <span style=\"font-weight: bold\">[</span><span style=\"color: #000080; font-weight: bold\">0.04617607</span> <span style=\"color: #000080; font-weight: bold\">0.03816694</span> <span style=\"color: #000080; font-weight: bold\">0.04736197</span><span style=\"font-weight: bold\">]]</span>\n",
       "</pre>\n"
      ],
      "text/plain": [
       "<rich.jupyter.JupyterRenderable at 0x104e3a8d0>"
      ]
     },
     "metadata": {},
     "output_type": "display_data"
    }
   ],
   "source": [
    "print('output:', output)"
   ]
  },
  {
   "cell_type": "code",
   "execution_count": 4,
   "metadata": {},
   "outputs": [
    {
     "data": {
      "text/html": [
       "<pre style=\"white-space:pre;overflow-x:auto;line-height:normal;font-family:Menlo,'DejaVu Sans Mono',consolas,'Courier New',monospace\">new_state:\n",
       "<span style=\"font-weight: bold\">{</span>\n",
       "    <span style=\"color: #008000\">'neur_state'</span>: DeviceArray<span style=\"font-weight: bold\">([</span><span style=\"color: #000080; font-weight: bold\">0.04617607</span>, <span style=\"color: #000080; font-weight: bold\">0.03816694</span>, <span style=\"color: #000080; font-weight: bold\">0.04736197</span><span style=\"font-weight: bold\">]</span>, <span style=\"color: #808000\">dtype</span>=<span style=\"color: #800080\">float32</span><span style=\"font-weight: bold\">)</span>,\n",
       "    <span style=\"color: #008000\">'rng_key'</span>: array<span style=\"font-weight: bold\">([</span><span style=\"color: #000080; font-weight: bold\">106643567</span>, <span style=\"color: #000080; font-weight: bold\">790984789</span><span style=\"font-weight: bold\">]</span>, <span style=\"color: #808000\">dtype</span>=<span style=\"color: #800080\">uint32</span><span style=\"font-weight: bold\">)</span>\n",
       "<span style=\"font-weight: bold\">}</span>\n",
       "</pre>\n"
      ],
      "text/plain": [
       "<rich.jupyter.JupyterRenderable at 0x104e3a978>"
      ]
     },
     "metadata": {},
     "output_type": "display_data"
    }
   ],
   "source": [
    "print('new_state:', new_state)"
   ]
  },
  {
   "cell_type": "raw",
   "metadata": {
    "raw_mimetype": "text/restructuredtext"
   },
   "source": [
    "So far so good. The issue with ``jax`` is that ``jit``-compiled modules and functions cannot have side-effects. For Rockpool, evolution almost *always* has side-effects, in terms of updating the internal state variables of each module.\n",
    "\n",
    "In the case of the evolution above, we can see that the internal state was not updated during evolution:"
   ]
  },
  {
   "cell_type": "code",
   "execution_count": 9,
   "metadata": {},
   "outputs": [
    {
     "data": {
      "text/html": [
       "<pre style=\"white-space:pre;overflow-x:auto;line-height:normal;font-family:Menlo,'DejaVu Sans Mono',consolas,'Courier New',monospace\">mod.state:\n",
       "<span style=\"font-weight: bold\">{</span>\n",
       "    <span style=\"color: #008000\">'rng_key'</span>: array<span style=\"font-weight: bold\">([</span><span style=\"color: #000080; font-weight: bold\">2856300875</span>, <span style=\"color: #000080; font-weight: bold\">1196167101</span><span style=\"font-weight: bold\">]</span>, <span style=\"color: #808000\">dtype</span>=<span style=\"color: #800080\">uint32</span><span style=\"font-weight: bold\">)</span>,\n",
       "    <span style=\"color: #008000\">'neur_state'</span>: array<span style=\"font-weight: bold\">([</span><span style=\"color: #000080; font-weight: bold\">0</span>., <span style=\"color: #000080; font-weight: bold\">0</span>., <span style=\"color: #000080; font-weight: bold\">0</span>.<span style=\"font-weight: bold\">]</span>, <span style=\"color: #808000\">dtype</span>=<span style=\"color: #800080\">float32</span><span style=\"font-weight: bold\">)</span>\n",
       "<span style=\"font-weight: bold\">}</span>\n",
       "</pre>\n"
      ],
      "text/plain": [
       "<rich.jupyter.JupyterRenderable at 0x138fab3c8>"
      ]
     },
     "metadata": {},
     "output_type": "display_data"
    },
    {
     "data": {
      "text/html": [
       "<pre style=\"white-space:pre;overflow-x:auto;line-height:normal;font-family:Menlo,'DejaVu Sans Mono',consolas,'Courier New',monospace\"><span style=\"font-weight: bold\">[</span><span style=\"color: #000080; font-weight: bold\">0</span>. <span style=\"color: #000080; font-weight: bold\">0</span>. <span style=\"color: #000080; font-weight: bold\">0</span>.<span style=\"font-weight: bold\">]</span>  !=  <span style=\"font-weight: bold\">[</span><span style=\"color: #000080; font-weight: bold\">0.04617607</span> <span style=\"color: #000080; font-weight: bold\">0.03816694</span> <span style=\"color: #000080; font-weight: bold\">0.04736197</span><span style=\"font-weight: bold\">]</span>\n",
       "</pre>\n"
      ],
      "text/plain": [
       "<rich.jupyter.JupyterRenderable at 0x138fab0f0>"
      ]
     },
     "metadata": {},
     "output_type": "display_data"
    }
   ],
   "source": [
    "print('mod.state:', mod.state())\n",
    "print(mod.state()['neur_state'], ' != ', new_state['neur_state'])"
   ]
  },
  {
   "cell_type": "raw",
   "metadata": {
    "raw_mimetype": "text/restructuredtext"
   },
   "source": [
    "The correct resolution to this is to assign ``new_state`` to the module atfer each evolution:"
   ]
  },
  {
   "cell_type": "code",
   "execution_count": 10,
   "metadata": {},
   "outputs": [
    {
     "data": {
      "text/html": [
       "<pre style=\"white-space:pre;overflow-x:auto;line-height:normal;font-family:Menlo,'DejaVu Sans Mono',consolas,'Courier New',monospace\"><span style=\"font-weight: bold\">[</span><span style=\"color: #000080; font-weight: bold\">0.04617607</span> <span style=\"color: #000080; font-weight: bold\">0.03816694</span> <span style=\"color: #000080; font-weight: bold\">0.04736197</span><span style=\"font-weight: bold\">]</span>  ==  <span style=\"font-weight: bold\">[</span><span style=\"color: #000080; font-weight: bold\">0.04617607</span> <span style=\"color: #000080; font-weight: bold\">0.03816694</span> <span style=\"color: #000080; font-weight: bold\">0.04736197</span><span style=\"font-weight: bold\">]</span>\n",
       "</pre>\n"
      ],
      "text/plain": [
       "<rich.jupyter.JupyterRenderable at 0x138fabfd0>"
      ]
     },
     "metadata": {},
     "output_type": "display_data"
    }
   ],
   "source": [
    "mod = mod.set_attributes(new_state)\n",
    "print(mod.state()['neur_state'], ' == ', new_state['neur_state'])"
   ]
  },
  {
   "cell_type": "raw",
   "metadata": {
    "raw_mimetype": "text/restructuredtext"
   },
   "source": [
    "You will have noticed the functional form of the call to :py:meth:`~.JaxModule.set_attributes` above. This is addressed in the next section."
   ]
  },
  {
   "cell_type": "markdown",
   "metadata": {},
   "source": [
    "## Functional state and attribute setting"
   ]
  },
  {
   "cell_type": "raw",
   "metadata": {
    "raw_mimetype": "text/restructuredtext"
   },
   "source": [
    "Direct attribute assignment works at the top level, using standard Python syntax:"
   ]
  },
  {
   "cell_type": "code",
   "execution_count": 6,
   "metadata": {},
   "outputs": [
    {
     "data": {
      "text/html": [
       "<pre style=\"white-space:pre;overflow-x:auto;line-height:normal;font-family:Menlo,'DejaVu Sans Mono',consolas,'Courier New',monospace\"><span style=\"font-weight: bold\">[</span><span style=\"color: #000080; font-weight: bold\">0.04</span> <span style=\"color: #000080; font-weight: bold\">0.04</span> <span style=\"color: #000080; font-weight: bold\">0.04</span><span style=\"font-weight: bold\">]</span>  ==  <span style=\"font-weight: bold\">[</span><span style=\"color: #000080; font-weight: bold\">0.04</span> <span style=\"color: #000080; font-weight: bold\">0.04</span> <span style=\"color: #000080; font-weight: bold\">0.04</span><span style=\"font-weight: bold\">]</span>\n",
       "</pre>\n"
      ],
      "text/plain": [
       "<rich.jupyter.JupyterRenderable at 0x138fab5c0>"
      ]
     },
     "metadata": {},
     "output_type": "display_data"
    }
   ],
   "source": [
    "new_tau = mod.tau * .4\n",
    "mod.tau = new_tau\n",
    "print(new_tau, ' == ', mod.tau)"
   ]
  },
  {
   "cell_type": "raw",
   "metadata": {
    "raw_mimetype": "text/restructuredtext"
   },
   "source": [
    "A functional form is also supported, via the :py:meth:`~JaxModule.set_attributes` method. Here a copy of the module (and submodules) is returned, to replace the \"old\" module with one with updated attributes:"
   ]
  },
  {
   "cell_type": "code",
   "execution_count": 7,
   "metadata": {},
   "outputs": [
    {
     "data": {
      "text/html": [
       "<pre style=\"white-space:pre;overflow-x:auto;line-height:normal;font-family:Menlo,'DejaVu Sans Mono',consolas,'Courier New',monospace\"><span style=\"font-weight: bold\">[</span><span style=\"color: #000080; font-weight: bold\">0.12</span> <span style=\"color: #000080; font-weight: bold\">0.12</span> <span style=\"color: #000080; font-weight: bold\">0.12</span><span style=\"font-weight: bold\">]</span>  ==  <span style=\"font-weight: bold\">[</span><span style=\"color: #000080; font-weight: bold\">0.12</span> <span style=\"color: #000080; font-weight: bold\">0.12</span> <span style=\"color: #000080; font-weight: bold\">0.12</span><span style=\"font-weight: bold\">]</span>\n",
       "</pre>\n"
      ],
      "text/plain": [
       "<rich.jupyter.JupyterRenderable at 0x138fabfd0>"
      ]
     },
     "metadata": {},
     "output_type": "display_data"
    }
   ],
   "source": [
    "params = mod.parameters()\n",
    "params['tau'] = params['tau'] * 3.\n",
    "\n",
    "# - Note the functional calling style\n",
    "mod = mod.set_attributes(params)\n",
    "\n",
    "# - check that the attribute was set\n",
    "print(params['tau'], ' == ', mod.tau)"
   ]
  },
  {
   "cell_type": "markdown",
   "metadata": {},
   "source": [
    "## Functional module reset"
   ]
  },
  {
   "cell_type": "raw",
   "metadata": {
    "raw_mimetype": "text/restructuredtext"
   },
   "source": [
    "Resetting the module state and parameters also must be done using a functional form:"
   ]
  },
  {
   "cell_type": "code",
   "execution_count": 11,
   "metadata": {},
   "outputs": [],
   "source": [
    "# - Reset the module state\n",
    "mod = mod.reset_state()\n",
    "\n",
    "# - Reset the module parameters\n",
    "mod = mod.reset_parameters()"
   ]
  },
  {
   "cell_type": "markdown",
   "metadata": {},
   "source": [
    "## Jax flattening"
   ]
  },
  {
   "cell_type": "raw",
   "metadata": {
    "raw_mimetype": "text/restructuredtext"
   },
   "source": [
    ":py:class:`.JaxModule` provides the methods :py:meth:`~.JaxModule.tree_flatten` and :py:meth:`~.JaxModule.tree_unflatten`, which are required to serialise and deserialise modules for Jax compilation and execution.\n",
    "\n",
    "If you write a :py:class:`.JaxModule` subclass, it will be automatically registered with Jax as a ``pytree``. You shouldn't need to override :py:meth:`~.JaxModule.tree_flatten` or :py:meth:`~.JaxModule.tree_unflatten` in your modules.\n",
    "\n",
    "Flattening and unflattening requires that your :py:meth:`~.JaxModule.__init__` method must be callable with only a shape as input, which should be sufficient to specify the network architecture of your module and all submodules.\n",
    "\n",
    "If that isn't the case, then you may need to override :py:meth:`~.JaxModule.tree_flatten` and :py:meth:`~.JaxModule.tree_unflatten`."
   ]
  }
 ],
 "metadata": {
  "kernelspec": {
   "display_name": "Python [conda env:py36_tf]",
   "language": "python",
   "name": "conda-env-py36_tf-py"
  },
  "language_info": {
   "codemirror_mode": {
    "name": "ipython",
    "version": 3
   },
   "file_extension": ".py",
   "mimetype": "text/x-python",
   "name": "python",
   "nbconvert_exporter": "python",
   "pygments_lexer": "ipython3",
   "version": "3.6.12"
  }
 },
 "nbformat": 4,
 "nbformat_minor": 4
}
