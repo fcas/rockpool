{
 "cells": [
  {
   "cell_type": "markdown",
   "metadata": {},
   "source": [
    "# [𝝺] Low-level functional API"
   ]
  },
  {
   "cell_type": "raw",
   "metadata": {
    "raw_mimetype": "text/restructuredtext"
   },
   "source": [
    "Rockpool :py:class:`.Module` s and the :py:class:`.JaxModule` base class support a functional form for manipulating parameters and for evolution. This is particularly important when using Jax, since this library requires a functional programming style."
   ]
  },
  {
   "cell_type": "markdown",
   "metadata": {},
   "source": [
    "## Functional evolution"
   ]
  },
  {
   "cell_type": "markdown",
   "metadata": {},
   "source": [
    "First let's set up a module to play with:"
   ]
  },
  {
   "cell_type": "code",
   "execution_count": 1,
   "metadata": {},
   "outputs": [
    {
     "name": "stderr",
     "output_type": "stream",
     "text": [
      "/Users/dylanaictx/SynSense Dropbox/Dylan Muir/LiveSync/Development/rockpool_GIT/rockpool/nn/modules/__init__.py:45: UserWarning: Sinabs modules not available: 'Slayer' backend not found. Modules that rely on Sinabs-Slayer will not be available.\n",
      "  warnings.warn(f\"Sinabs modules not available: {err}\")\n",
      "WARNING    /Users/dylanaictx/SynSense Dropbox/Dylan Muir/LiveSync/Development/rockpool_GIT/rockpool/nn/modules/__init__.py:63: UserWarning: NEST modules not available: 'NEST' backend not found. Modules that rely on NEST will not be available.\n",
      "  warnings.warn(f\"NEST modules not available: {err}\")\n",
      " [py.warnings]\n",
      "WARNING:absl:No GPU/TPU found, falling back to CPU. (Set TF_CPP_MIN_LOG_LEVEL=0 and rerun for more info.)\n"
     ]
    },
    {
     "name": "stdout",
     "output_type": "stream",
     "text": [
      "Could not import package: No module named 'iaf_nest'\n"
     ]
    }
   ],
   "source": [
    "# - Rockpool imports\n",
    "from rockpool.nn.modules import RateJax\n",
    "\n",
    "# - Switch off warnings\n",
    "import warnings\n",
    "warnings.filterwarnings('ignore')\n",
    "\n",
    "# - Other useful imports\n",
    "import numpy as np\n",
    "\n",
    "try:\n",
    "    from rich import print\n",
    "except:\n",
    "    pass\n",
    "\n",
    "# - Construct a module\n",
    "N = 3\n",
    "mod = RateJax(N)"
   ]
  },
  {
   "cell_type": "markdown",
   "metadata": {},
   "source": [
    "Now if we evolve the module, we get the outputs we expect:"
   ]
  },
  {
   "cell_type": "code",
   "execution_count": 2,
   "metadata": {},
   "outputs": [],
   "source": [
    "# - Set up some input\n",
    "T = 10\n",
    "input = np.random.rand(T, N)\n",
    "output, new_state, record = mod(input)"
   ]
  },
  {
   "cell_type": "code",
   "execution_count": 3,
   "metadata": {},
   "outputs": [
    {
     "data": {
      "text/html": [
       "<pre style=\"white-space:pre;overflow-x:auto;line-height:normal;font-family:Menlo,'DejaVu Sans Mono',consolas,'Courier New',monospace\">output: <span style=\"font-weight: bold\">[[[</span><span style=\"color: #008080; text-decoration-color: #008080; font-weight: bold\">0.06522948</span> <span style=\"color: #008080; text-decoration-color: #008080; font-weight: bold\">0.08927355</span> <span style=\"color: #008080; text-decoration-color: #008080; font-weight: bold\">0.00719434</span><span style=\"font-weight: bold\">]</span>\n",
       "  <span style=\"font-weight: bold\">[</span><span style=\"color: #008080; text-decoration-color: #008080; font-weight: bold\">0.13052788</span> <span style=\"color: #008080; text-decoration-color: #008080; font-weight: bold\">0.12510219</span> <span style=\"color: #008080; text-decoration-color: #008080; font-weight: bold\">0.00774908</span><span style=\"font-weight: bold\">]</span>\n",
       "  <span style=\"font-weight: bold\">[</span><span style=\"color: #008080; text-decoration-color: #008080; font-weight: bold\">0.13059278</span> <span style=\"color: #008080; text-decoration-color: #008080; font-weight: bold\">0.13205282</span> <span style=\"color: #008080; text-decoration-color: #008080; font-weight: bold\">0.01822269</span><span style=\"font-weight: bold\">]</span>\n",
       "  <span style=\"font-weight: bold\">[</span><span style=\"color: #008080; text-decoration-color: #008080; font-weight: bold\">0.16440758</span> <span style=\"color: #008080; text-decoration-color: #008080; font-weight: bold\">0.20989072</span> <span style=\"color: #008080; text-decoration-color: #008080; font-weight: bold\">0.07342938</span><span style=\"font-weight: bold\">]</span>\n",
       "  <span style=\"font-weight: bold\">[</span><span style=\"color: #008080; text-decoration-color: #008080; font-weight: bold\">0.24516177</span> <span style=\"color: #008080; text-decoration-color: #008080; font-weight: bold\">0.24915984</span> <span style=\"color: #008080; text-decoration-color: #008080; font-weight: bold\">0.15610647</span><span style=\"font-weight: bold\">]</span>\n",
       "  <span style=\"font-weight: bold\">[</span><span style=\"color: #008080; text-decoration-color: #008080; font-weight: bold\">0.3188888</span>  <span style=\"color: #008080; text-decoration-color: #008080; font-weight: bold\">0.23084876</span> <span style=\"color: #008080; text-decoration-color: #008080; font-weight: bold\">0.23498613</span><span style=\"font-weight: bold\">]</span>\n",
       "  <span style=\"font-weight: bold\">[</span><span style=\"color: #008080; text-decoration-color: #008080; font-weight: bold\">0.32221848</span> <span style=\"color: #008080; text-decoration-color: #008080; font-weight: bold\">0.2171672</span>  <span style=\"color: #008080; text-decoration-color: #008080; font-weight: bold\">0.2625375</span> <span style=\"font-weight: bold\">]</span>\n",
       "  <span style=\"font-weight: bold\">[</span><span style=\"color: #008080; text-decoration-color: #008080; font-weight: bold\">0.29676253</span> <span style=\"color: #008080; text-decoration-color: #008080; font-weight: bold\">0.28210646</span> <span style=\"color: #008080; text-decoration-color: #008080; font-weight: bold\">0.30940053</span><span style=\"font-weight: bold\">]</span>\n",
       "  <span style=\"font-weight: bold\">[</span><span style=\"color: #008080; text-decoration-color: #008080; font-weight: bold\">0.34721866</span> <span style=\"color: #008080; text-decoration-color: #008080; font-weight: bold\">0.28456247</span> <span style=\"color: #008080; text-decoration-color: #008080; font-weight: bold\">0.33214957</span><span style=\"font-weight: bold\">]</span>\n",
       "  <span style=\"font-weight: bold\">[</span><span style=\"color: #008080; text-decoration-color: #008080; font-weight: bold\">0.396594</span>   <span style=\"color: #008080; text-decoration-color: #008080; font-weight: bold\">0.29321536</span> <span style=\"color: #008080; text-decoration-color: #008080; font-weight: bold\">0.37236482</span><span style=\"font-weight: bold\">]]]</span>\n",
       "</pre>\n"
      ],
      "text/plain": [
       "output: \u001b[1m[\u001b[0m\u001b[1m[\u001b[0m\u001b[1m[\u001b[0m\u001b[1;36m0.06522948\u001b[0m \u001b[1;36m0.08927355\u001b[0m \u001b[1;36m0.00719434\u001b[0m\u001b[1m]\u001b[0m\n",
       "  \u001b[1m[\u001b[0m\u001b[1;36m0.13052788\u001b[0m \u001b[1;36m0.12510219\u001b[0m \u001b[1;36m0.00774908\u001b[0m\u001b[1m]\u001b[0m\n",
       "  \u001b[1m[\u001b[0m\u001b[1;36m0.13059278\u001b[0m \u001b[1;36m0.13205282\u001b[0m \u001b[1;36m0.01822269\u001b[0m\u001b[1m]\u001b[0m\n",
       "  \u001b[1m[\u001b[0m\u001b[1;36m0.16440758\u001b[0m \u001b[1;36m0.20989072\u001b[0m \u001b[1;36m0.07342938\u001b[0m\u001b[1m]\u001b[0m\n",
       "  \u001b[1m[\u001b[0m\u001b[1;36m0.24516177\u001b[0m \u001b[1;36m0.24915984\u001b[0m \u001b[1;36m0.15610647\u001b[0m\u001b[1m]\u001b[0m\n",
       "  \u001b[1m[\u001b[0m\u001b[1;36m0.3188888\u001b[0m  \u001b[1;36m0.23084876\u001b[0m \u001b[1;36m0.23498613\u001b[0m\u001b[1m]\u001b[0m\n",
       "  \u001b[1m[\u001b[0m\u001b[1;36m0.32221848\u001b[0m \u001b[1;36m0.2171672\u001b[0m  \u001b[1;36m0.2625375\u001b[0m \u001b[1m]\u001b[0m\n",
       "  \u001b[1m[\u001b[0m\u001b[1;36m0.29676253\u001b[0m \u001b[1;36m0.28210646\u001b[0m \u001b[1;36m0.30940053\u001b[0m\u001b[1m]\u001b[0m\n",
       "  \u001b[1m[\u001b[0m\u001b[1;36m0.34721866\u001b[0m \u001b[1;36m0.28456247\u001b[0m \u001b[1;36m0.33214957\u001b[0m\u001b[1m]\u001b[0m\n",
       "  \u001b[1m[\u001b[0m\u001b[1;36m0.396594\u001b[0m   \u001b[1;36m0.29321536\u001b[0m \u001b[1;36m0.37236482\u001b[0m\u001b[1m]\u001b[0m\u001b[1m]\u001b[0m\u001b[1m]\u001b[0m\n"
      ]
     },
     "metadata": {},
     "output_type": "display_data"
    }
   ],
   "source": [
    "print('output:', output)"
   ]
  },
  {
   "cell_type": "code",
   "execution_count": 4,
   "metadata": {},
   "outputs": [
    {
     "data": {
      "text/html": [
       "<pre style=\"white-space:pre;overflow-x:auto;line-height:normal;font-family:Menlo,'DejaVu Sans Mono',consolas,'Courier New',monospace\">new_state:\n",
       "<span style=\"font-weight: bold\">{</span>\n",
       "    <span style=\"color: #008000; text-decoration-color: #008000\">'x'</span>: <span style=\"color: #800080; text-decoration-color: #800080; font-weight: bold\">DeviceArray</span><span style=\"font-weight: bold\">([</span><span style=\"color: #008080; text-decoration-color: #008080; font-weight: bold\">0.396594</span>  , <span style=\"color: #008080; text-decoration-color: #008080; font-weight: bold\">0.29321536</span>, <span style=\"color: #008080; text-decoration-color: #008080; font-weight: bold\">0.37236482</span><span style=\"font-weight: bold\">]</span>, <span style=\"color: #808000; text-decoration-color: #808000\">dtype</span>=<span style=\"color: #800080; text-decoration-color: #800080\">float32</span><span style=\"font-weight: bold\">)</span>,\n",
       "    <span style=\"color: #008000; text-decoration-color: #008000\">'rng_key'</span>: <span style=\"color: #800080; text-decoration-color: #800080; font-weight: bold\">array</span><span style=\"font-weight: bold\">([</span> <span style=\"color: #008080; text-decoration-color: #008080; font-weight: bold\">394923678</span>, <span style=\"color: #008080; text-decoration-color: #008080; font-weight: bold\">1761837638</span><span style=\"font-weight: bold\">]</span>, <span style=\"color: #808000; text-decoration-color: #808000\">dtype</span>=<span style=\"color: #800080; text-decoration-color: #800080\">uint32</span><span style=\"font-weight: bold\">)</span>\n",
       "<span style=\"font-weight: bold\">}</span>\n",
       "</pre>\n"
      ],
      "text/plain": [
       "new_state:\n",
       "\u001b[1m{\u001b[0m\n",
       "    \u001b[32m'x'\u001b[0m: \u001b[1;35mDeviceArray\u001b[0m\u001b[1m(\u001b[0m\u001b[1m[\u001b[0m\u001b[1;36m0.396594\u001b[0m  , \u001b[1;36m0.29321536\u001b[0m, \u001b[1;36m0.37236482\u001b[0m\u001b[1m]\u001b[0m, \u001b[33mdtype\u001b[0m=\u001b[35mfloat32\u001b[0m\u001b[1m)\u001b[0m,\n",
       "    \u001b[32m'rng_key'\u001b[0m: \u001b[1;35marray\u001b[0m\u001b[1m(\u001b[0m\u001b[1m[\u001b[0m \u001b[1;36m394923678\u001b[0m, \u001b[1;36m1761837638\u001b[0m\u001b[1m]\u001b[0m, \u001b[33mdtype\u001b[0m=\u001b[35muint32\u001b[0m\u001b[1m)\u001b[0m\n",
       "\u001b[1m}\u001b[0m\n"
      ]
     },
     "metadata": {},
     "output_type": "display_data"
    }
   ],
   "source": [
    "print('new_state:', new_state)"
   ]
  },
  {
   "cell_type": "raw",
   "metadata": {
    "raw_mimetype": "text/restructuredtext"
   },
   "source": [
    "So far so good. The issue with ``jax`` is that ``jit``-compiled modules and functions cannot have side-effects. For Rockpool, evolution almost *always* has side-effects, in terms of updating the internal state variables of each module.\n",
    "\n",
    "In the case of the evolution above, we can see that the internal state was not updated during evolution:"
   ]
  },
  {
   "cell_type": "code",
   "execution_count": 6,
   "metadata": {},
   "outputs": [
    {
     "data": {
      "text/html": [
       "<pre style=\"white-space:pre;overflow-x:auto;line-height:normal;font-family:Menlo,'DejaVu Sans Mono',consolas,'Courier New',monospace\">mod.state:\n",
       "<span style=\"font-weight: bold\">{</span>\n",
       "    <span style=\"color: #008000; text-decoration-color: #008000\">'rng_key'</span>: <span style=\"color: #800080; text-decoration-color: #800080; font-weight: bold\">array</span><span style=\"font-weight: bold\">([</span><span style=\"color: #008080; text-decoration-color: #008080; font-weight: bold\">3735967969</span>, <span style=\"color: #008080; text-decoration-color: #008080; font-weight: bold\">3067367654</span><span style=\"font-weight: bold\">]</span>, <span style=\"color: #808000; text-decoration-color: #808000\">dtype</span>=<span style=\"color: #800080; text-decoration-color: #800080\">uint32</span><span style=\"font-weight: bold\">)</span>,\n",
       "    <span style=\"color: #008000; text-decoration-color: #008000\">'x'</span>: <span style=\"color: #800080; text-decoration-color: #800080; font-weight: bold\">DeviceArray</span><span style=\"font-weight: bold\">([</span><span style=\"color: #008080; text-decoration-color: #008080; font-weight: bold\">0</span>., <span style=\"color: #008080; text-decoration-color: #008080; font-weight: bold\">0</span>., <span style=\"color: #008080; text-decoration-color: #008080; font-weight: bold\">0</span>.<span style=\"font-weight: bold\">]</span>, <span style=\"color: #808000; text-decoration-color: #808000\">dtype</span>=<span style=\"color: #800080; text-decoration-color: #800080\">float32</span><span style=\"font-weight: bold\">)</span>\n",
       "<span style=\"font-weight: bold\">}</span>\n",
       "</pre>\n"
      ],
      "text/plain": [
       "mod.state:\n",
       "\u001b[1m{\u001b[0m\n",
       "    \u001b[32m'rng_key'\u001b[0m: \u001b[1;35marray\u001b[0m\u001b[1m(\u001b[0m\u001b[1m[\u001b[0m\u001b[1;36m3735967969\u001b[0m, \u001b[1;36m3067367654\u001b[0m\u001b[1m]\u001b[0m, \u001b[33mdtype\u001b[0m=\u001b[35muint32\u001b[0m\u001b[1m)\u001b[0m,\n",
       "    \u001b[32m'x'\u001b[0m: \u001b[1;35mDeviceArray\u001b[0m\u001b[1m(\u001b[0m\u001b[1m[\u001b[0m\u001b[1;36m0\u001b[0m., \u001b[1;36m0\u001b[0m., \u001b[1;36m0\u001b[0m.\u001b[1m]\u001b[0m, \u001b[33mdtype\u001b[0m=\u001b[35mfloat32\u001b[0m\u001b[1m)\u001b[0m\n",
       "\u001b[1m}\u001b[0m\n"
      ]
     },
     "metadata": {},
     "output_type": "display_data"
    },
    {
     "data": {
      "text/html": [
       "<pre style=\"white-space:pre;overflow-x:auto;line-height:normal;font-family:Menlo,'DejaVu Sans Mono',consolas,'Courier New',monospace\"><span style=\"font-weight: bold\">[</span><span style=\"color: #008080; text-decoration-color: #008080; font-weight: bold\">0</span>. <span style=\"color: #008080; text-decoration-color: #008080; font-weight: bold\">0</span>. <span style=\"color: #008080; text-decoration-color: #008080; font-weight: bold\">0</span>.<span style=\"font-weight: bold\">]</span>  !=  <span style=\"font-weight: bold\">[</span><span style=\"color: #008080; text-decoration-color: #008080; font-weight: bold\">0.396594</span>   <span style=\"color: #008080; text-decoration-color: #008080; font-weight: bold\">0.29321536</span> <span style=\"color: #008080; text-decoration-color: #008080; font-weight: bold\">0.37236482</span><span style=\"font-weight: bold\">]</span>\n",
       "</pre>\n"
      ],
      "text/plain": [
       "\u001b[1m[\u001b[0m\u001b[1;36m0\u001b[0m. \u001b[1;36m0\u001b[0m. \u001b[1;36m0\u001b[0m.\u001b[1m]\u001b[0m  !=  \u001b[1m[\u001b[0m\u001b[1;36m0.396594\u001b[0m   \u001b[1;36m0.29321536\u001b[0m \u001b[1;36m0.37236482\u001b[0m\u001b[1m]\u001b[0m\n"
      ]
     },
     "metadata": {},
     "output_type": "display_data"
    }
   ],
   "source": [
    "print('mod.state:', mod.state())\n",
    "print(mod.state()['x'], ' != ', new_state['x'])"
   ]
  },
  {
   "cell_type": "raw",
   "metadata": {
    "raw_mimetype": "text/restructuredtext"
   },
   "source": [
    "The correct resolution to this is to assign ``new_state`` to the module atfer each evolution:"
   ]
  },
  {
   "cell_type": "code",
   "execution_count": 7,
   "metadata": {},
   "outputs": [
    {
     "data": {
      "text/html": [
       "<pre style=\"white-space:pre;overflow-x:auto;line-height:normal;font-family:Menlo,'DejaVu Sans Mono',consolas,'Courier New',monospace\"><span style=\"font-weight: bold\">[</span><span style=\"color: #008080; text-decoration-color: #008080; font-weight: bold\">0.396594</span>   <span style=\"color: #008080; text-decoration-color: #008080; font-weight: bold\">0.29321536</span> <span style=\"color: #008080; text-decoration-color: #008080; font-weight: bold\">0.37236482</span><span style=\"font-weight: bold\">]</span>  ==  <span style=\"font-weight: bold\">[</span><span style=\"color: #008080; text-decoration-color: #008080; font-weight: bold\">0.396594</span>   <span style=\"color: #008080; text-decoration-color: #008080; font-weight: bold\">0.29321536</span> <span style=\"color: #008080; text-decoration-color: #008080; font-weight: bold\">0.37236482</span><span style=\"font-weight: bold\">]</span>\n",
       "</pre>\n"
      ],
      "text/plain": [
       "\u001b[1m[\u001b[0m\u001b[1;36m0.396594\u001b[0m   \u001b[1;36m0.29321536\u001b[0m \u001b[1;36m0.37236482\u001b[0m\u001b[1m]\u001b[0m  ==  \u001b[1m[\u001b[0m\u001b[1;36m0.396594\u001b[0m   \u001b[1;36m0.29321536\u001b[0m \u001b[1;36m0.37236482\u001b[0m\u001b[1m]\u001b[0m\n"
      ]
     },
     "metadata": {},
     "output_type": "display_data"
    }
   ],
   "source": [
    "mod = mod.set_attributes(new_state)\n",
    "print(mod.state()['x'], ' == ', new_state['x'])"
   ]
  },
  {
   "cell_type": "raw",
   "metadata": {
    "raw_mimetype": "text/restructuredtext"
   },
   "source": [
    "You will have noticed the functional form of the call to :py:meth:`~.JaxModule.set_attributes` above. This is addressed in the next section."
   ]
  },
  {
   "cell_type": "markdown",
   "metadata": {},
   "source": [
    "## Functional state and attribute setting"
   ]
  },
  {
   "cell_type": "raw",
   "metadata": {
    "raw_mimetype": "text/restructuredtext"
   },
   "source": [
    "Direct attribute assignment works at the top level, using standard Python syntax:"
   ]
  },
  {
   "cell_type": "code",
   "execution_count": 8,
   "metadata": {},
   "outputs": [
    {
     "data": {
      "text/html": [
       "<pre style=\"white-space:pre;overflow-x:auto;line-height:normal;font-family:Menlo,'DejaVu Sans Mono',consolas,'Courier New',monospace\"><span style=\"font-weight: bold\">[</span><span style=\"color: #008080; text-decoration-color: #008080; font-weight: bold\">0.004</span> <span style=\"color: #008080; text-decoration-color: #008080; font-weight: bold\">0.004</span> <span style=\"color: #008080; text-decoration-color: #008080; font-weight: bold\">0.004</span><span style=\"font-weight: bold\">]</span>  ==  <span style=\"font-weight: bold\">[</span><span style=\"color: #008080; text-decoration-color: #008080; font-weight: bold\">0.004</span> <span style=\"color: #008080; text-decoration-color: #008080; font-weight: bold\">0.004</span> <span style=\"color: #008080; text-decoration-color: #008080; font-weight: bold\">0.004</span><span style=\"font-weight: bold\">]</span>\n",
       "</pre>\n"
      ],
      "text/plain": [
       "\u001b[1m[\u001b[0m\u001b[1;36m0.004\u001b[0m \u001b[1;36m0.004\u001b[0m \u001b[1;36m0.004\u001b[0m\u001b[1m]\u001b[0m  ==  \u001b[1m[\u001b[0m\u001b[1;36m0.004\u001b[0m \u001b[1;36m0.004\u001b[0m \u001b[1;36m0.004\u001b[0m\u001b[1m]\u001b[0m\n"
      ]
     },
     "metadata": {},
     "output_type": "display_data"
    }
   ],
   "source": [
    "new_tau = mod.tau * .4\n",
    "mod.tau = new_tau\n",
    "print(new_tau, ' == ', mod.tau)"
   ]
  },
  {
   "cell_type": "raw",
   "metadata": {
    "raw_mimetype": "text/restructuredtext"
   },
   "source": [
    "A functional form is also supported, via the :py:meth:`~JaxModule.set_attributes` method. Here a copy of the module (and submodules) is returned, to replace the \"old\" module with one with updated attributes:"
   ]
  },
  {
   "cell_type": "code",
   "execution_count": 9,
   "metadata": {},
   "outputs": [
    {
     "data": {
      "text/html": [
       "<pre style=\"white-space:pre;overflow-x:auto;line-height:normal;font-family:Menlo,'DejaVu Sans Mono',consolas,'Courier New',monospace\"><span style=\"font-weight: bold\">[</span><span style=\"color: #008080; text-decoration-color: #008080; font-weight: bold\">0.012</span> <span style=\"color: #008080; text-decoration-color: #008080; font-weight: bold\">0.012</span> <span style=\"color: #008080; text-decoration-color: #008080; font-weight: bold\">0.012</span><span style=\"font-weight: bold\">]</span>  ==  <span style=\"font-weight: bold\">[</span><span style=\"color: #008080; text-decoration-color: #008080; font-weight: bold\">0.012</span> <span style=\"color: #008080; text-decoration-color: #008080; font-weight: bold\">0.012</span> <span style=\"color: #008080; text-decoration-color: #008080; font-weight: bold\">0.012</span><span style=\"font-weight: bold\">]</span>\n",
       "</pre>\n"
      ],
      "text/plain": [
       "\u001b[1m[\u001b[0m\u001b[1;36m0.012\u001b[0m \u001b[1;36m0.012\u001b[0m \u001b[1;36m0.012\u001b[0m\u001b[1m]\u001b[0m  ==  \u001b[1m[\u001b[0m\u001b[1;36m0.012\u001b[0m \u001b[1;36m0.012\u001b[0m \u001b[1;36m0.012\u001b[0m\u001b[1m]\u001b[0m\n"
      ]
     },
     "metadata": {},
     "output_type": "display_data"
    }
   ],
   "source": [
    "params = mod.parameters()\n",
    "params['tau'] = params['tau'] * 3.\n",
    "\n",
    "# - Note the functional calling style\n",
    "mod = mod.set_attributes(params)\n",
    "\n",
    "# - check that the attribute was set\n",
    "print(params['tau'], ' == ', mod.tau)"
   ]
  },
  {
   "cell_type": "markdown",
   "metadata": {},
   "source": [
    "## Functional module reset"
   ]
  },
  {
   "cell_type": "raw",
   "metadata": {
    "raw_mimetype": "text/restructuredtext"
   },
   "source": [
    "Resetting the module state and parameters also must be done using a functional form:"
   ]
  },
  {
   "cell_type": "code",
   "execution_count": 10,
   "metadata": {},
   "outputs": [],
   "source": [
    "# - Reset the module state\n",
    "mod = mod.reset_state()\n",
    "\n",
    "# - Reset the module parameters\n",
    "mod = mod.reset_parameters()"
   ]
  },
  {
   "cell_type": "markdown",
   "metadata": {},
   "source": [
    "## Jax flattening"
   ]
  },
  {
   "cell_type": "raw",
   "metadata": {
    "raw_mimetype": "text/restructuredtext"
   },
   "source": [
    ":py:class:`.JaxModule` provides the methods :py:meth:`~.JaxModule.tree_flatten` and :py:meth:`~.JaxModule.tree_unflatten`, which are required to serialise and deserialise modules for Jax compilation and execution.\n",
    "\n",
    "If you write a :py:class:`.JaxModule` subclass, it will be automatically registered with Jax as a ``pytree``. You shouldn't need to override :py:meth:`~.JaxModule.tree_flatten` or :py:meth:`~.JaxModule.tree_unflatten` in your modules.\n",
    "\n",
    "Flattening and unflattening requires that your :py:meth:`~.JaxModule.__init__` method must be callable with only a shape as input, which should be sufficient to specify the network architecture of your module and all submodules.\n",
    "\n",
    "If that isn't the case, then you may need to override :py:meth:`~.JaxModule.tree_flatten` and :py:meth:`~.JaxModule.tree_unflatten`."
   ]
  }
 ],
 "metadata": {
  "kernelspec": {
   "display_name": "Python [conda env:py38]",
   "language": "python",
   "name": "conda-env-py38-py"
  },
  "language_info": {
   "codemirror_mode": {
    "name": "ipython",
    "version": 3
   },
   "file_extension": ".py",
   "mimetype": "text/x-python",
   "name": "python",
   "nbconvert_exporter": "python",
   "pygments_lexer": "ipython3",
   "version": "3.8.11"
  }
 },
 "nbformat": 4,
 "nbformat_minor": 4
}
