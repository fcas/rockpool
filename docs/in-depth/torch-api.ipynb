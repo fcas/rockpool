{
 "cells": [
  {
   "cell_type": "markdown",
   "metadata": {},
   "source": [
    "# 🔥 Building Rockpool modules in Torch"
   ]
  },
  {
   "cell_type": "markdown",
   "metadata": {},
   "source": [
    "## Convert an existing Torch ``torch.nn.module`` for use in Rockpool"
   ]
  },
  {
   "cell_type": "raw",
   "metadata": {
    "raw_mimetype": "text/restructuredtext"
   },
   "source": [
    "Torch modules implemented using ``torch.nn.Module`` can be converted directly to the Rockpool API using the method :py:meth:`.TorchModule.from_torch`. This method returns an object adhering to the Rockpool low-level API, converting Torch calls and attributes into Rockpool calls and registered attributes.\n",
    "\n",
    "Here we show an example of a simple Torch module coverted to a Rockpool object."
   ]
  },
  {
   "cell_type": "code",
   "execution_count": 2,
   "metadata": {},
   "outputs": [],
   "source": [
    "# - Torch imports\n",
    "import torch\n",
    "import torch.nn as nn\n",
    "import torch.nn.functional as F\n",
    "\n",
    "# - Rockpool imports\n",
    "from rockpool.nn.modules import TorchModule\n",
    "\n",
    "# - Rich printing\n",
    "try:\n",
    "    from rich import print\n",
    "except:\n",
    "    pass\n",
    "\n",
    "# - Implement a Torch class\n",
    "class TorchNet(torch.nn.Module):\n",
    "    def __init__(self, *args, **kwargs):\n",
    "        super().__init__(*args, **kwargs)\n",
    "        \n",
    "        # - Build some convolutional layers\n",
    "        self.conv1 = nn.Conv2d(1, 2, 3, 1)\n",
    "        \n",
    "        # - Add a dropout layer\n",
    "        self.dropout1 = nn.Dropout2d(0.25)\n",
    "        \n",
    "        # - Fully-connected layer\n",
    "        self.fc1 = nn.Linear(338, 10)\n",
    "        \n",
    "        # - Register an example buffer\n",
    "        self.register_buffer('test_buf', torch.zeros(3, 4))\n",
    "        \n",
    "    def forward(self, x):\n",
    "        x = self.conv1(x)\n",
    "        x = F.relu(x)\n",
    "        \n",
    "        x = F.max_pool2d(x, 2)\n",
    "        x = self.dropout1(x)\n",
    "        \n",
    "        x = torch.flatten(x, 1)\n",
    "        \n",
    "        x = self.fc1(x)\n",
    "        x = F.relu(x)\n",
    "        \n",
    "        output = F.log_softmax(x, dim = 1)\n",
    "        return output"
   ]
  },
  {
   "cell_type": "code",
   "execution_count": 3,
   "metadata": {},
   "outputs": [],
   "source": [
    "# - Instantiate the network and test the Torch API\n",
    "\n",
    "# Equates to one random 28x28 image\n",
    "random_data = torch.rand((1, 1, 28, 28))\n",
    "\n",
    "# - Generate torch module and test evaluation\n",
    "mod = TorchNet()\n",
    "result = mod(random_data)"
   ]
  },
  {
   "cell_type": "code",
   "execution_count": 4,
   "metadata": {},
   "outputs": [
    {
     "data": {
      "text/html": [
       "<pre style=\"white-space:pre;overflow-x:auto;line-height:normal;font-family:Menlo,'DejaVu Sans Mono',consolas,'Courier New',monospace\">TorchNet <span style=\"color: #008000\">'TorchModulePatch'</span> with shape <span style=\"font-weight: bold\">(</span><span style=\"color: #800080; font-style: italic\">None</span>,<span style=\"font-weight: bold\">)</span> <span style=\"font-weight: bold\">{</span>\n",
       "    Conv2d <span style=\"color: #008000\">'TorchModulePatch'</span> with shape <span style=\"font-weight: bold\">(</span><span style=\"color: #800080; font-style: italic\">None</span>,<span style=\"font-weight: bold\">)</span>\n",
       "    Dropout2d <span style=\"color: #008000\">'TorchModulePatch'</span> with shape <span style=\"font-weight: bold\">(</span><span style=\"color: #800080; font-style: italic\">None</span>,<span style=\"font-weight: bold\">)</span>\n",
       "    Linear <span style=\"color: #008000\">'TorchModulePatch'</span> with shape <span style=\"font-weight: bold\">(</span><span style=\"color: #800080; font-style: italic\">None</span>,<span style=\"font-weight: bold\">)</span>\n",
       "<span style=\"font-weight: bold\">}</span>\n",
       "</pre>\n"
      ],
      "text/plain": [
       "<rich.jupyter.JupyterRenderable at 0x13dc9ccf8>"
      ]
     },
     "metadata": {},
     "output_type": "display_data"
    }
   ],
   "source": [
    "# - Convert object to Rockpool API, in-place\n",
    "TorchModule.from_torch(mod)\n",
    "print(mod)"
   ]
  },
  {
   "cell_type": "code",
   "execution_count": 5,
   "metadata": {},
   "outputs": [
    {
     "data": {
      "text/html": [
       "<pre style=\"white-space:pre;overflow-x:auto;line-height:normal;font-family:Menlo,'DejaVu Sans Mono',consolas,'Courier New',monospace\">tensor<span style=\"font-weight: bold\">([[</span><span style=\"color: #000080; font-weight: bold\">-2.2901</span>, <span style=\"color: #000080; font-weight: bold\">-2.3051</span>, <span style=\"color: #000080; font-weight: bold\">-2.3153</span>, <span style=\"color: #000080; font-weight: bold\">-2.2667</span>, <span style=\"color: #000080; font-weight: bold\">-2.3153</span>, <span style=\"color: #000080; font-weight: bold\">-2.2735</span>, <span style=\"color: #000080; font-weight: bold\">-2.3153</span>, <span style=\"color: #000080; font-weight: bold\">-2.3153</span>,\n",
       "         <span style=\"color: #000080; font-weight: bold\">-2.3153</span>, <span style=\"color: #000080; font-weight: bold\">-2.3153</span><span style=\"font-weight: bold\">]]</span>, <span style=\"color: #808000\">grad_fn</span>=<span style=\"font-weight: bold\">&lt;</span><span style=\"color: #ff00ff; font-weight: bold\">LogSoftmaxBackward</span><span style=\"font-weight: bold\">&gt;)</span>\n",
       "</pre>\n"
      ],
      "text/plain": [
       "<rich.jupyter.JupyterRenderable at 0x13dd13748>"
      ]
     },
     "metadata": {},
     "output_type": "display_data"
    }
   ],
   "source": [
    "# - Use the Rockpool API to evolve the module\n",
    "output, _, _ = mod(random_data)\n",
    "print(output)"
   ]
  },
  {
   "cell_type": "raw",
   "metadata": {
    "raw_mimetype": "text/restructuredtext"
   },
   "source": [
    "The module attributes can be accessed using the Rockpool API via :py:meth:`~.TorchModule.parameters`, :py:meth:`~.TorchModule.state` and :py:meth:`~.TorchModule.simulationparameters` methods. The attribute dictionaries returned by these methods support an additional method :py:meth:`~.TorchModuleParameters.astorch`, which converts the attribute dictionary to a generator returning raw :py:class:`Tensor` s. Doing so is equivalent to calling the :py:meth:`Torch.nn.Module.parameters` method."
   ]
  },
  {
   "cell_type": "code",
   "execution_count": 6,
   "metadata": {},
   "outputs": [
    {
     "data": {
      "text/html": [
       "<pre style=\"white-space:pre;overflow-x:auto;line-height:normal;font-family:Menlo,'DejaVu Sans Mono',consolas,'Courier New',monospace\">Parameters: \n",
       "<span style=\"font-weight: bold\">{</span><span style=\"color: #008000\">'conv1'</span>: <span style=\"font-weight: bold\">{</span><span style=\"color: #008000\">'weight'</span>: Parameter containing:\n",
       "tensor<span style=\"font-weight: bold\">([[[[</span> <span style=\"color: #000080; font-weight: bold\">0.0860</span>, <span style=\"color: #000080; font-weight: bold\">-0.2974</span>,  <span style=\"color: #000080; font-weight: bold\">0.3119</span><span style=\"font-weight: bold\">]</span>,\n",
       "          <span style=\"font-weight: bold\">[</span><span style=\"color: #000080; font-weight: bold\">-0.3308</span>, <span style=\"color: #000080; font-weight: bold\">-0.3086</span>, <span style=\"color: #000080; font-weight: bold\">-0.0925</span><span style=\"font-weight: bold\">]</span>,\n",
       "          <span style=\"font-weight: bold\">[</span><span style=\"color: #000080; font-weight: bold\">-0.3288</span>,  <span style=\"color: #000080; font-weight: bold\">0.1913</span>, <span style=\"color: #000080; font-weight: bold\">-0.2676</span><span style=\"font-weight: bold\">]]]</span>,\n",
       "\n",
       "\n",
       "        <span style=\"font-weight: bold\">[[[</span><span style=\"color: #000080; font-weight: bold\">-0.2203</span>,  <span style=\"color: #000080; font-weight: bold\">0.0984</span>,  <span style=\"color: #000080; font-weight: bold\">0.0411</span><span style=\"font-weight: bold\">]</span>,\n",
       "          <span style=\"font-weight: bold\">[</span> <span style=\"color: #000080; font-weight: bold\">0.2088</span>, <span style=\"color: #000080; font-weight: bold\">-0.0984</span>, <span style=\"color: #000080; font-weight: bold\">-0.1035</span><span style=\"font-weight: bold\">]</span>,\n",
       "          <span style=\"font-weight: bold\">[</span> <span style=\"color: #000080; font-weight: bold\">0.2082</span>, <span style=\"color: #000080; font-weight: bold\">-0.0884</span>, <span style=\"color: #000080; font-weight: bold\">-0.2368</span><span style=\"font-weight: bold\">]]]]</span>, <span style=\"color: #808000\">requires_grad</span>=<span style=\"color: #00ff00; font-style: italic\">True</span><span style=\"font-weight: bold\">)</span>, <span style=\"color: #008000\">'bias'</span>: Parameter containing:\n",
       "tensor<span style=\"font-weight: bold\">([</span><span style=\"color: #000080; font-weight: bold\">-0.2585</span>, <span style=\"color: #000080; font-weight: bold\">-0.2709</span><span style=\"font-weight: bold\">]</span>, <span style=\"color: #808000\">requires_grad</span>=<span style=\"color: #00ff00; font-style: italic\">True</span><span style=\"font-weight: bold\">)}</span>, <span style=\"color: #008000\">'dropout1'</span>: <span style=\"font-weight: bold\">{}</span>, <span style=\"color: #008000\">'fc1'</span>: <span style=\"font-weight: bold\">{</span><span style=\"color: #008000\">'weight'</span>: Parameter \n",
       "containing:\n",
       "tensor<span style=\"font-weight: bold\">([[</span><span style=\"color: #000080; font-weight: bold\">-0.0434</span>,  <span style=\"color: #000080; font-weight: bold\">0.0390</span>,  <span style=\"color: #000080; font-weight: bold\">0.0098</span>,  <span style=\"color: #808000\">...</span>,  <span style=\"color: #000080; font-weight: bold\">0.0302</span>,  <span style=\"color: #000080; font-weight: bold\">0.0246</span>,  <span style=\"color: #000080; font-weight: bold\">0.0189</span><span style=\"font-weight: bold\">]</span>,\n",
       "        <span style=\"font-weight: bold\">[</span><span style=\"color: #000080; font-weight: bold\">-0.0281</span>, <span style=\"color: #000080; font-weight: bold\">-0.0450</span>,  <span style=\"color: #000080; font-weight: bold\">0.0357</span>,  <span style=\"color: #808000\">...</span>, <span style=\"color: #000080; font-weight: bold\">-0.0370</span>,  <span style=\"color: #000080; font-weight: bold\">0.0429</span>, <span style=\"color: #000080; font-weight: bold\">-0.0401</span><span style=\"font-weight: bold\">]</span>,\n",
       "        <span style=\"font-weight: bold\">[</span><span style=\"color: #000080; font-weight: bold\">-0.0401</span>, <span style=\"color: #000080; font-weight: bold\">-0.0504</span>,  <span style=\"color: #000080; font-weight: bold\">0.0414</span>,  <span style=\"color: #808000\">...</span>,  <span style=\"color: #000080; font-weight: bold\">0.0525</span>,  <span style=\"color: #000080; font-weight: bold\">0.0232</span>, <span style=\"color: #000080; font-weight: bold\">-0.0104</span><span style=\"font-weight: bold\">]</span>,\n",
       "        <span style=\"color: #808000\">...</span>,\n",
       "        <span style=\"font-weight: bold\">[</span> <span style=\"color: #000080; font-weight: bold\">0.0316</span>,  <span style=\"color: #000080; font-weight: bold\">0.0472</span>,  <span style=\"color: #000080; font-weight: bold\">0.0238</span>,  <span style=\"color: #808000\">...</span>, <span style=\"color: #000080; font-weight: bold\">-0.0103</span>, <span style=\"color: #000080; font-weight: bold\">-0.0257</span>,  <span style=\"color: #000080; font-weight: bold\">0.0447</span><span style=\"font-weight: bold\">]</span>,\n",
       "        <span style=\"font-weight: bold\">[</span> <span style=\"color: #000080; font-weight: bold\">0.0526</span>, <span style=\"color: #000080; font-weight: bold\">-0.0245</span>, <span style=\"color: #000080; font-weight: bold\">-0.0002</span>,  <span style=\"color: #808000\">...</span>, <span style=\"color: #000080; font-weight: bold\">-0.0458</span>,  <span style=\"color: #000080; font-weight: bold\">0.0246</span>, <span style=\"color: #000080; font-weight: bold\">-0.0395</span><span style=\"font-weight: bold\">]</span>,\n",
       "        <span style=\"font-weight: bold\">[</span> <span style=\"color: #000080; font-weight: bold\">0.0328</span>, <span style=\"color: #000080; font-weight: bold\">-0.0264</span>,  <span style=\"color: #000080; font-weight: bold\">0.0043</span>,  <span style=\"color: #808000\">...</span>, <span style=\"color: #000080; font-weight: bold\">-0.0041</span>,  <span style=\"color: #000080; font-weight: bold\">0.0034</span>,  <span style=\"color: #000080; font-weight: bold\">0.0474</span><span style=\"font-weight: bold\">]]</span>,\n",
       "       <span style=\"color: #808000\">requires_grad</span>=<span style=\"color: #00ff00; font-style: italic\">True</span><span style=\"font-weight: bold\">)</span>, <span style=\"color: #008000\">'bias'</span>: Parameter containing:\n",
       "tensor<span style=\"font-weight: bold\">([</span> <span style=\"color: #000080; font-weight: bold\">0.0253</span>,  <span style=\"color: #000080; font-weight: bold\">0.0102</span>, <span style=\"color: #000080; font-weight: bold\">-0.0340</span>,  <span style=\"color: #000080; font-weight: bold\">0.0487</span>, <span style=\"color: #000080; font-weight: bold\">-0.0157</span>,  <span style=\"color: #000080; font-weight: bold\">0.0418</span>, <span style=\"color: #000080; font-weight: bold\">-0.0030</span>, <span style=\"color: #000080; font-weight: bold\">-0.0076</span>,\n",
       "        <span style=\"color: #000080; font-weight: bold\">-0.0337</span>, <span style=\"color: #000080; font-weight: bold\">-0.0480</span><span style=\"font-weight: bold\">]</span>, <span style=\"color: #808000\">requires_grad</span>=<span style=\"color: #00ff00; font-style: italic\">True</span><span style=\"font-weight: bold\">)}}</span>\n",
       "</pre>\n"
      ],
      "text/plain": [
       "<rich.jupyter.JupyterRenderable at 0x13dd137f0>"
      ]
     },
     "metadata": {},
     "output_type": "display_data"
    },
    {
     "data": {
      "text/html": [
       "<pre style=\"white-space:pre;overflow-x:auto;line-height:normal;font-family:Menlo,'DejaVu Sans Mono',consolas,'Courier New',monospace\">State: \n",
       "<span style=\"font-weight: bold\">{</span><span style=\"color: #008000\">'test_buf'</span>: tensor<span style=\"font-weight: bold\">([[</span><span style=\"color: #000080; font-weight: bold\">0</span>., <span style=\"color: #000080; font-weight: bold\">0</span>., <span style=\"color: #000080; font-weight: bold\">0</span>., <span style=\"color: #000080; font-weight: bold\">0</span>.<span style=\"font-weight: bold\">]</span>,\n",
       "        <span style=\"font-weight: bold\">[</span><span style=\"color: #000080; font-weight: bold\">0</span>., <span style=\"color: #000080; font-weight: bold\">0</span>., <span style=\"color: #000080; font-weight: bold\">0</span>., <span style=\"color: #000080; font-weight: bold\">0</span>.<span style=\"font-weight: bold\">]</span>,\n",
       "        <span style=\"font-weight: bold\">[</span><span style=\"color: #000080; font-weight: bold\">0</span>., <span style=\"color: #000080; font-weight: bold\">0</span>., <span style=\"color: #000080; font-weight: bold\">0</span>., <span style=\"color: #000080; font-weight: bold\">0</span>.<span style=\"font-weight: bold\">]])</span>, <span style=\"color: #008000\">'conv1'</span>: <span style=\"font-weight: bold\">{}</span>, <span style=\"color: #008000\">'dropout1'</span>: <span style=\"font-weight: bold\">{}</span>, <span style=\"color: #008000\">'fc1'</span>: <span style=\"font-weight: bold\">{}}</span>\n",
       "</pre>\n"
      ],
      "text/plain": [
       "<rich.jupyter.JupyterRenderable at 0x10bd3acf8>"
      ]
     },
     "metadata": {},
     "output_type": "display_data"
    }
   ],
   "source": [
    "# - Use the Rockpool API to access parameters\n",
    "print('Parameters: ', mod.parameters())\n",
    "print('State: ', mod.state())"
   ]
  },
  {
   "cell_type": "code",
   "execution_count": 9,
   "metadata": {},
   "outputs": [
    {
     "data": {
      "text/html": [
       "<pre style=\"white-space:pre;overflow-x:auto;line-height:normal;font-family:Menlo,'DejaVu Sans Mono',consolas,'Courier New',monospace\">Parameters.astorch<span style=\"font-weight: bold\">()</span>: \n",
       "<span style=\"font-weight: bold\">[</span>\n",
       "    Parameter containing:\n",
       "tensor<span style=\"font-weight: bold\">([[[[</span> <span style=\"color: #000080; font-weight: bold\">0.0860</span>, <span style=\"color: #000080; font-weight: bold\">-0.2974</span>,  <span style=\"color: #000080; font-weight: bold\">0.3119</span><span style=\"font-weight: bold\">]</span>,\n",
       "          <span style=\"font-weight: bold\">[</span><span style=\"color: #000080; font-weight: bold\">-0.3308</span>, <span style=\"color: #000080; font-weight: bold\">-0.3086</span>, <span style=\"color: #000080; font-weight: bold\">-0.0925</span><span style=\"font-weight: bold\">]</span>,\n",
       "          <span style=\"font-weight: bold\">[</span><span style=\"color: #000080; font-weight: bold\">-0.3288</span>,  <span style=\"color: #000080; font-weight: bold\">0.1913</span>, <span style=\"color: #000080; font-weight: bold\">-0.2676</span><span style=\"font-weight: bold\">]]]</span>,\n",
       "\n",
       "\n",
       "        <span style=\"font-weight: bold\">[[[</span><span style=\"color: #000080; font-weight: bold\">-0.2203</span>,  <span style=\"color: #000080; font-weight: bold\">0.0984</span>,  <span style=\"color: #000080; font-weight: bold\">0.0411</span><span style=\"font-weight: bold\">]</span>,\n",
       "          <span style=\"font-weight: bold\">[</span> <span style=\"color: #000080; font-weight: bold\">0.2088</span>, <span style=\"color: #000080; font-weight: bold\">-0.0984</span>, <span style=\"color: #000080; font-weight: bold\">-0.1035</span><span style=\"font-weight: bold\">]</span>,\n",
       "          <span style=\"font-weight: bold\">[</span> <span style=\"color: #000080; font-weight: bold\">0.2082</span>, <span style=\"color: #000080; font-weight: bold\">-0.0884</span>, <span style=\"color: #000080; font-weight: bold\">-0.2368</span><span style=\"font-weight: bold\">]]]]</span>, <span style=\"color: #808000\">requires_grad</span>=<span style=\"color: #00ff00; font-style: italic\">True</span><span style=\"font-weight: bold\">)</span>,\n",
       "    Parameter containing:\n",
       "tensor<span style=\"font-weight: bold\">([</span><span style=\"color: #000080; font-weight: bold\">-0.2585</span>, <span style=\"color: #000080; font-weight: bold\">-0.2709</span><span style=\"font-weight: bold\">]</span>, <span style=\"color: #808000\">requires_grad</span>=<span style=\"color: #00ff00; font-style: italic\">True</span><span style=\"font-weight: bold\">)</span>,\n",
       "    Parameter containing:\n",
       "tensor<span style=\"font-weight: bold\">([[</span><span style=\"color: #000080; font-weight: bold\">-0.0434</span>,  <span style=\"color: #000080; font-weight: bold\">0.0390</span>,  <span style=\"color: #000080; font-weight: bold\">0.0098</span>,  <span style=\"color: #808000\">...</span>,  <span style=\"color: #000080; font-weight: bold\">0.0302</span>,  <span style=\"color: #000080; font-weight: bold\">0.0246</span>,  <span style=\"color: #000080; font-weight: bold\">0.0189</span><span style=\"font-weight: bold\">]</span>,\n",
       "        <span style=\"font-weight: bold\">[</span><span style=\"color: #000080; font-weight: bold\">-0.0281</span>, <span style=\"color: #000080; font-weight: bold\">-0.0450</span>,  <span style=\"color: #000080; font-weight: bold\">0.0357</span>,  <span style=\"color: #808000\">...</span>, <span style=\"color: #000080; font-weight: bold\">-0.0370</span>,  <span style=\"color: #000080; font-weight: bold\">0.0429</span>, <span style=\"color: #000080; font-weight: bold\">-0.0401</span><span style=\"font-weight: bold\">]</span>,\n",
       "        <span style=\"font-weight: bold\">[</span><span style=\"color: #000080; font-weight: bold\">-0.0401</span>, <span style=\"color: #000080; font-weight: bold\">-0.0504</span>,  <span style=\"color: #000080; font-weight: bold\">0.0414</span>,  <span style=\"color: #808000\">...</span>,  <span style=\"color: #000080; font-weight: bold\">0.0525</span>,  <span style=\"color: #000080; font-weight: bold\">0.0232</span>, <span style=\"color: #000080; font-weight: bold\">-0.0104</span><span style=\"font-weight: bold\">]</span>,\n",
       "        <span style=\"color: #808000\">...</span>,\n",
       "        <span style=\"font-weight: bold\">[</span> <span style=\"color: #000080; font-weight: bold\">0.0316</span>,  <span style=\"color: #000080; font-weight: bold\">0.0472</span>,  <span style=\"color: #000080; font-weight: bold\">0.0238</span>,  <span style=\"color: #808000\">...</span>, <span style=\"color: #000080; font-weight: bold\">-0.0103</span>, <span style=\"color: #000080; font-weight: bold\">-0.0257</span>,  <span style=\"color: #000080; font-weight: bold\">0.0447</span><span style=\"font-weight: bold\">]</span>,\n",
       "        <span style=\"font-weight: bold\">[</span> <span style=\"color: #000080; font-weight: bold\">0.0526</span>, <span style=\"color: #000080; font-weight: bold\">-0.0245</span>, <span style=\"color: #000080; font-weight: bold\">-0.0002</span>,  <span style=\"color: #808000\">...</span>, <span style=\"color: #000080; font-weight: bold\">-0.0458</span>,  <span style=\"color: #000080; font-weight: bold\">0.0246</span>, <span style=\"color: #000080; font-weight: bold\">-0.0395</span><span style=\"font-weight: bold\">]</span>,\n",
       "        <span style=\"font-weight: bold\">[</span> <span style=\"color: #000080; font-weight: bold\">0.0328</span>, <span style=\"color: #000080; font-weight: bold\">-0.0264</span>,  <span style=\"color: #000080; font-weight: bold\">0.0043</span>,  <span style=\"color: #808000\">...</span>, <span style=\"color: #000080; font-weight: bold\">-0.0041</span>,  <span style=\"color: #000080; font-weight: bold\">0.0034</span>,  <span style=\"color: #000080; font-weight: bold\">0.0474</span><span style=\"font-weight: bold\">]]</span>,\n",
       "       <span style=\"color: #808000\">requires_grad</span>=<span style=\"color: #00ff00; font-style: italic\">True</span><span style=\"font-weight: bold\">)</span>,\n",
       "    Parameter containing:\n",
       "tensor<span style=\"font-weight: bold\">([</span> <span style=\"color: #000080; font-weight: bold\">0.0253</span>,  <span style=\"color: #000080; font-weight: bold\">0.0102</span>, <span style=\"color: #000080; font-weight: bold\">-0.0340</span>,  <span style=\"color: #000080; font-weight: bold\">0.0487</span>, <span style=\"color: #000080; font-weight: bold\">-0.0157</span>,  <span style=\"color: #000080; font-weight: bold\">0.0418</span>, <span style=\"color: #000080; font-weight: bold\">-0.0030</span>, <span style=\"color: #000080; font-weight: bold\">-0.0076</span>,\n",
       "        <span style=\"color: #000080; font-weight: bold\">-0.0337</span>, <span style=\"color: #000080; font-weight: bold\">-0.0480</span><span style=\"font-weight: bold\">]</span>, <span style=\"color: #808000\">requires_grad</span>=<span style=\"color: #00ff00; font-style: italic\">True</span><span style=\"font-weight: bold\">)</span>\n",
       "<span style=\"font-weight: bold\">]</span>\n",
       "</pre>\n"
      ],
      "text/plain": [
       "<rich.jupyter.JupyterRenderable at 0x13dd13be0>"
      ]
     },
     "metadata": {},
     "output_type": "display_data"
    }
   ],
   "source": [
    "# - Convert the parameter dictionary to torch parameters\n",
    "print('Parameters.astorch(): ', list(mod.parameters().astorch()))"
   ]
  },
  {
   "cell_type": "markdown",
   "metadata": {},
   "source": [
    "## Write a native Rockpool/Torch module using ``TorchModule``"
   ]
  },
  {
   "cell_type": "raw",
   "metadata": {
    "raw_mimetype": "text/restructuredtext"
   },
   "source": [
    "You can also use :py:class:`.TorchModule` directly as a base class, in place of ``torch.nn.Module``. Usually this will be a drop-in replacement, without modifying the initialisation or evaluation code.\n",
    "\n",
    "The example here mimics the network above --- only the inherited base class has been changed."
   ]
  },
  {
   "cell_type": "code",
   "execution_count": 10,
   "metadata": {},
   "outputs": [],
   "source": [
    "# - Implement a Rockpool class using the TorchModule base class\n",
    "class RockpoolNet(TorchModule):\n",
    "    def __init__(self, *args, **kwargs):\n",
    "        super().__init__(*args, **kwargs)\n",
    "        \n",
    "        # - Build some convolutional layers\n",
    "        self.conv1 = nn.Conv2d(1, 2, 3, 1)\n",
    "        \n",
    "        # - Add a dropout layer\n",
    "        self.dropout1 = nn.Dropout2d(0.25)\n",
    "        \n",
    "        # - Fully-connected layer\n",
    "        self.fc1 = nn.Linear(338, 10)\n",
    "        \n",
    "        # - Register an example buffer\n",
    "        self.register_buffer('test_buf', torch.zeros(3, 4))\n",
    "\n",
    "    def forward(self, x):\n",
    "        x = self.conv1(x)\n",
    "        x = F.relu(x)\n",
    "        \n",
    "        x = F.max_pool2d(x, 2)\n",
    "        x = self.dropout1(x)\n",
    "        \n",
    "        x = torch.flatten(x, 1)\n",
    "        \n",
    "        x = self.fc1(x)\n",
    "        x = F.relu(x)\n",
    "        \n",
    "        output = F.log_softmax(x, dim = 1)\n",
    "        return output"
   ]
  },
  {
   "cell_type": "code",
   "execution_count": 11,
   "metadata": {},
   "outputs": [
    {
     "data": {
      "text/html": [
       "<pre style=\"white-space:pre;overflow-x:auto;line-height:normal;font-family:Menlo,'DejaVu Sans Mono',consolas,'Courier New',monospace\">RockpoolNet  with shape <span style=\"font-weight: bold\">(</span><span style=\"color: #800080; font-style: italic\">None</span>,<span style=\"font-weight: bold\">)</span> <span style=\"font-weight: bold\">{</span>\n",
       "    Conv2d <span style=\"color: #008000\">'conv1'</span> with shape <span style=\"font-weight: bold\">(</span><span style=\"color: #800080; font-style: italic\">None</span>,<span style=\"font-weight: bold\">)</span>\n",
       "    Dropout2d <span style=\"color: #008000\">'dropout1'</span> with shape <span style=\"font-weight: bold\">(</span><span style=\"color: #800080; font-style: italic\">None</span>,<span style=\"font-weight: bold\">)</span>\n",
       "    Linear <span style=\"color: #008000\">'fc1'</span> with shape <span style=\"font-weight: bold\">(</span><span style=\"color: #800080; font-style: italic\">None</span>,<span style=\"font-weight: bold\">)</span>\n",
       "<span style=\"font-weight: bold\">}</span>\n",
       "</pre>\n"
      ],
      "text/plain": [
       "<rich.jupyter.JupyterRenderable at 0x13dd6d048>"
      ]
     },
     "metadata": {},
     "output_type": "display_data"
    }
   ],
   "source": [
    "# - Instantiate the Rockpool class directly\n",
    "rmod = RockpoolNet()\n",
    "print(rmod)"
   ]
  },
  {
   "cell_type": "code",
   "execution_count": 12,
   "metadata": {},
   "outputs": [
    {
     "data": {
      "text/html": [
       "<pre style=\"white-space:pre;overflow-x:auto;line-height:normal;font-family:Menlo,'DejaVu Sans Mono',consolas,'Courier New',monospace\">tensor<span style=\"font-weight: bold\">([[</span><span style=\"color: #000080; font-weight: bold\">-2.2142</span>, <span style=\"color: #000080; font-weight: bold\">-2.4029</span>, <span style=\"color: #000080; font-weight: bold\">-2.4029</span>, <span style=\"color: #000080; font-weight: bold\">-2.4029</span>, <span style=\"color: #000080; font-weight: bold\">-2.1475</span>, <span style=\"color: #000080; font-weight: bold\">-2.4029</span>, <span style=\"color: #000080; font-weight: bold\">-2.3564</span>, <span style=\"color: #000080; font-weight: bold\">-2.1595</span>,\n",
       "         <span style=\"color: #000080; font-weight: bold\">-2.1931</span>, <span style=\"color: #000080; font-weight: bold\">-2.4029</span><span style=\"font-weight: bold\">]]</span>, <span style=\"color: #808000\">grad_fn</span>=<span style=\"font-weight: bold\">&lt;</span><span style=\"color: #ff00ff; font-weight: bold\">LogSoftmaxBackward</span><span style=\"font-weight: bold\">&gt;)</span>\n",
       "</pre>\n"
      ],
      "text/plain": [
       "<rich.jupyter.JupyterRenderable at 0x13dd6d6d8>"
      ]
     },
     "metadata": {},
     "output_type": "display_data"
    }
   ],
   "source": [
    "# - Evaluate the module using the Rockpool API\n",
    "output, _, _ = rmod(random_data)\n",
    "print(output)"
   ]
  },
  {
   "cell_type": "code",
   "execution_count": 13,
   "metadata": {},
   "outputs": [
    {
     "data": {
      "text/html": [
       "<pre style=\"white-space:pre;overflow-x:auto;line-height:normal;font-family:Menlo,'DejaVu Sans Mono',consolas,'Courier New',monospace\">Parameters: \n",
       "<span style=\"font-weight: bold\">{</span><span style=\"color: #008000\">'conv1'</span>: <span style=\"font-weight: bold\">{</span><span style=\"color: #008000\">'weight'</span>: Parameter containing:\n",
       "tensor<span style=\"font-weight: bold\">([[[[</span> <span style=\"color: #000080; font-weight: bold\">0.3142</span>, <span style=\"color: #000080; font-weight: bold\">-0.3117</span>, <span style=\"color: #000080; font-weight: bold\">-0.1689</span><span style=\"font-weight: bold\">]</span>,\n",
       "          <span style=\"font-weight: bold\">[</span> <span style=\"color: #000080; font-weight: bold\">0.1238</span>,  <span style=\"color: #000080; font-weight: bold\">0.0839</span>,  <span style=\"color: #000080; font-weight: bold\">0.2388</span><span style=\"font-weight: bold\">]</span>,\n",
       "          <span style=\"font-weight: bold\">[</span><span style=\"color: #000080; font-weight: bold\">-0.3328</span>, <span style=\"color: #000080; font-weight: bold\">-0.0238</span>,  <span style=\"color: #000080; font-weight: bold\">0.0634</span><span style=\"font-weight: bold\">]]]</span>,\n",
       "\n",
       "\n",
       "        <span style=\"font-weight: bold\">[[[</span> <span style=\"color: #000080; font-weight: bold\">0.2636</span>, <span style=\"color: #000080; font-weight: bold\">-0.1481</span>,  <span style=\"color: #000080; font-weight: bold\">0.2814</span><span style=\"font-weight: bold\">]</span>,\n",
       "          <span style=\"font-weight: bold\">[</span><span style=\"color: #000080; font-weight: bold\">-0.2780</span>, <span style=\"color: #000080; font-weight: bold\">-0.1842</span>, <span style=\"color: #000080; font-weight: bold\">-0.2616</span><span style=\"font-weight: bold\">]</span>,\n",
       "          <span style=\"font-weight: bold\">[</span><span style=\"color: #000080; font-weight: bold\">-0.1305</span>, <span style=\"color: #000080; font-weight: bold\">-0.2946</span>,  <span style=\"color: #000080; font-weight: bold\">0.1001</span><span style=\"font-weight: bold\">]]]]</span>, <span style=\"color: #808000\">requires_grad</span>=<span style=\"color: #00ff00; font-style: italic\">True</span><span style=\"font-weight: bold\">)</span>, <span style=\"color: #008000\">'bias'</span>: Parameter containing:\n",
       "tensor<span style=\"font-weight: bold\">([</span> <span style=\"color: #000080; font-weight: bold\">0.0931</span>, <span style=\"color: #000080; font-weight: bold\">-0.1620</span><span style=\"font-weight: bold\">]</span>, <span style=\"color: #808000\">requires_grad</span>=<span style=\"color: #00ff00; font-style: italic\">True</span><span style=\"font-weight: bold\">)}</span>, <span style=\"color: #008000\">'dropout1'</span>: <span style=\"font-weight: bold\">{}</span>, <span style=\"color: #008000\">'fc1'</span>: <span style=\"font-weight: bold\">{</span><span style=\"color: #008000\">'weight'</span>: Parameter \n",
       "containing:\n",
       "tensor<span style=\"font-weight: bold\">([[</span><span style=\"color: #000080; font-weight: bold\">-0.0205</span>, <span style=\"color: #000080; font-weight: bold\">-0.0448</span>, <span style=\"color: #000080; font-weight: bold\">-0.0457</span>,  <span style=\"color: #808000\">...</span>,  <span style=\"color: #000080; font-weight: bold\">0.0232</span>, <span style=\"color: #000080; font-weight: bold\">-0.0161</span>,  <span style=\"color: #000080; font-weight: bold\">0.0474</span><span style=\"font-weight: bold\">]</span>,\n",
       "        <span style=\"font-weight: bold\">[</span> <span style=\"color: #000080; font-weight: bold\">0.0170</span>, <span style=\"color: #000080; font-weight: bold\">-0.0226</span>, <span style=\"color: #000080; font-weight: bold\">-0.0159</span>,  <span style=\"color: #808000\">...</span>,  <span style=\"color: #000080; font-weight: bold\">0.0364</span>, <span style=\"color: #000080; font-weight: bold\">-0.0115</span>,  <span style=\"color: #000080; font-weight: bold\">0.0353</span><span style=\"font-weight: bold\">]</span>,\n",
       "        <span style=\"font-weight: bold\">[</span><span style=\"color: #000080; font-weight: bold\">-0.0129</span>,  <span style=\"color: #000080; font-weight: bold\">0.0346</span>,  <span style=\"color: #000080; font-weight: bold\">0.0267</span>,  <span style=\"color: #808000\">...</span>,  <span style=\"color: #000080; font-weight: bold\">0.0164</span>, <span style=\"color: #000080; font-weight: bold\">-0.0291</span>, <span style=\"color: #000080; font-weight: bold\">-0.0403</span><span style=\"font-weight: bold\">]</span>,\n",
       "        <span style=\"color: #808000\">...</span>,\n",
       "        <span style=\"font-weight: bold\">[</span><span style=\"color: #000080; font-weight: bold\">-0.0272</span>,  <span style=\"color: #000080; font-weight: bold\">0.0477</span>,  <span style=\"color: #000080; font-weight: bold\">0.0180</span>,  <span style=\"color: #808000\">...</span>, <span style=\"color: #000080; font-weight: bold\">-0.0146</span>,  <span style=\"color: #000080; font-weight: bold\">0.0176</span>, <span style=\"color: #000080; font-weight: bold\">-0.0056</span><span style=\"font-weight: bold\">]</span>,\n",
       "        <span style=\"font-weight: bold\">[</span> <span style=\"color: #000080; font-weight: bold\">0.0319</span>,  <span style=\"color: #000080; font-weight: bold\">0.0044</span>,  <span style=\"color: #000080; font-weight: bold\">0.0341</span>,  <span style=\"color: #808000\">...</span>, <span style=\"color: #000080; font-weight: bold\">-0.0520</span>, <span style=\"color: #000080; font-weight: bold\">-0.0197</span>,  <span style=\"color: #000080; font-weight: bold\">0.0142</span><span style=\"font-weight: bold\">]</span>,\n",
       "        <span style=\"font-weight: bold\">[</span><span style=\"color: #000080; font-weight: bold\">-0.0429</span>,  <span style=\"color: #000080; font-weight: bold\">0.0365</span>, <span style=\"color: #000080; font-weight: bold\">-0.0249</span>,  <span style=\"color: #808000\">...</span>,  <span style=\"color: #000080; font-weight: bold\">0.0516</span>, <span style=\"color: #000080; font-weight: bold\">-0.0044</span>,  <span style=\"color: #000080; font-weight: bold\">0.0089</span><span style=\"font-weight: bold\">]]</span>,\n",
       "       <span style=\"color: #808000\">requires_grad</span>=<span style=\"color: #00ff00; font-style: italic\">True</span><span style=\"font-weight: bold\">)</span>, <span style=\"color: #008000\">'bias'</span>: Parameter containing:\n",
       "tensor<span style=\"font-weight: bold\">([</span> <span style=\"color: #000080; font-weight: bold\">0.0365</span>,  <span style=\"color: #000080; font-weight: bold\">0.0424</span>, <span style=\"color: #000080; font-weight: bold\">-0.0415</span>,  <span style=\"color: #000080; font-weight: bold\">0.0297</span>,  <span style=\"color: #000080; font-weight: bold\">0.0339</span>,  <span style=\"color: #000080; font-weight: bold\">0.0139</span>,  <span style=\"color: #000080; font-weight: bold\">0.0209</span>,  <span style=\"color: #000080; font-weight: bold\">0.0301</span>,\n",
       "         <span style=\"color: #000080; font-weight: bold\">0.0241</span>,  <span style=\"color: #000080; font-weight: bold\">0.0135</span><span style=\"font-weight: bold\">]</span>, <span style=\"color: #808000\">requires_grad</span>=<span style=\"color: #00ff00; font-style: italic\">True</span><span style=\"font-weight: bold\">)}}</span>\n",
       "</pre>\n"
      ],
      "text/plain": [
       "<rich.jupyter.JupyterRenderable at 0x13dd6d7b8>"
      ]
     },
     "metadata": {},
     "output_type": "display_data"
    },
    {
     "data": {
      "text/html": [
       "<pre style=\"white-space:pre;overflow-x:auto;line-height:normal;font-family:Menlo,'DejaVu Sans Mono',consolas,'Courier New',monospace\">State: \n",
       "<span style=\"font-weight: bold\">{</span><span style=\"color: #008000\">'test_buf'</span>: tensor<span style=\"font-weight: bold\">([[</span><span style=\"color: #000080; font-weight: bold\">0</span>., <span style=\"color: #000080; font-weight: bold\">0</span>., <span style=\"color: #000080; font-weight: bold\">0</span>., <span style=\"color: #000080; font-weight: bold\">0</span>.<span style=\"font-weight: bold\">]</span>,\n",
       "        <span style=\"font-weight: bold\">[</span><span style=\"color: #000080; font-weight: bold\">0</span>., <span style=\"color: #000080; font-weight: bold\">0</span>., <span style=\"color: #000080; font-weight: bold\">0</span>., <span style=\"color: #000080; font-weight: bold\">0</span>.<span style=\"font-weight: bold\">]</span>,\n",
       "        <span style=\"font-weight: bold\">[</span><span style=\"color: #000080; font-weight: bold\">0</span>., <span style=\"color: #000080; font-weight: bold\">0</span>., <span style=\"color: #000080; font-weight: bold\">0</span>., <span style=\"color: #000080; font-weight: bold\">0</span>.<span style=\"font-weight: bold\">]])</span>, <span style=\"color: #008000\">'conv1'</span>: <span style=\"font-weight: bold\">{}</span>, <span style=\"color: #008000\">'dropout1'</span>: <span style=\"font-weight: bold\">{}</span>, <span style=\"color: #008000\">'fc1'</span>: <span style=\"font-weight: bold\">{}}</span>\n",
       "</pre>\n"
      ],
      "text/plain": [
       "<rich.jupyter.JupyterRenderable at 0x10bd3a550>"
      ]
     },
     "metadata": {},
     "output_type": "display_data"
    }
   ],
   "source": [
    "# - Access parameters using the Rockpool API\n",
    "print('Parameters: ', rmod.parameters())\n",
    "print('State: ', rmod.state())"
   ]
  }
 ],
 "metadata": {
  "kernelspec": {
   "display_name": "Python [conda env:py36_tf]",
   "language": "python",
   "name": "conda-env-py36_tf-py"
  },
  "language_info": {
   "codemirror_mode": {
    "name": "ipython",
    "version": 3
   },
   "file_extension": ".py",
   "mimetype": "text/x-python",
   "name": "python",
   "nbconvert_exporter": "python",
   "pygments_lexer": "ipython3",
   "version": "3.6.12"
  }
 },
 "nbformat": 4,
 "nbformat_minor": 4
}
