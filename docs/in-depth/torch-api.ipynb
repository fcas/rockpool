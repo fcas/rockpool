{
 "cells": [
  {
   "cell_type": "markdown",
   "metadata": {},
   "source": [
    "# 🔥 Building Rockpool modules in Torch"
   ]
  },
  {
   "cell_type": "markdown",
   "metadata": {},
   "source": [
    "## Convert an existing Torch ``torch.nn.module`` for use in Rockpool"
   ]
  },
  {
   "cell_type": "raw",
   "metadata": {
    "raw_mimetype": "text/restructuredtext"
   },
   "source": [
    "Torch modules implemented using ``torch.nn.Module`` can be converted directly to the Rockpool API using the method :py:meth:`.TorchModule.from_torch`. This method returns an object adhering to the Rockpool low-level API, converting Torch calls and attributes into Rockpool calls and registered attributes.\n",
    "\n",
    "Here we show an example of a simple Torch module coverted to a Rockpool object."
   ]
  },
  {
   "cell_type": "code",
   "execution_count": 112,
   "metadata": {},
   "outputs": [],
   "source": [
    "# - Torch imports\n",
    "import torch\n",
    "import torch.nn as nn\n",
    "import torch.nn.functional as F\n",
    "\n",
    "# - Rockpool imports\n",
    "from rockpool.nn.modules import TorchModule\n",
    "\n",
    "# - Rich printing\n",
    "try:\n",
    "    from rich import print\n",
    "except:\n",
    "    pass\n",
    "\n",
    "# - Implement a Torch class\n",
    "class TorchNet(torch.nn.Module):\n",
    "    def __init__(self, *args, **kwargs):\n",
    "        super().__init__(*args, **kwargs)\n",
    "        \n",
    "        # - Build some convolutional layers\n",
    "        self.conv1 = nn.Conv2d(1, 2, 3, 1)\n",
    "        \n",
    "        # - Add a dropout layer\n",
    "        self.dropout1 = nn.Dropout2d(0.25)\n",
    "        \n",
    "        # - Fully-connected layer\n",
    "        self.fc1 = nn.Linear(338, 10)\n",
    "        \n",
    "        # - Register an example buffer\n",
    "        self.register_buffer('test_buf', torch.zeros(3, 4))\n",
    "        \n",
    "    def forward(self, x):\n",
    "        x = self.conv1(x)\n",
    "        x = F.relu(x)\n",
    "        \n",
    "        x = F.max_pool2d(x, 2)\n",
    "        x = self.dropout1(x)\n",
    "        \n",
    "        x = torch.flatten(x, 1)\n",
    "        \n",
    "        x = self.fc1(x)\n",
    "        x = F.relu(x)\n",
    "        \n",
    "        output = F.log_softmax(x, dim = 1)\n",
    "        return output"
   ]
  },
  {
   "cell_type": "code",
   "execution_count": 113,
   "metadata": {},
   "outputs": [],
   "source": [
    "# - Instantiate the network and test the Torch API\n",
    "\n",
    "# Equates to one random 28x28 image\n",
    "random_data = torch.rand((1, 1, 28, 28))\n",
    "\n",
    "# - Generate torch module and test evaluation\n",
    "mod = TorchNet()\n",
    "result = mod(random_data)"
   ]
  },
  {
   "cell_type": "code",
   "execution_count": 114,
   "metadata": {},
   "outputs": [
    {
     "data": {
      "text/html": [
       "<pre style=\"white-space:pre;overflow-x:auto;line-height:normal;font-family:Menlo,'DejaVu Sans Mono',consolas,'Courier New',monospace\">TorchNet <span style=\"color: #008000\">'TorchModulePatch'</span> with shape <span style=\"font-weight: bold\">(</span><span style=\"color: #800080; font-style: italic\">None</span>,<span style=\"font-weight: bold\">)</span> <span style=\"font-weight: bold\">{</span>\n",
       "    Conv2d <span style=\"color: #008000\">'TorchModulePatch'</span> with shape <span style=\"font-weight: bold\">(</span><span style=\"color: #800080; font-style: italic\">None</span>,<span style=\"font-weight: bold\">)</span>\n",
       "    Dropout2d <span style=\"color: #008000\">'TorchModulePatch'</span> with shape <span style=\"font-weight: bold\">(</span><span style=\"color: #800080; font-style: italic\">None</span>,<span style=\"font-weight: bold\">)</span>\n",
       "    Linear <span style=\"color: #008000\">'TorchModulePatch'</span> with shape <span style=\"font-weight: bold\">(</span><span style=\"color: #800080; font-style: italic\">None</span>,<span style=\"font-weight: bold\">)</span>\n",
       "<span style=\"font-weight: bold\">}</span>\n",
       "</pre>\n"
      ],
      "text/plain": [
       "<rich.jupyter.JupyterRenderable at 0x13d1d7c18>"
      ]
     },
     "metadata": {},
     "output_type": "display_data"
    }
   ],
   "source": [
    "# - Convert object to Rockpool API, in-place\n",
    "TorchModule.from_torch(mod)\n",
    "print(mod)"
   ]
  },
  {
   "cell_type": "code",
   "execution_count": 115,
   "metadata": {},
   "outputs": [
    {
     "data": {
      "text/html": [
       "<pre style=\"white-space:pre;overflow-x:auto;line-height:normal;font-family:Menlo,'DejaVu Sans Mono',consolas,'Courier New',monospace\">tensor<span style=\"font-weight: bold\">([[</span><span style=\"color: #000080; font-weight: bold\">-2.3181</span>, <span style=\"color: #000080; font-weight: bold\">-2.3181</span>, <span style=\"color: #000080; font-weight: bold\">-2.3181</span>, <span style=\"color: #000080; font-weight: bold\">-2.3181</span>, <span style=\"color: #000080; font-weight: bold\">-2.2634</span>, <span style=\"color: #000080; font-weight: bold\">-2.3181</span>, <span style=\"color: #000080; font-weight: bold\">-2.2387</span>, <span style=\"color: #000080; font-weight: bold\">-2.3181</span>,\n",
       "         <span style=\"color: #000080; font-weight: bold\">-2.3006</span>, <span style=\"color: #000080; font-weight: bold\">-2.3181</span><span style=\"font-weight: bold\">]]</span>, <span style=\"color: #808000\">grad_fn</span>=<span style=\"font-weight: bold\">&lt;</span><span style=\"color: #ff00ff; font-weight: bold\">LogSoftmaxBackward</span><span style=\"font-weight: bold\">&gt;)</span>\n",
       "</pre>\n"
      ],
      "text/plain": [
       "<rich.jupyter.JupyterRenderable at 0x13d1d7cc0>"
      ]
     },
     "metadata": {},
     "output_type": "display_data"
    }
   ],
   "source": [
    "# - Use the Rockpool API to evolve the module\n",
    "output, _, _ = mod(random_data)\n",
    "print(output)"
   ]
  },
  {
   "cell_type": "code",
   "execution_count": 116,
   "metadata": {},
   "outputs": [
    {
     "data": {
      "text/html": [
       "<pre style=\"white-space:pre;overflow-x:auto;line-height:normal;font-family:Menlo,'DejaVu Sans Mono',consolas,'Courier New',monospace\">Parameters: \n",
       "<span style=\"font-weight: bold\">{</span>\n",
       "    <span style=\"color: #008000\">'conv1'</span>: <span style=\"font-weight: bold\">{</span>\n",
       "        <span style=\"color: #008000\">'weight'</span>: Parameter containing:\n",
       "tensor<span style=\"font-weight: bold\">([[[[</span><span style=\"color: #000080; font-weight: bold\">-0.0220</span>,  <span style=\"color: #000080; font-weight: bold\">0.1423</span>,  <span style=\"color: #000080; font-weight: bold\">0.3079</span><span style=\"font-weight: bold\">]</span>,\n",
       "          <span style=\"font-weight: bold\">[</span> <span style=\"color: #000080; font-weight: bold\">0.0580</span>, <span style=\"color: #000080; font-weight: bold\">-0.1816</span>,  <span style=\"color: #000080; font-weight: bold\">0.1510</span><span style=\"font-weight: bold\">]</span>,\n",
       "          <span style=\"font-weight: bold\">[</span><span style=\"color: #000080; font-weight: bold\">-0.1841</span>, <span style=\"color: #000080; font-weight: bold\">-0.0765</span>, <span style=\"color: #000080; font-weight: bold\">-0.3002</span><span style=\"font-weight: bold\">]]]</span>,\n",
       "\n",
       "\n",
       "        <span style=\"font-weight: bold\">[[[</span><span style=\"color: #000080; font-weight: bold\">-0.3126</span>,  <span style=\"color: #000080; font-weight: bold\">0.2008</span>, <span style=\"color: #000080; font-weight: bold\">-0.2703</span><span style=\"font-weight: bold\">]</span>,\n",
       "          <span style=\"font-weight: bold\">[</span><span style=\"color: #000080; font-weight: bold\">-0.0082</span>, <span style=\"color: #000080; font-weight: bold\">-0.2424</span>,  <span style=\"color: #000080; font-weight: bold\">0.2933</span><span style=\"font-weight: bold\">]</span>,\n",
       "          <span style=\"font-weight: bold\">[</span><span style=\"color: #000080; font-weight: bold\">-0.2531</span>, <span style=\"color: #000080; font-weight: bold\">-0.0623</span>,  <span style=\"color: #000080; font-weight: bold\">0.1358</span><span style=\"font-weight: bold\">]]]]</span>, <span style=\"color: #808000\">requires_grad</span>=<span style=\"color: #00ff00; font-style: italic\">True</span><span style=\"font-weight: bold\">)</span>,\n",
       "        <span style=\"color: #008000\">'bias'</span>: Parameter containing:\n",
       "tensor<span style=\"font-weight: bold\">([</span><span style=\"color: #000080; font-weight: bold\">-0.0566</span>,  <span style=\"color: #000080; font-weight: bold\">0.2562</span><span style=\"font-weight: bold\">]</span>, <span style=\"color: #808000\">requires_grad</span>=<span style=\"color: #00ff00; font-style: italic\">True</span><span style=\"font-weight: bold\">)</span>\n",
       "    <span style=\"font-weight: bold\">}</span>,\n",
       "    <span style=\"color: #008000\">'dropout1'</span>: <span style=\"font-weight: bold\">{}</span>,\n",
       "    <span style=\"color: #008000\">'fc1'</span>: <span style=\"font-weight: bold\">{</span>\n",
       "        <span style=\"color: #008000\">'weight'</span>: Parameter containing:\n",
       "tensor<span style=\"font-weight: bold\">([[</span> <span style=\"color: #000080; font-weight: bold\">0.0019</span>, <span style=\"color: #000080; font-weight: bold\">-0.0149</span>,  <span style=\"color: #000080; font-weight: bold\">0.0485</span>,  <span style=\"color: #808000\">...</span>, <span style=\"color: #000080; font-weight: bold\">-0.0476</span>, <span style=\"color: #000080; font-weight: bold\">-0.0316</span>,  <span style=\"color: #000080; font-weight: bold\">0.0449</span><span style=\"font-weight: bold\">]</span>,\n",
       "        <span style=\"font-weight: bold\">[</span> <span style=\"color: #000080; font-weight: bold\">0.0443</span>,  <span style=\"color: #000080; font-weight: bold\">0.0299</span>,  <span style=\"color: #000080; font-weight: bold\">0.0156</span>,  <span style=\"color: #808000\">...</span>, <span style=\"color: #000080; font-weight: bold\">-0.0379</span>, <span style=\"color: #000080; font-weight: bold\">-0.0151</span>,  <span style=\"color: #000080; font-weight: bold\">0.0296</span><span style=\"font-weight: bold\">]</span>,\n",
       "        <span style=\"font-weight: bold\">[</span> <span style=\"color: #000080; font-weight: bold\">0.0325</span>,  <span style=\"color: #000080; font-weight: bold\">0.0544</span>, <span style=\"color: #000080; font-weight: bold\">-0.0050</span>,  <span style=\"color: #808000\">...</span>, <span style=\"color: #000080; font-weight: bold\">-0.0035</span>,  <span style=\"color: #000080; font-weight: bold\">0.0524</span>,  <span style=\"color: #000080; font-weight: bold\">0.0441</span><span style=\"font-weight: bold\">]</span>,\n",
       "        <span style=\"color: #808000\">...</span>,\n",
       "        <span style=\"font-weight: bold\">[</span> <span style=\"color: #000080; font-weight: bold\">0.0288</span>, <span style=\"color: #000080; font-weight: bold\">-0.0280</span>,  <span style=\"color: #000080; font-weight: bold\">0.0122</span>,  <span style=\"color: #808000\">...</span>,  <span style=\"color: #000080; font-weight: bold\">0.0243</span>,  <span style=\"color: #000080; font-weight: bold\">0.0118</span>, <span style=\"color: #000080; font-weight: bold\">-0.0172</span><span style=\"font-weight: bold\">]</span>,\n",
       "        <span style=\"font-weight: bold\">[</span><span style=\"color: #000080; font-weight: bold\">-0.0150</span>,  <span style=\"color: #000080; font-weight: bold\">0.0202</span>,  <span style=\"color: #000080; font-weight: bold\">0.0319</span>,  <span style=\"color: #808000\">...</span>, <span style=\"color: #000080; font-weight: bold\">-0.0317</span>, <span style=\"color: #000080; font-weight: bold\">-0.0213</span>, <span style=\"color: #000080; font-weight: bold\">-0.0517</span><span style=\"font-weight: bold\">]</span>,\n",
       "        <span style=\"font-weight: bold\">[</span> <span style=\"color: #000080; font-weight: bold\">0.0337</span>,  <span style=\"color: #000080; font-weight: bold\">0.0275</span>, <span style=\"color: #000080; font-weight: bold\">-0.0396</span>,  <span style=\"color: #808000\">...</span>,  <span style=\"color: #000080; font-weight: bold\">0.0384</span>, <span style=\"color: #000080; font-weight: bold\">-0.0286</span>, <span style=\"color: #000080; font-weight: bold\">-0.0375</span><span style=\"font-weight: bold\">]]</span>,\n",
       "       <span style=\"color: #808000\">requires_grad</span>=<span style=\"color: #00ff00; font-style: italic\">True</span><span style=\"font-weight: bold\">)</span>,\n",
       "        <span style=\"color: #008000\">'bias'</span>: Parameter containing:\n",
       "tensor<span style=\"font-weight: bold\">([</span> <span style=\"color: #000080; font-weight: bold\">0.0222</span>, <span style=\"color: #000080; font-weight: bold\">-0.0129</span>, <span style=\"color: #000080; font-weight: bold\">-0.0290</span>, <span style=\"color: #000080; font-weight: bold\">-0.0199</span>, <span style=\"color: #000080; font-weight: bold\">-0.0287</span>,  <span style=\"color: #000080; font-weight: bold\">0.0065</span>,  <span style=\"color: #000080; font-weight: bold\">0.0349</span>,  <span style=\"color: #000080; font-weight: bold\">0.0192</span>,\n",
       "        <span style=\"color: #000080; font-weight: bold\">-0.0517</span>, <span style=\"color: #000080; font-weight: bold\">-0.0036</span><span style=\"font-weight: bold\">]</span>, <span style=\"color: #808000\">requires_grad</span>=<span style=\"color: #00ff00; font-style: italic\">True</span><span style=\"font-weight: bold\">)</span>\n",
       "    <span style=\"font-weight: bold\">}</span>\n",
       "<span style=\"font-weight: bold\">}</span>\n",
       "</pre>\n"
      ],
      "text/plain": [
       "<rich.jupyter.JupyterRenderable at 0x13d2cca58>"
      ]
     },
     "metadata": {},
     "output_type": "display_data"
    },
    {
     "data": {
      "text/html": [
       "<pre style=\"white-space:pre;overflow-x:auto;line-height:normal;font-family:Menlo,'DejaVu Sans Mono',consolas,'Courier New',monospace\">State: \n",
       "<span style=\"font-weight: bold\">{</span>\n",
       "    <span style=\"color: #008000\">'test_buf'</span>: tensor<span style=\"font-weight: bold\">([[</span><span style=\"color: #000080; font-weight: bold\">0</span>., <span style=\"color: #000080; font-weight: bold\">0</span>., <span style=\"color: #000080; font-weight: bold\">0</span>., <span style=\"color: #000080; font-weight: bold\">0</span>.<span style=\"font-weight: bold\">]</span>,\n",
       "        <span style=\"font-weight: bold\">[</span><span style=\"color: #000080; font-weight: bold\">0</span>., <span style=\"color: #000080; font-weight: bold\">0</span>., <span style=\"color: #000080; font-weight: bold\">0</span>., <span style=\"color: #000080; font-weight: bold\">0</span>.<span style=\"font-weight: bold\">]</span>,\n",
       "        <span style=\"font-weight: bold\">[</span><span style=\"color: #000080; font-weight: bold\">0</span>., <span style=\"color: #000080; font-weight: bold\">0</span>., <span style=\"color: #000080; font-weight: bold\">0</span>., <span style=\"color: #000080; font-weight: bold\">0</span>.<span style=\"font-weight: bold\">]])</span>,\n",
       "    <span style=\"color: #008000\">'conv1'</span>: <span style=\"font-weight: bold\">{}</span>,\n",
       "    <span style=\"color: #008000\">'dropout1'</span>: <span style=\"font-weight: bold\">{}</span>,\n",
       "    <span style=\"color: #008000\">'fc1'</span>: <span style=\"font-weight: bold\">{}</span>\n",
       "<span style=\"font-weight: bold\">}</span>\n",
       "</pre>\n"
      ],
      "text/plain": [
       "<rich.jupyter.JupyterRenderable at 0x13d2c5ac8>"
      ]
     },
     "metadata": {},
     "output_type": "display_data"
    }
   ],
   "source": [
    "# - Use the Rockpool API to access parameters\n",
    "print('Parameters: ', mod.parameters())\n",
    "print('State: ', mod.state())"
   ]
  },
  {
   "cell_type": "markdown",
   "metadata": {},
   "source": [
    "## Write a native Rockpool/Torch module using ``TorchModule``"
   ]
  },
  {
   "cell_type": "raw",
   "metadata": {
    "raw_mimetype": "text/restructuredtext"
   },
   "source": [
    "You can also use :py:class:`.TorchModule` directly as a base class, in place of ``torch.nn.Module``. Usually this will be a drop-in replacement, without modifying the initialisation or evaluation code.\n",
    "\n",
    "The example here mimics the network above --- only the inherited base class has been changed."
   ]
  },
  {
   "cell_type": "code",
   "execution_count": 121,
   "metadata": {},
   "outputs": [],
   "source": [
    "# - Implement a Rockpool class using the TorchModule base class\n",
    "class RockpoolNet(TorchModule):\n",
    "    def __init__(self, *args, **kwargs):\n",
    "        super().__init__(*args, **kwargs)\n",
    "        \n",
    "        # - Build some convolutional layers\n",
    "        self.conv1 = nn.Conv2d(1, 2, 3, 1)\n",
    "        \n",
    "        # - Add a dropout layer\n",
    "        self.dropout1 = nn.Dropout2d(0.25)\n",
    "        \n",
    "        # - Fully-connected layer\n",
    "        self.fc1 = nn.Linear(338, 10)\n",
    "        \n",
    "        # - Register an example buffer\n",
    "        self.register_buffer('test_buf', torch.zeros(3, 4))\n",
    "\n",
    "    def forward(self, x):\n",
    "        x = self.conv1(x)\n",
    "        x = F.relu(x)\n",
    "        \n",
    "        x = F.max_pool2d(x, 2)\n",
    "        x = self.dropout1(x)\n",
    "        \n",
    "        x = torch.flatten(x, 1)\n",
    "        \n",
    "        x = self.fc1(x)\n",
    "        x = F.relu(x)\n",
    "        \n",
    "        output = F.log_softmax(x, dim = 1)\n",
    "        return output"
   ]
  },
  {
   "cell_type": "code",
   "execution_count": 118,
   "metadata": {},
   "outputs": [
    {
     "data": {
      "text/html": [
       "<pre style=\"white-space:pre;overflow-x:auto;line-height:normal;font-family:Menlo,'DejaVu Sans Mono',consolas,'Courier New',monospace\">RockpoolNet  with shape <span style=\"font-weight: bold\">(</span><span style=\"color: #800080; font-style: italic\">None</span>,<span style=\"font-weight: bold\">)</span> <span style=\"font-weight: bold\">{</span>\n",
       "    Conv2d <span style=\"color: #008000\">'conv1'</span> with shape <span style=\"font-weight: bold\">(</span><span style=\"color: #800080; font-style: italic\">None</span>,<span style=\"font-weight: bold\">)</span>\n",
       "    Dropout2d <span style=\"color: #008000\">'dropout1'</span> with shape <span style=\"font-weight: bold\">(</span><span style=\"color: #800080; font-style: italic\">None</span>,<span style=\"font-weight: bold\">)</span>\n",
       "    Linear <span style=\"color: #008000\">'fc1'</span> with shape <span style=\"font-weight: bold\">(</span><span style=\"color: #800080; font-style: italic\">None</span>,<span style=\"font-weight: bold\">)</span>\n",
       "<span style=\"font-weight: bold\">}</span>\n",
       "</pre>\n"
      ],
      "text/plain": [
       "<rich.jupyter.JupyterRenderable at 0x13d2ccb38>"
      ]
     },
     "metadata": {},
     "output_type": "display_data"
    }
   ],
   "source": [
    "# - Instantiate the Rockpool class directly\n",
    "rmod = RockpoolNet()\n",
    "print(rmod)"
   ]
  },
  {
   "cell_type": "code",
   "execution_count": 119,
   "metadata": {},
   "outputs": [
    {
     "data": {
      "text/html": [
       "<pre style=\"white-space:pre;overflow-x:auto;line-height:normal;font-family:Menlo,'DejaVu Sans Mono',consolas,'Courier New',monospace\">tensor<span style=\"font-weight: bold\">([[</span><span style=\"color: #000080; font-weight: bold\">-2.4468</span>, <span style=\"color: #000080; font-weight: bold\">-2.4468</span>, <span style=\"color: #000080; font-weight: bold\">-2.0310</span>, <span style=\"color: #000080; font-weight: bold\">-2.4468</span>, <span style=\"color: #000080; font-weight: bold\">-2.0571</span>, <span style=\"color: #000080; font-weight: bold\">-2.4468</span>, <span style=\"color: #000080; font-weight: bold\">-2.4468</span>, <span style=\"color: #000080; font-weight: bold\">-2.4468</span>,\n",
       "         <span style=\"color: #000080; font-weight: bold\">-2.4468</span>, <span style=\"color: #000080; font-weight: bold\">-2.0026</span><span style=\"font-weight: bold\">]]</span>, <span style=\"color: #808000\">grad_fn</span>=<span style=\"font-weight: bold\">&lt;</span><span style=\"color: #ff00ff; font-weight: bold\">LogSoftmaxBackward</span><span style=\"font-weight: bold\">&gt;)</span>\n",
       "</pre>\n"
      ],
      "text/plain": [
       "<rich.jupyter.JupyterRenderable at 0x13d2cc208>"
      ]
     },
     "metadata": {},
     "output_type": "display_data"
    }
   ],
   "source": [
    "# - Evaluate the module using the Rockpool API\n",
    "output, _, _ = rmod(random_data)\n",
    "print(output)"
   ]
  },
  {
   "cell_type": "code",
   "execution_count": 122,
   "metadata": {},
   "outputs": [
    {
     "data": {
      "text/html": [
       "<pre style=\"white-space:pre;overflow-x:auto;line-height:normal;font-family:Menlo,'DejaVu Sans Mono',consolas,'Courier New',monospace\">Parameters: \n",
       "<span style=\"font-weight: bold\">{</span>\n",
       "    <span style=\"color: #008000\">'conv1'</span>: <span style=\"font-weight: bold\">{</span>\n",
       "        <span style=\"color: #008000\">'weight'</span>: Parameter containing:\n",
       "tensor<span style=\"font-weight: bold\">([[[[</span><span style=\"color: #000080; font-weight: bold\">-0.1916</span>,  <span style=\"color: #000080; font-weight: bold\">0.2924</span>,  <span style=\"color: #000080; font-weight: bold\">0.2963</span><span style=\"font-weight: bold\">]</span>,\n",
       "          <span style=\"font-weight: bold\">[</span> <span style=\"color: #000080; font-weight: bold\">0.3145</span>, <span style=\"color: #000080; font-weight: bold\">-0.0168</span>,  <span style=\"color: #000080; font-weight: bold\">0.2085</span><span style=\"font-weight: bold\">]</span>,\n",
       "          <span style=\"font-weight: bold\">[</span><span style=\"color: #000080; font-weight: bold\">-0.2011</span>, <span style=\"color: #000080; font-weight: bold\">-0.0583</span>, <span style=\"color: #000080; font-weight: bold\">-0.2954</span><span style=\"font-weight: bold\">]]]</span>,\n",
       "\n",
       "\n",
       "        <span style=\"font-weight: bold\">[[[</span><span style=\"color: #000080; font-weight: bold\">-0.1562</span>,  <span style=\"color: #000080; font-weight: bold\">0.1334</span>, <span style=\"color: #000080; font-weight: bold\">-0.3084</span><span style=\"font-weight: bold\">]</span>,\n",
       "          <span style=\"font-weight: bold\">[</span> <span style=\"color: #000080; font-weight: bold\">0.1697</span>,  <span style=\"color: #000080; font-weight: bold\">0.1944</span>,  <span style=\"color: #000080; font-weight: bold\">0.0232</span><span style=\"font-weight: bold\">]</span>,\n",
       "          <span style=\"font-weight: bold\">[</span> <span style=\"color: #000080; font-weight: bold\">0.0627</span>, <span style=\"color: #000080; font-weight: bold\">-0.0554</span>,  <span style=\"color: #000080; font-weight: bold\">0.1043</span><span style=\"font-weight: bold\">]]]]</span>, <span style=\"color: #808000\">requires_grad</span>=<span style=\"color: #00ff00; font-style: italic\">True</span><span style=\"font-weight: bold\">)</span>,\n",
       "        <span style=\"color: #008000\">'bias'</span>: Parameter containing:\n",
       "tensor<span style=\"font-weight: bold\">([</span> <span style=\"color: #000080; font-weight: bold\">0.2917</span>, <span style=\"color: #000080; font-weight: bold\">-0.1595</span><span style=\"font-weight: bold\">]</span>, <span style=\"color: #808000\">requires_grad</span>=<span style=\"color: #00ff00; font-style: italic\">True</span><span style=\"font-weight: bold\">)</span>\n",
       "    <span style=\"font-weight: bold\">}</span>,\n",
       "    <span style=\"color: #008000\">'dropout1'</span>: <span style=\"font-weight: bold\">{}</span>,\n",
       "    <span style=\"color: #008000\">'fc1'</span>: <span style=\"font-weight: bold\">{</span>\n",
       "        <span style=\"color: #008000\">'weight'</span>: Parameter containing:\n",
       "tensor<span style=\"font-weight: bold\">([[</span><span style=\"color: #000080; font-weight: bold\">-0.0118</span>, <span style=\"color: #000080; font-weight: bold\">-0.0543</span>,  <span style=\"color: #000080; font-weight: bold\">0.0494</span>,  <span style=\"color: #808000\">...</span>,  <span style=\"color: #000080; font-weight: bold\">0.0280</span>, <span style=\"color: #000080; font-weight: bold\">-0.0042</span>,  <span style=\"color: #000080; font-weight: bold\">0.0298</span><span style=\"font-weight: bold\">]</span>,\n",
       "        <span style=\"font-weight: bold\">[</span> <span style=\"color: #000080; font-weight: bold\">0.0240</span>,  <span style=\"color: #000080; font-weight: bold\">0.0380</span>, <span style=\"color: #000080; font-weight: bold\">-0.0045</span>,  <span style=\"color: #808000\">...</span>, <span style=\"color: #000080; font-weight: bold\">-0.0490</span>,  <span style=\"color: #000080; font-weight: bold\">0.0402</span>, <span style=\"color: #000080; font-weight: bold\">-0.0391</span><span style=\"font-weight: bold\">]</span>,\n",
       "        <span style=\"font-weight: bold\">[</span><span style=\"color: #000080; font-weight: bold\">-0.0175</span>,  <span style=\"color: #000080; font-weight: bold\">0.0013</span>,  <span style=\"color: #000080; font-weight: bold\">0.0512</span>,  <span style=\"color: #808000\">...</span>, <span style=\"color: #000080; font-weight: bold\">-0.0173</span>,  <span style=\"color: #000080; font-weight: bold\">0.0516</span>,  <span style=\"color: #000080; font-weight: bold\">0.0002</span><span style=\"font-weight: bold\">]</span>,\n",
       "        <span style=\"color: #808000\">...</span>,\n",
       "        <span style=\"font-weight: bold\">[</span><span style=\"color: #000080; font-weight: bold\">-0.0517</span>,  <span style=\"color: #000080; font-weight: bold\">0.0377</span>,  <span style=\"color: #000080; font-weight: bold\">0.0540</span>,  <span style=\"color: #808000\">...</span>, <span style=\"color: #000080; font-weight: bold\">-0.0478</span>,  <span style=\"color: #000080; font-weight: bold\">0.0162</span>, <span style=\"color: #000080; font-weight: bold\">-0.0009</span><span style=\"font-weight: bold\">]</span>,\n",
       "        <span style=\"font-weight: bold\">[</span><span style=\"color: #000080; font-weight: bold\">-0.0160</span>,  <span style=\"color: #000080; font-weight: bold\">0.0006</span>, <span style=\"color: #000080; font-weight: bold\">-0.0536</span>,  <span style=\"color: #808000\">...</span>, <span style=\"color: #000080; font-weight: bold\">-0.0399</span>, <span style=\"color: #000080; font-weight: bold\">-0.0070</span>, <span style=\"color: #000080; font-weight: bold\">-0.0084</span><span style=\"font-weight: bold\">]</span>,\n",
       "        <span style=\"font-weight: bold\">[</span><span style=\"color: #000080; font-weight: bold\">-0.0187</span>, <span style=\"color: #000080; font-weight: bold\">-0.0087</span>,  <span style=\"color: #000080; font-weight: bold\">0.0041</span>,  <span style=\"color: #808000\">...</span>, <span style=\"color: #000080; font-weight: bold\">-0.0392</span>,  <span style=\"color: #000080; font-weight: bold\">0.0318</span>,  <span style=\"color: #000080; font-weight: bold\">0.0332</span><span style=\"font-weight: bold\">]]</span>,\n",
       "       <span style=\"color: #808000\">requires_grad</span>=<span style=\"color: #00ff00; font-style: italic\">True</span><span style=\"font-weight: bold\">)</span>,\n",
       "        <span style=\"color: #008000\">'bias'</span>: Parameter containing:\n",
       "tensor<span style=\"font-weight: bold\">([</span> <span style=\"color: #000080; font-weight: bold\">0.0444</span>,  <span style=\"color: #000080; font-weight: bold\">0.0295</span>, <span style=\"color: #000080; font-weight: bold\">-0.0015</span>, <span style=\"color: #000080; font-weight: bold\">-0.0474</span>,  <span style=\"color: #000080; font-weight: bold\">0.0402</span>,  <span style=\"color: #000080; font-weight: bold\">0.0413</span>,  <span style=\"color: #000080; font-weight: bold\">0.0333</span>,  <span style=\"color: #000080; font-weight: bold\">0.0024</span>,\n",
       "         <span style=\"color: #000080; font-weight: bold\">0.0186</span>,  <span style=\"color: #000080; font-weight: bold\">0.0206</span><span style=\"font-weight: bold\">]</span>, <span style=\"color: #808000\">requires_grad</span>=<span style=\"color: #00ff00; font-style: italic\">True</span><span style=\"font-weight: bold\">)</span>\n",
       "    <span style=\"font-weight: bold\">}</span>\n",
       "<span style=\"font-weight: bold\">}</span>\n",
       "</pre>\n"
      ],
      "text/plain": [
       "<rich.jupyter.JupyterRenderable at 0x13d0f2470>"
      ]
     },
     "metadata": {},
     "output_type": "display_data"
    },
    {
     "data": {
      "text/html": [
       "<pre style=\"white-space:pre;overflow-x:auto;line-height:normal;font-family:Menlo,'DejaVu Sans Mono',consolas,'Courier New',monospace\">State: \n",
       "<span style=\"font-weight: bold\">{</span><span style=\"color: #008000\">'conv1'</span>: <span style=\"font-weight: bold\">{}</span>, <span style=\"color: #008000\">'dropout1'</span>: <span style=\"font-weight: bold\">{}</span>, <span style=\"color: #008000\">'fc1'</span>: <span style=\"font-weight: bold\">{}}</span>\n",
       "</pre>\n"
      ],
      "text/plain": [
       "<rich.jupyter.JupyterRenderable at 0x13d2b7898>"
      ]
     },
     "metadata": {},
     "output_type": "display_data"
    }
   ],
   "source": [
    "# - Access parameters using the Rockpool API\n",
    "print('Parameters: ', rmod.parameters())\n",
    "print('State: ', rmod.state())"
   ]
  }
 ],
 "metadata": {
  "kernelspec": {
   "display_name": "Python [conda env:py36_tf]",
   "language": "python",
   "name": "conda-env-py36_tf-py"
  },
  "language_info": {
   "codemirror_mode": {
    "name": "ipython",
    "version": 3
   },
   "file_extension": ".py",
   "mimetype": "text/x-python",
   "name": "python",
   "nbconvert_exporter": "python",
   "pygments_lexer": "ipython3",
   "version": "3.6.12"
  }
 },
 "nbformat": 4,
 "nbformat_minor": 4
}
