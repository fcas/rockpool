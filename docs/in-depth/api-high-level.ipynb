{
 "cells": [
  {
   "cell_type": "markdown",
   "metadata": {},
   "source": [
    "# ⏱ High-level `TimedModule` API"
   ]
  },
  {
   "cell_type": "raw",
   "metadata": {
    "raw_mimetype": "text/restructuredtext"
   },
   "source": [
    "The high-level API in Rockpool allows you to build networks of stateful neurons that accept and manipulate time-series data natively.\n",
    "\n",
    "Time-series data in Rockpool is encapsulated by :py:class:`.TimeSeries` classes: :py:class:`.TSContinuous` for continuous signals, and :py:class:`.TSEvent` for discrete events (see :py:ref:`/basics/time_series.ipynb` for an overview).\n",
    "\n",
    "The :py:class:`.TimedModule` API allows you to specify modules that receive :py:class:`.TimeSeries` objects as input; process them; and return :py:class:`.TimeSeries` objects as output."
   ]
  },
  {
   "cell_type": "markdown",
   "metadata": {},
   "source": [
    "## Constructing a `TimedModule`"
   ]
  },
  {
   "cell_type": "raw",
   "metadata": {
    "raw_mimetype": "text/restructuredtext"
   },
   "source": [
    "Instantiating a :py:class:`.TimedModule` works in a very similar way to the low-level API. You must specify the simulation time-step :py:attr:`~.TimedModule.dt`, if a useful default is not provided. :py:class:`.TimedModule` will try to set a sensible :py:attr:`~.TimedModule.dt` internally if it can, but you usually want to have control over this."
   ]
  },
  {
   "cell_type": "code",
   "execution_count": null,
   "metadata": {},
   "outputs": [],
   "source": [
    "# - Switch off warnings\n",
    "import warnings\n",
    "warnings.filterwarnings('ignore')\n",
    "\n",
    "# - Useful imports\n",
    "import numpy as np\n",
    "\n",
    "try:\n",
    "    from rich import print\n",
    "except:\n",
    "    pass\n",
    "\n",
    "from rockpool.nn.combinators import Sequential\n",
    "from rockpool.nn.modules import Rate, Linear\n",
    "\n",
    "# - Construct the TimedModule\n",
    "Nin = 1\n",
    "Nout = 5\n",
    "dt = 1e-3\n",
    "tmod = Sequential(Linear((Nin, Nout)), Rate(Nout)).timed(dt = dt)\n",
    "print(tmod)"
   ]
  },
  {
   "cell_type": "markdown",
   "metadata": {},
   "source": [
    "## Evolving a `TimedModule`"
   ]
  },
  {
   "cell_type": "raw",
   "metadata": {
    "raw_mimetype": "text/restructuredtext"
   },
   "source": [
    "Passing time series data through a :py:class:`.TimedModule` is very convenient. A :py:class:`.TimedModule` knows how to handle :py:class:`.TimeSeries`  objects natively, and handles any required sampling, resampling, rasterisation etc. internally.\n",
    "\n",
    "Let's start by defining a sinusoid waveform to use as input."
   ]
  },
  {
   "cell_type": "code",
   "execution_count": null,
   "metadata": {},
   "outputs": [],
   "source": [
    "# - Import time-series handling classes\n",
    "from rockpool import TSContinuous\n",
    "\n",
    "# - Import and configure matplotlib for plotting\n",
    "import matplotlib.pyplot as plt\n",
    "%matplotlib inline\n",
    "plt.rcParams['figure.figsize'] = [12, 4]\n",
    "plt.rcParams['figure.dpi'] = 300\n",
    "\n",
    "# - Create a sinusoidal input signal\n",
    "T = 1000\n",
    "omega = 10\n",
    "time_base = np.arange(T) * dt\n",
    "ts_sin = TSContinuous.from_clocked(\n",
    "    np.sin(time_base * 2 * np.pi * omega),\n",
    "    dt = dt,\n",
    "    periodic = True,\n",
    "    name = 'Sinusoid',\n",
    ")\n",
    "ts_sin.plot();"
   ]
  },
  {
   "cell_type": "raw",
   "metadata": {
    "raw_mimetype": "text/restructuredtext"
   },
   "source": [
    "Now we can evolve the :py:class:`.TimedModule` by simply calling it with the input time series. The :py:meth:`~.TimedModule.evolve` arguments are slightly different to that for the low-level API::\n",
    "\n",
    "    output_ts, new_state, recorded_state = evolve(ts_input: TimeSeries, duration: float, num_timesteps: int)\n",
    "    \n",
    "You can specify the evolution duration either explicity in terms of real time (``duration`` in seconds), or in units of ``dt`` (``num_timesteps``); or implicitly by simply providing the input signal ``ts_input``.\n",
    "\n",
    "If you just provide ``ts_input``, then Rockpool will evolve the :py:class:`.TimedModule` for the remaining valid duration of time series. Remember that Rockpool "
   ]
  },
  {
   "cell_type": "code",
   "execution_count": null,
   "metadata": {},
   "outputs": [],
   "source": [
    "# - Evolve the TimedModule\n",
    "output_ts, _, _ = tmod(ts_sin)\n",
    "plt.figure();\n",
    "print(output_ts);\n",
    "output_ts.plot();"
   ]
  },
  {
   "cell_type": "markdown",
   "metadata": {},
   "source": [
    "## Inspecting a `TimedModule`"
   ]
  },
  {
   "cell_type": "raw",
   "metadata": {
    "raw_mimetype": "text/restructuredtext"
   },
   "source": [
    "Inspecting a :py:class:`.TimedModule` uses the common Rockpool API. All attributes can be accessed using standard Python \"dot\" indexing notation, or the module can be inspected using the :py:meth:`~.TimedModule.parameters`, :py:meth:`~.TimedModule.state`, :py:meth:`~.TimedModule.simulation_parameters` and :py:meth:`~.TimedModule.modules` methods."
   ]
  },
  {
   "cell_type": "code",
   "execution_count": null,
   "metadata": {},
   "outputs": [],
   "source": [
    "# - Examine the parameters\n",
    "print('Parameters:', tmod.parameters())\n",
    "\n",
    "# - Examine the state\n",
    "print('State:', tmod.state())\n",
    "\n",
    "# - Examine the simulation parameters\n",
    "print('Simulation parameters:', tmod.simulation_parameters())\n",
    "\n",
    "# - `TimedModules` also have time\n",
    "print('Time:', tmod.t)"
   ]
  },
  {
   "cell_type": "markdown",
   "metadata": {},
   "source": [
    "## Building a network using nested `TimedModule` s"
   ]
  },
  {
   "cell_type": "raw",
   "metadata": {
    "raw_mimetype": "text/restructuredtext"
   },
   "source": [
    "You can inherit from the :py:class:`.TimedModule` base class to build arbitrary networks, combining other :py:class:`.TimedModule` s as you like. :py:class:`.TimedModule` takes care of many things for you, including all the handling of :py:class:`.TimeSeries` data.\n",
    "\n",
    "You can keep all data in :py:class:`.TimeSeries` objects and maniupulate the data in that format, using the operator support from :py:class:`~TimeSeries` subclases. Alternatively you can use convenience methods provided by :py:class:`.TimedModule` to assist with converting signals to and from :py:class:`.TimeSeries` objects.\n",
    "\n",
    "To define a network as a :py:class:`~.TimedModule` subclass, you need to minimally define an :py:meth:`~.TimedModule.__init__` method and an :py:meth:`~.TimedModule.evolve` method.\n",
    "\n",
    "The :py:meth:`~.TimedModule.__init__` method specifies and initialises parameters for your network, and initialises any required submodules. The submodules take care of specifying and initialise their own parameters and state.\n",
    "\n",
    "In the example below, we build a small feed-forward network as a :py:class:`.TimedModule`, with one layer of linear input weights and two additional layers of ReLU rate units with weighting in-between. We show how to maintain all signals as :py:class:`.TimeSeries` objects through evolution. To do so, all submodules must themselves be :py:class:`.TimedModule` subclasses."
   ]
  },
  {
   "cell_type": "code",
   "execution_count": null,
   "metadata": {},
   "outputs": [],
   "source": [
    "# - Import the base class and a TimedModule to use as a submodule\n",
    "from rockpool.nn.modules import TimedModule\n",
    "from rockpool.parameters import Parameter\n",
    "from rockpool.nn.layers import Rate\n",
    "from rockpool import TimeSeries\n",
    "\n",
    "# - Define a new TimedModule\n",
    "class ffwd_tmod_net(TimedModule):\n",
    "    # - Provide an `__init__` method to specify required parameters and modules\n",
    "    #   Here you check, define and initialise whatever parameters and\n",
    "    #   state you need for your module.\n",
    "    def __init__(self,\n",
    "                 shape,\n",
    "                 *args,\n",
    "                 **kwargs,\n",
    "                ):\n",
    "        # - Call superclass initialisation\n",
    "        #   This is always required for a `Module` class\n",
    "        super().__init__(shape = shape, *args, **kwargs)\n",
    "\n",
    "        # - Specify weights attribute\n",
    "        #   We need a weights matrix for our input weights.\n",
    "        #   We specify the shape explicitly, and provide an initialisation function.\n",
    "        #   We also specify a family for the parameter, \"weights\". This is used to\n",
    "        #   query parameters conveniently, and is a good idea to provide.\n",
    "        self.w_ffwd = Parameter(shape = self.shape[0:2],\n",
    "                                init_func = lambda s: np.zeros(s),\n",
    "                                family = 'weights',\n",
    "                               )\n",
    "    \n",
    "        # - Specify and add submodules\n",
    "        #   These will be the neurons in our layer, to receive the weighted\n",
    "        #   input signals. This sub-module will be automatically configured\n",
    "        #   internally, to specify the required state and parameters\n",
    "        self.neurons1 = Rate(self.shape[1:3])\n",
    "        self.neurons2 = Rate(self.shape[2:4])\n",
    "        \n",
    "    # - The `evolve` method contains the internal logic of your module\n",
    "    #   `evolve` takes care of passing data in and out of the module,\n",
    "    #   and between sub-modules if present.\n",
    "    def evolve(self,\n",
    "               ts_input: TimeSeries,\n",
    "               duration: float,\n",
    "               num_timesteps: int,\n",
    "               record: bool = False,\n",
    "               *args, **kwargs):\n",
    "        # - Pass input data through the input weights\n",
    "        x0 = ts_input @ self.w_ffwd\n",
    "        \n",
    "        # - Pass the signals through the neurons\n",
    "        x1, _, _ = self.neurons1(x0)\n",
    "        x2, _, _ = self.neurons2(x1)\n",
    "        \n",
    "        # - Return the module output\n",
    "        return x2, {}, {}"
   ]
  },
  {
   "cell_type": "code",
   "execution_count": null,
   "metadata": {},
   "outputs": [],
   "source": [
    "Nin = 3\n",
    "Nout = 1\n",
    "dt = 1\n",
    "\n",
    "tmod = ffwd_tmod_net((Nin, 5, 7, Nout), dt = dt)\n",
    "print(tmod)"
   ]
  },
  {
   "cell_type": "code",
   "execution_count": null,
   "metadata": {},
   "outputs": [],
   "source": [
    "# - Examine the nested parameters of the TimedModule\n",
    "print(tmod.parameters())"
   ]
  },
  {
   "cell_type": "code",
   "execution_count": null,
   "metadata": {},
   "outputs": [],
   "source": [
    "# - Set the weights to something non-zero\n",
    "p = tmod.parameters()\n",
    "p['w_ffwd'] = np.random.normal(size = p['w_ffwd'].shape) + 1\n",
    "p['neurons1']['weights'] = np.random.normal(size = p['neurons1']['weights'].shape) + 1\n",
    "p['neurons2']['weights'] = np.random.normal(size = p['neurons2']['weights'].shape) + 1\n",
    "\n",
    "# - Assign the new parameters\n",
    "tmod.set_attributes(p)\n",
    "print('Weights:', tmod.parameters())"
   ]
  },
  {
   "cell_type": "code",
   "execution_count": null,
   "metadata": {},
   "outputs": [],
   "source": [
    "# - Generate some white noise input\n",
    "ts_input = TSContinuous.from_clocked(np.random.rand(1000, Nin),\n",
    "                                     name = 'White noise',\n",
    "                                     dt = dt, periodic = True,\n",
    "                                    )\n",
    "print('Input:', ts_input)\n",
    "ts_input.plot()\n",
    "\n",
    "# - Evolve the TimedModule with the input\n",
    "ts_output, _, rec = tmod(ts_input)\n",
    "\n",
    "# - Display the output\n",
    "print('Output:', ts_output)\n",
    "plt.figure()\n",
    "ts_output.plot();"
   ]
  },
  {
   "cell_type": "markdown",
   "metadata": {},
   "source": [
    "## Building a network using internal `Module` s"
   ]
  },
  {
   "cell_type": "raw",
   "metadata": {
    "raw_mimetype": "text/restructuredtext"
   },
   "source": [
    "Sometimes the modules you want to use to build a network are not available as :py:class:`.TimedModule` s. In this case you can use the low-level :py:class:`.Module` API internally, and still present a high-level :py:class:`.TimedModule` API interface to the outside world.\n",
    "\n",
    "To do so, :py:class:`.TimedModule` provides a number of convenience methods for wrapping, unwrapping and rasterising time series data::\n",
    "\n",
    "    time_base, input_raster, num_timesteps = self._repare_input(\n",
    "        ts_input: TimeSeries,\n",
    "        duration: float,\n",
    "        num_timesteps: int\n",
    "    )\n",
    "\n",
    "    ts_output = self._gen_timeseries(output_raster, **kwargs)\n",
    "\n",
    "The example below illustrates how to use these methods to build a similar network architecture to the one above, but using low-level :py:class:`.Module` API submodules."
   ]
  },
  {
   "cell_type": "code",
   "execution_count": null,
   "metadata": {},
   "outputs": [],
   "source": [
    "# - Import the base class and a Module to use as a submodule\n",
    "from rockpool.nn.modules import TimedModule\n",
    "from rockpool.parameters import Parameter\n",
    "from rockpool.nn.modules import RateJax\n",
    "from rockpool import TimeSeries\n",
    "\n",
    "# - Define a new TimedModule\n",
    "class ffwd_tmod_net2(TimedModule):\n",
    "    # - Provide an `__init__` method to specify required parameters and modules\n",
    "    #   Here you check, define and initialise whatever parameters and\n",
    "    #   state you need for your module.\n",
    "    def __init__(self,\n",
    "                 shape,\n",
    "                 *args,\n",
    "                 **kwargs,\n",
    "                ):\n",
    "        # - Call superclass initialisation\n",
    "        #   This is always required for a `Module` class\n",
    "        super().__init__(shape = shape, *args, **kwargs)\n",
    "\n",
    "        # - Specify weights attributes\n",
    "        #   We need weights matrices for our layer weights.\n",
    "        #   We specify the shapes explicitly, and provide an initialisation function.\n",
    "        #   We also specify a family for the parameter, \"weights\". This is used to\n",
    "        #   query parameters conveniently, and is a good idea to provide.\n",
    "        self.w0 = Parameter(shape = self.shape[0:2],\n",
    "                            init_func = lambda s: np.zeros(s),\n",
    "                            family = 'weights',\n",
    "                            )\n",
    "\n",
    "        self.w1 = Parameter(shape = self.shape[1:3],\n",
    "                            init_func = lambda s: np.zeros(s),\n",
    "                            family = 'weights',\n",
    "                            )\n",
    "        \n",
    "        # - Specify and add submodules\n",
    "        #   These will be the neurons in our layer, to receive the weighted\n",
    "        #   input signals. These sub-modules will be automatically configured\n",
    "        #   internally, to specify the required state and parameters\n",
    "        self.neurons0 = RateJax(self.shape[1])\n",
    "        self.neurons1 = RateJax(self.shape[2])\n",
    "        \n",
    "    # - The `evolve` method contains the internal logic of your module\n",
    "    #   `evolve` takes care of passing data in and out of the module,\n",
    "    #   and between sub-modules if present.\n",
    "    def evolve(self,\n",
    "               ts_input: TimeSeries,\n",
    "               duration: float,\n",
    "               num_timesteps: int,\n",
    "               record: bool = False,\n",
    "               *args, **kwargs):\n",
    "        # - First we need to rasterise the input time series.\n",
    "        #   We can use the convenience method `_prepare_input()` for this\n",
    "        time_base, input_raster, num_timesteps = self._prepare_input(\n",
    "            ts_input, duration, num_timesteps\n",
    "        )\n",
    "        \n",
    "        # - Pass input data through the input weights\n",
    "        x0 = input_raster @ self.w0\n",
    "        \n",
    "        # - Pass the signals through the neurons\n",
    "        x1, _, _ = self.neurons0(x0)\n",
    "        \n",
    "        # - Second layer weights\n",
    "        x2 = x1 @ self.w1\n",
    "        \n",
    "        # - Second layer neurons\n",
    "        x3, _, _ = self.neurons1(x2)\n",
    "        \n",
    "        # - We need to re-wrap the output raster as a TimeSeries object\n",
    "        #   To do this we can use the convenience method `_gen_timeseries()`\n",
    "        output_ts = self._gen_timeseries(x3)\n",
    "        \n",
    "        # - Return the module output\n",
    "        return output_ts, {}, {}"
   ]
  },
  {
   "cell_type": "code",
   "execution_count": null,
   "metadata": {},
   "outputs": [],
   "source": [
    "# - Instantiate the module\n",
    "tmod = ffwd_tmod_net2((Nin, 5, 7, Nout), dt = dt)\n",
    "print(tmod)"
   ]
  },
  {
   "cell_type": "code",
   "execution_count": null,
   "metadata": {},
   "outputs": [],
   "source": [
    "print('Input:', ts_input)\n",
    "ts_input.plot()\n",
    "\n",
    "# - Evolve the TimedModule with the input\n",
    "ts_output, _, rec = tmod(ts_input)\n",
    "\n",
    "# - Display the output\n",
    "print('Output:', ts_output)\n",
    "plt.figure()\n",
    "ts_output.plot();"
   ]
  },
  {
   "cell_type": "markdown",
   "metadata": {},
   "source": [
    "## Converting a low-level API `Module` to a high-level API `TimedModule`"
   ]
  },
  {
   "cell_type": "raw",
   "metadata": {
    "raw_mimetype": "text/restructuredtext"
   },
   "source": [
    "You may also want to convert a low-level :py:class:`.Module` subclass into a high-level :py:class:`.TimedModule` object. Rockpool provides a convenient wrapper to do so, with :py:class:`.TimedModuleWrapper`, also accessed by the :py:meth:`.Module.timed` method."
   ]
  },
  {
   "cell_type": "code",
   "execution_count": null,
   "metadata": {},
   "outputs": [],
   "source": [
    "# - Import the converter class\n",
    "from rockpool.nn.modules.timed_module import TimedModuleWrapper\n",
    "from rockpool.nn.modules import RateJax\n",
    "\n",
    "# - Generate a module and wrap as a TimedModule\n",
    "mod = RateJax(4)\n",
    "tmod = TimedModuleWrapper(mod)\n",
    "print(tmod)"
   ]
  },
  {
   "cell_type": "code",
   "execution_count": null,
   "metadata": {},
   "outputs": [],
   "source": [
    "# - Use the conversion method\n",
    "from rockpool.nn.modules import RateJax\n",
    "\n",
    "# - Generate a module and wrap as a TimedModule\n",
    "tmod = RateJax(4).timed()\n",
    "print(tmod)"
   ]
  },
  {
   "cell_type": "raw",
   "metadata": {
    "raw_mimetype": "text/restructuredtext"
   },
   "source": [
    "Now ``tmod`` is a standard :py:class:`.TimedModule`, and transparently passes all data and attribute accesses into the wrapped :py:class:`.Module`. Input and output data will be handled as native :py:class:`.TimeSeries` objects.\n",
    "\n",
    ".. warning::\n",
    "    Note that recorded state data will not be wrapped as :py:class:`.TimeSeries` data, but will be returned as raw arrays."
   ]
  },
  {
   "cell_type": "markdown",
   "metadata": {},
   "source": [
    "## `TimedModule` API reference"
   ]
  },
  {
   "cell_type": "markdown",
   "metadata": {},
   "source": [
    "### High-level attributes and methods provided by `TimedModule`"
   ]
  },
  {
   "cell_type": "raw",
   "metadata": {
    "raw_mimetype": "text/restructuredtext"
   },
   "source": [
    "Every :py:class:`.TimedModule` provides the following attributes:\n",
    "\n",
    "=======================================   =======================================\n",
    "Attribute                                 Description\n",
    "=======================================   =======================================\n",
    ":py:attr:`~.TimedModule.dt`               The time-step used by this module for simulation     \n",
    ":py:attr:`~.TimedModule.t`                The current time of this module\n",
    ":py:attr:`~.TimedModule.input_type`       The :py:class:`TimeSeries` subclass that is expected by this module\n",
    ":py:attr:`~.TimedModule.output_type`      The :py:class:`TimeSeries` subclass that is produced by this module\n",
    "=======================================   =======================================\n",
    "\n",
    "Every :py:class:`.TimedModule` provides the following methods:\n",
    "\n",
    "===============================================   =======================================\n",
    "Method                                            Description\n",
    "===============================================   =======================================\n",
    ":py:meth:`~.TimedModule.reset_time`               Reset the internal clock of this module and submodules\n",
    ":py:meth:`~.TimedModule.reset_all`                Reset the state and internal clock of this module and submodules\n",
    "===============================================   ======================================="
   ]
  },
  {
   "cell_type": "raw",
   "metadata": {
    "raw_mimetype": "text/restructuredtext"
   },
   "source": [
    ":py:class:`.TimedModule` provides the following internal convenience methods to assist developers:\n",
    "\n",
    "========================================   =======================================\n",
    "Method                                     Description\n",
    "========================================   =======================================\n",
    ":py:meth:`~.TimedModule._prepare_input`    Rasterise the input for this module, to set up for evolution\n",
    ":py:meth:`~.TimedModule._gen_time_trace`   Generate a time trace for use in building a time series\n",
    ":py:meth:`~.TimedModule._gen_timeseries`   Convert an output rasterised array into a time series object to return from the :py:meth:`~.TimedModule.evolve` method\n",
    "========================================   ======================================="
   ]
  },
  {
   "cell_type": "markdown",
   "metadata": {},
   "source": [
    "### Low-level attributes and methods inherited from `Module`"
   ]
  },
  {
   "cell_type": "raw",
   "metadata": {
    "raw_mimetype": "text/restructuredtext"
   },
   "source": [
    "The following attributes are inherited from the low-level :py:class:`.Module` API:\n",
    "\n",
    "=======================================   =======================================\n",
    "Attribute                                 Description\n",
    "=======================================   =======================================\n",
    ":py:attr:`~.TimedModule.class_name`       The name of the subclass\n",
    ":py:attr:`~.TimedModule.name`             The attribute name that this module was assigned to. Will be `None` for a base-level module\n",
    ":py:attr:`~.TimedModule.full_name`        The class name and module name together. Useful for printing\n",
    ":py:attr:`~.TimedModule.spiking_input`    If ``True`` this module expects spiking input. Otherwise the input is real-valued\n",
    ":py:attr:`~.TimedModule.spiking_output`   If ``True`` this module produces spiking output. Otherwise the module outputs floating-point values\n",
    ":py:attr:`~.TimedModule.shape`            The dimensions of the module. Can have any number of entries, for complex modules. ``shape[0]`` is the input dimensionality; ``shape[-1]`` is the output dimensionality.\n",
    ":py:attr:`~.TimedModule.size_in`          The number of input channels the module expects\n",
    ":py:attr:`~.TimedModule.size_out`         The number of output channels the module produces\n",
    "=======================================   ======================================="
   ]
  },
  {
   "cell_type": "raw",
   "metadata": {
    "raw_mimetype": "text/restructuredtext"
   },
   "source": [
    "The following methods are inherited from the low-level :py:class:`.Module` API:\n",
    "\n",
    "===============================================   =======================================\n",
    "Method                                            Description\n",
    "===============================================   =======================================\n",
    ":py:meth:`~.TimedModule.parameters`               Return a nested dictionary of module parameters, optionally restricting the search to a particular family of parameters such as weights\n",
    ":py:meth:`~.TimedModule.state`                    Return a nested dictionary of module state \n",
    ":py:meth:`~.TimedModule.simulation_parameters`    Return a nested dictionary of module simulation parameters \n",
    ":py:meth:`~.TimedModule.modules`                  Return a list of submodules of this module\n",
    "\n",
    ":py:meth:`~.TimedModule.attributes_named`         Search for and return nested attributes matching a particular name\n",
    "\n",
    ":py:meth:`~.TimedModule.set_attributes`           Set the parameter values for this and nested submodules\n",
    "\n",
    ":py:meth:`~.TimedModule.reset_state`              Reset the state of this and nested submodules\n",
    ":py:meth:`~.TimedModule.reset_parameters`         Reset the parameters of this and nested submodules to their initialisation defaults\n",
    "===============================================   ======================================="
   ]
  }
 ],
 "metadata": {
  "kernelspec": {
   "display_name": "Python 3.10.6 64-bit",
   "language": "python",
   "name": "python3"
  },
  "language_info": {
   "codemirror_mode": {
    "name": "ipython",
    "version": 3
   },
   "file_extension": ".py",
   "mimetype": "text/x-python",
   "name": "python",
   "nbconvert_exporter": "python",
   "pygments_lexer": "ipython3",
   "version": "3.10.6"
  },
  "vscode": {
   "interpreter": {
    "hash": "916dbcbb3f70747c44a77c7bcd40155683ae19c65e1c03b4aa3499c5328201f1"
   }
  }
 },
 "nbformat": 4,
 "nbformat_minor": 4
}
