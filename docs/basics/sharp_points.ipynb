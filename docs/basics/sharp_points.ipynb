{
 "cells": [
  {
   "cell_type": "markdown",
   "metadata": {},
   "source": [
    "# 🐡 The sharp points of Rockpool 🐚"
   ]
  },
  {
   "cell_type": "raw",
   "metadata": {
    "raw_mimetype": "text/restructuredtext"
   },
   "source": [
    "|project| aims to be an intuitive bridge between supervised machine learning and dynamic signal processing, hiding the complexities of the underlying dynamical systems as much as possible.\n",
    "\n",
    "However, there are a few places where you need to consider that a |project|-based solution is actually a dynamical system, and not a simple stack of stateless linear algebra.\n",
    "\n",
    "This notebook illustrates some of the sharp points that can jab you when you dip your hands into |project|. Our goal is to make this list disappear over time."
   ]
  },
  {
   "cell_type": "code",
   "execution_count": null,
   "metadata": {},
   "outputs": [],
   "source": [
    "# - Rockpool imports\n",
    "from rockpool import TSContinuous\n",
    "\n",
    "# - General imports and configuration\n",
    "import numpy as np\n",
    "import matplotlib.pyplot as plt\n",
    "%matplotlib inline\n",
    "plt.rcParams['figure.figsize'] = [12, 4]\n",
    "plt.rcParams['figure.dpi'] = 300"
   ]
  },
  {
   "cell_type": "markdown",
   "metadata": {},
   "source": [
    "## 🦀 How to use sampled time series data (in)correctly in Rockpool\n",
    "Time series data loaded from elsewhere probably comes in a clocked raster format. You can easily use this data in Rockpool, but there are a couple of tricky points to watch out for."
   ]
  },
  {
   "cell_type": "markdown",
   "metadata": {},
   "source": [
    "### Wrong: how to generate a time base for clocked data"
   ]
  },
  {
   "cell_type": "code",
   "execution_count": null,
   "metadata": {},
   "outputs": [],
   "source": [
    "T = 1000\n",
    "dt = 1e-3\n",
    "data = np.random.rand(T)\n",
    "t_start = 23.6\n",
    "time_base = np.arange(t_start, t_start + len(data) * dt, dt)"
   ]
  },
  {
   "cell_type": "raw",
   "metadata": {
    "raw_mimetype": "text/restructuredtext"
   },
   "source": [
    "This approach can sometimes lead to rounding errors such that ``time_base`` is one sample too short, especially for floating point numbers with < 64 bit precision.\n",
    "\n",
    "The better way is to generate integer time steps, then scale and shift them:"
   ]
  },
  {
   "cell_type": "code",
   "execution_count": null,
   "metadata": {},
   "outputs": [],
   "source": [
    "time_base = np.arange(T) * dt + t_start"
   ]
  },
  {
   "cell_type": "markdown",
   "metadata": {},
   "source": [
    "### Wrong: how to define a time series from clocked data\n",
    "\n",
    "Say we have a 20-second sample, sampled on a 100ms clock. Let's convert this into a continuous time series:"
   ]
  },
  {
   "cell_type": "code",
   "execution_count": null,
   "metadata": {},
   "outputs": [],
   "source": [
    "dt = 100e-3\n",
    "T = round(20 / dt)\n",
    "data = np.random.rand(T)\n",
    "time_base = np.arange(len(data)) * dt\n",
    "\n",
    "ts = TSContinuous(time_base, data)\n",
    "ts"
   ]
  },
  {
   "cell_type": "raw",
   "metadata": {
    "raw_mimetype": "text/restructuredtext"
   },
   "source": [
    "Huh? The time series is too short, it's one ``dt`` off! But there are 200 samples...?\n",
    "\n",
    "Time series objects don't have an intrisic clock; you can define samples at any point in time. So :py:class:`.TSContinuous` has no way to know that you expected a 20 second duration. By default, the time series ends at the point in time where the last sample occurs. But for clocked data, you probably expected there to be an extra ``dt``.\n",
    "\n",
    "The correct low-level way to define the time series is to specify ``t_stop`` explicitly:"
   ]
  },
  {
   "cell_type": "code",
   "execution_count": null,
   "metadata": {},
   "outputs": [],
   "source": [
    "ts = TSContinuous(time_base, data, t_stop = 20.)\n",
    "ts"
   ]
  },
  {
   "cell_type": "raw",
   "metadata": {
    "raw_mimetype": "text/restructuredtext"
   },
   "source": [
    "However, we provide a convenience method :py:meth:`.TSContinuous.from_clocked` to make this easier:"
   ]
  },
  {
   "cell_type": "code",
   "execution_count": null,
   "metadata": {},
   "outputs": [],
   "source": [
    "ts = TSContinuous.from_clocked(data, dt=dt)\n",
    "ts"
   ]
  },
  {
   "cell_type": "raw",
   "metadata": {
    "raw_mimetype": "text/restructuredtext"
   },
   "source": [
    ":py:meth:`.TSContinuous.from_clocked` is the canonical way to import clocked time-series data into |project|. If you use :py:meth:`~.TSContinuous.from_clocked` then everything should behave as you expect it to."
   ]
  },
  {
   "cell_type": "markdown",
   "metadata": {},
   "source": [
    "## 🐚 Defining extents for `TSEvent` time series data"
   ]
  },
  {
   "cell_type": "raw",
   "metadata": {
    "raw_mimetype": "text/restructuredtext"
   },
   "source": [
    "Event time series are represented in |project| using the :py:class:`.TSEvent` class, which represents events as occuring at discrete moments in time, on one of a number of channels. This is different from an \"event raster\" representation, where events are placed into discrete time bins, and the temporal resolution is limited to bin durations ``dt``."
   ]
  },
  {
   "cell_type": "code",
   "execution_count": null,
   "metadata": {},
   "outputs": [],
   "source": [
    "from rockpool import TSEvent\n",
    "from matplotlib import pyplot as plt\n",
    "\n",
    "times = [.2, .8, 1.2, 1.4, 1.8, 2.2, 3.3, 3.5, 3.6, 4.2, 4.8, 5.2, 5.8, 6.2, 6.5, 6.8]\n",
    "channels = [0, 3, 3, 1, 6, 6, 3, 3, 5, 5, 4, 0, 5, 1, 1, 2]\n",
    "ts = TSEvent(times, channels, t_start = 0., t_stop = 7.)\n",
    "ts.plot();"
   ]
  },
  {
   "cell_type": "code",
   "execution_count": null,
   "metadata": {},
   "outputs": [],
   "source": [
    "from IPython.display import Image\n",
    "Image(\"TSEvent_to_raster.png\")"
   ]
  },
  {
   "cell_type": "raw",
   "metadata": {
    "raw_mimetype": "text/restructuredtext"
   },
   "source": [
    "The image above shows the relationship between an event time series and one possible raster representation of that time series. Note that a raster is inherently lossy — it can only represent events down to a minimum temporal resolution ``dt``.\n",
    "\n",
    "We can convert a :py:class:`.TSEvent` object into a raster by using the appropriately-named :py:meth:`~.TSEvent.raster` method:"
   ]
  },
  {
   "cell_type": "markdown",
   "metadata": {},
   "source": [
    "```python\n",
    "def raster(\n",
    "    dt: float,\n",
    "    t_start: float=None,\n",
    "    t_stop: float=None,\n",
    "    num_timesteps: int=None,\n",
    "    channels: numpy.ndarray=None,\n",
    "    add_events: bool=False,\n",
    "    include_t_stop: bool=False,\n",
    ") -> numpy.ndarray:\n",
    "```"
   ]
  },
  {
   "cell_type": "raw",
   "metadata": {
    "raw_mimetype": "text/restructuredtext"
   },
   "source": [
    "With an event raster, the time base is explicitly defined. Time proceeds from ``t = t_start`` at the beginning of the raster, and continues until ``t = t_start + dt * T`` at the end of the raster (after ``T`` time bins).\n",
    "\n",
    "But a :py:class:`TSEvent` object can't infert ``t_start`` and ``t_stop`` — we need to supply these explicitly when creating the :py:class:`TSEvent`. If we don't, things can get confusing:"
   ]
  },
  {
   "cell_type": "code",
   "execution_count": null,
   "metadata": {},
   "outputs": [],
   "source": [
    "tsBad = TSEvent(times, channels, t_stop=7., name = 'No extents 🤢🤬')\n",
    "print(tsBad)\n",
    "\n",
    "tsGood = TSEvent(times, channels, t_start = 0., t_stop = 7., name = 'With extents 😇🥰')\n",
    "print(tsGood)"
   ]
  },
  {
   "cell_type": "raw",
   "metadata": {
    "raw_mimetype": "text/restructuredtext"
   },
   "source": [
    "Imagine you tried to :py:meth:`~.Layer.evolve` a layer with the first ``ts`` — the :py:meth:`~.Layer.evolve` method would probably get the evolution duration wrong.\n",
    "\n",
    "Things would also get messy if you tried to convert the first ``ts`` to a :py:meth:`~.TSEvent.raster`. The time bins would begin at ``t = 0.2`` rather than ``t = 0``.\n",
    "\n",
    "The moral of the story is, you should *always* set the extents for a :py:class:`TSEvent`, if you are creating it from a list of event times."
   ]
  },
  {
   "cell_type": "markdown",
   "metadata": {},
   "source": []
  },
  {
   "cell_type": "markdown",
   "metadata": {},
   "source": [
    "## 🐡 `TimeSeries` and `Layer`s share an explicit global time base"
   ]
  },
  {
   "cell_type": "raw",
   "metadata": {
    "raw_mimetype": "text/restructuredtext"
   },
   "source": [
    "All :py:class:`.TimeSeries` and :py:class:`.Layer` objects in |project| are defined with a shared global time base. That means ``t = 0`` refers to the same point in time for all objects.\n",
    "\n",
    "This may slip you up if you play with a layer for while, evolving with some input time series, and expect that evolution will begin from the start of the time series data for each evolution."
   ]
  },
  {
   "cell_type": "code",
   "execution_count": null,
   "metadata": {},
   "outputs": [],
   "source": [
    "# - Imports\n",
    "from rockpool.layers import FFRateEuler\n",
    "from rockpool import TSContinuous\n",
    "\n",
    "# - Define a layer with a single rate neuron\n",
    "lyr = FFRateEuler([1], dt = 1e-3)\n",
    "print('lyr:', lyr)\n",
    "\n",
    "# - Define a time series\n",
    "data = np.sin(np.arange(0, 10, dt) / 4 * (2*np.pi))\n",
    "ts_input = TSContinuous.from_clocked(data, dt = .1)\n",
    "print('ts_input:', ts_input)"
   ]
  },
  {
   "cell_type": "markdown",
   "metadata": {},
   "source": [
    "Now we evolve `lyr` using `ts_input`, and look at the result."
   ]
  },
  {
   "cell_type": "code",
   "execution_count": null,
   "metadata": {},
   "outputs": [],
   "source": [
    "lyr.evolve(ts_input).plot();"
   ]
  },
  {
   "cell_type": "markdown",
   "metadata": {},
   "source": [
    "But if we try to evolve `lyr` again in the same way, we recieve an error."
   ]
  },
  {
   "cell_type": "code",
   "execution_count": null,
   "metadata": {
    "tags": [
     "raises-exception"
    ]
   },
   "outputs": [],
   "source": [
    "lyr.evolve(ts_input)"
   ]
  },
  {
   "cell_type": "raw",
   "metadata": {
    "raw_mimetype": "text/restructuredtext"
   },
   "source": [
    "This is because the internal time of the layer is after the defined times of the timeseries.\n",
    "\n",
    "There are several possibilities to resolve this issue, one of which is simply delaying ``ts_input`` on creation by using the ``t_start`` argument to :py:meth:`~.TSContinuous.from_clocked`:"
   ]
  },
  {
   "cell_type": "code",
   "execution_count": null,
   "metadata": {},
   "outputs": [],
   "source": [
    "ts_input = TSContinuous.from_clocked(data, dt = .1, t_start = lyr.t)\n",
    "print('ts_input:', ts_input)\n",
    "lyr.evolve(ts_input)"
   ]
  },
  {
   "cell_type": "raw",
   "metadata": {
    "raw_mimetype": "text/restructuredtext"
   },
   "source": [
    "or by using the :py:meth:`.TSContinuous.start_at` or :py:meth:`.TSContinuous.delay` methods when calling :py:meth:`~.Layer.evolve`:"
   ]
  },
  {
   "cell_type": "code",
   "execution_count": null,
   "metadata": {},
   "outputs": [],
   "source": [
    "# - Using `.start_at()`\n",
    "lyr.evolve(ts_input.start_at(lyr.t))\n",
    "\n",
    "# - Using `.delay()`\n",
    "lyr.evolve(ts_input.delay(lyr.t - ts_input.t_start))"
   ]
  },
  {
   "cell_type": "raw",
   "metadata": {
    "raw_mimetype": "text/restructuredtext"
   },
   "source": [
    "The final possibility is to specify that the time series is periodic, using the ``periodic = True`` flag to :py:meth:`.TSContinuous.from_clocked`. The time series will then be defined over all time:"
   ]
  },
  {
   "cell_type": "code",
   "execution_count": null,
   "metadata": {},
   "outputs": [],
   "source": [
    "ts_input = TSContinuous.from_clocked(data, dt = .1, periodic = True)\n",
    "ts_input.plot(np.arange(-10, 20, .1));"
   ]
  },
  {
   "cell_type": "raw",
   "metadata": {
    "raw_mimetype": "text/restructuredtext"
   },
   "source": [
    "and we can evolve as we like:"
   ]
  },
  {
   "cell_type": "code",
   "execution_count": null,
   "metadata": {},
   "outputs": [],
   "source": [
    "lyr.evolve(ts_input)\n",
    "lyr.evolve(ts_input)"
   ]
  },
  {
   "cell_type": "markdown",
   "metadata": {},
   "source": [
    "## 🦀 `Layer`s in Rockpool are dynamical systems, and don't get reset implicitly"
   ]
  },
  {
   "cell_type": "raw",
   "metadata": {
    "raw_mimetype": "text/restructuredtext"
   },
   "source": [
    "Neurons and layers in |project| behave quite differently from standard ANNs. They are intrinsically stateful, even in the absence of explicit recurrent connectivity. Single neurons have an internal state, which evolves dynamically over time following a set of differential equations.\n",
    "\n",
    "Standard ANNs are stateless, meaning that each frame or sample is processed completely independently. Recurrent ANNs or LSTMs are often implicitly reset at the start of each trial. Neurons in |project| are only ever reset explicitly using :py:meth:`.Layer.reset_state` or :py:meth:`.Layer.randomize_state`.\n",
    "\n",
    "An explicit reset could become important during training, to ensure that a network's response to a trial is not contaminated by the response to the previous trial."
   ]
  }
 ],
 "metadata": {
  "kernelspec": {
   "display_name": "Python 3",
   "language": "python",
   "name": "python3"
  },
  "language_info": {
   "codemirror_mode": {
    "name": "ipython",
    "version": 3
   },
   "file_extension": ".py",
   "mimetype": "text/x-python",
   "name": "python",
   "nbconvert_exporter": "python",
   "pygments_lexer": "ipython3",
   "version": "3.6.9"
  }
 },
 "nbformat": 4,
 "nbformat_minor": 4
}
