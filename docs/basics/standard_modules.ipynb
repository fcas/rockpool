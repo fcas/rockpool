{
 "cells": [
  {
   "cell_type": "markdown",
   "id": "0e8cd3f2",
   "metadata": {},
   "source": [
    "# Standard modules"
   ]
  },
  {
   "cell_type": "raw",
   "id": "6f63df2c",
   "metadata": {
    "raw_mimetype": "text/restructuredtext"
   },
   "source": [
    "Rockpool offers a set of modules with standardised dynamics, which operate identically regardless of which backend is used. These are listed below, and function with the combinators :py:class:`~.nn.combinators.Sequential`, :py:class:`~.nn.combinators.Residual` and :py:class:`~.nn.combinators.FFwdStack`."
   ]
  },
  {
   "cell_type": "raw",
   "id": "998bdfc0",
   "metadata": {
    "raw_mimetype": "text/restructuredtext"
   },
   "source": [
    "======================  =======================================  ======================================  ======================================\n",
    "↓ Dynamics | Backend →             Numpy / Scipy                            Jax                                      Torch      \n",
    "======================  =======================================  ======================================  ======================================\n",
    "Rate non-spiking        :py:class:`~.nn.modules.Rate`            :py:class:`~.nn.modules.RateJax`         :py:class:`~.nn.modules.RateTorch`\n",
    "LIF spiking             :py:class:`~.nn.modules.LIF`             :py:class:`~.nn.modules.LIFJax`          :py:class:`~.nn.modules.LIFTorch`\n",
    "Exponential Synapse     :py:class:`~.nn.modules.ExpSyn`          :py:class:`~.nn.modules.ExpSynJax`       :py:class:`~.nn.modules.ExpSynTorch`\n",
    "Instant                 :py:class:`~.nn.modules.Instant`         :py:class:`~.nn.modules.InstantJax`      :py:class:`~.nn.modules.InstantTorch`\n",
    "Linear                  :py:class:`~.nn.modules.Linear`          :py:class:`~.nn.modules.LinearJax`       :py:class:`~.nn.modules.LinearTorch`\n",
    "======================  =======================================  ======================================  ======================================"
   ]
  }
 ],
 "metadata": {
  "kernelspec": {
   "display_name": "Python [conda env:py38]",
   "language": "python",
   "name": "conda-env-py38-py"
  },
  "language_info": {
   "codemirror_mode": {
    "name": "ipython",
    "version": 3
   },
   "file_extension": ".py",
   "mimetype": "text/x-python",
   "name": "python",
   "nbconvert_exporter": "python",
   "pygments_lexer": "ipython3",
   "version": "3.8.11"
  }
 },
 "nbformat": 4,
 "nbformat_minor": 5
}
