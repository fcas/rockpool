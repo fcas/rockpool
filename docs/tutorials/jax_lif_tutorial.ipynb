{
 "cells": [
  {
   "cell_type": "markdown",
   "metadata": {},
   "source": [
    "# Working with spiking JAX layers"
   ]
  },
  {
   "cell_type": "raw",
   "metadata": {
    "raw_mimetype": "text/restructuredtext"
   },
   "source": [
    "This tutorial illustrates how to use JAX-accelerated layers in |project| to simulate spiking recurrent networks. The benefit of JAX backend layers is the ability to use the automatic differentiation and CPU / GPU acceleration features of JAX to perform back-propagation through time (BPTT) to train spiking recurrent networks."
   ]
  },
  {
   "cell_type": "code",
   "execution_count": 32,
   "metadata": {},
   "outputs": [],
   "source": [
    "## Housekeeping and imports\n",
    "\n",
    "# - Numpy\n",
    "import numpy as np\n",
    "\n",
    "# - Matplotlib and plotting config\n",
    "import matplotlib.pyplot as plt\n",
    "%matplotlib inline\n",
    "plt.rcParams['figure.figsize'] = [12, 4]\n",
    "\n",
    "# - Switch off warnings\n",
    "import warnings\n",
    "warnings.filterwarnings('ignore')"
   ]
  },
  {
   "cell_type": "markdown",
   "metadata": {},
   "source": [
    "## Available layers"
   ]
  },
  {
   "cell_type": "raw",
   "metadata": {
    "raw_mimetype": "text/restructuredtext"
   },
   "source": [
    "|project| provides three JAX-backed spiking recurrent layers, implementing leaky integrate-and-fire spiking neurons with no refractory periods. Layers with spiking input implement a single exponential synapse on the input of each layer neuron. Layers with direct current injection onto the neuron membrane are also supported."
   ]
  },
  {
   "cell_type": "raw",
   "metadata": {
    "raw_mimetype": "text/restructuredtext"
   },
   "source": [
    ".. tabularcolumns:: |r|l|\n",
    "\n",
    "=========================  ===\n",
    "Layer class                Description\n",
    "=========================  ===\n",
    "``RecLIFJax``              Simple recurrent spiking layer, with spiking inputs and outputs. No I/O weighting.\n",
    "``RecLIFJax_IO``           Recurrent spiking layer with spiking inputs, and a weighted surrogate output.\n",
    "                           Input / output weights are provided.\n",
    "``RecLIFCurrentInJax``     Recurrent spiking layer, with direct current input injection. No I/O weighting.\n",
    "``RecLIFCUrrentInJax_IO``  Recurrent spiking layer with direct current input injection, and a weighted surrogate output.\n",
    "                           Input / output weights are provided.\n",
    "=========================  ==="
   ]
  },
  {
   "cell_type": "markdown",
   "metadata": {},
   "source": [
    "### Layer dynamics\n",
    "The membrane and synaptic dynamics evolve under the equations\n",
    "\n",
    "$$\\tau_{syn} \\dot{I}_{syn} + I_{syn} = 0$$\n",
    "$$\\tau_{mem} \\dot{V}_{mem} + V_{mem} = I_{syn} + I_{in}(t)\\cdot W_{in} + b + \\sigma\\zeta(t)$$\n",
    "$$I_{syn} = I_{syn} + S_{in}(t) \\cdot W_{in}$$\n",
    "\n",
    "where $I_{syn}$ is the $N$ vector of synaptic input currents; $V_{mem}$ is the $N$ vector of membrane potentials of the neurons; $b$ is the $N$ vector of bias currents; $\\sigma\\zeta(t)$ is a white noise process with standard deviation $\\sigma$, injected independently into each neuron; $\\tau_{syn}$ and $\\tau_{mem}$ are the $N$ vectors of synaptic and membrane time constants, respectively; and $W_{in}$ is the $[N_{in} \\times N]$ input weight matrix.\n",
    "\n",
    "The input spike train $S_{in}(t)$ is $1$ when a spike is present on an input channel. When an input spike arrives on an input channel, the synaptic current variable is incremented by $1$ then decays to zero.\n",
    "\n",
    "The input currents $I_{in}(t)$ define input channels injeted onto neuron membranes via the input weight matrix $W_{in}$."
   ]
  },
  {
   "cell_type": "markdown",
   "metadata": {},
   "source": [
    "#### Spiking\n",
    "When the membrane potential for neuron $j$, $V_{mem, j}$ exceeds the threshold voltage $V_{thr} = 0$, then the neuron $j$ emits a spike. These events are collected into the binary spike variable $S_{rec}(t)$.\n",
    "\n",
    "$$S_{rec}(t) = H(V_{mem} - V_{thr})$$\n",
    "$$I_{syn} = I_{syn} + S_{rec}(t) \\cdot W_{rec}$$\n",
    "$$V_{mem} = V_{mem} - S_{rec}(t)$$\n",
    "\n",
    "Where $H(x)$ is a Heaviside function for spike production (with a pseudo gradient described below), $H(x) = x > 0$; and $W_{rec}$ is the matrix of recurrent synaptic weights.\n",
    "\n",
    "All neurons therefore share a common resting potential of `0`, a firing threshold of `0`, and a subtractive reset of `-1`. The bias current for each neuron is set to `-1` by default.\n",
    "\n",
    "The spiking events emitted by the layer $S_{rec}(t)$ are returned as the output of the"
   ]
  },
  {
   "cell_type": "markdown",
   "metadata": {},
   "source": [
    "#### Surrogate signals for back-propagation\n",
    "To assist with training, the layers describe here use surrogate signals in two ways:\n",
    " - To generate a non-spiking weighted output from $V_{mem}$, which can be used to train the layer to approximate a target representation\n",
    " - On spike generation via $H(x)$, used to propagate errors backwards through time\n",
    " \n",
    "A surrogate $U(t)$ is generated from the layer, with $U(t) = \\textrm{sig}\\left[V_{mem}(t)\\right]$, where $\\textrm{sig}(x)$ is the sigmoid function $\\textrm{sig}(x) = \\left[1 + \\exp(x)\\right]^{-1}$. The surrogate weighted output of a layer is given by\n",
    "\n",
    "$$O(t) = U(t) \\cdot W_{out}$$\n",
    "\n",
    "Where $W_{out}$ is the $[N \\times N_{out}]$ output weight matrix.\n",
    " \n",
    "$H(x)$ is implemented internally such that it becomes differentiable in the backwards pass.\n",
    "\n",
    "* Forward pass: $H(x) = \\max\\left[0, \\textrm{floor}(x + 1)\\right]$. This form permits multiple events for each neuron per time step.\n",
    "* Backwards pass: $\\textrm{d}H(x)/\\textrm{d}x = (x > -0.5)$"
   ]
  },
  {
   "cell_type": "code",
   "execution_count": 28,
   "metadata": {},
   "outputs": [
    {
     "data": {
      "image/png": "[encoded data removed]",
      "text/plain": [
       "<Figure size 864x288 with 1 Axes>"
      ]
     },
     "metadata": {
      "needs_background": "light"
     },
     "output_type": "display_data"
    }
   ],
   "source": [
    "def H(x):\n",
    "    return np.clip(np.floor(x + 1.0), 0.0, np.inf)\n",
    "\n",
    "def dHdx(x):\n",
    "    return x > -0.5\n",
    "\n",
    "def H_surrogate(x):\n",
    "    return np.clip(x+.5, 0.0, np.inf)\n",
    "\n",
    "x = np.linspace(-1., 5., 500)\n",
    "\n",
    "plt.figure()\n",
    "plt.plot(x, H(x), x, dHdx(x), x, H_surrogate(x))\n",
    "plt.legend(['$H(x)$', '$dH/dx(x)$', '$H_{surr}(x)$'])\n",
    "plt.xlabel('$V_{mem}$')\n",
    "plt.ylabel('$H$; $dH/dx$; $H_{surr}$');"
   ]
  },
  {
   "cell_type": "markdown",
   "metadata": {},
   "source": [
    "In other words, $\\textrm{d}H(x)/\\textrm{d}x(x)$ acts as though each neuron is a linear-threshold unit."
   ]
  },
  {
   "cell_type": "markdown",
   "metadata": {},
   "source": [
    "### Spiking versus current inputs\n",
    "The classes `RecLIFJax` and `RecLIFJax_IO` receive spiking inputs; the `.evolve()` method for these layers accept `TSEvent` time series obejcts, describing spiking activity of the input channels over time.\n",
    "\n",
    "The classes `RecLIFCurrentInJax` and `RecLIFCurrentInJax_IO` receive direct current injection inputs; the `.evolve()` method for these layers accept `TSContinuous` time series objects, describing instantaneous currents on the input channels."
   ]
  },
  {
   "cell_type": "markdown",
   "metadata": {},
   "source": [
    "### Spiking versus surrogate outputs\n",
    "The classes `RecLIFJax` and `RecLIFCurrentInJax` return spiking activity of the layer neurons as `TSEvent` objects from the `.evolve()` method.\n",
    "\n",
    "The classes `RecLIFJax_IO` and `RecLIFCurrentInJax_IO` return (weighted) surrogate non-spiking activity as `TSContinuous` objects from the `.evolve()` method.\n",
    "\n",
    "In both cases, several interal signals of the layers are monitored during evolution, and these are available as object attributes after evolution."
   ]
  },
  {
   "cell_type": "raw",
   "metadata": {
    "raw_mimetype": "text/restructuredtext"
   },
   "source": [
    "=============================  ===\n",
    "Signal                         Attribute name\n",
    "=============================  ===\n",
    "Spiking activity               ``.spikes_last_evolution``\n",
    "Recurrent synaptic currents    ``.i_rec_last_evolution``\n",
    "Surrogate signal               ``.surrogate_last_evolution``\n",
    "Membrane voltage               ``.v_mem_last_evolution``\n",
    "=============================  ==="
   ]
  },
  {
   "cell_type": "markdown",
   "metadata": {},
   "source": [
    "## Building and simulating a spiking recurrent layer\n",
    "We'll start by building a spiking recurrent layer `.RecLIFJax`, which accepts spiking inputs and generates spiking outputs. `.RecLIFJax` is imported from `rockpool.layers`."
   ]
  },
  {
   "cell_type": "code",
   "execution_count": 112,
   "metadata": {},
   "outputs": [],
   "source": [
    "## -- Import the recurrent layer\n",
    "from rockpool.layers import RecLIFJax\n",
    "from rockpool import TSEvent, TSContinuous"
   ]
  },
  {
   "cell_type": "code",
   "execution_count": 116,
   "metadata": {},
   "outputs": [
    {
     "name": "stdout",
     "output_type": "stream",
     "text": [
      "RecLIFJax object: \"Recurrent LIF layer\" [100 TSEvent in -> 100 internal -> 100 TSEvent out]\n"
     ]
    }
   ],
   "source": [
    "# - Build a recurrent layer\n",
    "num_neurons = 100\n",
    "dt = 1e-3\n",
    "\n",
    "weights_rec = np.random.randn(num_neurons, num_neurons)\n",
    "tau_mem = np.random.rand(num_neurons) * 100e-3 + 50e-3\n",
    "tau_syn = np.random.rand(num_neurons) * 100e-3 + 50e-3\n",
    "\n",
    "lyrLIF = RecLIFJax(weights_rec, tau_mem, tau_syn, \n",
    "                   name = 'Recurrent LIF layer', dt = dt)\n",
    "print(lyrLIF)"
   ]
  },
  {
   "cell_type": "markdown",
   "metadata": {},
   "source": [
    "We'll generate a Poisson input signal independently for each of the layer neurons, with a sinusoidal modulation."
   ]
  },
  {
   "cell_type": "code",
   "execution_count": 115,
   "metadata": {},
   "outputs": [
    {
     "data": {
      "image/png": "[encoded data removed]",
      "text/plain": [
       "<Figure size 864x288 with 1 Axes>"
      ]
     },
     "metadata": {
      "needs_background": "light"
     },
     "output_type": "display_data"
    }
   ],
   "source": [
    "# - Build an input signal\n",
    "input_duration = 1.\n",
    "mod_freq = 5.\n",
    "min_rate = 3.\n",
    "max_rate = 10.\n",
    "\n",
    "# - Generate a sinusoidal instantaneous rate\n",
    "time_base = np.arange(0, input_duration, dt)\n",
    "sinusoid = (np.sin(time_base * 2*np.pi * mod_freq)/2. + .5) * (max_rate - min_rate) + min_rate\n",
    "sinusoid_ts = TSContinuous(time_base, sinusoid)\n",
    "\n",
    "# - Generate Poisson spiking inputs\n",
    "raster = np.random.rand(len(time_base), num_neurons) < np.tile(sinusoid * dt, (num_neurons, 1)).T\n",
    "spikes = np.argwhere(raster)\n",
    "input_sp_ts = TSEvent(time_base[spikes[:, 0]], spikes[:, 1])\n",
    "\n",
    "# - Plot the input events\n",
    "plt.figure()\n",
    "input_sp_ts.plot()\n",
    "plt.xlabel('Time (s)')\n",
    "plt.ylabel('Neuron')\n",
    "plt.title('Input signal');"
   ]
  },
  {
   "cell_type": "raw",
   "metadata": {
    "raw_mimetype": "text/restructuredtext"
   },
   "source": [
    "As with all |project| layers, use the ``.evolve()`` method to simulate the layer and collect the output."
   ]
  },
  {
   "cell_type": "code",
   "execution_count": 121,
   "metadata": {},
   "outputs": [
    {
     "ename": "ValueError",
     "evalue": "TSContinuous `unnamed`: New samples matrix must have the same number of samples as `.times`.",
     "output_type": "error",
     "traceback": [
      "\u001b[0;31m---------------------------------------------------------------------------\u001b[0m",
      "\u001b[0;31mValueError\u001b[0m                                Traceback (most recent call last)",
      "\u001b[0;32m<ipython-input-121-0272accbe219>\u001b[0m in \u001b[0;36m<module>\u001b[0;34m\u001b[0m\n\u001b[0;32m----> 1\u001b[0;31m \u001b[0moutput_ts\u001b[0m \u001b[0;34m=\u001b[0m \u001b[0mlyrLIF\u001b[0m\u001b[0;34m.\u001b[0m\u001b[0mevolve\u001b[0m\u001b[0;34m(\u001b[0m\u001b[0mduration\u001b[0m\u001b[0;34m=\u001b[0m\u001b[0;36m1.\u001b[0m\u001b[0;34m)\u001b[0m\u001b[0;34m\u001b[0m\u001b[0;34m\u001b[0m\u001b[0m\n\u001b[0m",
      "\u001b[0;32m~/aiCTX Dropbox/Dylan Muir/LiveSync/Development/rockpool_GIT/rockpool/layers/gpl/lif_jax.py\u001b[0m in \u001b[0;36mevolve\u001b[0;34m(self, ts_input, duration, num_timesteps, verbose)\u001b[0m\n\u001b[1;32m    364\u001b[0m \u001b[0;34m\u001b[0m\u001b[0m\n\u001b[1;32m    365\u001b[0m         \u001b[0;31m# - Record membrane traces\u001b[0m\u001b[0;34m\u001b[0m\u001b[0;34m\u001b[0m\u001b[0;34m\u001b[0m\u001b[0m\n\u001b[0;32m--> 366\u001b[0;31m         \u001b[0mself\u001b[0m\u001b[0;34m.\u001b[0m\u001b[0mv_mem_last_evolution\u001b[0m \u001b[0;34m=\u001b[0m \u001b[0mTSContinuous\u001b[0m\u001b[0;34m(\u001b[0m\u001b[0mtime_base\u001b[0m\u001b[0;34m,\u001b[0m \u001b[0monp\u001b[0m\u001b[0;34m.\u001b[0m\u001b[0marray\u001b[0m\u001b[0;34m(\u001b[0m\u001b[0mVmem_ts\u001b[0m\u001b[0;34m)\u001b[0m\u001b[0;34m)\u001b[0m\u001b[0;34m\u001b[0m\u001b[0;34m\u001b[0m\u001b[0m\n\u001b[0m\u001b[1;32m    367\u001b[0m \u001b[0;34m\u001b[0m\u001b[0m\n\u001b[1;32m    368\u001b[0m         \u001b[0;31m# - Record spike raster\u001b[0m\u001b[0;34m\u001b[0m\u001b[0;34m\u001b[0m\u001b[0;34m\u001b[0m\u001b[0m\n",
      "\u001b[0;32m~/aiCTX Dropbox/Dylan Muir/LiveSync/Development/rockpool_GIT/rockpool/timeseries.py\u001b[0m in \u001b[0;36m__init__\u001b[0;34m(self, times, samples, num_channels, periodic, t_start, t_stop, name, interp_kind)\u001b[0m\n\u001b[1;32m    498\u001b[0m         \u001b[0;31m# - Assign attributes\u001b[0m\u001b[0;34m\u001b[0m\u001b[0;34m\u001b[0m\u001b[0;34m\u001b[0m\u001b[0m\n\u001b[1;32m    499\u001b[0m         \u001b[0mself\u001b[0m\u001b[0;34m.\u001b[0m\u001b[0minterp_kind\u001b[0m \u001b[0;34m=\u001b[0m \u001b[0minterp_kind\u001b[0m\u001b[0;34m\u001b[0m\u001b[0;34m\u001b[0m\u001b[0m\n\u001b[0;32m--> 500\u001b[0;31m         \u001b[0mself\u001b[0m\u001b[0;34m.\u001b[0m\u001b[0msamples\u001b[0m \u001b[0;34m=\u001b[0m \u001b[0msamples\u001b[0m\u001b[0;34m.\u001b[0m\u001b[0mastype\u001b[0m\u001b[0;34m(\u001b[0m\u001b[0;34m\"float\"\u001b[0m\u001b[0;34m)\u001b[0m\u001b[0;34m\u001b[0m\u001b[0;34m\u001b[0m\u001b[0m\n\u001b[0m\u001b[1;32m    501\u001b[0m \u001b[0;34m\u001b[0m\u001b[0m\n\u001b[1;32m    502\u001b[0m     \u001b[0;31m## -- Methods for plotting and printing\u001b[0m\u001b[0;34m\u001b[0m\u001b[0;34m\u001b[0m\u001b[0;34m\u001b[0m\u001b[0m\n",
      "\u001b[0;32m~/aiCTX Dropbox/Dylan Muir/LiveSync/Development/rockpool_GIT/rockpool/timeseries.py\u001b[0m in \u001b[0;36msamples\u001b[0;34m(self, new_samples)\u001b[0m\n\u001b[1;32m   1417\u001b[0m             raise ValueError(\n\u001b[1;32m   1418\u001b[0m                 \u001b[0;34mf\"TSContinuous `{self.name}`: \"\u001b[0m\u001b[0;34m\u001b[0m\u001b[0;34m\u001b[0m\u001b[0m\n\u001b[0;32m-> 1419\u001b[0;31m                 \u001b[0;34m+\u001b[0m \u001b[0;34m\"New samples matrix must have the same number of samples as `.times`.\"\u001b[0m\u001b[0;34m\u001b[0m\u001b[0;34m\u001b[0m\u001b[0m\n\u001b[0m\u001b[1;32m   1420\u001b[0m             )\n\u001b[1;32m   1421\u001b[0m \u001b[0;34m\u001b[0m\u001b[0m\n",
      "\u001b[0;31mValueError\u001b[0m: TSContinuous `unnamed`: New samples matrix must have the same number of samples as `.times`."
     ]
    }
   ],
   "source": [
    "output_ts = lyrLIF.evolve(duration=1.)"
   ]
  },
  {
   "cell_type": "code",
   "execution_count": null,
   "metadata": {},
   "outputs": [],
   "source": [
    "output_ts.plot()"
   ]
  },
  {
   "cell_type": "code",
   "execution_count": null,
   "metadata": {},
   "outputs": [],
   "source": []
  }
 ],
 "metadata": {
  "celltoolbar": "Raw Cell Format",
  "kernelspec": {
   "display_name": "Python [conda env:py36_tf]",
   "language": "python",
   "name": "conda-env-py36_tf-py"
  },
  "language_info": {
   "codemirror_mode": {
    "name": "ipython",
    "version": 3
   },
   "file_extension": ".py",
   "mimetype": "text/x-python",
   "name": "python",
   "nbconvert_exporter": "python",
   "pygments_lexer": "ipython3",
   "version": "3.6.9"
  },
  "toc": {
   "base_numbering": 1,
   "nav_menu": {},
   "number_sections": false,
   "sideBar": true,
   "skip_h1_title": true,
   "title_cell": "Table of Contents",
   "title_sidebar": "Contents",
   "toc_cell": false,
   "toc_position": {},
   "toc_section_display": true,
   "toc_window_display": false
  }
 },
 "nbformat": 4,
 "nbformat_minor": 4
}
