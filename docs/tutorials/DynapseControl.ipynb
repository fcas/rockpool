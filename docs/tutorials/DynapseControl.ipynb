{
 "cells": [
  {
   "cell_type": "markdown",
   "metadata": {},
   "source": [
    "# DynapseControl: Python interface to cortexcontrol"
   ]
  },
  {
   "cell_type": "raw",
   "metadata": {
    "raw_mimetype": "text/restructuredtext"
   },
   "source": [
    ".. note:: WORK IN PROGRESS\n",
    "\n",
    "This document illustrates how to use the `.dynapse_control` module to interface with `cortexcontrol` and the DynapSE processor. The `DynapseControl` class provides higher-level functionality for `cortexcontrol` and allows |project| to interact with the DynapSE processor. However, it can also be used from outside |project|."
   ]
  },
  {
   "cell_type": "markdown",
   "metadata": {},
   "source": [
    "## Setup\n",
    "\n",
    "### Cortexcontrol\n",
    "\n",
    "In order to work interface the DynapSE chip, this layer relies on `Cortexcontrol`. It can either be used from within the `Cortexcontrol` console or via an `RPyC` connection. In order to run some examples from within this jupyter notebook, we will do the latter. For this we start `Cortexcontrol` and run the following commands in its console (not in this notebook):"
   ]
  },
  {
   "cell_type": "code",
   "execution_count": 1,
   "metadata": {},
   "outputs": [
    {
     "ename": "ModuleNotFoundError",
     "evalue": "No module named 'rpyc'",
     "output_type": "error",
     "traceback": [
      "\u001b[0;31m---------------------------------------------------------------------------\u001b[0m",
      "\u001b[0;31mModuleNotFoundError\u001b[0m                       Traceback (most recent call last)",
      "\u001b[0;32m<ipython-input-1-26709ef12095>\u001b[0m in \u001b[0;36m<module>\u001b[0;34m()\u001b[0m\n\u001b[0;32m----> 1\u001b[0;31m \u001b[0;32mimport\u001b[0m \u001b[0mrpyc\u001b[0m\u001b[0;34m.\u001b[0m\u001b[0mutils\u001b[0m\u001b[0;34m.\u001b[0m\u001b[0mclassic\u001b[0m\u001b[0;34m\u001b[0m\u001b[0;34m\u001b[0m\u001b[0m\n\u001b[0m\u001b[1;32m      2\u001b[0m \u001b[0mc\u001b[0m \u001b[0;34m=\u001b[0m \u001b[0mrpyc\u001b[0m\u001b[0;34m.\u001b[0m\u001b[0mutils\u001b[0m\u001b[0;34m.\u001b[0m\u001b[0mclassic\u001b[0m\u001b[0;34m.\u001b[0m\u001b[0mSlaveService\u001b[0m\u001b[0;34m(\u001b[0m\u001b[0;34m)\u001b[0m\u001b[0;34m\u001b[0m\u001b[0;34m\u001b[0m\u001b[0m\n\u001b[1;32m      3\u001b[0m \u001b[0;32mfrom\u001b[0m \u001b[0mrpyc\u001b[0m\u001b[0;34m.\u001b[0m\u001b[0mutils\u001b[0m\u001b[0;34m.\u001b[0m\u001b[0mserver\u001b[0m \u001b[0;32mimport\u001b[0m \u001b[0mOneShotServer\u001b[0m\u001b[0;34m\u001b[0m\u001b[0;34m\u001b[0m\u001b[0m\n\u001b[1;32m      4\u001b[0m \u001b[0mt\u001b[0m \u001b[0;34m=\u001b[0m \u001b[0mOneShotServer\u001b[0m\u001b[0;34m(\u001b[0m\u001b[0mc\u001b[0m\u001b[0;34m,\u001b[0m \u001b[0mport\u001b[0m\u001b[0;34m=\u001b[0m\u001b[0;36m1300\u001b[0m\u001b[0;34m)\u001b[0m\u001b[0;34m\u001b[0m\u001b[0;34m\u001b[0m\u001b[0m\n\u001b[1;32m      5\u001b[0m \u001b[0mprint\u001b[0m\u001b[0;34m(\u001b[0m\u001b[0;34m\"RPyC: Ready to start.\"\u001b[0m\u001b[0;34m)\u001b[0m\u001b[0;34m\u001b[0m\u001b[0;34m\u001b[0m\u001b[0m\n",
      "\u001b[0;31mModuleNotFoundError\u001b[0m: No module named 'rpyc'"
     ]
    }
   ],
   "source": [
    "import rpyc.utils.classic\n",
    "c = rpyc.utils.classic.SlaveService()\n",
    "from rpyc.utils.server import OneShotServer\n",
    "t = OneShotServer(c, port=1300)\n",
    "print(\"RPyC: Ready to start.\")\n",
    "t.start()"
   ]
  },
  {
   "cell_type": "markdown",
   "metadata": {},
   "source": [
    "If the `cortexcontrol` console prints <br>\n",
    "*\"RPyC: Ready to start.\"* <br>\n",
    "and nothing else, it is ready. Now through your usual python setup (console, iPython, jupyter, ...) you can import the class and instantiate a `DynapseControl` object."
   ]
  },
  {
   "cell_type": "markdown",
   "metadata": {},
   "source": [
    "### Connecting to corexcontrol"
   ]
  },
  {
   "cell_type": "raw",
   "metadata": {
    "raw_mimetype": "text/restructuredtext"
   },
   "source": [
    "You can either import only the `.DynapseControl` class from |rockpool| or the complete `.dynapse_control` module.\n",
    "\n",
    "Note that **before using a chip on the DynapSE, you should make sure that it has been cleared** since the current  `cortexcontrol` instance has been started. The methods mentioned above, under _Connecting to Cortexcontrol_ will do so automatically, if you pass a list with the corresponding chip IDs to the `initialize_chips` argument. Otherwise, if you already have an existing connection, you can use the function `.dynapse_control.initialize_hardware` and pass the connection as `connection` argument as well as a list of chip IDs with the `use_chips` argument."
   ]
  },
  {
   "cell_type": "code",
   "execution_count": null,
   "metadata": {
    "scrolled": true
   },
   "outputs": [],
   "source": [
    "# - Import module\n",
    "from NetworksPython.devices import dynapse_control as dc\n",
    "\n",
    "# - Alternatively, only import the DynapseControl class\n",
    "from NetworksPython.devices import DynapseControl"
   ]
  },
  {
   "cell_type": "markdown",
   "metadata": {},
   "source": [
    "#### Connecting to Cortexcontrol and instantiating a `DynapseControl` object\n",
    "\n",
    "If you are running the code from without the `cortexcontrol` console, you need to set up an `RPyC` connection to it. There are different ways of doing so:"
   ]
  },
  {
   "cell_type": "raw",
   "metadata": {
    "raw_mimetype": "text/restructuredtext"
   },
   "source": [
    "* Simply instantiate a `.DynapseControl` object. In theory, you do not need to pass any arguments. However, if you have not cleared any chips since `cortexcontrol` was connected to the hardware, you should use the `init_chips` argument to pass a list with the IDs of the chips that you are going to use. If (and only if) those chips have not been cleared since starting `cortexcontrol` this will be done now. Apart from that a connection to `cortexcontrol` will be set up that can be accessed through the `rpyc_connection` attribute. If the code is run within `cortexcontrol`, this attribute will be `None`.\n",
    "\n",
    "If you are running multiple instances of `cortexcontrol` and you want to connect to a specific one, you can specify its port in the `rpyc_connection` argument at instantiation. By default, it will first try port 1300 and, if this does not work, 1301."
   ]
  },
  {
   "cell_type": "code",
   "execution_count": null,
   "metadata": {},
   "outputs": [],
   "source": [
    "# - Generate DynapseControl instance. Make sure chips 0 and 1 are ready to use.\n",
    "control = DynapseControl(init_chips=[0,1])\n",
    "\n",
    "# # - Generate DynapseControl instance. Make sure chips 0 and 1 are ready to use. Use port 1300 for connecting.\n",
    "# control = DynapseControl(initialize_chips=[0,1], rpyc_connection=1300)\n",
    "\n",
    "# - RPyC connection object\n",
    "connection = control.rpyc_connection"
   ]
  },
  {
   "cell_type": "raw",
   "metadata": {
    "raw_mimetype": "text/restructuredtext"
   },
   "source": [
    "* You can also set up a connection manually using the `.dynapse_control.setup_rpyc` function. It can then be used as argument when creating a `.DynapseControl` instance. Here, the optional `initialize_chips` argument has the same function as explained above. You can specify a port using the optional `connect` argument.\n",
    "\n",
    "* In case you already have a connection, which has not been generated by any of the methods above, you should run the function `dynapse_control.setup_rpyc` with this connection as argument, to make sure that everything is set up correctly to be used with this module.\n",
    "\n",
    "Note that there can only be one connection to each `cortexcontrol` instance, so the code below is commented out. "
   ]
  },
  {
   "cell_type": "code",
   "execution_count": null,
   "metadata": {},
   "outputs": [],
   "source": [
    "# # - Manually connect to cortexcontrol\n",
    "# connection = dc.setup_rpyc(initialize_chips=[0,1])\n",
    "# \n",
    "# # # - Manually connect to cortexcontrol through port 1300\n",
    "# # connection = dc.setup_rpyc(initialize_chips=[0,1], connect=1300)\n",
    "# \n",
    "# # # - Use existing connection and make sure that everything is set up correctly.\n",
    "# # # existing_connection = ...\n",
    "# # # connection = dc.setup_rpyc(connect=existing_connection)\n",
    "# \n",
    "# # - Generate DynapseControl instance, using existing connection\n",
    "# control = DynapseControl(rpyc_connection=connection)"
   ]
  },
  {
   "cell_type": "markdown",
   "metadata": {},
   "source": [
    "#### Additional arguments to DynapseControl"
   ]
  },
  {
   "cell_type": "raw",
   "metadata": {
    "raw_mimetype": "text/restructuredtext"
   },
   "source": [
    "There are additional (optional) arguments when instantiating a `.DynapseControl` object, that have not been mentioned above:"
   ]
  },
  {
   "cell_type": "markdown",
   "metadata": {},
   "source": [
    "`fpga_isibase` is a `float` determines the time step size of the inter-spike intervals between events that are sent to the processor. For more details, see [FPGA](#fpga).\n",
    "\n",
    "`clearcores_list` can either be `None` or a list of integers. In the latter case the configurations of cores with corresponding IDs are wiped, so that  previously set synaptic connections, that the user may not aware of, are removed. To be more precise, the CAMs (pre-neuron IDs and pre-neuron core IDs) and the SRAMs (target chip ID, virtual core ID, core mask) are cleared.\n",
    "\n",
    "**Overview over all arguments:**\n",
    "\n",
    "| Argument | Type | Default | Meaning |\n",
    "|----------|------|---------|---------|\n",
    "| `fpga_isibase` | `float`| `2e-5` | Time step for sending data to hardware |\n",
    "| `clearcores_list` | `list` or `None` | `None` | IDs of cores whose configuration should be cleared. |\n",
    "| `rpyc_connection` | `str`, `int`, `rpyc connection` or `None` | `None` | Connection to `cortexcontrol` or port through which connection should be established. |\n",
    "| `init_chips` | `list` or `None` | `None` | IDs of chips that are going to be used. |"
   ]
  },
  {
   "cell_type": "markdown",
   "metadata": {},
   "source": [
    "## Hardware\n",
    "\n",
    "Before we go into the details of how the class works, let us first have a brief look at some properties of the DynapSE.\n",
    "\n",
    "The DynapSE processor consists of 4 chips. Each chips has 4 cores of 256 neurons. The chips, as well as each core in a chip and each neuron in a core are identified with an ID between 0 and 3 or 0 and 256, respectively. However, the `DynapseControl` class uses logical IDs from 0 to 4095 that range over all neurons. In other words the logical neuron ID is $1024 \\cdot \\text{ChipID} + 256 \\cdot \\text{CoreID} + \\text{NeuronID}$."
   ]
  },
  {
   "cell_type": "markdown",
   "metadata": {},
   "source": [
    "### Setting connections\n",
    "\n",
    "#### Synapse types\n",
    "There are four different synapse types on the DynapSE: fast and slow excitatory as well as fast and slow inhibitory. Each neuron can receive inputs through up to 64 synapses, each of which can be any of the given types. Via `cortexcontrol` the synaptic behavior can be adjusted for each type and for each core, but not for individual synapses.\n",
    "\n",
    "There is a priori no difference between slow and fast excitatory synapses, so they can be set to have the same behavior. In fact, one could assign shorter time constants to the \"slow\" excitatory synapses, making them effectively the fast ones. While both excitatory and the fast inhibitory synapses work by adding or subtracting current to the neuron membrane, the slow inhibitory synapses use shunt inhibition and in practice silence a neuron very quickly.\n",
    "\n",
    "Note that all synapses that are of the same type and that are on the same core have the same weight. Different connection strengths between neurons can only be achieved by setting the same connection multiple times. "
   ]
  },
  {
   "cell_type": "markdown",
   "metadata": {},
   "source": [
    "#### Understanding the routing scheme\n",
    "In particular if you want to implement complex or large networks that span over several cores, it is helpful to understand how connections are set on the DynapSE. Each neuron has 4 SRAM and 64 CAM cells. "
   ]
  },
  {
   "cell_type": "markdown",
   "metadata": {},
   "source": [
    "##### <a name=\"sram\"></a>SRAM\n",
    "The SRAM cells determine where each neuron sends its output events, in other words, this will affect postsynaptic connections of the neuron. You can specify the following parameters:\n",
    "- `target_chip_id` $\\in [0, 4)$: ID of chip to which events are sent.\n",
    "- `core_mask` $\\in [0, 16)$: This value is converted to a 4-digit binary value, where each digit corresponds to one core and determines if this core receives events (1) or not (0).\n",
    "- `virtual_core_id` $\\in [0, 4)$: Neurons receive events from specific cores (see [CAM](#cam)). If this value is changed, the sending neuron pretends that it belongs to a different core than it actually does.\n",
    "\n",
    "Because each neuron has 4 SRAM cells it can in theory send events to up to 4 chips. However, the first SRAM cell is used for routing events to the FPGA, which is necessary to monitor the neuron's activity in `cortexcontrol`. <b>Therefore the first SRAM cell should only be changed if there is no need to observe this neuron's firing activity.</b>"
   ]
  },
  {
   "cell_type": "markdown",
   "metadata": {},
   "source": [
    "##### <a name=\"cam\"></a>CAM\n",
    "In each CAM cell the neuron can be set to listen to (i.e. receive events from) one other neuron. In other words, presynaptic connections are set here. The following parameters can be set:\n",
    "- `pre_neuron_ID` $\\in [0, 256)$: The presynaptic neuron's ID within its core.\n",
    "- `pre_neuron_core_ID` $\\in [0, 1024)$: The core of the presynaptic neuron.\n",
    "\n",
    "These two values together uniquely define a presynaptic neuron on a single chip. From which chips the postsynaptic neuron receives the events is determined by which neurons (with corresponding ID and core) send to the core where the postsynaptic neuron is located (i.e. the presynaptic neurons must have matching `target_chip_id` and `core_mask` in their [SRAMs](#sram).\n",
    "- `type`: The synapse type of this connection.\n",
    "The `type`s are `DynapseCamType` objects: `FAST_EXC`, `SLOW_EXC`, `FAST_INH` or `SLOW_INH`. Using the `DynapseControl` class these synapse typse can be accessed as `DynapseControl.<type>`, where `<type>` is `syn_exc_fast`, `syn_exc_slow`, `syn_inh_fast`, `syn_inh_slow`, respectively.\n",
    "\n",
    "Becuase each neuron has 64 CAM cells, it can have at most 64 presynaptic connections.\n",
    "Nevertheless, in theory you can route several neurons' events to a single presynaptic connection if they have the same ID by setting their `virtual_core_id` to the same value in their SRAMs, matching the `pre_neuron_core_ID` of the postsynaptic neuron."
   ]
  },
  {
   "cell_type": "markdown",
   "metadata": {},
   "source": [
    "##### <a name=\"aliasing\"></a>Connection aliasing\n",
    "The neuron CAMs only store the core and neuron IDs of presynaptic neurons but not the chip ID. This means that the neuron is not able to distinguish between events from different chips if they originate from neurons with same core and neuron IDs.\n",
    "\n",
    "To understand the implications of this consider the following scenario: Two neurons are on the same core. The first has a presynaptic connection to neuron 2 on core 1 of chip 0. The second neuron has a presynaptic connection to neuron 2 on core 1 of chip 1. Therefore the SRAMs of the two presynaptic neurons are both set to route events to the core where the two postsynaptic neurons sit. Because  both postsynaptic neurons are set to listen to events with core ID 0 and neuron ID 2, each of them will receive events from *both* the presynaptic neurons, although this was not intended. \n",
    "\n",
    "Nevertheless there are scenarios in which this is exploited to increase the fan-in of a neuron. By routing events from neurons of different chips but with same core and neuron IDs to one core, a neuron now can listen to as many neurons as there are chips by only using one CAM cell."
   ]
  },
  {
   "cell_type": "markdown",
   "metadata": {},
   "source": [
    "##### Virtual core IDs\n",
    "In each SRAM a virtual core ID can be set. This means that corresponding events appear to originate from a different core (but the same neuron ID). This can be used to route events from multiple sources to the same postsynaptic neuron by only using one of its CAM cells. The presynaptic neurons must be on different cores but have same neuron IDs and same virtual core IDs in the respective SRAM cells.\n",
    "\n",
    "Apart from that one may use virtual core IDs to avoid connection aliasing. If in the scenario described [above](#aliasing), one of the two presynaptic neurons changes its virtual core ID, they will not be confused anymore. - Of course, however, there may be new clashes now with a different neuron that has a corresponding core ID.\n",
    "\n",
    "For changing the virtual core ID with the `DynapseControl` class you can access the neurons through `DynapseControl.lShadowNeurons`, which is a list with references to all ([shadow state](#shadow)) neurons ordered by their logical ID. Here you can manipulate SRAM and CAM cells. Subsequently you will need to call `DynapseControl.model.apply_diff_state()` to apply the changes to the hardware. For more details on how to work with the SRAMs and CAMs see the <a href=\"http://ai-ctx.gitlab.io/ctxctl/primer.html#CtxDynapse.DynapseNeuron\">cortexcontrol documentation</a>."
   ]
  },
  {
   "cell_type": "markdown",
   "metadata": {},
   "source": [
    "##### Practical consequences\n",
    "The routing scheme has a few practical implications that should be considered when setting up networks on the DynapSE:\n",
    "- Based on the number of SRAMs per neuron, a neuron's fan-out is limited to 3 *chips* (4, if the neuron's firing activity does not need to be monitored). On these chips an arbitrary number of neurons can be targeted. With 1024 neurons per chip, the maximum fan-out is therefore 3072 (or 4096).\n",
    "- Based on the number of CAMs per neuron, a neuron's fan-in is generally limited to 64 neurons. However, this can be extenden by assigning the same virtual core ID to neurons with on different cores. This way the fan-in can in theory be multiplied by at most the number of available cores (e.g. on a DynapSE development kit 16). Furthermore, connection aliasing could be used to multiply the fan-in by the number of available chips (i.e. 4 on a development kit).\n",
    "- Connection aliasing might occur. Therefore, scenarios where two or more neurons on the same core have presynaptic connections to different neurons on different chips but with same core and neuron IDs should be avoided. In the future, the `DynapseControl` class warns, when connection aliasing occurs."
   ]
  },
  {
   "cell_type": "markdown",
   "metadata": {},
   "source": [
    "### Sending events\n",
    "\n",
    "#### <a name=\"virtual_neurons\"></a>Virtual neurons\n",
    "Inputs are sent to the hardware through so-called virtual neurons. Every virtual neuron on the DynapSE has a logical ID, which ranges from 0 to 1023.  An event that is sent to the hardware translates into a virtual neuron emitting a spike.\n",
    "\n",
    "If a physical neuron $m$ is set to receive spikes from a neuron with logical ID $n$, it makes no difference if a virtual or a pysical neuron with this ID is firing (as long as the firing neuron's target chip IDs and core masks include the location $m$). Neuron $m$ will receive the spikes in both cases. Because this can cause unexpected behavior it is recommended that the IDs of the physical neurons are pairwise different from the IDs of of the virtual neurons."
   ]
  },
  {
   "cell_type": "markdown",
   "metadata": {},
   "source": [
    "#### <a name=\"fpga\"></a>FPGA\n",
    "As for now it is not possible with `DynapseControl` to stream events continuously to the DynapSE. Instead, events are first sent to an FPGA, temporarily stored there and then translated to spikes of virtual neurons, with temporal order and inter-spike intervals matching the input signal. The number of events that can be sent at once is limited to $2^{16} - 1 = 65535$. Longer inputs need to be split up.\n",
    "\n",
    "Inter-spike intervals must be multiples of a time step, which in `DynapseControl` is stored as `tFpgaIsiBase`. This time step, in return,  needs to be a multiple of $11.\\overline{1} \\cdot 10^{-9} \\text{ s}$.\n",
    "\n",
    "Although the size of `fpga_isibase` has no effect on computation time, it is not always advisable to choose the smallest possible value. The reason is that the number of timesteps between two input spikes is limited to $2^{16}-1 = 65535$. This means that with `fpga_isibase` $= 11.\\overline{1} \\cdot 10^{-9} \\text{ s}$, any inter-spike interval longer than about 0.73 milliseconds is already above the limit. `DynapseControl` will automatically split up inter-spike intervals that are too long by inserting \"dummy\" events that are not routed to any neuron on the chip. However, if too many are inserted, the maximum number of input events can be exceeded and the input will have to be split up. In this case a ValueError will be raised.\n",
    "\n",
    "Therefore it makes sense to set `fpga_isibase` to something between $10^{-6}$ and $10^{-4}$ seconds, in order to allow for sufficiently long silent parts in the input while still maintaining a good temporal resolution. Alternatively one could send dummy events that do not target any physical neuron. However, transmission of events to the processor is not the fastest and the more events are sent, the longer it takes."
   ]
  },
  {
   "cell_type": "markdown",
   "metadata": {},
   "source": [
    "### Receiving events\n",
    "In order to record the firing activity of neurons `EventFilter` and `BufferedEventFilter` objects can be used. Each can be set to listen to a specific population of neurons. `EventFilter`s will call a callback function, each time one of the specified neurons fires. `BufferedEventFilter`s will store `event` objects in a buffer until they are fetched. For more details refer to the <a href=\"http://ai-ctx.gitlab.io/ctxctl/primer.html#CtxDynapse.EventFilter\">cortexcontrol documentation</a>.\n",
    "\n",
    "Currently the `DynapseControl` class only supports the use of a single `BufferedEventFilters`, which can be added or changed with the `add_buffered_event_filter` method. It will stop recording when the `clear_buffered_event_filter` method is called."
   ]
  },
  {
   "cell_type": "markdown",
   "metadata": {},
   "source": [
    "### Time constants for neurons\n",
    "For each core the neuron time constants can be set through the biases `IF_TAU1_N` and `IF_TAU2_N`. Higher values correspond to shorter time constants and effectively make it less likely that the neurons will fire. For each neuron you can choose which of the two time constant biases applies. This can be useful, for example by setting the value of `IF_TAU2_N` very high, making it almost impossible for a neuron to fire. Neurons that fire in an uncontrollable way (so-called hot neurons) can then be silenced by assigning them `TAU2` instead of `TAU1`.\n",
    "Neurons are assigned `TAU2` with the `silence_neurons` method. All neurons of specified cores are assigned `TAU1` with the `reset_silencing` method. Note that the names of these methods are chosen under the assumption that the bias for `TAU2` has been set to a high value. The neurons are not silenced per se by those methods."
   ]
  },
  {
   "cell_type": "markdown",
   "metadata": {},
   "source": [
    "### Neuron allocation\n",
    "To avoid multiple layers (such as the `RecDynapSE` class) referencing the same neurons on the hardware, `DynapseControl` keeps track of which neurons are already in use. The same happens for [virtual neurons](#virtual_neurons). An array with a boolean for each (virtual) neuron that indicates whether it is still available can be accessed through `DynapseControl.hwneurons_isavailable` (`DynapseControl.virtualneurons.isavailable`). If a layer wants to be assigned a population of (virtual) neurons, it can call `DynapseControl.allocate_hw_neurons` (`DynapseControl.allocate_virtual_neurons`). If an array of integers is passed as argument, the method will try to assign the neurons with corresponding logical IDs or raise a `ValueError` if some of them are already assigned. If an integer $n$ is passed, it will assign $n$ available neurons. In both cases an array with the logical IDs of the assigned neurons is returned and the neurons are marked as not free.\n",
    "\n",
    "Note that only neurons are available that are on chips that have been cleared since the current instance of `cortexcontrol` has been started (see [connecting with cortexcontrol](#connect))."
   ]
  },
  {
   "cell_type": "markdown",
   "metadata": {},
   "source": [
    "#### Rectangular neuron arangement\n",
    "Locating a specific neuron within a population visually in the `cortexcontrol` GUI is easier, if the neurons of the population are arranged in a rectangle on the chip. The `dynapse_control` module provides a function `rectangular_neuron_arrangement` that helps in determining the IDs of neurons in such an arrangement."
   ]
  },
  {
   "cell_type": "markdown",
   "metadata": {},
   "source": [
    "### <a name=\"shadow\"></a>Shadow state neurons\n",
    "In order to update connections more efficiently, `cortexcontrol` uses shadow state neurons, that are virtual representations of the actual hardware neurons. After changing any attribute of a shadow state neuron, the hardware neurons are only updated after `DynapseControl.model.apply_diff_state()` has been called. This allows for a more efficient update mechanism, in particular if only few neurons have been modified. To access shadow state neurons from within the `DynapseControl` class, there is the `shadow_neurons` attribute, a list with references to all shadow state neurons ordered by their logical ID. By any means, do not use the `hw_neurons` attribute, as this will cause unexpected behavior."
   ]
  },
  {
   "cell_type": "markdown",
   "metadata": {},
   "source": [
    "## Methods overview\n",
    "Now that a `DynapseControl` has been instantiated, there are many ways of using it to interact with the hardware. This section will give an overview over all mehtods that are currently implemented. For more details please consult the documentation within the source code. \n",
    "\n",
    "### Neuron allocation and connections\n",
    "\n",
    "`allocate_hw_neurons`<br>\n",
    "Allocate neurons if available and return them in lists.\n",
    "\n",
    "`allocate_virtual_neurons`<br>\n",
    "Allocate virtual neurons if available and return them in list.\n",
    "\n",
    "`add_connections_to_virtual`<br>\n",
    "Connect populations of virtual and physical neurons.\n",
    "\n",
    "`set_virtual_connections_from_weights`<br>\n",
    "Set connections from virtual to physical neurons from weight matrix.\n",
    "\n",
    "`set_connections_from_weights`<br>\n",
    "Set connections between two neuron populations from weight matrix. Presynaptic neurons can be virtual. Existing connections to postsynaptic neurons will be removed.\n",
    "\n",
    "`add_connections_from_weights`<br>\n",
    "Add connections between two neuron populations from weight matrix. Presynaptic neurons can be virtual. Existing connections to postsynaptic neurons will **not** be removed.\n",
    "\n",
    "`remove_all_connections_to`<br>\n",
    "Remove all presynaptic connections to specified neurons."
   ]
  },
  {
   "cell_type": "markdown",
   "metadata": {},
   "source": [
    "### Resetting\n",
    "\n",
    "`initialize_chips` <br>\n",
    "Clear chips with given IDs.\n",
    "\n",
    "`clear_neuron_assignments` <br>\n",
    "Mark neurons on given cores as free.\n",
    "\n",
    "`clear_connections` <br>\n",
    "Reset connections for specified cores.\n",
    "\n",
    "`reset_silencing` <br>\n",
    "Assign time constant `TAU1` to all neurons on specified cores.\n",
    "\n",
    "`reset_cores` <br>\n",
    "Reset neuron assignments, time constants and presynaptic connections for specified cores.\n",
    "\n",
    "`reset_all` <br>\n",
    "Reset neuron assignments, time constants and presynaptic connections for all cores."
   ]
  },
  {
   "cell_type": "markdown",
   "metadata": {},
   "source": [
    "### Stimulation and event generation\n",
    "`start_cont_stim`<br>\n",
    "Start sending events to processor with fixed frequency.\n",
    "\n",
    "`stop_stim`<br>\n",
    "Stop any ongoing stimulation except poisson-rate stimulation.\n",
    "\n",
    "`start_poisson_stim`<br>\n",
    "Start generating events by poisson processes and send them.\n",
    "\n",
    "`stop_poisson_stim`<br>\n",
    "Stop generating events by poisson processes and send them.\n",
    "\n",
    "`reset_poisson_rates`<br>\n",
    "Set rates for poisson event generation to 0.\n",
    "\n",
    "`send_pulse`<br>\n",
    "Send a pulse of periodic input events.\n",
    "\n",
    "`send_TSEvent`<br>\n",
    "Extract events from a `TSEvent` object and send them to the processor. Can record neuron activity simultaneously.\n",
    "\n",
    "`send_arrays`<br>\n",
    "Extract events from arrays (times and channels) and send them to the processor. Can record neuron activity simultaneously.\n",
    "\n",
    "`record` <br>\n",
    "Record activities of neurons with given IDs. Either for specific time or until `stop_recording` is called.\n",
    "\n",
    "`stop_recording` <br>\n",
    "Stop recording and return events that have been recorded with current `BufferedEventFilter`."
   ]
  },
  {
   "cell_type": "markdown",
   "metadata": {},
   "source": [
    "### Tuning and observing activities\n",
    "\n",
    "`add_buffered_event_filter`<br>\n",
    "Add a `BufferedEventFilter` to record activities from specified neurons.\n",
    "\n",
    "`clear_buffered_event_filter`<br>\n",
    "Stop recording neuron activities.\n",
    "\n",
    "`collect_spiking_neurons`<br>\n",
    "Return a list of neurons that spike during a specified time.\n",
    "\n",
    "`silence_neurons` <br>\n",
    "Set time constant to `TAU2` for specified neurons.\n",
    "\n",
    "`silence_hot_neurons`<br>\n",
    "Set time constant to `TAU2` for neurons that spike during specified time.\n",
    "\n",
    "`measure_population_firing_rates`<br>\n",
    "Measure firing rates for multiple neuron populations.\n",
    "\n",
    "`measure_firing_rates`<br>\n",
    "Measure firing rates of specified neurons.\n",
    "\n",
    "`monitor_firing_rates`<br>\n",
    "Start periodically printing the average firing rates for specified neurons.\n",
    "\n",
    "`stop_monitor`<br>\n",
    "Stop measuring and printing firing rates.\n",
    "\n",
    "`sweep_freq_measure_rate`<br>\n",
    "Stimulate a group of neurons by sweeping over a list of input frequencies. Measure their firing rates."
   ]
  },
  {
   "cell_type": "markdown",
   "metadata": {},
   "source": [
    "### Load and save biases\n",
    "\n",
    "`load_biases`<br>\n",
    "Load biases from file.\n",
    "\n",
    "`save_biases`<br>\n",
    "Save biases to file.\n",
    "\n",
    "`copy_biases`<br>\n",
    "Copy biases from one core to other(s)."
   ]
  },
  {
   "cell_type": "markdown",
   "metadata": {},
   "source": [
    "## Using RPyC\n",
    "\n",
    "This section contains useful information if you want to contribute own methods for interacting with the processor.\n",
    "\n",
    "In order to communicate with `cortexcontrol`, the `dynapse_control` module uses the `RPyC` package (https://rpyc.readthedocs.io/en/latest/), which establishes a connection where `cortexcontrol` acts as a server that can execute python commands sent by the `dynapse_control` module. "
   ]
  },
  {
   "cell_type": "markdown",
   "metadata": {},
   "source": [
    "#### Adding objects to `cortexcontrol` namespace\n",
    "It is important to note that `cortexcontrol` uses its own python interpreter with its own namespace. Therefore you need to make sure that objects and modules that are to be used there are properly defined. An `RPyC` connection has a dictionary-like attribute called `namespace`, where you can add items in order to add an object to the namespace of `cortexcontrol`, like in the following example:"
   ]
  },
  {
   "cell_type": "code",
   "execution_count": null,
   "metadata": {},
   "outputs": [],
   "source": [
    "# - Define some object\n",
    "numbers = [1,2,3,4,5]\n",
    "# - Make it accessible in the namespace of cortexcontrol\n",
    "connection.namespace[\"numbers\"] = numbers"
   ]
  },
  {
   "cell_type": "markdown",
   "metadata": {},
   "source": [
    "#### Using built-in python modules\n",
    "You can use built-in python modules such as `copy`, `time`, etc. within the `cortexcontrol` environment. For this you need to add `connection.modules.<built-in name>` to `connection.namespace`:"
   ]
  },
  {
   "cell_type": "code",
   "execution_count": null,
   "metadata": {},
   "outputs": [],
   "source": [
    "# - Add copy module to cortexcontrol namespace\n",
    "connection.namespace[\"copy\"] = connection.modules.copy"
   ]
  },
  {
   "cell_type": "markdown",
   "metadata": {},
   "source": [
    "For connections that have been created via `dynapse_control.setup_rpyc` or during the instantiation of a `DynapseControl` object, the following modules are already registered in the namespace:\n",
    "\n",
    "* copy\n",
    "* os\n",
    "* rpyc\n",
    "* ctxdynapse (for direct access to cortexcontrol objects)"
   ]
  },
  {
   "cell_type": "markdown",
   "metadata": {},
   "source": [
    "### Pitfalls\n",
    "#### Non-built-in objects\n",
    " no additional packages available other than `RPyC`. This means it will not be able to run commands that use non-built-in packages. Even though sometimes it can process corresponding objects, such as `numpy.ndarray`s, it is in general safer to convert such objects into similar built-in objects, such as lists. \n",
    "\n",
    "#### Data transfer\n",
    "Repeatedly sending even small chunks of data through the `RPyC` connection takes a lot of time and should be avoided. This can happen for instance in loops that use objects on the other side of the connections. For example, a function in `dynapse_control` that loops over objects from the `cortexcontrol` environment, such as neurons, will be very inefficient:"
   ]
  },
  {
   "cell_type": "code",
   "execution_count": null,
   "metadata": {},
   "outputs": [],
   "source": [
    "from time import time\n",
    "\n",
    "# - Reference to ctxdynapse module, which allows direct access to objects of cortexcontrol\n",
    "ctxdynapse = connection.namespace[\"ctxdynapse\"]\n",
    "\n",
    "t0 = time()\n",
    "\n",
    "## -- Inefficient, avoid such loops:\n",
    "# - List of neurons - lives on other side of connection\n",
    "neuron_list = ctxdynapse.model.get_neurons()\n",
    "# - List of neuron IDs\n",
    "id_list = []\n",
    "for neuron in neuron_list:\n",
    "    # - At each iteration, data will be transferred to this side of the connection\n",
    "    id_list.append(neuron.get_id())\n",
    "print(\"Took {} s\".format(time()-t0))"
   ]
  },
  {
   "cell_type": "markdown",
   "metadata": {},
   "source": [
    "A better solution in this case would be to define a function that lives on the `cortexcontrol`-side (using the `teleport_function` or `remote_function` wrappers - more details below) and generates the list there before sending it our side:"
   ]
  },
  {
   "cell_type": "code",
   "execution_count": null,
   "metadata": {},
   "outputs": [],
   "source": [
    "## -- Better: Process objects locally, send data only once\n",
    "\n",
    "# - Define decorator to teleport function through existing connection\n",
    "teleport = lambda func : dc.teleport_function(connection, func)\n",
    "\n",
    "# - Define function on other side of connection wiht teleport decorator\n",
    "@teleport\n",
    "def get_neuron_ids():\n",
    "    neuron_list = ctxdynapse.model.get_neurons()\n",
    "    # - List of neuron IDs\n",
    "    id_list = []\n",
    "    for neuron in neuron_list:\n",
    "        # - Data remains on one side of connection\n",
    "        id_list.append(neuron.get_id()) \n",
    "    return id_list\n",
    "t0 = time()\n",
    "\n",
    "id_list = get_neuron_ids()\n",
    "\n",
    "print(\"Took {} s\".format(time()-t0))"
   ]
  },
  {
   "cell_type": "markdown",
   "metadata": {},
   "source": [
    "Be careful with function arguments and returns - an object will live on the side of the connection where it has been created. Use the `copy` module (or `deepcopy` for nested objects) to make sure, all data is transmitted to where you want to work with it. \n",
    "\n",
    "You can always see where an object lives by using `print(type(<object>))`. If the object is on the other side of the connection, its type will contain `netref`. This is always relative to the place where the command is called, so if it is called from within a funciton on the `cortexcontrol`-side and the output contains `netref`, the object is on the `dynapse_control`-side. A print statement called within `cortexcontrol` will print into the `cortexcontrol`-console."
   ]
  },
  {
   "cell_type": "code",
   "execution_count": null,
   "metadata": {},
   "outputs": [],
   "source": [
    "import copy\n",
    "\n",
    "# - List still lives in cortexcontrol. Looping over it would be inefficient.\n",
    "id_list = get_neuron_ids()\n",
    "print(type(id_list))\n",
    "# - Copy it to this side \n",
    "id_list = copy.copy(id_list)\n",
    "print(type(id_list))"
   ]
  },
  {
   "cell_type": "markdown",
   "metadata": {},
   "source": [
    "Be particularly careful with container objects, such as lists. It may happen that the container lives on a different side of a connection than its contained elements. This will inevitably cause performance issues.\n",
    "\n",
    "One especially perfidious case are numbers that originate from `numpy` functions. They are often `numpy`-specific types such as `np.int64`. Even if you convert an array containing such numbers to a list, they will be of this special type. When this list is sent to a function on the other side of the loop, they will remain on your side of the connection, and `copy` or `deepcopy` on the `cortexcontrol`-side can't handle them. You should therefore loop over them and convert them to normal `int`s or `float`s. We will see below that there is a way to do this (semi-) automatically. The following code cell will throw an execption while the next one works."
   ]
  },
  {
   "cell_type": "code",
   "execution_count": null,
   "metadata": {},
   "outputs": [],
   "source": [
    "# - Print type of elements in lNumbers in cortexcontrol-console\n",
    "@teleport\n",
    "def print_element_type(numbers: list):\n",
    "    print(type(numbers[0]))\n",
    "\n",
    "# - Try using (deep-)copy on lNumbers\n",
    "@teleport\n",
    "def print_element_type_copy(numbers: list):\n",
    "    # - List is on correct side\n",
    "    print(type(numbers))\n",
    "    # - ...its elements not necessarily\n",
    "    print(type(numbers[0]))\n",
    "    # - (deep-)copy does not help\n",
    "    numbers = copy.copy(numbers)\n",
    "    # lNumbers = copy.deepcopy(lNumbers)\n",
    "    print(type(numbers[0]))\n",
    "\n",
    "# - Elements in lNumbers are not normal integers\n",
    "numbers = list(np.random.randint(10, size=5))\n",
    "print(type(numbers[0]))\n",
    "\n",
    "print_element_type(numbers)  # - Will print type of first element in lNumbers in cortexcontrol-console.\n",
    "                              #   Not that it is a netref.\n",
    "print_element_type_copy(numbers)  # - Will throw an exception"
   ]
  },
  {
   "cell_type": "code",
   "execution_count": null,
   "metadata": {},
   "outputs": [],
   "source": [
    "# - Convert elements to normal integers\n",
    "numbers = [int(n) for n in numbers]\n",
    "print_element_type(numbers)  # - Will print type of new elements in cortexcontrol-console"
   ]
  },
  {
   "cell_type": "markdown",
   "metadata": {},
   "source": [
    "<b>In summary, there are three rules that you should always respect:</b>\n",
    "1. Do not use non-built-in types on the cortexcontrol side of the connection.\n",
    "2. Avoid loops containing objects on the other side of the connection.\n",
    "3. Copy data to the corresponding side before processing them. Be careful with nested types.\n",
    "\n",
    "In the following we will see a few tools that help complying with these rules."
   ]
  },
  {
   "cell_type": "markdown",
   "metadata": {},
   "source": [
    "### Defining objects and functions on cortexcontrol-side\n",
    "\n",
    "    \n",
    "* Difference between where object lives and where it is defined.\n",
    "* How to include objects, modules and functions in cortexcontrol-namespace\n",
    "\n",
    "* Define functions on cortexcontrol-side (teleport_function, remote_function)\n",
    "\n",
    "* Make sure objects (function arguments) are only built-in types\n",
    "* Make sure objects (function arguments) live on correct side of connection\n"
   ]
  }
 ],
 "metadata": {
  "celltoolbar": "Raw Cell Format",
  "kernelspec": {
   "display_name": "Python [default]",
   "language": "python",
   "name": "python3"
  },
  "language_info": {
   "codemirror_mode": {
    "name": "ipython",
    "version": 3
   },
   "file_extension": ".py",
   "mimetype": "text/x-python",
   "name": "python",
   "nbconvert_exporter": "python",
   "pygments_lexer": "ipython3",
   "version": "3.6.7"
  },
  "toc": {
   "base_numbering": 1,
   "nav_menu": {},
   "number_sections": false,
   "sideBar": true,
   "skip_h1_title": false,
   "title_cell": "Table of Contents",
   "title_sidebar": "Contents",
   "toc_cell": false,
   "toc_position": {
    "height": "calc(100% - 180px)",
    "left": "10px",
    "top": "150px",
    "width": "430px"
   },
   "toc_section_display": true,
   "toc_window_display": false
  },
  "varInspector": {
   "cols": {
    "lenName": 16,
    "lenType": 16,
    "lenVar": 40
   },
   "kernels_config": {
    "python": {
     "delete_cmd_postfix": "",
     "delete_cmd_prefix": "del ",
     "library": "var_list.py",
     "varRefreshCmd": "print(var_dic_list())"
    },
    "r": {
     "delete_cmd_postfix": ") ",
     "delete_cmd_prefix": "rm(",
     "library": "var_list.r",
     "varRefreshCmd": "cat(var_dic_list()) "
    }
   },
   "types_to_exclude": [
    "module",
    "function",
    "builtin_function_or_method",
    "instance",
    "_Feature"
   ],
   "window_display": false
  }
 },
 "nbformat": 4,
 "nbformat_minor": 2
}
