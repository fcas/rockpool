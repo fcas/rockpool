{
 "cells": [
  {
   "cell_type": "markdown",
   "metadata": {},
   "source": [
    "<div class=\"report-header\"><div class=\"aictx-logo\"></div>\n",
    "<span class=\"report-type\">Tutorial</span><br />\n",
    "<span class=\"report-author\">Author: Felix Bauer</span><br />\n",
    "<span class=\"report-date\">28th May, 2019</span>\n",
    "</div><h1>Tutorial:</h1><h1>Reservoir on DynapSE</h1>"
   ]
  },
  {
   "cell_type": "code",
   "execution_count": 1,
   "metadata": {},
   "outputs": [
    {
     "data": {
      "text/html": [
       "<link href='http://fonts.googleapis.com/css?family=Fenix' rel='stylesheet' type='text/css'>\n",
       "<link href=\"https://fonts.googleapis.com/css?family=PT+Serif\" rel=\"stylesheet\" type='text/css'>\n",
       "<link href='http://fonts.googleapis.com/css?family=Source+Code+Pro:300,400' rel='stylesheet' type='text/css'>\n",
       "<link href=\"https://fonts.googleapis.com/css?family=Montserrat:700\" rel=\"stylesheet\" type='text/css'>\n",
       "<style>\n",
       "\t.aictx-logo {\n",
       "\t\tfloat: left;\n",
       "\t}\n",
       "\t\n",
       "\t.aictx-logo:before {\n",
       "\t\tcontent: url(data:image/png;base64,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);\n",
       "\t}\n",
       "\t\n",
       "\t@font-face {\n",
       "\tfont-family: \"PT Serif\", serif;\n",
       "\t}\n",
       "\t\n",
       "\tdiv.cell {\n",
       "\t\twidth: 800px;\n",
       "\t\tmargin-left: auto !important;\n",
       "\t\tmargin-right: auto;\n",
       "\t\tfont-size: 12pt;\n",
       "\t}\n",
       "\t\n",
       "\th1, h2, h3, h4, h5 {\n",
       "\t\tmargin: 0px !important;\n",
       "\t\tpadding: 0px !important;\n",
       "\t}\n",
       "\t\n",
       "\th1 {\n",
       "\t\tfont-family: 'Montserrat', sans-serif;\n",
       "\t}\n",
       "\t\n",
       "\th2 {\n",
       "\t\tfont-family: 'Fenix', serif;\n",
       "\t\tfont-size: 24pt !important;\n",
       "\t\tborder-top: 8px solid #eee;\n",
       "\t\tpadding-top: 8px !important;\n",
       "\t}\n",
       "\t\n",
       "\th3 {\n",
       "\t\tfont-family: 'Fenix', serif;\n",
       "\t}\n",
       "\t\n",
       "\th4 {\n",
       "\t\tfont-family: 'Fenix', serif;\n",
       "\t}\n",
       "\t\n",
       "\th5 {\n",
       "\t\tfont-family: 'Fenix', serif;\n",
       "\t}\n",
       "\t\n",
       "\tdiv.text_cell_render {\n",
       "\t\tfont-family: 'PT Serif', serif;\n",
       "\t\tline-height: 140%;\n",
       "\t\tfont-size: 100%;\n",
       "\t\twidth: 600px;\n",
       "\t\tmargin-left: auto;\n",
       "\t\tmargin-right: auto;\n",
       "\t}\n",
       "\t\n",
       "\t.CodeMirror {\n",
       "\t\tfont-family: \"Source Code Pro\";\n",
       "\t\tfont-size: 90%;\n",
       "\t}\n",
       "\t/*    .prompt{\n",
       "\t        display: None;\n",
       "\t    }*/\n",
       "\t\n",
       "\t.text_cell_render h1 {\n",
       "\t\tfont-weight: 200;\n",
       "\t\tfont-size: 38pt;\n",
       "\t\tline-height: 100%;\n",
       "\t\tcolor: #00a4d9;\n",
       "\t\tmargin-bottom: 0em;\n",
       "\t\tmargin-top: 0em;\n",
       "\t\tdisplay: block;\n",
       "\t\ttext-align: left !important;\n",
       "\t}\n",
       "\t\n",
       "\t.warning {\n",
       "\t\tcolor: rgb( 240, 20, 20 )\n",
       "\t}\n",
       "\t\n",
       "\t.report-header {\n",
       "\t\tborder-top: 8px solid #eee;\n",
       "\t\tpadding-top: 8px;\n",
       "\t\ttext-align: right;\n",
       "\t\tline-height: 100%;\n",
       "\t}\n",
       "\t\n",
       "\t.report-type {\n",
       "\t\tfont-size: 80%;\n",
       "\t\tfont-weight: bold;\n",
       "\t}\n",
       "\t\n",
       "\t.report-author {\n",
       "\t\tfont-size: 80%;\n",
       "\t}\n",
       "\t\n",
       "\t.report-date {\n",
       "\t\tfont-size: 80%;\n",
       "\t\tfont-style: italic;\n",
       "\t}\n",
       "\t\n",
       "\t.well {\n",
       "\t\topacity: 0.5;\n",
       "\t}\n",
       "\t\n",
       "\thr {\n",
       "\t\tborder-width: 6pt;\n",
       "\t}\n",
       "\t\n",
       "</style>"
      ],
      "text/plain": [
       "<IPython.core.display.HTML object>"
      ]
     },
     "execution_count": 1,
     "metadata": {},
     "output_type": "execute_result"
    }
   ],
   "source": [
    "# - Initialisation code to include custom report styles\n",
    "from IPython.core.display import HTML\n",
    "def css_styling():\n",
    "    styles = open(\"aictx-report.css\", \"r\").read()\n",
    "    return HTML(styles)\n",
    "css_styling()"
   ]
  },
  {
   "cell_type": "markdown",
   "metadata": {},
   "source": [
    "In this tutorial we will implement a reservoir network on the DynapSE which can be used to detect a specific pattern in the input signal.\n",
    "\n",
    "<br>\n",
    "\n",
    "## Task: Detect missing pulse\n",
    "\n",
    "Our input consists of a sequence of equidistant pulses of some fixed width. However, every fourth pulse is omitted. The input can therefore be divided into periods consisting of three pulses and one longer gap each. \n",
    "\n",
    "In a slight modification of this, also the second pulse within a period is omitted. The task of the reservoir will be to detect this modification.\n",
    "\n",
    "This task is inspired by the detection of anomalies in an ECG signal, which may consist of a missing peak. It is complex because the reservoir dynamics need to cover different time scales. On the one hand the pulses need to be detected. On the other hand, for each longer gap between pulses the reservoir needs to contain information whether this is after the third pulse within a period or after the first one, where there should be no gap. Therefore memory needs to last over a significant part of the input period, which is on a longer time scale than the individual pulses.\n",
    "\n",
    "<br>\n",
    "\n",
    "### Input to reservoir\n",
    "\n",
    "To generate the input signal we can use the `SignalGen` class:"
   ]
  },
  {
   "cell_type": "code",
   "execution_count": 2,
   "metadata": {},
   "outputs": [
    {
     "data": {
      "text/plain": [
       "[<matplotlib.lines.Line2D at 0x7f30f2fc5860>]"
      ]
     },
     "execution_count": 2,
     "metadata": {},
     "output_type": "execute_result"
    },
    {
     "data": {
      "image/png": "[encoded data removed]",
      "text/plain": [
       "<Figure size 432x288 with 1 Axes>"
      ]
     },
     "metadata": {
      "needs_background": "light"
     },
     "output_type": "display_data"
    }
   ],
   "source": [
    "%load_ext autoreload\n",
    "%autoreload 1\n",
    "%matplotlib inline  \n",
    "\n",
    "import matplotlib\n",
    "from matplotlib import pyplot as plt\n",
    "%aimport tutorial\n",
    "import numpy as np\n",
    "\n",
    "signal_gen = tutorial.SignalGen(\n",
    "    width_pulse=25,\n",
    "    period=200,\n",
    "    p_abnormal=0.2,\n",
    ")\n",
    "\n",
    "signal_training, tgt_training = signal_gen(100)\n",
    "signal_test, tgt_test = signal_gen(20)\n",
    "\n",
    "\n",
    "plt.plot(signal_test)\n",
    "plt.plot(tgt_test)"
   ]
  },
  {
   "cell_type": "code",
   "execution_count": 3,
   "metadata": {},
   "outputs": [
    {
     "data": {
      "text/plain": [
       "[<matplotlib.lines.Line2D at 0x7f30f2f9aa58>]"
      ]
     },
     "execution_count": 3,
     "metadata": {},
     "output_type": "execute_result"
    },
    {
     "data": {
      "image/png": "[encoded data removed]",
      "text/plain": [
       "<Figure size 432x288 with 1 Axes>"
      ]
     },
     "metadata": {
      "needs_background": "light"
     },
     "output_type": "display_data"
    }
   ],
   "source": [
    "plt.plot(signal_test[400:1400])\n",
    "plt.plot(tgt_test[400:1400])"
   ]
  },
  {
   "cell_type": "markdown",
   "metadata": {},
   "source": [
    "### Encoding in spikes\n",
    "We will use a delta-algorithm that emits spikes on channel 0 when the signal increases and on channel 1 when it decreases. For the type of signal we will be using, the function `signal_to_spikes` will do the job:"
   ]
  },
  {
   "cell_type": "code",
   "execution_count": 4,
   "metadata": {},
   "outputs": [
    {
     "data": {
      "text/plain": [
       "<matplotlib.collections.PathCollection at 0x7f30f2ece6d8>"
      ]
     },
     "execution_count": 4,
     "metadata": {},
     "output_type": "execute_result"
    },
    {
     "data": {
      "image/png": "[encoded data removed]",
      "text/plain": [
       "<Figure size 432x288 with 1 Axes>"
      ]
     },
     "metadata": {
      "needs_background": "light"
     },
     "output_type": "display_data"
    }
   ],
   "source": [
    "times_training, channels_training = tutorial.signal_to_spikes(\n",
    "    signal_training, spikes_per_edge=10, ts_per_spike=1, dt=0.001\n",
    ")\n",
    "times_test, channels_test = tutorial.signal_to_spikes(\n",
    "    signal_test, spikes_per_edge=10, ts_per_spike=1, dt=0.001\n",
    ")\n",
    "\n",
    "plt.scatter(times_training[:200], channels_training[:200])"
   ]
  },
  {
   "cell_type": "markdown",
   "metadata": {},
   "source": [
    "## Network\n",
    "\n",
    "### Architecture\n",
    "We will split our reservoir into three neuron populations:\n",
    "- Input, 64 neurons, to increase dimensionality of signal\n",
    "- Recurrent exciratory, 256 neurons\n",
    "- Inhibitory, 64 neurons\n",
    "Each population will be implemented on a different core, so that we can tune biases individually. \n",
    "\n",
    "To implement this network on the chip and later also to send data and record activities, we will use the `DynapseControl` class, which provides a few useful methods and automatically connects to cortexcontrol. For more detailled information about connecting to cortexcontrol, see the `DynapseControl-ctx.ipynb` notebook.\n",
    "\n",
    "Make sure you have cortexcontrol running with an open RPyC connection."
   ]
  },
  {
   "cell_type": "markdown",
   "metadata": {},
   "source": [
    "### Biases\n",
    "The reservoir needs long memory but also should detect quick changes in the signal. This suggests a broad distribution of synaptic and neural time constants in the recurrent population. For the input we can have shorter time constants.\n",
    "The file `biases.py` contains a set of biases that match these requirements. In general these biases should work independently of the individual chip but some fine tuning may be required."
   ]
  },
  {
   "cell_type": "code",
   "execution_count": 5,
   "metadata": {
    "scrolled": true
   },
   "outputs": [
    {
     "name": "stdout",
     "output_type": "stream",
     "text": [
      "dynapse_control: RPyC connection established through port 1300.\n",
      "dynapse_control: RPyC namespace complete.\n",
      "dynapse_control: Chips 0 have been cleared.\n",
      "dynapse_control: RPyC connection has been setup successfully.\n",
      "DynapseControl: Initializing DynapSE\n",
      "DynapseControl: Spike generator module ready.\n",
      "DynapseControl: Time constants of cores range(0, 16) have been reset.\n",
      "DynapseControl: Neurons initialized.\n",
      "\t 1023 hardware neurons and 1023 virtual neurons available.\n",
      "DynapseControl: Neuron connector initialized\n",
      "DynapseControl: Connections to cores range(0, 3) have been cleared.\n",
      "DynapseControl: FPGA spike generator prepared.\n",
      "DynapseControl ready.\n",
      "DynapseControl: Biases have been loaded from biases.py.\n",
      "DynapseControl: Collecting IDs of neurons that spike within the next 5 seconds\n",
      "DynapseControl: Generated new buffered event filter.\n",
      "DynapseControl: 6 neurons spiked: [52, 70, 101, 132, 167, 567]\n",
      "DynapseControl: Neurons [52, 70, 101, 132, 167, 567] will be silenced\n",
      "DynapseControl: 6 neurons have been silenced.\n"
     ]
    },
    {
     "data": {
      "text/plain": [
       "[52, 70, 101, 132, 167, 567]"
      ]
     },
     "execution_count": 5,
     "metadata": {},
     "output_type": "execute_result"
    }
   ],
   "source": [
    "from dynapse_control import DynapseControl, rectangular_neuron_arrangement\n",
    "\n",
    "# - Parameters\n",
    "# Neuron population sized\n",
    "size_in = 64\n",
    "size_rec = 256\n",
    "size_inhib = 64\n",
    "size_total = size_in + size_rec + size_inhib\n",
    "\n",
    "# Arrangement of neurons on chip\n",
    "firstid_in = 52\n",
    "firstid_rec = 256\n",
    "firstid_inhib = 529\n",
    "width_in = 8\n",
    "width_rec = 16\n",
    "width_inhib = 8\n",
    "# - IDs of neurons to be used\n",
    "ids_in = rectangular_neuron_arrangement(firstid_in, size_in, width_in)\n",
    "ids_rec = rectangular_neuron_arrangement(\n",
    "    firstid_rec, size_rec, width_rec\n",
    ")\n",
    "ids_inhib = rectangular_neuron_arrangement(\n",
    "    firstid_inhib, size_inhib, width_inhib\n",
    ")\n",
    "ids_all = np.array(ids_in + ids_rec + ids_inhib)\n",
    "\n",
    "# Virtual neurons: one for each input channel (do not use neuron 0)\n",
    "ids_virtual = np.array([1, 2])\n",
    "\n",
    "# DynapseControl object (clear first 3 cores)\n",
    "dc = DynapseControl(clearcores_list = range(3))\n",
    "# Load biases and silence neurons that are still firing\n",
    "dc.load_biases('biases.py')\n",
    "dc.silence_hot_neurons(ids_all, 5)"
   ]
  },
  {
   "cell_type": "markdown",
   "metadata": {},
   "source": [
    "If you need to tune biases manually, `DynapseControl` provides a few useful methods, such as `measure_firing_rates`, `monitor_firing_rates` and `sweep_freq_measure_rate`.\n",
    "\n",
    "<br>\n",
    "\n",
    "### Connections\n",
    "\n",
    "For setting synaptic connections we need to keep in mind that for each neuron fan in is limited to 64. \n",
    "\n",
    "<br>\n",
    "\n",
    "#### External (virutal) to input neurons\n",
    "Each input neuron will have a randomly chosen, even number of input connecitons between 2 and 64. Half of those connect to input channel 0 the other half to input channel 1, with opposite sign. Signs are chosen randomly. Note that for setting connections with virtual presynaptic neurons, we can use the same method as for hardware neurons. We just need to set the `virtual_pre` argument to `True`:"
   ]
  },
  {
   "cell_type": "code",
   "execution_count": 6,
   "metadata": {},
   "outputs": [
    {
     "name": "stdout",
     "output_type": "stream",
     "text": [
      "DynapseControl: Excitatory connections of type `FAST_EXC` between virtual and hardware neurons have been set.\n",
      "DynapseControl: Inhibitory connections of type `FAST_INH` between virtual and hardware neurons have been set.\n"
     ]
    }
   ],
   "source": [
    "# - Generate input weight matrix\n",
    "nums_connections = np.random.randint(1, 33, size=(1, size_in))\n",
    "# Randomly flip sign\n",
    "weights_0 = nums_connections * np.random.choice(\n",
    "    (-1, 1), size=size_in\n",
    ")\n",
    "weights_in = np.zeros((2, size_in))\n",
    "weights_in[0, :] = weights_0\n",
    "weights_in[1, :] = -1 * weights_0  # Flip sign for channel 1\n",
    "\n",
    "# Set connections in cortexcontrol\n",
    "dc.set_connections_from_weights(\n",
    "    weights=weights_in,\n",
    "    neuron_ids=ids_virtual,\n",
    "    neuron_ids_post=ids_in,\n",
    "    syn_exc=dc.syn_exc_fast,\n",
    "    syn_inh=dc.syn_inh_fast,\n",
    "    virtual_pre=True,\n",
    "    apply_diff=False,\n",
    ")"
   ]
  },
  {
   "cell_type": "markdown",
   "metadata": {},
   "source": [
    "#### Connections to recurrent\n",
    "Each neuron of the recurrent population receives input from 16 randomly chosen input neurons, 16 inhibitory neurons and 32 other excitatory neurons.\n",
    "\n",
    "<br>\n",
    "\n",
    "#### Connections to inhibitory\n",
    "Each inhibitory neuron has presynaptic connections to 64 randomly chosen excitatory neurons.\n",
    "\n",
    "For more flexibility in tuning parameters, the connections from input to recurrent groups have a different synapse type than the rest.\n",
    "\n",
    "<br>\n",
    "\n",
    "Note the following details\n",
    "* We use the same method as with the virtual neurons above. We just don't set `virtual_pre` to `True`, to connect between two populations of hardware neurons.\n",
    "* In some lines we use the `add_connections_from_weights` method instead of `set_...`. This way we do not overwrite existing connections to the postsynaptic neurons. _We could have also use_ `add_...` _right from the beginning, since there were no previous connections that we would have needed to overwrite._\n",
    "* When we set the recurrent connections, we omit the `neuron_ids_post` argument. This means, that the presynaptic neuron population is the same as the postsynaptic (i.e. we get generate connections).\n",
    "* In the last call of the method, `apply_diff` is `True`. This means that the changes are actually applied to the hardware. It is more efficient to set this parameter to `True` only at the end, when the changes should take effect, and not during each call of the `add_connections...` method.\n",
    "\n"
   ]
  },
  {
   "cell_type": "code",
   "execution_count": 7,
   "metadata": {},
   "outputs": [
    {
     "name": "stdout",
     "output_type": "stream",
     "text": [
      "DynapseControl: Excitatory connections of type `FAST_EXC` between hardware neurons have been set.\n",
      "DynapseControl: Inhibitory connections of type `FAST_INH` between hardware neurons have been set.\n",
      "DynapseControl: Excitatory connections of type `SLOW_EXC` between hardware neurons have been set.\n",
      "DynapseControl: Inhibitory connections of type `FAST_INH` between hardware neurons have been set.\n",
      "DynapseControl: Excitatory connections of type `SLOW_EXC` between hardware neurons have been set.\n",
      "DynapseControl: Inhibitory connections of type `FAST_INH` between hardware neurons have been set.\n",
      "DynapseControl: Excitatory connections of type `SLOW_EXC` between hardware neurons have been set.\n",
      "DynapseControl: Inhibitory connections of type `FAST_INH` between hardware neurons have been set.\n",
      "DynapseControl: Connections have been written to the chip.\n"
     ]
    }
   ],
   "source": [
    "# - Weight matrix from input to recurrent\n",
    "weights_in_rec = np.zeros((size_in, size_rec))\n",
    "for col in weights_in_rec.T:\n",
    "    input_choice = np.random.choice(size_in, size=16, replace=True)\n",
    "    for row in input_choice:\n",
    "        col[row] += 1\n",
    "\n",
    "# - Weight matrix recurrent\n",
    "weights_rec = np.zeros((size_rec, size_rec))\n",
    "for col in weights_rec.T:\n",
    "    input_choice = np.random.choice(size_rec, size=32, replace=True)\n",
    "    for row in input_choice:\n",
    "        col[row] += 1\n",
    "\n",
    "# - Weight matrix recurrent to inhibitory\n",
    "weights_rec_inhib = np.zeros((size_rec, size_inhib))\n",
    "for col in weights_rec_inhib.T:\n",
    "    input_choice = np.random.choice(size_rec, size=64, replace=True)\n",
    "    for row in input_choice:\n",
    "        col[row] += 1\n",
    "\n",
    "# - Weight matrix inhibitory to recurrent\n",
    "weights_inhib_rec = np.zeros((size_inhib, size_rec))\n",
    "for col in weights_inhib_rec.T:\n",
    "    input_choice = np.random.choice(size_inhib, size=16, replace=True)\n",
    "    for row in input_choice:\n",
    "        col[row] -= 1\n",
    "\n",
    "\n",
    "# - Set connections in cortexcontrol\n",
    "# From input neurons to excitatory neurons\n",
    "dc.set_connections_from_weights(\n",
    "    weights=weights_in_rec,\n",
    "    neuron_ids=ids_in,\n",
    "    neuron_ids_post=ids_rec,\n",
    "    syn_exc=dc.syn_exc_fast,\n",
    "    syn_inh=dc.syn_inh_fast,\n",
    "    apply_diff=False,\n",
    ")\n",
    "\n",
    "# From excitatory neurons to excitatory neurons\n",
    "dc.add_connections_from_weights(\n",
    "    weights=weights_rec,\n",
    "    neuron_ids=ids_rec,\n",
    "    syn_exc=dc.syn_exc_slow,\n",
    "    syn_inh=dc.syn_inh_fast,\n",
    "    apply_diff=False,\n",
    ")\n",
    "\n",
    "# From excitatory neurons to inhibitory neurons\n",
    "dc.set_connections_from_weights(\n",
    "    weights=weights_rec_inhib,\n",
    "    neuron_ids=ids_rec,\n",
    "    neuron_ids_post=ids_inhib,\n",
    "    syn_exc=dc.syn_exc_slow,\n",
    "    syn_inh=dc.syn_inh_fast,\n",
    "    apply_diff=False,\n",
    ")\n",
    "\n",
    "# From inhibitory neurons to excitatory neurons\n",
    "dc.add_connections_from_weights(\n",
    "    weights=weights_inhib_rec,\n",
    "    neuron_ids=ids_inhib,\n",
    "    neuron_ids_post=ids_rec,\n",
    "    syn_exc=dc.syn_exc_slow,\n",
    "    syn_inh=dc.syn_inh_fast,\n",
    "    apply_diff=True,\n",
    ")\n"
   ]
  },
  {
   "cell_type": "markdown",
   "metadata": {},
   "source": [
    "## Sending and recording data\n",
    "\n",
    "To obtain data for training and testing a readout layer, you can use the `send_arrays` method of the `DynapseControl` class. It allows sending an input and recording the neuron activities at the same time.\n",
    "Here, the `neuron_ids` are the IDs of the neurons that will appear as the origin of the events we are sending to the chip. We will set them to the virtual neurons. An event at channel `n` will then correspond to the `n`-th virtual neuron. The arguments `targetchip_id` and `targetcore_mask` determine, which chip and which cores receive the events.\n",
    "\n",
    "Note: You can only send 2&ast;&ast;16-1 input spikes to the chip at once. Our training and test data are sufficiently small. In other cases it may be necessary to split the data into batches.\n",
    "\n",
    "By the way, if you only want to record activities, without sending data, use the `record` function."
   ]
  },
  {
   "cell_type": "code",
   "execution_count": 8,
   "metadata": {},
   "outputs": [
    {
     "name": "stdout",
     "output_type": "stream",
     "text": [
      "DynapseControl: Generating FPGA event list from arrays.\n",
      "DynapseControl: Stimulus prepared from arrays.\n",
      "DynapseControl: Stimulus preloaded.\n",
      "DynapseControl: Updated existing buffered event filter.\n",
      "DynapseControl: Starting stimulation for 20.434 s.\n",
      "DynapseControl: Stimulation ended.\n",
      "\tRecorded 1576138 event(s) and 1 trigger event(s)\n",
      "\t\t Using trigger event 0\n",
      "DynapseControl: Extracted event data\n"
     ]
    }
   ],
   "source": [
    "# - Training data\n",
    "times_training_out, channels_training_out = dc.send_arrays(\n",
    "    channels=channels_training,\n",
    "    times=times_training,\n",
    "    neuron_ids=ids_virtual,  # IDs of neurons that appear as sender of the events.\n",
    "    t_record=times_training[-1] + 0.5, # Record until 0.5s after end of training data\n",
    "                                       # to capture subsequent activity\n",
    "    record_neur_ids=ids_all, # IDs of neurons that should be recorded\n",
    "    targetchip_id=0,\n",
    "    targetcore_mask=15,\n",
    "    record=True,\n",
    ")"
   ]
  },
  {
   "cell_type": "code",
   "execution_count": 9,
   "metadata": {},
   "outputs": [
    {
     "name": "stdout",
     "output_type": "stream",
     "text": [
      "DynapseControl: Generating FPGA event list from arrays.\n",
      "DynapseControl: Stimulus prepared from arrays.\n",
      "DynapseControl: Stimulus preloaded.\n",
      "DynapseControl: Updated existing buffered event filter.\n",
      "DynapseControl: Starting stimulation for 4.434 s.\n",
      "DynapseControl: Stimulation ended.\n",
      "\tRecorded 323239 event(s) and 1 trigger event(s)\n",
      "\t\t Using trigger event 0\n",
      "DynapseControl: Extracted event data\n"
     ]
    }
   ],
   "source": [
    "# - Test data\n",
    "times_test_out, channels_test_out = dc.send_arrays(\n",
    "    channels=channels_test,\n",
    "    times=times_test,\n",
    "    neuron_ids=ids_virtual,  # IDs of neurons that appear as sender of the events.\n",
    "    t_record=times_test[-1] + 0.5, # Record until 0.5s after end of test data\n",
    "                                   # to capture subsequent activity\n",
    "    record_neur_ids=ids_all, # IDs of neurons that should be recorded\n",
    "    targetchip_id=0,\n",
    "    targetcore_mask=15,\n",
    "    record=True,\n",
    ")"
   ]
  },
  {
   "cell_type": "markdown",
   "metadata": {},
   "source": [
    "Scatter plot of the recorded data:"
   ]
  },
  {
   "cell_type": "code",
   "execution_count": 10,
   "metadata": {},
   "outputs": [
    {
     "data": {
      "text/plain": [
       "<matplotlib.collections.PathCollection at 0x7f30f2d536a0>"
      ]
     },
     "execution_count": 10,
     "metadata": {},
     "output_type": "execute_result"
    },
    {
     "data": {
      "image/png": "[encoded data removed]",
      "text/plain": [
       "<Figure size 432x288 with 1 Axes>"
      ]
     },
     "metadata": {
      "needs_background": "light"
     },
     "output_type": "display_data"
    }
   ],
   "source": [
    "plt.scatter(times_test_out[:5000], channels_test_out[:5000])"
   ]
  },
  {
   "cell_type": "markdown",
   "metadata": {},
   "source": [
    "## Readout\n",
    "\n",
    "You can now train a linead readout to detect the missing pulses in the signal. For obtaining an analog signal instead of spikes, one could low-pass filter them, for instance. All this can be done independently of the modules shown here and is therefore not part of this tutorial."
   ]
  },
  {
   "cell_type": "code",
   "execution_count": null,
   "metadata": {},
   "outputs": [],
   "source": []
  }
 ],
 "metadata": {
  "kernelspec": {
   "display_name": "Python 3",
   "language": "python",
   "name": "python3"
  },
  "language_info": {
   "codemirror_mode": {
    "name": "ipython",
    "version": 3
   },
   "file_extension": ".py",
   "mimetype": "text/x-python",
   "name": "python",
   "nbconvert_exporter": "python",
   "pygments_lexer": "ipython3",
   "version": "3.6.6"
  }
 },
 "nbformat": 4,
 "nbformat_minor": 2
}
