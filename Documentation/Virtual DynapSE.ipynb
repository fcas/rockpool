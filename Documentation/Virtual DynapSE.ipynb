{
 "cells": [
  {
   "cell_type": "markdown",
   "metadata": {},
   "source": [
    "<div class=\"report-header\"><div class=\"aictx-logo\"></div>\n",
    "<span class=\"report-type\">Documentation</span><br />\n",
    "<span class=\"report-author\">Author: Felix Bauer</span><br />\n",
    "<span class=\"report-date\">26th July, 2019</span>\n",
    "</div><h1>VirtualDynapse:</h1><h1>Simulate DynapSE chips</h1>"
   ]
  },
  {
   "cell_type": "markdown",
   "metadata": {},
   "source": [
    "This document illustrates how to use the `VirtualDynapse` class to simulate a DynapSE neuromorphic processor."
   ]
  },
  {
   "cell_type": "markdown",
   "metadata": {
    "heading_collapsed": true
   },
   "source": [
    "##### Housekeeping and import statements"
   ]
  },
  {
   "cell_type": "code",
   "execution_count": 1,
   "metadata": {
    "hidden": true
   },
   "outputs": [
    {
     "data": {
      "text/html": [
       "<link href='http://fonts.googleapis.com/css?family=Fenix' rel='stylesheet' type='text/css'>\n",
       "<link href=\"https://fonts.googleapis.com/css?family=PT+Serif\" rel=\"stylesheet\" type='text/css'>\n",
       "<link href='http://fonts.googleapis.com/css?family=Source+Code+Pro:300,400' rel='stylesheet' type='text/css'>\n",
       "<link href=\"https://fonts.googleapis.com/css?family=Montserrat:700\" rel=\"stylesheet\" type='text/css'>\n",
       "<style>\n",
       "\t.aictx-logo {\n",
       "\t\tfloat: left;\n",
       "\t}\n",
       "\t\n",
       "\t.aictx-logo:before {\n",
       "\t\tcontent: url(data:image/png;base64,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);\n",
       "\t}\n",
       "\t\n",
       "\t@font-face {\n",
       "\tfont-family: \"PT Serif\", serif;\n",
       "\t}\n",
       "\t\n",
       "\tdiv.cell {\n",
       "\t\twidth: 800px;\n",
       "\t\tmargin-left: auto !important;\n",
       "\t\tmargin-right: auto;\n",
       "\t\tfont-size: 12pt;\n",
       "\t}\n",
       "\t\n",
       "\th1, h2, h3, h4, h5 {\n",
       "\t\tmargin: 0px !important;\n",
       "\t\tpadding: 0px !important;\n",
       "\t}\n",
       "\t\n",
       "\th1 {\n",
       "\t\tfont-family: 'Montserrat', sans-serif;\n",
       "\t}\n",
       "\t\n",
       "\th2 {\n",
       "\t\tfont-family: 'Fenix', serif;\n",
       "\t\tfont-size: 24pt !important;\n",
       "\t\tborder-top: 8px solid #eee;\n",
       "\t\tpadding-top: 8px !important;\n",
       "\t}\n",
       "\t\n",
       "\th3 {\n",
       "\t\tfont-family: 'Fenix', serif;\n",
       "\t}\n",
       "\t\n",
       "\th4 {\n",
       "\t\tfont-family: 'Fenix', serif;\n",
       "\t}\n",
       "\t\n",
       "\th5 {\n",
       "\t\tfont-family: 'Fenix', serif;\n",
       "\t}\n",
       "\t\n",
       "\tdiv.text_cell_render {\n",
       "\t\tfont-family: 'PT Serif', serif;\n",
       "\t\tline-height: 140%;\n",
       "\t\tfont-size: 100%;\n",
       "\t\twidth: 600px;\n",
       "\t\tmargin-left: auto;\n",
       "\t\tmargin-right: auto;\n",
       "\t}\n",
       "\t\n",
       "\t.CodeMirror {\n",
       "\t\tfont-family: \"Source Code Pro\";\n",
       "\t\tfont-size: 90%;\n",
       "\t}\n",
       "\t/*    .prompt{\n",
       "\t        display: None;\n",
       "\t    }*/\n",
       "\t\n",
       "\t.text_cell_render h1 {\n",
       "\t\tfont-weight: 200;\n",
       "\t\tfont-size: 38pt;\n",
       "\t\tline-height: 100%;\n",
       "\t\tcolor: #00a4d9;\n",
       "\t\tmargin-bottom: 0em;\n",
       "\t\tmargin-top: 0em;\n",
       "\t\tdisplay: block;\n",
       "\t\ttext-align: left !important;\n",
       "\t}\n",
       "\t\n",
       "\t.warning {\n",
       "\t\tcolor: rgb( 240, 20, 20 )\n",
       "\t}\n",
       "\t\n",
       "\t.report-header {\n",
       "\t\tborder-top: 8px solid #eee;\n",
       "\t\tpadding-top: 8px;\n",
       "\t\ttext-align: right;\n",
       "\t\tline-height: 100%;\n",
       "\t}\n",
       "\t\n",
       "\t.report-type {\n",
       "\t\tfont-size: 80%;\n",
       "\t\tfont-weight: bold;\n",
       "\t}\n",
       "\t\n",
       "\t.report-author {\n",
       "\t\tfont-size: 80%;\n",
       "\t}\n",
       "\t\n",
       "\t.report-date {\n",
       "\t\tfont-size: 80%;\n",
       "\t\tfont-style: italic;\n",
       "\t}\n",
       "\t\n",
       "\t.well {\n",
       "\t\topacity: 0.5;\n",
       "\t}\n",
       "\t\n",
       "\thr {\n",
       "\t\tborder-width: 6pt;\n",
       "\t}\n",
       "\t\n",
       "</style>"
      ],
      "text/plain": [
       "<IPython.core.display.HTML object>"
      ]
     },
     "execution_count": 1,
     "metadata": {},
     "output_type": "execute_result"
    }
   ],
   "source": [
    "# - Initialisation code to include custom report styles\n",
    "from IPython.core.display import HTML\n",
    "def css_styling():\n",
    "    styles = open(\"aictx-report.css\", \"r\").read()\n",
    "    return HTML(styles)\n",
    "css_styling()"
   ]
  },
  {
   "cell_type": "markdown",
   "metadata": {},
   "source": [
    "The purpose of the `VirtualDynapse` class is to provide and understanding of which operations are possible with neuromorphic chips such as DynapSE and which constraints may apply. It is not to be seen as a detailled simulation of the underlying circuits. Neuronal dynamics are approximated with the *adaptive exponential integrate-and-fire model* (<a href=\"http://www.scholarpedia.org/article/Adaptive_exponential_integrate-and-fire_model\">AEIF</a>) with <a href=\"https://www.nest-simulator.org/\">NEST</a> as simulation backend. Tuneable parameters are indicative of which aspects of neuron dynamics can be modified but do not correspond directly to paramaters used to configure the actual hardware. Not all possible ways of configuring paramters or synaptic connection may be covered. Mismatch is approximated by drawing individual neuron parameters from a Gaussian distribution with the provided value as mean."
   ]
  },
  {
   "cell_type": "markdown",
   "metadata": {},
   "source": [
    "## Hardware\n",
    "\n",
    "This chapter gives a brief overview over the neuromorphic hardware that this class simulates.\n",
    "\n",
    "<br> \n",
    "\n",
    "### Neuron model\n",
    "The dynamics of the neurons on a Dynap-SE processor can be approximately described by the adaptive exponential integrate-and-fire model (<a href=\"http://www.scholarpedia.org/article/Adaptive_exponential_integrate-and-fire_model\">AEIF</a>), with spike-triggered adaptation. The resting potential ($E_L$ in the link) is implicitly 0.\n",
    "\n",
    "<br> \n",
    "\n",
    "### Hierarchy\n",
    "Dynap-SE chips consist of multiple cores, each with a certain number of neurons (e.g. Dynap-SE 1: 4 cores pre chip, 256 neurons per core). Multiple chips can be used together (e.g. Dynap-SE 1 development kit: 4 chips) to implement larger networks. **Neuron parameters are set on a per-core basis,** meaning that all neurons in one core share the same set of parameters. In practice, (mismatch)[#mismatch] ensures that there is still variability in neuron dynamics, even within a core.\n",
    "\n",
    "<br> \n",
    "\n",
    "### Connectivity\n",
    "For each neuron the number of presynaptic neurons from which it can receive events as well as the number of chips to which a neuron's spikes can be routed are limited. Standard values are guided by the specifications of Dynap-SE 1. For other models these constraints may look different. Furthermore some of the constraints may be circumvented by techniques such as virtual core IDs (see `DynapseControl` documentation for more details), which are not simulated in this class, and connection aliasing.\n",
    "\n",
    "<br> \n",
    "\n",
    "#### Connection aliasing\n",
    "A postsynaptic neuron cannot distinguish between events from neurons that are from different chips but have the same ID within their respective chip. This also includes external input channels to the neuron. If events from such neurons are routed to the core of the postsynaptic neuron, it will respond to all of them, even if it should only be connected to one.\n",
    "\n",
    "In practice this means, that situations should be avoided where two neurons on the same core have presynaptic connections to neurons that are on different chips but have same IDs within their chips. The `VirtualDynapse` class will warn or raise an exception in such cases.\n",
    "\n",
    "However, connection aliasing can also be used to increase the fan-in of a neuron, in particular in conjunction with virtual core IDs.\n",
    "\n",
    "<br> \n",
    "\n",
    "### <a name=\"mismatch\"></a>Mismatch\n",
    "Due to the analog nature of the silicon neurons and their device mismatch, temporal and functional characteristics vary between individual neurons and synapses. This intrinsic inhomogeneity is usually exploited to introduce variability in neuron parameters and enhance signal dimensionality. The `VirtualDynapse` class can include mismatch in its simulations."
   ]
  },
  {
   "cell_type": "markdown",
   "metadata": {},
   "source": [
    "## Using the class\n",
    "\n",
    "<br> \n",
    "\n",
    "### Setup\n",
    "\n",
    "The class can be imported from the `rockpool` package:\n",
    "\n"
   ]
  },
  {
   "cell_type": "code",
   "execution_count": 3,
   "metadata": {},
   "outputs": [],
   "source": [
    "# - Import VirtualDynapse class\n",
    "from rockpool.layers import VirtualDynapse"
   ]
  },
  {
   "cell_type": "markdown",
   "metadata": {},
   "source": [
    "There may be warnings that some packages could not be loaded. In most cases those packages are not required and the warnings may be ignored."
   ]
  },
  {
   "cell_type": "markdown",
   "metadata": {},
   "source": [
    "#### Hardware parameters\n",
    "\n",
    "Parameters that are inherent to the simulated hardware can be set in a separate `params.py` module. Default values correspond to the DynapSE 1.\n",
    "\n",
    "| Parameter | Type | Meaning | Default|\n",
    "|-----------|------|---------|--------|\n",
    "| `CORE_DIMENSIONS` | `Tuple[int, int]` | Number of neurons per row and per column in a single core. | `(16, 16)` |\n",
    "| `NUM_CORES_CHIP` | `int` | Number of cores per chip. | `4` |\n",
    "| `NUM_CHIPS` | `int` | Number chips being used. | `4` |\n",
    "| `NUM_CAMS_NEURON` | `int` | Number of CAM cells per neuron. Corresponds to fan-in of a neuron. | `64` |\n",
    "| `NUM_SRAMS_NEURON` | `int` | Number of SRAM cells per neuron. Corresponds to number of postsynaptic cores of a neuron. | `3` |\n",
    "| `BIT_RESOLUTION_WEIGHTS` | `int` | Resolution of weights in bits. `n` bits correspond to weights from `0` to `2**n - 1`. | `1` |\n",
    "| `STDDEV_MISMATCH` | `float` | Standard deviation of Gaussian distribution for mismatched parameters (relative to mean). | `0.2` |\n",
    "\n",
    "Note that of the four SRAM cells of a neuron on Dynap-SE 1, one is used to monitor the firing activity, which leaves three for routing events to different chips. If this is not needed, the value for `NUM_SRAMS_NEURON` can be increased to 4. \n",
    "\n",
    "From these parameters a few values are derived that are widely used by the `VirtualDynapse` class:\n",
    "\n",
    "| Parameter | Type | Meaning | Default|\n",
    "|-----------|------|---------|--------|\n",
    "| `num_neurons_chip` | `int` | Number of neurons per chip. | `1024` |\n",
    "| `num_neurons` | `int` | Total number of available neuorns. | `4096` |\n",
    "| `num_cores` | `int` | Total number of available cores. | `16` |\n",
    "| `weight_resolution` | `int` | Maximum weight for synaptic connections. | `1` |"
   ]
  },
  {
   "cell_type": "markdown",
   "metadata": {},
   "source": [
    "#### Instantiation\n",
    "\n",
    "Many arguments can be passed to the `VirtualDynapse` constructor (see below) but it is also possible to create an instance without any arguments . This way it is instantiated with standard parameters and without any synaptic connections. Parameters and connections can then be modified later on. Only the simulation time step `dt` can not be changed (default: 0.1 ms)."
   ]
  },
  {
   "cell_type": "code",
   "execution_count": 4,
   "metadata": {},
   "outputs": [
    {
     "name": "stdout",
     "output_type": "stream",
     "text": [
      "VirtualDynapse 'unnamed':  Ready.\n"
     ]
    }
   ],
   "source": [
    "# - Create VirtualDynapse instance\n",
    "vd = VirtualDynapse()"
   ]
  },
  {
   "cell_type": "markdown",
   "metadata": {},
   "source": [
    "##### Arguments\n",
    "\n",
    "The following optional arguments can be passed during object instantiation:\n",
    "\n",
    "| Argument | Type | Default | Meaning |\n",
    "|----------|------|---------|---------|\n",
    "| `dt` | `float` | `1e-4` | Simulation time step |\n",
    "| `connections_ext` | 2D-`ndarray`| `None` | Connections to external inputs. |\n",
    "| `connections_rec` | 2D-`ndarray` | `None` | Connections between neurons. |\n",
    "| `tau_mem_1` | `float` or list-like | `0.02` | Membrane time constant 1 for each core (in seconds). |\n",
    "| `tau_mem_2` | `float` or list-like | `0.02` | Membrane time constant 2 for each core (in seconds). |\n",
    "| `has_tau_mem_2` | `bool` or list-like | `False` | Individual neurons have membrane time constant 2.  |\n",
    "| `tau_syn_exc` | `float` or list-like | `0.05` | Time constant of excitatory synapses on each core (in seconds). |\n",
    "| `tau_syn_inh` | `float` or list-like | `0.05` | Time constant of inhibitory synapses on each core (in seconds). |\n",
    "| `baseweight_e` | `float` or list-like | `0.01` | Base weight for excitatory synapses on each core. |\n",
    "| `baseweight_i` | `float` or list-like | `0.01` | Base weight for inhibitory synapses on each core. |\n",
    "| `bias` | `float` or list-like | `0.0` | Constant current input on each core. |\n",
    "| `refractory` | `float` or list-like | `0.001` | Refractory period for each core (in seconds). |\n",
    "| `v_thresh` | `float` or list-like | `0.01` | Spiking threshold for each core. |\n",
    "| `spike_adapt` | `float` or list-like | `0.0` | Scaling for spiking triggered adaptation. |\n",
    "| `delta_t` | `float` or list-like | `0.002` | Scaling for exponential part of activation function. |\n",
    "| `name` | `str` | `\"unnamed\"` | Layer name. |\n",
    "| `num_threads` | `int`| `1` | Number of available CPU cores for multiprocessing. |\n",
    "| `mismatch` | `bool` or 2D-`ndarray`| `True` | Enable or disable mismatch or pass explicit mismatch factors. |\n",
    "| `record` | `bool` | `False` | Record membrane potentials during state evolution. |\n",
    "\n",
    "Most parameters can be set for each core. In these cases it is possible to provide either a single value that is applied to all, or a list-like of length `num_neurons_core` with individual values for each core. Parameters that are not set core-wise are the connections between neurons, `has_tau_mem_2` (neuron-wise) as well as class settings like the simulation time step `dt` and `num_threads`.\n",
    "\n",
    "* The simulation time step `dt` cannot be changed after instantiation.\n",
    "* The number of connections from external inputs to each neuron are defined in a 2D-`np.ndarray` `connections_ext`. Its size can be at most `num_neurons_chip` x `num_neurons`. Smaller arrays will be zero-padded. If `None` is passed (default), no connections will be set.\n",
    "* The number of connections from between each pair of neurons are defined in a 2D-`np.ndarray` `connections_rec`. Its seize can be at most `num_neurons` x `num_neurons`. Smaller arrays will be zero-padded. If `None` is passed (default), no connections will be set.\n",
    "* For each core two membrane time constants can be set with `tau_mem_1` and `tau_mem_2`. Each individual neuron can be assigned either the first or second time constant of its core. This is defined in `has_tau_mem_2`, which can either be a list-like of `bool`s with length `num_neurons` or a `bool`(same for all neurons). `True` means the corresponding neuron uses `tau_mem_2`.\n",
    "* Time constants for excitatory and inhibitory synapses can be set in `tau_syn_exc` and `tau_syn_inh`, respectively.\n",
    "* Baseweights are multiplied with the number of connections for each neuron pair to get the effective weight. They are set for excitatory and inhibitory synapses in `baseweight_e` and `baseweight_i`, respectively.\n",
    "* Constant input currents (biases) can be defined in `bias`. \n",
    "* Refractory times can be defined in `refractory`.\n",
    "* Firing thresholds are defined in `v_thresh`. Reset and resting potentials are implicitly `0`.\n",
    "* The scale and time constants of spike triggered adaptation can be defined in `spike_adapt` and `tau_adapt`.\n",
    "* The exponential part of the actiavtion function can be scaled with `delta_t`.\n",
    "* Each instance can be given a `name`.\n",
    "* The NEST backend can be particularly fast if run in multiple processes. `num_threads` sets the number of available threads for this instance.\n",
    "* The parameter `mismatch` can either be a `bool` or a 2D-`np.ndarray` of size (12 + 2 * `num_neurons`) x `num_neurons`. In the first case mismatch is either enabled or discabled. The second case is used to provide specific mismatch factors (see .....) for each parameter and neuron, for example to reconstruct another instance precisely. The rows of the array correspond to the following parameters in ascending order: `baseweight_e`, `baseweight_i`, `bias`, `refractory`, `tau_mem_1`, `tau_mem_2`, `tau_syn_exc`, `tau_syn_inh`, `v_thresh`, `spike_adapt`, `tau_adapt`, `delta_t`, `weights_exc`, `weights_rec`."
   ]
  },
  {
   "cell_type": "markdown",
   "metadata": {},
   "source": [
    "### Core parameters and mismatch\n",
    "\n",
    "Parameters for tuning network dynamics are set for each core. They can be accessed as attributes of the `VirtualDynapse` instance. To change them it is possible to provide anything that can be broadcast to a 1D-array of size `num_cores`. All parameters must have nonnegative values, which will be clipped to zero otherwise.\n",
    "\n",
    "Values for individual neurons can be accessed (but not changed directly) by appending an underscore at the end of the attribute. Those values will include the mismatch, which is different for each neuron."
   ]
  },
  {
   "cell_type": "code",
   "execution_count": 5,
   "metadata": {},
   "outputs": [
    {
     "name": "stdout",
     "output_type": "stream",
     "text": [
      "Before:\n",
      "Excitatory baseweight:  [0.01 0.01 0.01 0.01 0.01 0.01 0.01 0.01 0.01 0.01 0.01 0.01 0.01 0.01\n",
      " 0.01 0.01]\n",
      "Refractory period:  [0.001 0.001 0.001 0.001 0.001 0.001 0.001 0.001 0.001 0.001 0.001 0.001\n",
      " 0.001 0.001 0.001 0.001]\n",
      "Excitatory synapse time constant:  [0.05 0.05 0.05 0.05 0.05 0.05 0.05 0.05 0.05 0.05 0.05 0.05 0.05 0.05\n",
      " 0.05 0.05]\n",
      "Bias:  [0. 0. 0. 0. 0. 0. 0. 0. 0. 0. 0. 0. 0. 0. 0. 0.] \n",
      "\n",
      "After:\n",
      "Excitatory baseweight:  [0.01 0.01 0.02 0.02 0.02 0.02 0.02 0.02 0.02 0.02 0.02 0.02 0.02 0.02\n",
      " 0.02 0.02]\n",
      "Refractory period:  [0.02 0.02 0.02 0.02 0.02 0.02 0.02 0.02 0.02 0.02 0.02 0.02 0.02 0.02\n",
      " 0.02 0.02]\n",
      "Excitatory synapse time constant:  [0.1 0.1 0.1 0.1 0.1 0.1 0.1 0.1 0.1 0.1 0.1 0.1 0.1 0.1 0.1 0.1]\n",
      "Bias:  [0.   0.01 0.   0.   0.   0.   0.   0.   0.   0.   0.   0.   0.   0.\n",
      " 0.   0.  ] \n",
      "\n",
      "Refractory period for first four neurons, including mismatch:\n",
      "[0.01547135 0.02124197 0.02170358 0.01447434]\n"
     ]
    }
   ],
   "source": [
    "print(\"Before:\")\n",
    "print(\"Excitatory baseweight: \", vd.baseweight_e)\n",
    "print(\"Refractory period: \", vd.refractory)\n",
    "print(\"Excitatory synapse time constant: \", vd.tau_syn_exc)\n",
    "print(\"Bias: \", vd.bias, \"\\n\")\n",
    "\n",
    "# - Change a few neuron parameters\n",
    "vd.baseweight_e = 2 * [0.01] + 14 * [0.02] # Pass array-like of correct size\n",
    "vd.refractory = 0.02  # Pass scalar value\n",
    "vd.tau_syn_exc *= 2\n",
    "vd.bias[1] = 0.01\n",
    "\n",
    "print(\"After:\")\n",
    "print(\"Excitatory baseweight: \", vd.baseweight_e)\n",
    "print(\"Refractory period: \", vd.refractory)\n",
    "print(\"Excitatory synapse time constant: \", vd.tau_syn_exc)\n",
    "print(\"Bias: \", vd.bias, \"\\n\")\n",
    "\n",
    "print(\"Refractory period for first four neurons, including mismatch:\")\n",
    "print(vd.refractory_[:4])"
   ]
  },
  {
   "cell_type": "markdown",
   "metadata": {},
   "source": [
    "#### Mismatch\n",
    "\n",
    "To simulate device mismatch, for each neuron and each parameter a value is drawn from a Gaussian with mean 1 and standard deviation `STDDEV_MISMATCH`. Those values, which are constant over time, are multiplied with the parameters of the cores to obtain mismatched individual neuron parameters."
   ]
  },
  {
   "cell_type": "markdown",
   "metadata": {},
   "source": [
    "#### Membrane time constants\n",
    "\n",
    "For every core there are two membrane time constants and each neuron can be individually assigned one of them. This is done by the parameter `has_tau_mem_2`, which is a boolean array of size `num_neurons` and `True` for each neuron that is assigned `tau_mem_2`. The current time constants per neuron can be read out (but not changed directly) through the `tau_mem_` attribute."
   ]
  },
  {
   "cell_type": "code",
   "execution_count": 6,
   "metadata": {},
   "outputs": [
    {
     "name": "stdout",
     "output_type": "stream",
     "text": [
      "RecAEIFSpkInNest `unnamed_nest_backend`: `tau_mem` has been updated by modifying `capacity` (`capacity` = `tau_mem` * `conductance`).\n",
      "RecAEIFSpkInNest `unnamed_nest_backend`: `tau_mem` has been updated by modifying `capacity` (`capacity` = `tau_mem` * `conductance`).\n",
      "RecAEIFSpkInNest `unnamed_nest_backend`: `tau_mem` has been updated by modifying `capacity` (`capacity` = `tau_mem` * `conductance`).\n",
      "[0.07100698 0.03285107 0.03139621 0.08383494]\n"
     ]
    }
   ],
   "source": [
    "# - Set membrane time constants for first chip\n",
    "vd.tau_mem_1 = 0.03\n",
    "vd.tau_mem_2 = 0.08\n",
    "\n",
    "# - Set neurons 0 and 3 to use tau_mem_2:\n",
    "vd.has_tau_mem_2[[0, 3]] = True\n",
    "print(vd.tau_mem_[:4])"
   ]
  },
  {
   "cell_type": "markdown",
   "metadata": {},
   "source": [
    "### Connections and weights\n",
    "\n",
    "Between each pair of a pre- and a postsynaptic neuron synaptic connections  can be established. Each connection can be assigned an integer weight between 0 and `weight_resolution` (default: 1). Multiple connections can be set to increase the number of weights. However, each connection counts to the fan-in of the postsynaptic neuron, which is limited.\n",
    "\n",
    "In the `VirtualDynapse` class connections between neurons are defined in a  2D array `connections_rec`, which is of size `num_neurons` x `num_neurons`. The first axis corresponds to presynaptic, the second to postsynaptic neurons. The values correspond to the sum of the integer weights for each connection between the pair. The sign determines whether a connection is excitatory (+) or inhibitory (-).\n",
    "\n",
    "For example, if there should be an excitatory connection from neuron 1 to neuron 0 with weight 3 and one with weight 2 (assuming `weight_resulution` is greater or equal to 3), `connections_rec[2, 0]` would be set to 5.\n",
    "\n",
    "The effective weights are then obtained by multiplying the number of connections with the excitatory or inhibitory baseweight (`baseweight_e` / `baseweight_i`) of the postsynaptic neuron and a mismatch value for each pair of neurons. The resulting weight matrix can be accessed (but not changed) through the attribute `weights_rec`.\n",
    "\n",
    "Weights for connections between specific neuron populations can be easily read out with the `get_weights` method.\n",
    "\n",
    "<br>\n",
    "\n",
    "#### External inputs\n",
    "Connections from external input channels to neurons work the same way as inter-neuron connections. The corresponding connection and weight matrices  are `connections_ext` and `weights_ext`. They are of shape `num_neurons_chip` x `num_neurons` because at most `num_neurons_chip` external input channels are possible. Baseweights remain the same.\n",
    "\n",
    "<br>\n",
    "\n",
    "#### Setting connections\n",
    "\n",
    "Connections can be set at object instantiation by passing the corresponding weight matrices as arguments or with the `set_connections` method, which has the following signature:"
   ]
  },
  {
   "cell_type": "raw",
   "metadata": {},
   "source": [
    "set_connections(\n",
    "    connections: np.ndarray,\n",
    "    ids_pre: Optional[np.ndarray] = None,\n",
    "    ids_post: Optional[np.ndarray] = None,\n",
    "    external: bool = False,\n",
    "    add: bool = False,\n",
    ")"
   ]
  },
  {
   "cell_type": "markdown",
   "metadata": {},
   "source": [
    "Apart from changing the complete connectivity matrix, it is possible to update connections for only a subset of the neurons, by passing the IDs of the pre- or postsynaptic neurons as `ids_pre` or `ids_post` arguments. Their dimensions must match those of the `connections` matrix. If the flag `add` is `False`, corresponding entries in the full connectivity matrix will be replaced by the new values, otherwise they will be added. Connections to external input channels can be set by setting `external` to `True`."
   ]
  },
  {
   "cell_type": "code",
   "execution_count": 7,
   "metadata": {},
   "outputs": [
    {
     "name": "stdout",
     "output_type": "stream",
     "text": [
      "VirtualDynapse 'unnamed': Testing provided connections:\n",
      "\tConnections ok.\n",
      "VirtualDynapse 'unnamed': Testing provided connections:\n",
      "\tConnections ok.\n"
     ]
    }
   ],
   "source": [
    "import numpy as np\n",
    "\n",
    "connections_ext = np.random.randint(-3, 4, size=(4, 3))\n",
    "connections = np.random.randint(-3, 4, size=(3, 5))\n",
    "\n",
    "# - Setting connections to external channels\n",
    "vd.set_connections(\n",
    "    connections=connections_ext,\n",
    "    ids_pre=[0,1,2,3],\n",
    "    ids_post=[4,6,7],\n",
    "    external=True,\n",
    ")\n",
    "\n",
    "# - Setting connections between neurons\n",
    "vd.set_connections(\n",
    "    connections=connections,\n",
    "    ids_pre=[4,6,7],\n",
    "    ids_post=[6,7, 9, 11, 12],\n",
    "    external=False,\n",
    ")"
   ]
  },
  {
   "cell_type": "markdown",
   "metadata": {},
   "source": [
    "Alternatively, connections can be changed through item assignment by accessing the connectivity matrices as attributes."
   ]
  },
  {
   "cell_type": "code",
   "execution_count": 8,
   "metadata": {},
   "outputs": [
    {
     "name": "stdout",
     "output_type": "stream",
     "text": [
      "VirtualDynapse 'unnamed': Testing provided connections:\n",
      "\tConnections ok.\n"
     ]
    }
   ],
   "source": [
    "# - Change connections through item assignment\n",
    "vd.connections_rec[4,3] = 2"
   ]
  },
  {
   "cell_type": "markdown",
   "metadata": {},
   "source": [
    "Either way the class will verify that the new connections are compatible with the constraints of the hardware (limits in fan-in and fan-out) and if connection aliasing occurs. Connections can also be tested without setting them, through the `validate_connections` method. Here, it can be chosen which types of constraints should be tested. \n",
    "\n",
    "When updating connections, all constraints are tested by default. To alter this behavior, you can change the boolean attributes `validate_fanin`, `validate_fanout`, `validate_aliasing`."
   ]
  },
  {
   "cell_type": "code",
   "execution_count": 9,
   "metadata": {},
   "outputs": [],
   "source": [
    "# - Do not test for connection aliasing anymore\n",
    "vd.validate_aliasing = False"
   ]
  },
  {
   "cell_type": "markdown",
   "metadata": {},
   "source": [
    "### Simulation\n",
    "\n",
    "Simulations can be run by calling the `evolve` method. It has the following signature:"
   ]
  },
  {
   "cell_type": "raw",
   "metadata": {},
   "source": [
    "evolve(\n",
    "    ts_input: Optional[TSEvent] = None,\n",
    "    duration: Optional[float] = None,\n",
    "    num_timesteps: Optional[int] = None,\n",
    "    ids_in: Optional[np.ndarray] = None,\n",
    "    ids_out: Optional[np.ndarray] = None,\n",
    "    remap_out_channels: bool = True,\n",
    "    verbose: bool = False,\n",
    ") -> TSEvent"
   ]
  },
  {
   "cell_type": "markdown",
   "metadata": {},
   "source": [
    "The first argument, `ts_input`, is a `TSEvent` (event-based time series) with the external input spikes. If it is `None`, the input is assumed to be silent. Its channel IDs can be mapped to different IDs for the external input by setting them in the `ids_in` argument.\n",
    "\n",
    "By how much simulation time the neurons evolve is determined by the duration of `ts_input` (if not `None`), by the argument `duration` or by `num_timesteps` (with increasing priority if muliple arguments are set). If `num_timesteps` is set, this value will be multiplied by the time step size `dt` to obtain the simulation time. \n",
    "\n",
    "After simulation the method will return a new `TSEvent` object with  spike trains of the neurons during simulation. They can be filtered to only contain events from specific neurons by setting them in the `ids_out` argument. The IDs of the neurons can be mapped to a continuous sequence of integers starting from 0 (e.g. [1,6,3] -> [0,2,1]), by setting `remap_out_channels` to `True`.\n",
    "\n",
    "You can verify that the simulation has evolved by the required time by comparing the `t` (current simulation time) before and after calling the `evolve` method. Current neuron membrane potentials can be accessed with the `state` attribute.\n",
    "\n",
    "If at instantiation the `record` flag was set to `True`, the class will also record neuron membrane potentials during evolution. A `TSContinuous` object with the states from the lates simulation run can be accessed through the `recorded_states` attribute."
   ]
  },
  {
   "cell_type": "markdown",
   "metadata": {},
   "source": [
    "### Saving configuration to file\n",
    "\n",
    "The current configuration of a `VirtualDynapse` isntance, including connections, neuron parameters and mismatch, can be stored to a json file with the `save_layer` method. It can then be loaded with the class method `load_from_file`:"
   ]
  },
  {
   "cell_type": "code",
   "execution_count": 10,
   "metadata": {},
   "outputs": [
    {
     "name": "stdout",
     "output_type": "stream",
     "text": [
      "VirtualDynapse 'unnamed': Testing provided connections:\n",
      "\tConnections ok.\n",
      "VirtualDynapse 'unnamed':  Ready.\n"
     ]
    }
   ],
   "source": [
    "# - Store configuration in file\n",
    "vd.save_layer(\"test\")\n",
    "\n",
    "# - Load identical configuration\n",
    "vd_new = VirtualDynapse.load_from_file(\"test\")"
   ]
  },
  {
   "cell_type": "markdown",
   "metadata": {},
   "source": [
    "### Simplifications\n",
    "\n",
    "The `VirtualDynapse` class should provide a realistic idea of which configurations are possible with the Dynap-SE processor. Nevertheless a few simplifications have been made that are stated in the following. Should you require any of the below-mentioned features to be implemented in more detail, please contact aiCTX AG.\n",
    "\n",
    "* __Neuron model:__<br />\n",
    "The adaptive exponential integrate-and-fire model that is used in simulations is only an approximation of the dynamics of the underlying circuits. Also mismatch is only approximate. For most network architectures it is a suitable compromise between computational efficiency and accuracy. Should you need more precise simulations, however, you may consider the <a href=\"https://teili.readthedocs.io/en/latest/index.html\">teili</a> toolbox, which provides more detailed equaitons.\n",
    "\n",
    "* __Synapse types:__<br />\n",
    "On the DynapSE there are four different synapse types which implement different types of excitation and inhibition (e.g. shunting inhibition or NMDA receptors) and provide additional sets of possible synaptic time constants and baseweights per core. For compatibility with the underlying simulation engine this has been simplified to simply two synapse types: excitatory and inhibitory. Furthermore, in reality a pair of neurons could be connected through different synapse types simultaneously, allowing for additional ways of modifying network dynamics. This is currently not possible in this simulation.\n",
    "\n",
    "* __Baseweights:__<br />\n",
    "For chips with higher weight resolutions than 1, each bit comes with its own baseweight. In the simulations it is assumed that weights are equidistant.\n",
    "\n",
    "* __Virtual core IDs:__<br />\n",
    "It is possible to circumvent some of the connectivity constraints by the use of virtual core IDs. This is currently not supported by the `VirtualDynapse` class.\n",
    "\n",
    "* __N:__<br />\n",
    "On the hardware network dynamics are tuned by setting circuit biases. These biases can be compared to the neuron parameters that are used in this simulation but there is no exact correspondence. Still this class provides a good idea of which aspects of the neuron dynamics can be modified, although in practice this might require adjustment of multiple interconnected bias parameters."
   ]
  },
  {
   "cell_type": "markdown",
   "metadata": {},
   "source": [
    "### Method overview\n",
    "\n",
    "`set_connections` <br>\n",
    "Set connections between specified neuron populations. Verify that connections are supported by hardware.\n",
    "\n",
    "`validate_connections` <br>\n",
    "Check whether connections are compatible with constraints of the hardware.\n",
    "\n",
    "`get_weights` <br>\n",
    "Return weights between specified neuron populations.\n",
    "\n",
    "`to_dict` <br>\n",
    "Return all parameters needed to reconstruct this `VirtualDynapse` instance as a dict.\n",
    "\n",
    "`load_from_dict` <br>\n",
    "Class method. Reconstruct a `VirtualDynapse` instance from dict.\n",
    "\n",
    "`save` <br>\n",
    "Save configuration from dict (e.g. from `to_dict` method) to file.\n",
    "\n",
    "`save_layer` <br>\n",
    "Save all parameters needed to reconstruc this `VirtualDynapse` instance to a json file.\n",
    "\n",
    "`load_from_file` <br>\n",
    "Class method. Reconstruct a `VirtualDynapse` instance from json file.\n",
    "\n",
    "`evolve` <br>\n",
    "Simulate with given input for given time.\n",
    "\n",
    "`reset_state` <br>\n",
    "Reset neuron states.\n",
    "\n",
    "`reset_all` <br>\n",
    "Reset neuron states and internal time.\n",
    "\n"
   ]
  },
  {
   "cell_type": "markdown",
   "metadata": {},
   "source": [
    "### Attribute overview\n",
    "\n",
    "<br>\n",
    "\n",
    "#### Connections and weights\n",
    "`connections_rec`<br>\n",
    "Inter-neuron connections.\n",
    "\n",
    "`connections_ext`<br>\n",
    "Connections to external input channels.\n",
    "\n",
    "`weights_rec`*<br>\n",
    "Effective weight matrix for inter-neuron connections (including baseweights per core).\n",
    "\n",
    "`weights_ext`<br>\n",
    "Effective weight matrix for connections to external inputs (including baseweights per core).\n",
    "\n",
    "`baseweight_e`<br>\n",
    "Baseweights for excitatory connections per core.\n",
    "\n",
    "`baseweight_i`<br>\n",
    "Baseweights for inhibitory connections per core.\n",
    "\n",
    "<br> \n",
    "\n",
    "#### Neuron parameters\n",
    "\n",
    "`bias` <br>\n",
    "Bias settings per core.\n",
    "\n",
    "`bias_`* <br>\n",
    "Individual bias values for each neuron, including mismatch.\n",
    "\n",
    "`refractory` <br>\n",
    "Refractory time settings per core.\n",
    "\n",
    "`refractory_`* <br>\n",
    "Individual refractory times for each neuron, including mismatch.\n",
    "\n",
    "`v_thresh` <br>\n",
    "Firing threshold settings per core.\n",
    "\n",
    "`v_thresh_`* <br>\n",
    "Individual firing thresholds each neuron, including mismatch.\n",
    "\n",
    "`delta_t` <br>\n",
    "Scaling of exponental part of neuron activation per core.\n",
    "\n",
    "`delta_t_`* <br>\n",
    "Individual scaling values for exponential part of activation function for each neuron, including mismatch.\n",
    "\n",
    "`spike_adapt` <br>\n",
    "Adaptation strength settings per core.\n",
    "\n",
    "`spike_adapt_`* <br>\n",
    "Individual adaptation strengths for each neuron, including mismatch.\n",
    "\n",
    "`tau_adapt` <br>\n",
    "Adaptation time constant settings per core.\n",
    "\n",
    "`tau_adapt_`* <br>\n",
    "Individual adaptation time constants values for each neuron, including mismatch.\n",
    "\n",
    "`tau_mem_I` <br>\n",
    "Settings for membrane time constant I per core.\n",
    "\n",
    "`tau_mem_II` <br>\n",
    "Settings for membrane time constant II per core.\n",
    "\n",
    "`has_tau_mem_II` <br>\n",
    "Boolean array, `True` for each neuron that uses membrane time constant II.\n",
    "\n",
    "`tau_mem_`* <br>\n",
    "Individual membrane time constants for each neuron, including mismatch.\n",
    "\n",
    "`tau_syn_exc` <br>\n",
    "Excitatory synapse time constant settings per core.\n",
    "\n",
    "`tau_syn_exc_`* <br>\n",
    "Individual excitatory synapse time constants for each neuron, including mismatch.\n",
    "\n",
    "`tau_syn_inh` <br>\n",
    "Inhibitory synapse time constant settings per core.\n",
    "\n",
    "`tau_syn_inh_`* <br>\n",
    "Individual inhibitory synapse time constants for each neuron, including mismatch.\n",
    "\n",
    "<br>\n",
    "\n",
    "#### Hardware parameters\n",
    "\n",
    "`size`*, `num_neurons`*<br>\n",
    "Total number of neurons.\n",
    "\n",
    "`num_neurons_core`*<br>\n",
    "Number of neurons per core.\n",
    "\n",
    "`num_neurons_chip`*<br>\n",
    "Number of neurons per chip.\n",
    "\n",
    "`num_cores`*<br>\n",
    "Total number of cores.\n",
    "\n",
    "`num_cores_chip`*<br>\n",
    "Number of cores per chip.\n",
    "\n",
    "`num_chips`*<br>\n",
    "Total number of chips.\n",
    "\n",
    "`size_in`, `num_external`*<br>\n",
    "Maximum number of external input channels.\n",
    "\n",
    "`weight_resolution`*<br>\n",
    "Highest integer weight per connection.\n",
    "\n",
    "`stddev_mismatch`*<br>\n",
    "Standard deviation of device mismatch.\n",
    "\n",
    "`mismatch_factors`*<br>\n",
    "Factors that are multiplied to core parameters to obtain individual neuron values with mismatch.\n",
    "\n",
    "<br>\n",
    "\n",
    "#### Settings and class properties\n",
    "\n",
    "`dt`*<br>\n",
    "Simulation time step in seconds.\n",
    "\n",
    "`record`*<br>\n",
    "Record neuron membrane potentials during evolution.\n",
    "\n",
    "`num_threads`*<br>\n",
    "Number of threads to be used for multiprocessing.\n",
    "\n",
    "<br>\n",
    "\n",
    "#### Properties regarding current state\n",
    "\n",
    "`t`*<br>\n",
    "Current simulation time in seconds.\n",
    "\n",
    "`state`<br>\n",
    "Current neuron membrane potentials.\n",
    "\n",
    "`recorded_states`*<br>\n",
    "Neuron membrane potentials recorded during previous simulation.\n",
    "\n",
    "*: Read-only attributes"
   ]
  },
  {
   "cell_type": "markdown",
   "metadata": {},
   "source": [
    "#### Colophon\n",
    "Live notebook requires a Jupyter Notebook server.\n",
    "\n",
    "GitLab repository location: https://gitlab.com/ai-ctx/network-architectures/blob/master/Projects/Documentation/FFCLIAF%20and%20RecCLIAF.ipynb"
   ]
  },
  {
   "cell_type": "code",
   "execution_count": null,
   "metadata": {},
   "outputs": [],
   "source": []
  }
 ],
 "metadata": {
  "kernelspec": {
   "display_name": "Python 3",
   "language": "python",
   "name": "python3"
  },
  "language_info": {
   "codemirror_mode": {
    "name": "ipython",
    "version": 3
   },
   "file_extension": ".py",
   "mimetype": "text/x-python",
   "name": "python",
   "nbconvert_exporter": "python",
   "pygments_lexer": "ipython3",
   "version": "3.7.3"
  },
  "toc": {
   "nav_menu": {},
   "number_sections": false,
   "sideBar": true,
   "skip_h1_title": false,
   "title_cell": "Table of Contents",
   "title_sidebar": "Contents",
   "toc_cell": false,
   "toc_position": {
    "height": "calc(100% - 180px)",
    "left": "10px",
    "top": "150px",
    "width": "430px"
   },
   "toc_section_display": true,
   "toc_window_display": true
  },
  "varInspector": {
   "cols": {
    "lenName": 16,
    "lenType": 16,
    "lenVar": 40
   },
   "kernels_config": {
    "python": {
     "delete_cmd_postfix": "",
     "delete_cmd_prefix": "del ",
     "library": "var_list.py",
     "varRefreshCmd": "print(var_dic_list())"
    },
    "r": {
     "delete_cmd_postfix": ") ",
     "delete_cmd_prefix": "rm(",
     "library": "var_list.r",
     "varRefreshCmd": "cat(var_dic_list()) "
    }
   },
   "types_to_exclude": [
    "module",
    "function",
    "builtin_function_or_method",
    "instance",
    "_Feature"
   ],
   "window_display": false
  }
 },
 "nbformat": 4,
 "nbformat_minor": 2
}
