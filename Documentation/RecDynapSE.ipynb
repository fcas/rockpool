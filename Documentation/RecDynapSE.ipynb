{
 "cells": [
  {
   "cell_type": "markdown",
   "metadata": {},
   "source": [
    "<div class=\"report-header\"><div class=\"aictx-logo\"></div>\n",
    "<span class=\"report-type\">Documentation</span><br />\n",
    "<span class=\"report-author\">Author: Felix Bauer</span><br />\n",
    "<span class=\"report-date\">20th December, 2018</span>\n",
    "</div><h1>RecDynapSE:</h1><h1>Layer using the DynapSE chip</h1>"
   ]
  },
  {
   "cell_type": "markdown",
   "metadata": {},
   "source": [
    "This document illustrates how to use the `RecDynapSE` layer, that runs directly on the DynapSE."
   ]
  },
  {
   "cell_type": "markdown",
   "metadata": {
    "heading_collapsed": true
   },
   "source": [
    "##### Housekeeping and import statements"
   ]
  },
  {
   "cell_type": "code",
   "execution_count": 1,
   "metadata": {
    "hidden": true
   },
   "outputs": [
    {
     "data": {
      "text/html": [
       "<link href='http://fonts.googleapis.com/css?family=Fenix' rel='stylesheet' type='text/css'>\n",
       "<link href=\"https://fonts.googleapis.com/css?family=PT+Serif\" rel=\"stylesheet\" type='text/css'>\n",
       "<link href='http://fonts.googleapis.com/css?family=Source+Code+Pro:300,400' rel='stylesheet' type='text/css'>\n",
       "<link href=\"https://fonts.googleapis.com/css?family=Montserrat:700\" rel=\"stylesheet\" type='text/css'>\n",
       "<style>\n",
       "\t.aictx-logo {\n",
       "\t\tfloat: left;\n",
       "\t}\n",
       "\t\n",
       "\t.aictx-logo:before {\n",
       "\t\tcontent: url(data:image/png;base64,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);\n",
       "\t}\n",
       "\t\n",
       "\t@font-face {\n",
       "\tfont-family: \"PT Serif\", serif;\n",
       "\t}\n",
       "\t\n",
       "\tdiv.cell {\n",
       "\t\twidth: 800px;\n",
       "\t\tmargin-left: auto !important;\n",
       "\t\tmargin-right: auto;\n",
       "\t\tfont-size: 12pt;\n",
       "\t}\n",
       "\t\n",
       "\th1, h2, h3, h4, h5 {\n",
       "\t\tmargin: 0px !important;\n",
       "\t\tpadding: 0px !important;\n",
       "\t}\n",
       "\t\n",
       "\th1 {\n",
       "\t\tfont-family: 'Montserrat', sans-serif;\n",
       "\t}\n",
       "\t\n",
       "\th2 {\n",
       "\t\tfont-family: 'Fenix', serif;\n",
       "\t\tfont-size: 24pt !important;\n",
       "\t\tborder-top: 8px solid #eee;\n",
       "\t\tpadding-top: 8px !important;\n",
       "\t}\n",
       "\t\n",
       "\th3 {\n",
       "\t\tfont-family: 'Fenix', serif;\n",
       "\t}\n",
       "\t\n",
       "\th4 {\n",
       "\t\tfont-family: 'Fenix', serif;\n",
       "\t}\n",
       "\t\n",
       "\th5 {\n",
       "\t\tfont-family: 'Fenix', serif;\n",
       "\t}\n",
       "\t\n",
       "\tdiv.text_cell_render {\n",
       "\t\tfont-family: 'PT Serif', serif;\n",
       "\t\tline-height: 140%;\n",
       "\t\tfont-size: 100%;\n",
       "\t\twidth: 600px;\n",
       "\t\tmargin-left: auto;\n",
       "\t\tmargin-right: auto;\n",
       "\t}\n",
       "\t\n",
       "\t.CodeMirror {\n",
       "\t\tfont-family: \"Source Code Pro\";\n",
       "\t\tfont-size: 90%;\n",
       "\t}\n",
       "\t/*    .prompt{\n",
       "\t        display: None;\n",
       "\t    }*/\n",
       "\t\n",
       "\t.text_cell_render h1 {\n",
       "\t\tfont-weight: 200;\n",
       "\t\tfont-size: 38pt;\n",
       "\t\tline-height: 100%;\n",
       "\t\tcolor: #00a4d9;\n",
       "\t\tmargin-bottom: 0em;\n",
       "\t\tmargin-top: 0em;\n",
       "\t\tdisplay: block;\n",
       "\t\ttext-align: left !important;\n",
       "\t}\n",
       "\t\n",
       "\t.warning {\n",
       "\t\tcolor: rgb( 240, 20, 20 )\n",
       "\t}\n",
       "\t\n",
       "\t.report-header {\n",
       "\t\tborder-top: 8px solid #eee;\n",
       "\t\tpadding-top: 8px;\n",
       "\t\ttext-align: right;\n",
       "\t\tline-height: 100%;\n",
       "\t}\n",
       "\t\n",
       "\t.report-type {\n",
       "\t\tfont-size: 80%;\n",
       "\t\tfont-weight: bold;\n",
       "\t}\n",
       "\t\n",
       "\t.report-author {\n",
       "\t\tfont-size: 80%;\n",
       "\t}\n",
       "\t\n",
       "\t.report-date {\n",
       "\t\tfont-size: 80%;\n",
       "\t\tfont-style: italic;\n",
       "\t}\n",
       "\t\n",
       "\t.well {\n",
       "\t\topacity: 0.5;\n",
       "\t}\n",
       "\t\n",
       "\thr {\n",
       "\t\tborder-width: 6pt;\n",
       "\t}\n",
       "\t\n",
       "</style>"
      ],
      "text/plain": [
       "<IPython.core.display.HTML object>"
      ]
     },
     "execution_count": 1,
     "metadata": {},
     "output_type": "execute_result"
    }
   ],
   "source": [
    "# - Initialisation code to include custom report styles\n",
    "from IPython.core.display import HTML\n",
    "def css_styling():\n",
    "    styles = open(\"aictx-report.css\", \"r\").read()\n",
    "    return HTML(styles)\n",
    "css_styling()"
   ]
  },
  {
   "cell_type": "markdown",
   "metadata": {
    "hidden": true
   },
   "source": [
    "## Hardware basics\n",
    "The layer uses the DynapSE processor, which consists of 4 chips. Each chips has 4 cores of 256 neurons. The chips, as well as each core in a chip and each neuron in a core are identified with an ID between 0 and 3 or 0 and 256, respectively. However, for this layer the neurons are given logical IDs from 0 to 4095 that range over all neurons. In other words the logical neuron ID is $1024 \\cdot \\text{ChipID} + 256 \\cdot \\text{CoreID} + \\text{NeuronID}$.\n",
    "\n",
    "<br>\n",
    "\n",
    "\n",
    "## Setup\n",
    "\n",
    "<br>\n",
    "\n",
    "### Connecting to Cortexcontrol\n",
    "\n",
    "In order to work interface the DynapSE chip, this layer relies on `cortexcontrol`. It should be accessed via an `RPyC` connection. In order to run some examples from within this jupyter notebook, we will do the latter. For this we start `cortexcontrol` and run the following commands in its console (not in this notebook):"
   ]
  },
  {
   "cell_type": "raw",
   "metadata": {},
   "source": [
    "import rpyc.utils.classic\n",
    "c = rpyc.utils.classic.SlaveService()\n",
    "from rpyc.utils.server import OneShotServer\n",
    "t = OneShotServer(c, port=1300)\n",
    "print(\"RPyC: Ready to start.\")\n",
    "t.start()\n"
   ]
  },
  {
   "cell_type": "markdown",
   "metadata": {},
   "source": [
    "If the `cortexcontrol` console prints <br>\n",
    "<i>\"RPyC: Ready to start.\"</i> <br>\n",
    "and nothing else, it is ready."
   ]
  },
  {
   "cell_type": "markdown",
   "metadata": {},
   "source": [
    "### Using DynapseControl\n",
    "\n",
    "The `RecDynapSE` layer uses a `DynapseControl` object to interact with `Cortexcontrol` (see .... for more details). You can either pass an existing `DynapseControl` object to the layer upon instantiation, or let the layer create such an object. Either way, it can be accessed via the layer's `controller` attribute.\n",
    "\n",
    "<br>\n",
    "\n",
    "## Import\n",
    "\n",
    "Import the class with the following command:"
   ]
  },
  {
   "cell_type": "code",
   "execution_count": 2,
   "metadata": {},
   "outputs": [
    {
     "name": "stderr",
     "output_type": "stream",
     "text": [
      "/home/felix/miniconda3/lib/python3.7/site-packages/tqdm/autonotebook/__init__.py:14: TqdmExperimentalWarning: Using `tqdm.autonotebook.tqdm` in notebook mode. Use `tqdm.tqdm` instead to force console mode (e.g. in jupyter console)\n",
      "  \" (e.g. in jupyter console)\", TqdmExperimentalWarning)\n"
     ]
    },
    {
     "name": "stdout",
     "output_type": "stream",
     "text": [
      "dynapse_control: RPyC connection established.\n",
      "dynapse_control: CtxDynapse modules loaded.\n",
      "dynapse_control: Initializing hardware.\n",
      "dynapse_control: Hardware has already been initialized.\n"
     ]
    }
   ],
   "source": [
    "# - Import recurrent RecDIAF layer\n",
    "from NetworksPython.layers import RecDynapSE"
   ]
  },
  {
   "cell_type": "markdown",
   "metadata": {},
   "source": [
    "This might take a while until the `dynapse_control` module has prepared the hardware.\n",
    "\n",
    "<br>\n",
    "\n",
    "## Instantiation\n",
    "`RecDynapSE` objects have many instantiation arguments in common with other `NetworksPython` objects, in partuclar recurrent layers such as `RecIAFTorch`, `RecIAFBrian` or `RecDIAF`. Other arguments are related to how the hardware is used and therefore unique to this layer.\n",
    "\n",
    "| Argument | Type | Default | Meaning |\n",
    "|----------|------|---------|---------|\n",
    "| `mfWIn` | 2D-`ndarray`| - | Input weights (required) |\n",
    "| `mfWRec` | 2D-`ndarray` | - | Recurrent weights (required) |\n",
    "| `vnLayerNeuronIDs` | 1D-`ArrayLike` | `None` | IDs of the layer neurons |\n",
    "| `vnVirtualNeuronIDs` | 1D-`ArrayLike` | `None` | IDs of the virtual (input) neurons |\n",
    "| `tDt` | `float` | `2e-5` | Time step |\n",
    "| `nMaxTrialsPerBatch` | `int` | `None` | Maximum number of trials in individual batch |\n",
    "| `tMaqxBatchDur` | `float` | `None` | Maximum duration time of individual batch |\n",
    "| `nMaxNumTimeSteps` | `int` | `None` | Maximum number of time steps in individual batch |\n",
    "| `nMaxEventsPerBatch` | `int` | `None` | Maximum number of input Events during individual batch |\n",
    "| `lInputCoreIDs` | `ArrayLike` | `[0]` | IDs of cores that receive input spikes |\n",
    "| `nInputChipID` | `int` | 0 | Chip that receives input spikes |\n",
    "| `lnClearCores` | `ArrayLike` | `None` | IDs of cores to be reset |\n",
    "| `controller` | `DynapseControl` | `None` | `DynapseControl` instance |\n",
    "| `strName` | `str` | \"unnamed\" | Layer name |\n",
    "\n",
    "`mfWIn` and `mfWRec` are the input and recurrent weights and have to be provided as 2D-arrays. `mfWIn` determines the layer's dimensions `nSIzeIn` and `nSize`. `mfWRec` has to be of size `nSize` x `nSize`. Each weight must be an integer (positive or negative). Furthermore, the sum over the absolute values of the elements in any given column in `mfWIn` plus the sum over the absolute values of elements in the corresponding column of `mfWRec` must be les or equal to 64. $\\sum_{i} |$ `mfWIn`$ _{ik}| + \\sum_{j}|$ `mfWRec`$ _{jk}| \\leq 64 \\ \\forall k$. This is due to limitations of the hardware and cannot be circumvented.\n",
    "\n",
    "The layer neurons of `RecDynapSE` objects directly correspond to physical neurons on the chip. Inputs are sent to the hardware through so-called virtual neurons. Each virtual neuron has an ID, just like a physical neuron. Each input channel of the layer corresponds to such a virtual neuron. \n",
    "\n",
    "You can choose which physical and virtual neurons are used for the layer by passing their IDs in `vnLayerNeuronIDs` and `vnVirtualNeuronIDs`, which are 1D array-like objects with integers between 0 and 1023 or 0 and 4095, respectively. All neurons with IDs from $j \\cdot 256$ to $(j+1) \\cdot 256, \\ j \\in {0,1,..15}$ belong to the same core (with core ID $j \\ mod \\ 4$). All neurons with IDs from $j \\cdot 1024$ to $ (j+1) \\cdot 1024, \\ j \\in {0,..,4}$ belong to same chip (with chip ID $j$). With this in mind you can allocate neurons to specific chips and cores. \n",
    "\n",
    "<!---The n-th entry of `vnLayerNeuronIDs` corresponds to n-th layer neuron, the n-th entry of `vnVirtualNeurons` corresponds to the n-th input channel of the layer. As described below, under <i>Neurons</i>, it is recommended that the IDs of the physical neurons be all different to the IDs of the virtual neurons. If these arguments are `None`, the neurons will be automatically allocated. -->\n",
    "\n",
    "In order for the to layer to function as expected you should stick to the following two rules:\n",
    "- <b> Neurons that receive external input should be on different cores than  neurons that receive input from other layer neurons. As a consequence, each neuron should not receive both types of input.</b> The cores with neurons that receive external inputs are set with `lnInputCoreIDs`.\n",
    "- <b> All neurons that receive external input should be on the same chip.</b> This chip is set with `nInputChipID` and is 0 by default.\n",
    "\n",
    "\n",
    "<b>These rules are quite restrictive and it is possible to set them less strictly. Contact Felix if needed. </b>\n",
    "\n",
    "`tDt` is a positive `float` that on the one hand sets the discrete layer evolution timestep, as in other layers, but on the other hand also corresponds to the smallest (nonzero) interval between input events that are sent to the chip. It needs to be larger than $1.11 \\cdot 10^{-9}$ (seconds). Below, under <i>Choosing tDt</i> you can find some more thoughts on how to choose this value.\n",
    "\n",
    "Evolution is automatically split into batches, the size of which is determined by `nMaxEventsPerBatch`, `nMaxNumTimeSteps`, `tMaxBatchDur` and `nMaxTrialsPerBatch`, which control the maximum number of events, number of timesteps, duration or number of trials in a batch.  All of them can be set to `None`, which corresponds to setting no limit, except for `nMaxEventsPerBatch`, where the limit will be set to 65535. If both `nMaxNumTimeSteps` and `tMaxBatchDur` are not `None`, the `tMaxBatchDur` will be ignored. `nMaxTrialsPerBatch` will only have an effect when the input time series to the `evolve` method contains a `vtTrialStarts` attribute. For more details on how evolutions are split into batches see <i>Evolution in batches</i>.\n",
    "\n",
    "The list `lnClearCores` contains the IDs of the cores where (presynaptic) connections should be reset on instantiation. Ideally this contains all the cores that are going to be used for this `RecDynapSE` object. However, if you want to save time and you know what you are doing you can set this to `None`, so no connections are reset.\n",
    "\n",
    "You can pass an existing `DynapseControl` instance to the layer that will handle the interactions with `Cortexcontrol`. If this argument is `None`, a new `DynapseControl` will be instantiated.\n",
    "\n",
    "`strName` is a `str` that defines the layer's name. \n",
    "\n",
    "All of these values can be accessed and changed via `<Layer>.value`, where `<Layer>` is the instance of the layer.\n",
    "\n",
    "<br>\n",
    "\n",
    "### Example\n",
    "We can set up a simple layer on the chip by only passing input weights and recurrent weights. The weights are chosen so that there is a population of 3 \"input neurons\" that receive the input and then excite the remaining 6 neurons, which are recurrently connected. This way the constraints mentioned above are satisfied."
   ]
  },
  {
   "cell_type": "code",
   "execution_count": 3,
   "metadata": {},
   "outputs": [
    {
     "name": "stdout",
     "output_type": "stream",
     "text": [
      "DynapseControl: Initializing DynapSE\n",
      "DynapseControl: Spike generator module ready.\n",
      "DynapseControl: Time constants of cores range(0, 16) have been reset.\n",
      "DynapseControl: Neurons initialized.\n",
      "\t 4092 hardware neurons and 4092 virtual neurons available.\n",
      "DynapseControl: Neuron connector initialized\n",
      "DynapseControl: Connections to cores None have been cleared.\n",
      "DynapseControl: FPGA spike generator prepared.\n",
      "DynapseControl ready.\n",
      "Layer `example-layer`: Superclass initialized\n",
      "Layer `example-layer`: Layer neurons allocated\n",
      "Layer `example-layer`: Virtual neurons allocated\n",
      "DynapseControl: Excitatory connections of type `FAST_EXC` from virtual neurons to hardware neurons have been set.\n",
      "DynapseControl: Inhibitory connections of type `FAST_INH` from virtual neurons to hardware neurons have been set.\n",
      "Layer `example-layer`: Connections to virtual neurons have been set.\n",
      "DynapseControl: Excitatory connections of type `FAST_EXC` between hardware neurons have been set.\n",
      "DynapseControl: Inhibitory connections of type `FAST_INH` between hardware neurons have been set.\n",
      "Layer `example-layer`: Connections from input neurons to reservoir have been set.\n",
      "DynapseControl: Excitatory connections of type `SLOW_EXC` between hardware neurons have been set.\n",
      "DynapseControl: Inhibitory connections of type `FAST_INH` between hardware neurons have been set.\n",
      "DynapseControl: Connections have been written to the chip.\n",
      "Layer `example-layer`: Recurrent connections have been set.\n",
      "Layer `example-layer` prepared.\n"
     ]
    }
   ],
   "source": [
    "import numpy as np\n",
    "\n",
    "# - Weight matrices: 3 neurons receive external input \n",
    "#   from 2 channels and stimulate the remaning\n",
    "#   6 neurons, which are recurrently connected.\n",
    "\n",
    "mfWIn = np.zeros((2,9))\n",
    "# Only first 3 neurons receive input\n",
    "mfWIn[:,:3] = np.random.randint(-2, 2, size=(2,3))\n",
    "\n",
    "mfWRec = np.zeros((9,9))\n",
    "# Excitatory connections from input neurons to rest\n",
    "mfWRec[:3, 3:] = np.random.randint(3, size=(3,6))\n",
    "# Recurrent connecitons between remaining 6 neurons\n",
    "mfWRec[3:, 3:] = np.random.randint(-2, 2, size=(6,6))\n",
    "\n",
    "rlRec = RecDynapSE(mfWIn, mfWRec, strName=\"example-layer\")\n"
   ]
  },
  {
   "cell_type": "markdown",
   "metadata": {},
   "source": [
    "## Choosing tDt\n",
    "As with all layers, a `RecDynapSE` object's evolution takes place in discrete time steps. This allows to send an `nNumTimeSteps` argument to the `evolve` method, which is consistent with other layer classes and important for the use within a `Network`. Besides, event though the hardware evolves in continuous time, the input events use discrete timesteps. These timesteps are $\\frac{10^{-7}}{9} \\text{ s} = 11.\\bar{1} \\cdot 10^{-9} \\text{ s}$ and mark the smallest value that can be chosen for the layer timestep `tDt`.\n",
    "\n",
    "Although the effect the timestep size has on computation time is much smaller than with other layers, it is not always advisable to choose the smallest possible value. The reason is that the number of timesteps between two input spikes is currently limited to $2^{16}-1 = 65535$. This means that with tDt $= 11.\\overline{1} \\cdot 10^{-9} \\text{ s}$, any section in the  input signal without input spikes longer than about 0.73 milliseconds will cause the layer to throw an exception. Therefore it makes sense to set `tDt` to something between $10^{-6}$ and $10^{-4}$ seconds, in order to allow for sufficiently long silent parts in the input while still maintaining a good temporal resolution.\n",
    "\n",
    "<b>If these limitations are causing problems contact Felix so that he can implement a way around it.</b>\n",
    "\n",
    "<br>\n",
    "\n",
    "## Neurons\n",
    "\n",
    "The layer neurons of `RecDynapSE` objects directly correspond to physical neurons on the chip. Inputs are sent to the hardware through so-called virtual neurons. Each input channel of the layer corresponds to such a virtual neuron. Every neuron on the DynapSE has a logical ID, which ranges from 0 to 4095 for the physical and from 0 to 1023 for the virtual neurons. \n",
    "\n",
    "<!--- (probably not necessary) An input spike to the layer translates to a virtual neuron emitting a spike. If a neuron is set to receive spikes from a neuron with ID $n$, it makes no difference if a virtual or a pysical neuron with this ID is firing. The target neuron will receive the spikes in both cases. Because this can cause unexpected behavior it is recommended that the IDs of the physical neurons are pairwise different from the IDs of of the virtual neurons.\n",
    "--> \n",
    "\n",
    "<br> \n",
    "\n",
    "### Neuron states\n",
    "Hardware neurons' states change constantly according to the laws of physics, even when the layer is currently not evolving, and there is no state variable that could be read out for all neurons simultaneously. Therefore the `RecDynapSE` has no state vector like other layer classes. The `vState` attribute is just a 1D array of `nSize` zeros.\n",
    "\n",
    "<br>\n",
    "\n",
    "## Synapses\n",
    "\n",
    "There are four different synapse types on the DynapSE: fast and slow excitatory as well as fast and slow inhibitory. Each neuron can receive inputs through up to 64 synapses, each of which can be any of the given types. Via `cortexcontrol` the synaptic behavior can be adjusted for each type and for each core, but not for individual synapses.\n",
    "\n",
    "There is a priori no difference between slow and fast excitatory synapses, so they can be set to have the same behavior. In fact, one could assign shorter time constants to the \"slow\" excitatory synapses, making them effectively the fast ones. While both excitatory and the fast inhibitory synapses work by adding or subtracting current to the neuron membrane, the slow inhibitory synapses use shunt inhibition and in practice silence a neuron very quickly.\n",
    "\n",
    "Note that all synapses that are of the same type and that are on the same core have the same weight. Different connection strengths between neurons can only be achieved by setting the same connection multiple times. Therefore the weight matrices `mfWIn` and `mfWRec` can only be positive or negative integers and thus determine the number of excitatory and inhibitory connections to a neuron.\n",
    "\n",
    "In this layer the connections from external input to layer neurons are fast excitatory or inhibitory synapses. Outgoing connections from neurons that receive external input are fast excitatory or inhibitory. Outgoing connecitons from other neurons are slow excitatory and fast inhibitory. For different configurations the `_compile_weights_and_configure` method has to be modified.  Felix can help you with this.\n",
    "\n",
    "<br>\n",
    "\n",
    "## Evolution\n",
    "\n",
    "The `evolve` method takes the standard arguments `tsInput`, `tDuration`, `nNumTimeSteps` and `bVerbose`, which is currently not being used. Evolution duration is determined by the usual rules. If `tsInput` is provided, it must be a `TSEvent` object.\n",
    "\n",
    "The input is sent to the hardware neurons which will evolve and spike. The neurons' spikes are collected in a `TSEvent` object with the timings and IDs of the spiking neurons. \n",
    "\n",
    "Note that the hardware neurons continue evolving, so in contrast to software simulations, the layer will be in a different state (membrane potentials etc.) when an evolution begins than when the previous evolution ended. Because evolution happens in batches, this even happens between some of the timesteps within the evolution (see below).\n",
    "\n",
    "<br>\n",
    "\n",
    "### Evolution in batches\n",
    "As for now it is not possible to stream events (input spikes) continuously to the DynapSE. Therefore a group of events is transferred to the hardware, temporarily stored there and then translated to spikes of virtual neurons, with temporal order and inter-spike intervals matching the input signal.\n",
    "\n",
    "The number of events that can be sent at once is limited. To allow for arbitrarily long layer evolution times, the input can be split into batches, during each of which a number of events is sent and \"played back\" to the hardware.\n",
    "\n",
    "There are two ways of splitting the full input signal into batches. First, a new batch ends, as soon as it contains the maximum number of spikes or lasts the maximum allowed batch duration. These values can be set for each `RecDynapSE` object and are stored in the `nMaxEventsPerBatch` and `tMaxBatchDur` attributes. While the former is limited by the hardware to be at most $2^{16}-1 = 65535$, the latter can be set to `None`, which in principle allows for arbitrarily long batch durations. However, the length of any inter-spike interval is currently limited, too, so effectively the batch duration is limited also in this case (see <i>Choosing tDt</i> for more details).\n",
    "\n",
    "Note that because the hardware neurons keep evolving after a batch ends, their state (membrane potentials etc.) will have changed until the next batch starts. These discontinuities could be problematic for some simulations. In particular if the input data consists of trials, no trial should be divided over two batches.\n",
    "\n",
    "The second way of splitting batches considers this scenario and by splitting the input only at the beginnings of trials. The number of trials in a batch is determined by the layer's `nMaxTrialPerBatch` attribute. If a batch with this number of trials contains more events or lasts longer than allowed, the number of trials is reduced accordingly. This method is used if the input time series has a `vtTrialStarts` attribute, that indicates the start time of each trial, and if `nMaxTrialsPerBatch` is not `None`.\n",
    "\n",
    "<br> \n",
    "\n",
    "## Resetting\n",
    "\n",
    "As usual the layer's time and state can be reset by the `reset_time`, `reset_state` and `reset_all` methods. However, since there is no state vector in this class, `reset_state` has no effect and `reset_all` effectively does the same as `reset_time`.\n",
    "\n",
    "<br>\n",
    "\n",
    "## Internal methods\n",
    "\n",
    "```\n",
    "_batch_input_data(\n",
    "    self, tsInput: TSEvent, nNumTimeSteps: int, bVerbose: bool = False\n",
    ") -> (np.ndarray, int)\n",
    "```\n",
    "This mehtod is called by evolve, which passes it the evolution input `tsInput` and the number of evolution timesteps `nNumTimeSteps`. It splits the input into batches according to the maximum duration, number of events and number of trials and returns a generator that for each batch yields the timesteps and channels of the input events in the batch, the time step at which the batch begins and teh duration of the batch.\n",
    "\n",
    "```\n",
    "_compile_weights_and_configure(self)\n",
    "```\n",
    "Configures the synaptic connections on the hardware according to the layer weights.\n",
    "\n",
    "<br>\n",
    "\n",
    "## Class member overview\n",
    "\n",
    "<br>\n",
    "\n",
    "### Methods\n",
    "| Method | Description |\n",
    "|--------|-------------|\n",
    "| `_batch_input_data` | Split evolution into batches and return generator | `_compile_weights_and_configure` | Configure hardware synaptic connections.\n",
    "| `evolve` | Evolve layer |\n",
    "| `reset_all` | Reset layer time to 0|\n",
    "| `reset_state` | Do nothing. |\n",
    "| `reset_time` | Reset layer time to 0 |\n",
    "\n",
    "<i> Internal methods of parent class</i> `Layer` <i> are listed in corresponding documentation. </i>\n",
    "\n",
    "<br>\n",
    "\n",
    "### Attributes\n",
    "\n",
    "Each argument that described in section Instantiation has a corresponding attribute that can be accessed by `<Layer>.<attribute>`, where `<Layer>` is the layer instance and `<attribute>` the argument name. Furthermore there are a few internal attributes:\n",
    "\n",
    "| Attribute name | Description |\n",
    "|----------------|-------------|\n",
    "| `_vHWNeurons` | 1D-Array of hardware neurons used for the layer. |\n",
    "| `vVirtualNeurons` | 1D-Array of virtual neurons used for the layer. |"
   ]
  },
  {
   "cell_type": "markdown",
   "metadata": {},
   "source": [
    "#### Colophon\n",
    "Live notebook requires a Jupyter Notebook server.\n",
    "\n",
    "GitLab repository location: https://gitlab.com/ai-ctx/network-architectures/blob/master/Projects/Documentation/FFCLIAF%20and%20RecCLIAF.ipynb"
   ]
  },
  {
   "cell_type": "code",
   "execution_count": null,
   "metadata": {},
   "outputs": [],
   "source": []
  }
 ],
 "metadata": {
  "kernelspec": {
   "display_name": "Python 3",
   "language": "python",
   "name": "python3"
  },
  "language_info": {
   "codemirror_mode": {
    "name": "ipython",
    "version": 3
   },
   "file_extension": ".py",
   "mimetype": "text/x-python",
   "name": "python",
   "nbconvert_exporter": "python",
   "pygments_lexer": "ipython3",
   "version": "3.6.7"
  },
  "toc": {
   "nav_menu": {},
   "number_sections": false,
   "sideBar": true,
   "skip_h1_title": false,
   "title_cell": "Table of Contents",
   "title_sidebar": "Contents",
   "toc_cell": false,
   "toc_position": {
    "height": "calc(100% - 180px)",
    "left": "10px",
    "top": "150px",
    "width": "430px"
   },
   "toc_section_display": true,
   "toc_window_display": true
  },
  "varInspector": {
   "cols": {
    "lenName": 16,
    "lenType": 16,
    "lenVar": 40
   },
   "kernels_config": {
    "python": {
     "delete_cmd_postfix": "",
     "delete_cmd_prefix": "del ",
     "library": "var_list.py",
     "varRefreshCmd": "print(var_dic_list())"
    },
    "r": {
     "delete_cmd_postfix": ") ",
     "delete_cmd_prefix": "rm(",
     "library": "var_list.r",
     "varRefreshCmd": "cat(var_dic_list()) "
    }
   },
   "types_to_exclude": [
    "module",
    "function",
    "builtin_function_or_method",
    "instance",
    "_Feature"
   ],
   "window_display": false
  }
 },
 "nbformat": 4,
 "nbformat_minor": 2
}
