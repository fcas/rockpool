{
 "cells": [
  {
   "cell_type": "markdown",
   "metadata": {},
   "source": [
    "<div class=\"report-header\"><div class=\"aictx-logo\"></div>\n",
    "<span class=\"report-type\">Documentation</span><br />\n",
    "<span class=\"report-author\">Author: Felix Bauer</span><br />\n",
    "<span class=\"report-date\">20th December, 2018</span>\n",
    "</div><h1>RecDynapSE:</h1><h1>Layer using the DynapSE chip</h1>"
   ]
  },
  {
   "cell_type": "markdown",
   "metadata": {},
   "source": [
    "This document illustrates how to use the `RecDynapSE` layer, that runs directly on the DynapSE chip."
   ]
  },
  {
   "cell_type": "markdown",
   "metadata": {
    "heading_collapsed": true
   },
   "source": [
    "##### Housekeeping and import statements"
   ]
  },
  {
   "cell_type": "code",
   "execution_count": 1,
   "metadata": {
    "hidden": true
   },
   "outputs": [
    {
     "data": {
      "text/html": [
       "<link href='http://fonts.googleapis.com/css?family=Fenix' rel='stylesheet' type='text/css'>\n",
       "<link href=\"https://fonts.googleapis.com/css?family=PT+Serif\" rel=\"stylesheet\" type='text/css'>\n",
       "<link href='http://fonts.googleapis.com/css?family=Source+Code+Pro:300,400' rel='stylesheet' type='text/css'>\n",
       "<link href=\"https://fonts.googleapis.com/css?family=Montserrat:700\" rel=\"stylesheet\" type='text/css'>\n",
       "<style>\n",
       "\t.aictx-logo {\n",
       "\t\tfloat: left;\n",
       "\t}\n",
       "\t\n",
       "\t.aictx-logo:before {\n",
       "\t\tcontent: url(data:image/png;base64,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);\n",
       "\t}\n",
       "\t\n",
       "\t@font-face {\n",
       "\tfont-family: \"PT Serif\", serif;\n",
       "\t}\n",
       "\t\n",
       "\tdiv.cell {\n",
       "\t\twidth: 800px;\n",
       "\t\tmargin-left: auto !important;\n",
       "\t\tmargin-right: auto;\n",
       "\t\tfont-size: 12pt;\n",
       "\t}\n",
       "\t\n",
       "\th1, h2, h3, h4, h5 {\n",
       "\t\tmargin: 0px !important;\n",
       "\t\tpadding: 0px !important;\n",
       "\t}\n",
       "\t\n",
       "\th1 {\n",
       "\t\tfont-family: 'Montserrat', sans-serif;\n",
       "\t}\n",
       "\t\n",
       "\th2 {\n",
       "\t\tfont-family: 'Fenix', serif;\n",
       "\t\tfont-size: 24pt !important;\n",
       "\t\tborder-top: 8px solid #eee;\n",
       "\t\tpadding-top: 8px !important;\n",
       "\t}\n",
       "\t\n",
       "\th3 {\n",
       "\t\tfont-family: 'Fenix', serif;\n",
       "\t}\n",
       "\t\n",
       "\th4 {\n",
       "\t\tfont-family: 'Fenix', serif;\n",
       "\t}\n",
       "\t\n",
       "\th5 {\n",
       "\t\tfont-family: 'Fenix', serif;\n",
       "\t}\n",
       "\t\n",
       "\tdiv.text_cell_render {\n",
       "\t\tfont-family: 'PT Serif', serif;\n",
       "\t\tline-height: 140%;\n",
       "\t\tfont-size: 100%;\n",
       "\t\twidth: 600px;\n",
       "\t\tmargin-left: auto;\n",
       "\t\tmargin-right: auto;\n",
       "\t}\n",
       "\t\n",
       "\t.CodeMirror {\n",
       "\t\tfont-family: \"Source Code Pro\";\n",
       "\t\tfont-size: 90%;\n",
       "\t}\n",
       "\t/*    .prompt{\n",
       "\t        display: None;\n",
       "\t    }*/\n",
       "\t\n",
       "\t.text_cell_render h1 {\n",
       "\t\tfont-weight: 200;\n",
       "\t\tfont-size: 38pt;\n",
       "\t\tline-height: 100%;\n",
       "\t\tcolor: #00a4d9;\n",
       "\t\tmargin-bottom: 0em;\n",
       "\t\tmargin-top: 0em;\n",
       "\t\tdisplay: block;\n",
       "\t\ttext-align: left !important;\n",
       "\t}\n",
       "\t\n",
       "\t.warning {\n",
       "\t\tcolor: rgb( 240, 20, 20 )\n",
       "\t}\n",
       "\t\n",
       "\t.report-header {\n",
       "\t\tborder-top: 8px solid #eee;\n",
       "\t\tpadding-top: 8px;\n",
       "\t\ttext-align: right;\n",
       "\t\tline-height: 100%;\n",
       "\t}\n",
       "\t\n",
       "\t.report-type {\n",
       "\t\tfont-size: 80%;\n",
       "\t\tfont-weight: bold;\n",
       "\t}\n",
       "\t\n",
       "\t.report-author {\n",
       "\t\tfont-size: 80%;\n",
       "\t}\n",
       "\t\n",
       "\t.report-date {\n",
       "\t\tfont-size: 80%;\n",
       "\t\tfont-style: italic;\n",
       "\t}\n",
       "\t\n",
       "\t.well {\n",
       "\t\topacity: 0.5;\n",
       "\t}\n",
       "\t\n",
       "\thr {\n",
       "\t\tborder-width: 6pt;\n",
       "\t}\n",
       "\t\n",
       "</style>"
      ],
      "text/plain": [
       "<IPython.core.display.HTML object>"
      ]
     },
     "execution_count": 1,
     "metadata": {},
     "output_type": "execute_result"
    }
   ],
   "source": [
    "# - Import required modules and configure; set report style \n",
    "\n",
    "import os, sys\n",
    "strToolboxPath = os.path.abspath(\"../../\")\n",
    "if strToolboxPath not in sys.path:\n",
    "    sys.path.append(strToolboxPath)\n",
    "\n",
    "# - Initialisation code to include custom report styles\n",
    "from IPython.core.display import HTML\n",
    "def css_styling():\n",
    "    styles = open(\"aictx-report.css\", \"r\").read()\n",
    "    return HTML(styles)\n",
    "css_styling()"
   ]
  },
  {
   "cell_type": "markdown",
   "metadata": {
    "hidden": true
   },
   "source": [
    "## Setup\n",
    "\n",
    "<br>\n",
    "\n",
    "### Connecting to Cortexcontrol\n",
    "\n",
    "In order to work interface the DynapSE chip, this layer relies on `Cortexcontrol`. It can either be used from within the `Cortexcontrol` console or by via an `RPyC` connection. In order to run some examples from within this jupyter notebook, we will do the latter. For this we start `Cortexcontrol` and run the following commands in its console (not in this notebook):\n",
    "\n",
    "<br>\n",
    "\n"
   ]
  },
  {
   "cell_type": "raw",
   "metadata": {},
   "source": [
    "import rpyc.utils.classic\n",
    "c = rpyc.utils.classic.SlaveService()\n",
    "from rpyc.utils.server import OneShotServer\n",
    "t = OneShotServer(c, port=1300)\n",
    "print(\"RPyC: Ready to start.\")\n",
    "t.start()\n"
   ]
  },
  {
   "cell_type": "markdown",
   "metadata": {},
   "source": [
    "### Using DynapseControl\n",
    "\n",
    "The `RecDynapSE` layer uses a `DynapseControl` object to interact with `Cortexcontrol` (see .... for more details). You can either pass an existing `DynapseControl` object to the layer upon instantiation, or let the layer create such an object. Either way, it can be accessed via the layer's `controller` attribute.\n",
    "\n",
    "<br>\n",
    "\n",
    "## Import"
   ]
  },
  {
   "cell_type": "code",
   "execution_count": 2,
   "metadata": {},
   "outputs": [],
   "source": [
    "# - Import recurrent RecDIAF layer\n",
    "from NetworksPython.layers import RecDynapSE"
   ]
  },
  {
   "cell_type": "markdown",
   "metadata": {},
   "source": [
    "<br>\n",
    "\n",
    "## Instantiation\n",
    "Some of the arguments that`RecDynapSE` objects are instantiated with are analogue to other `NetworksPython` objects, in partuclar recurrent layers such as `RecIAFTorch`, `RecIAFBrian` or `RecDIAF`. Others are more related to how the hardware is used:\n",
    "\n",
    "| Argument | Type | Default | Meaning |\n",
    "|----------|------|---------|---------|\n",
    "| `mfWIn` | 2D-`ndarray`| - | Input weights (required) |\n",
    "| `mfWRec` | 2D-`ndarray` | - | Recurrent weights (required) |\n",
    "| `vnLayerNeuronIDs` | 1D-`ArrayLike` | `None` | IDs of the layer neurons |\n",
    "| `vnVirtualNeuronIDs` | 1D-`ArrayLike` | `None` | IDs of the virtual (input) neurons |\n",
    "| `tDt` | `float` | `2e-5` | Time step |\n",
    "| `nMaxTrialsPerBatch` | `int` | `None` | Maximum number of trials in individual batch |\n",
    "| `tMaqxBatchDur` | `float` | `None` | Maximum duration time of individual batch |\n",
    "| `nMaxNumTimeSteps` | `int` | `None` | Maximum number of time steps in individual batch |\n",
    "| `nMaxEventsPerBatch` | `int` | `None` | Maximum number of input Events during individual batch |\n",
    "| `lInputCoreIDs` | `ArrayLike` | `[0]` | IDs of cores that receive input spikes |\n",
    "| `nInputChipID` | `int` | 0 | Chip that receives input spikes |\n",
    "| `lnClearCores` | `ArrayLike` | `None` | IDs of cores to be reset |\n",
    "| `controller` | `DynapseControl` | `None` | `DynapseControl` instance |\n",
    "| `strName` | `str` | \"unnamed\" | Layer name |\n",
    "\n",
    "`mfWIn` and `mfWRec` are the input and recurrent weights and have to be provided as 2D-arrays. `mfWIn` determines the layer's dimensions `nSIzeIn` and `nSize`. `mfWRec` has to be of size `nSize` x `nSize`.\n",
    "\n",
    "Inputs are sent to the chip through so-called virtual neurons. Each virtual neuron has an ID, just like a physical neuron. For this layer, each input channel corresponds to such a virtual neuron. \n",
    "\n",
    "You can choose which physical and virtual neurons are used for the layer by passing their IDs in `vnLayerNeuronIDs` and `vnVirtualNeuronIDs`, respectively. If these arguments are `None`, the neurons will be automatically allocated. (-rewrite the following part-)\n",
    "\n",
    "Any input spike to the layer translates to a virtual neuron emitting a spike. On the chip, these spikes are treated like those of other neurons, so if a neuron is set up to listen to a neuron with the same ID as the firing virtual neuron, it will also receive spikes from the virtual neuron. Therefore the entries of `vnLayerNeuronIDs` should be different from any value in `vnVirtualNeuronIDs`. `vnLayerNeuronIDs` is a 1D-array-like object of integers between 0 and 4095, which are the IDs of the DynapSE neurons that are to be used for the layer. Their ordering corresponds to the weight matrices, i.e. the n-th entry of `vnLayerNeuronIDs` corresponds to the same neuron as the n-th column in `mfWIn`. `vnVirtualNeuronIDs` contains the IDs of the virtual neurons that act as the source of incoming spikes to the layer. They can go from 0 to 1023 and should be different from any of the IDs in `vnLayerNeuronIDs`.\n",
    "\n",
    "`tDt` a positive `float` and corresponds to the smallest (nonzero) interval between events that are sent to the chip. It corresponds to the layer timesteps of other layers. Below, under \"tDt Size\" you can find some more thoughts on how to choose this value.\n",
    "\n",
    "As for now it is not possible with this layer to stream events (input spikes) continuously to the DynapSE. Therefore a group of events, consisting is transferred to the hardware, temporarily stored there and finally forwareded to the neurons at the . played back. This number is limited. Therefore layer evolution takes place in batches, during each of which events are sent and then finally \"played back\" as spikes of the virtual neurons. (... continue here)\n",
    "\n",
    "\n",
    "`strName` is a `str` that defines the layer's name. \n",
    "\n",
    "All of these values can be accessed and changed via `<Layer>.value`, where `<Layer>` is the instance of the layer.\n",
    "\n",
    "<br>\n",
    "\n",
    "## tDt size\n",
    "\n",
    "\n",
    "\n",
    "<br>\n",
    "\n",
    "## Evolution\n",
    "\n",
    "The `evolve` method takes the standard arguments `tsInput`, `tDuration`, `nNumTimeSteps` and `bVerbose`, which is currently not being used. Evolution duration is determined by the usual rules. If `tsInput` is provided, it must be a `TSEvent` object.\n",
    "\n",
    "Neurons will evolve and spike as described above. The method will return a `TSEvent` object containing the timings and IDs of the layer neurons' spikes. If there are spikes from neurons within the layer, that due to the spike delay would only be received after the end of the evolution period, they will be processed at the correct times during the next evolution.\n",
    "\n",
    "<br>\n",
    "\n",
    "## Resetting\n",
    "\n",
    "As usual the layer's time and state can be reset by the `reset_time`, `reset_state` and `reset_all` methods. When resetting the state, `vState` is set to `vfVReset`. Additionally, spikes from the previous evolution time step do not have any effect on future evolutions.\n",
    "\n",
    "<br>\n",
    "\n",
    "## Internal methods\n",
    "\n",
    "```\n",
    "_prepare_input(\n",
    "    tsInput: Optional[TSEvent] = None,\n",
    "    tDuration: Optional[float] = None,\n",
    ") -> (np.ndarray, float)\n",
    "```\n",
    "Called by evolve, which passes it its `tsInput` and `tDuration` arguments. `_prepare_input` will determine the correct evolution duration (which is always a multiple of `tDt`. It then returns the event times from `tsInput`,  the corresponding channel IDs, the evolution duration and the layer time after evolution.\n",
    "\n",
    "<br>\n",
    "\n",
    "## Class member overview\n",
    "\n",
    "<br>\n",
    "\n",
    "### Methods\n",
    "| Method | Description |\n",
    "|--------|-------------|\n",
    "| `_prepare_input` | Extract input data, determine evolution duration |\n",
    "| `evolve` | Evolve layer |\n",
    "| `reset_all` | Reset neuron states and layer time|\n",
    "| `reset_state` | Reset neuron states |\n",
    "| `reset_time` | Reset layer time to 0 |\n",
    "| `randomize_state` | Randomize neuron states to integer values within the value range. |\n",
    "<i> Internal methods of parent class</i> `Layer` <i> are listed in corresponding documentation. </i>\n",
    "\n",
    "<br>\n",
    "\n",
    "### Attributes\n",
    "\n",
    "Each argument that described in section Instantiation has a corresponding attribute that can be accessed by `<Layer>.<attribute>`, where `<Layer>` is the layer instance and `<attribute>` the argument name. Furthermore there are a few internal attributes:\n",
    "\n",
    "| Attribute name | Description |\n",
    "|----------------|-------------|\n",
    "| `_heapRemainingSpikes` | Heap of tuples containing the time and source ID of spikes that have not been processed, yet. |\n",
    "| `_mfWTotal` | 2D-`ndarray` of shape (`nSizeIn` + `nSize` + 2 , `nSize`), used during evolution for processing events |\n",
    "| `_nLeakChannel` | Leak is treated as a series of events. This is the channel ID assigned to them. |\n",
    "| `_nStateMax` | Largest possible value for `vState` |\n",
    "| `_nStateMin` | Smallest possible value for `vState` |\n",
    "| `_tMinRefractory` | Minimum allowed refractory period |\n"
   ]
  },
  {
   "cell_type": "markdown",
   "metadata": {},
   "source": [
    "#### Colophon\n",
    "Live notebook requires a Jupyter Notebook server.\n",
    "\n",
    "GitLab repository location: https://gitlab.com/ai-ctx/network-architectures/blob/master/Projects/Documentation/FFCLIAF%20and%20RecCLIAF.ipynb"
   ]
  },
  {
   "cell_type": "code",
   "execution_count": null,
   "metadata": {},
   "outputs": [],
   "source": []
  }
 ],
 "metadata": {
  "kernelspec": {
   "display_name": "Python 3",
   "language": "python",
   "name": "python3"
  },
  "language_info": {
   "codemirror_mode": {
    "name": "ipython",
    "version": 3
   },
   "file_extension": ".py",
   "mimetype": "text/x-python",
   "name": "python",
   "nbconvert_exporter": "python",
   "pygments_lexer": "ipython3",
   "version": "3.6.7"
  },
  "toc": {
   "nav_menu": {},
   "number_sections": false,
   "sideBar": true,
   "skip_h1_title": false,
   "title_cell": "Table of Contents",
   "title_sidebar": "Contents",
   "toc_cell": false,
   "toc_position": {
    "height": "calc(100% - 180px)",
    "left": "10px",
    "top": "150px",
    "width": "430px"
   },
   "toc_section_display": true,
   "toc_window_display": true
  },
  "varInspector": {
   "cols": {
    "lenName": 16,
    "lenType": 16,
    "lenVar": 40
   },
   "kernels_config": {
    "python": {
     "delete_cmd_postfix": "",
     "delete_cmd_prefix": "del ",
     "library": "var_list.py",
     "varRefreshCmd": "print(var_dic_list())"
    },
    "r": {
     "delete_cmd_postfix": ") ",
     "delete_cmd_prefix": "rm(",
     "library": "var_list.r",
     "varRefreshCmd": "cat(var_dic_list()) "
    }
   },
   "types_to_exclude": [
    "module",
    "function",
    "builtin_function_or_method",
    "instance",
    "_Feature"
   ],
   "window_display": false
  }
 },
 "nbformat": 4,
 "nbformat_minor": 2
}
