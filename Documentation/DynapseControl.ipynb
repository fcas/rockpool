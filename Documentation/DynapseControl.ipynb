{
 "cells": [
  {
   "cell_type": "markdown",
   "metadata": {},
   "source": [
    "<div class=\"report-header\"><div class=\"aictx-logo\"></div>\n",
    "<span class=\"report-type\">Documentation</span><br />\n",
    "<span class=\"report-author\">Author: Felix Bauer</span><br />\n",
    "<span class=\"report-date\">7th January, 2019</span>\n",
    "</div><h1>DynapseControl:</h1><h1>Interface for cortexcontrol</h1>"
   ]
  },
  {
   "cell_type": "markdown",
   "metadata": {},
   "source": [
    "This document illustrates how to use the `DynapseControl` class to interface `cortexcontrol` and the DynapSE processor."
   ]
  },
  {
   "cell_type": "markdown",
   "metadata": {
    "heading_collapsed": true
   },
   "source": [
    "##### Housekeeping and import statements"
   ]
  },
  {
   "cell_type": "code",
   "execution_count": 1,
   "metadata": {
    "hidden": true
   },
   "outputs": [],
   "source": [
    "# - Initialisation code to include custom report styles\n",
    "from IPython.core.display import HTML\n",
    "def css_styling():\n",
    "    styles = open(\"aictx-report.css\", \"r\").read()\n",
    "    return HTML(styles)\n",
    "css_styling()"
   ]
  },
  {
   "cell_type": "markdown",
   "metadata": {},
   "source": [
    "The `DynapseControl` class provides higher-level functionality for `cortexcontrol` and allows the `NetworksPython` framework to interact with the DynapSE processor. However, it can also be used from outside `NetworksPython`.\n",
    "\n",
    "<br>\n",
    "\n",
    "## Setup\n",
    "\n",
    "<br>\n",
    "\n",
    "### Connecting to Cortexcontrol\n",
    "\n",
    "In order to work interface the DynapSE chip, this layer relies on `Cortexcontrol`. It can either be used from within the `Cortexcontrol` console or via an `RPyC` connection. In order to run some examples from within this jupyter notebook, we will do the latter. For this we start `Cortexcontrol` and run the following commands in its console (not in this notebook):"
   ]
  },
  {
   "cell_type": "raw",
   "metadata": {},
   "source": [
    "import rpyc.utils.classic\n",
    "c = rpyc.utils.classic.SlaveService()\n",
    "from rpyc.utils.server import OneShotServer\n",
    "t = OneShotServer(c, port=1300)\n",
    "print(\"RPyC: Ready to start.\")\n",
    "t.start()"
   ]
  },
  {
   "cell_type": "markdown",
   "metadata": {},
   "source": [
    "If the `cortexcontrol` console prints <br>\n",
    "<i>\"RPyC: Ready to start.\"</i> <br>\n",
    "and nothing else, it is ready. Now through your usual python setup (console, iPython, jupyter, ...) you can import the class and instantiate a `DynapseControl` object.\n",
    "\n",
    "<br>\n",
    "\n",
    "### Import and class  instantiation\n",
    "\n",
    "The `DynapseControl` class can be imported from the `NetworksPython` package and is defined in the `dynapse_control` module. Objects can be instantiated without any arguments:\n"
   ]
  },
  {
   "cell_type": "code",
   "execution_count": 2,
   "metadata": {},
   "outputs": [
    {
     "name": "stderr",
     "output_type": "stream",
     "text": [
      "/home/felix/miniconda3/lib/python3.7/site-packages/tqdm/autonotebook/__init__.py:14: TqdmExperimentalWarning: Using `tqdm.autonotebook.tqdm` in notebook mode. Use `tqdm.tqdm` instead to force console mode (e.g. in jupyter console)\n",
      "  \" (e.g. in jupyter console)\", TqdmExperimentalWarning)\n"
     ]
    },
    {
     "name": "stdout",
     "output_type": "stream",
     "text": [
      "dynapse_control: RPyC connection established.\n",
      "dynapse_control: CtxDynapse modules loaded.\n",
      "dynapse_control: Initializing hardware.\n",
      "dynapse_control: Hardware has already been initialized.\n",
      "DynapseControl: Initializing DynapSE\n",
      "DynapseControl: Spike generator module ready.\n",
      "DynapseControl: Time constants of cores range(0, 16) have been reset.\n",
      "DynapseControl: Neurons initialized.\n",
      "\t 4092 hardware neurons and 4092 virtual neurons available.\n",
      "DynapseControl: Neuron connector initialized\n",
      "DynapseControl: Connections to cores None have been cleared.\n",
      "DynapseControl: FPGA spike generator prepared.\n",
      "DynapseControl ready.\n"
     ]
    }
   ],
   "source": [
    "# - Import class\n",
    "from NetworksPython import DynapseControl\n",
    "\n",
    "# - Easy instantiation\n",
    "dc = DynapseControl()"
   ]
  },
  {
   "cell_type": "markdown",
   "metadata": {},
   "source": [
    "There are two optional arguments:\n",
    "\n",
    "| Argument | Type | Default | Meaning |\n",
    "|----------|------|---------|---------|\n",
    "| `tFpgaIsiBase` | `float`| `2e-5` | Time step for sending data to hardware |\n",
    "| `lnClearCores` | `list` or `None` | `None` | IDs of cores whose configuration should be cleared. |\n",
    "\n",
    "`tFpgaIsiBase` is a `float` determines the time step size of the inter-spike intervals between events that are sent to the processor. For more details, see <i>FPGA</i>.\n",
    "\n",
    "`lnClearCores` can either be `None` or a list of integers. In the latter case the configurations of cores with corresponding IDs are wiped, so that  previously set synaptic connections, that the user may not aware of, are removed. To be more precise, the CAMs (pre-neuron IDs and pre-neuron core IDs) and the SRAMs (target chip ID, virtual core ID, core mask) are cleared. `lnClearCores` should include the IDs of all cores that you are going to work on. In order to save some time, you can omit the others. In case of an empty list or `None` as argument, no cores are cleared.\n",
    "\n",
    "<br>\n",
    "\n",
    "## Hardware\n",
    "\n",
    "Before we go into the details of how the class works, let us first have a brief look at some properties of the DynapSE.\n",
    "\n",
    "The DynapSE processor consists of 4 chips. Each chips has 4 cores of 256 neurons. The chips, as well as each core in a chip and each neuron in a core are identified with an ID between 0 and 3 or 0 and 256, respectively. However, this class uses logical IDs from 0 to 4095 that range over all neurons. In other words the logical neuron ID is $1024 \\cdot \\text{ChipID} + 256 \\cdot \\text{CoreID} + \\text{NeuronID}$.\n",
    "\n",
    "<br>\n",
    "\n",
    "### Setting connections\n",
    "\n",
    "#### Synapse types\n",
    "There are four different synapse types on the DynapSE: fast and slow excitatory as well as fast and slow inhibitory. Each neuron can receive inputs through up to 64 synapses, each of which can be any of the given types. Via `cortexcontrol` the synaptic behavior can be adjusted for each type and for each core, but not for individual synapses.\n",
    "\n",
    "There is a priori no difference between slow and fast excitatory synapses, so they can be set to have the same behavior. In fact, one could assign shorter time constants to the \"slow\" excitatory synapses, making them effectively the fast ones. While both excitatory and the fast inhibitory synapses work by adding or subtracting current to the neuron membrane, the slow inhibitory synapses use shunt inhibition and in practice silence a neuron very quickly.\n",
    "\n",
    "Note that all synapses that are of the same type and that are on the same core have the same weight. Different connection strengths between neurons can only be achieved by setting the same connection multiple times. \n",
    "\n",
    "<br>\n",
    "\n",
    "#### Understanding the routing scheme\n",
    "In particular if you want to implement complex or large networks that span over several cores, it is helpful to understand how connections are set on the DynapSE. Each neuron has 4 SRAM and 64 CAM cells. \n",
    "\n",
    "##### SRAM\n",
    "The SRAM cells determine where each neuron sends its output events, in other words, this will affect postsynaptic connections of the neuron. You can specify the following parameters:\n",
    "- `target_chip_id` $\\in [0, 4)$: ID of chip to which events are sent.\n",
    "- `core_mask` $\\in [0, 16)$: This value is converted to a 4-digit binary value, where each digit corresponds to one core and determines if this core receives events (1) or not (0).\n",
    "- `virtual_core_id` $\\in [0, 4)$: Neurons receive events from specific cores (see below). If this value is changed, the sending neuron pretends that it belongs to a different core than it actually does.\n",
    "Because each neuron has 4 SRAM cells it can send events to up to 4 chips.\n",
    "\n",
    "##### CAM\n",
    "In each CAM cell the neuron can be set to listen to (i.e. receive events from) one other neuron. In other words, presynaptic connections are set here. The following parameters can be set:\n",
    "- `pre_neuron_ID` $\\in [0, 256)$: The presynaptic neuron's ID within its core.\n",
    "- `pre_neuron_core_ID` $\\in [0, 1024)$: The core of the presynaptic neuron.\n",
    "\n",
    "These two values together uniquely define a presynaptic neuron on a single chip. From which chips the postsynaptic neuron receives the events is determined by which neurons (with corresponding ID and core) send to the core where the postsynaptic neuron is located (i.e. the presynaptic neurons must have matching `target_chip_id` and `core_mask` in their SRAMs (see above).\n",
    "- `type`: The synapse type of this connection.\n",
    "The `type`s are `DynapseCamType` objects that can be accessed from the `dynapse_control` module as: `SynapseTypes.<type>` where `<type>` is `FAST_EXC`, `SLOW_EXC`, `FAST_INH` or `SLOW_INH`. Using the `DynapseControl` class these synapse typse can be accessed as `DynapseControl.synFE`, `DynapseControl.synSE`, `DynapseControl.synFI` and  `DynapseControl.synSI`, respectively.\n",
    "Becuase each neuron has 64 CAM cells, it can have at most 64 presynaptic connections.\n",
    "\n",
    "<br>\n",
    "\n",
    "### Sending events\n",
    "\n",
    "#### Virtual neurons\n",
    "Inputs are sent to the hardware through so-called virtual neurons. Every virtual neuron on the DynapSE has a logical ID, which ranges from 0 to 1023.  An event that is sent to the hardware translates into a virtual neuron emitting a spike.\n",
    "\n",
    "If a physical neuron $m$ is set to receive spikes from a neuron with logical ID $n$, it makes no difference if a virtual or a pysical neuron with this ID is firing (as long as the firing neuron's target chip IDs and core masks include the location $m$). Neuron $m$ will receive the spikes in both cases. Because this can cause unexpected behavior it is recommended that the IDs of the physical neurons are pairwise different from the IDs of of the virtual neurons.\n",
    "\n",
    "#### FPGA\n",
    "As for now it is not possible with `DynapseControl` to stream events continuously to the DynapSE. Instead, events are first sent to an FPGA, temporarily stored there and then translated to spikes of virtual neurons, with temporal order and inter-spike intervals matching the input signal. The number of events that can be sent at once is limited to $2^{16} - 1 = 65535$. Longer inputs need to be split up.\n",
    "\n",
    "Inter-spike intervals must be multiples of a time step, which in `DynapseControl` is stored as `tFpgaIsiBase`. This time step, in return,  needs to be a multiple of $11.\\overline{1} \\cdot 10^{-9} \\text{ s}$.\n",
    "\n",
    "Although the size of `tFpgaIsiBase` has no effect on computation time, it is not always advisable to choose the smallest possible value. The reason is that the number of timesteps between two input spikes is limited to $2^{16}-1 = 65535$. This means that with `tFpgaIsiBase` $= 11.\\overline{1} \\cdot 10^{-9} \\text{ s}$, any inter-spike interval longer than about 0.73 milliseconds is already above the limit. `DynapseControl` will automatically reduce inter-spike intervals that are too long by inserting \"dummy\" events that are not routed to any neuron on the chip. However, if too many are inserted, the maximum number of input events can be exceeded and the input will have to be split up. In this case a `MemoryError` will be raised.\n",
    "\n",
    "Therefore it makes sense to set `tFpgaIsiBase` to something between $10^{-6}$ and $10^{-4}$ seconds, in order to allow for sufficiently long silent parts in the input while still maintaining a good temporal resolution. Alternatively one could send dummy events that do not target any physical neuron. However, transmission of events to the processor is not the fastest and the more events are sent, the longer it takes.\n",
    "\n",
    "<br>\n",
    "\n",
    "### Receiving events\n",
    "In order to record the firing activity of neurons `EventFilter` and `BufferedEventFilter` objects can be used. Each can be set to listen to a specific population of neurons. `EventFilter`s will call a callback function, each time one of the specified neurons fires. `BufferedEventFilter`s will store `event` objects in a buffer until they are fetched. For more details refer to the <a href=\"http://ai-ctx.gitlab.io/ctxctl/primer.html#CtxDynapse.EventFilter\">cortexcontrol documentation</a>.\n",
    "\n",
    "Currently the `DynapseControl` class only supports the use of a single `BufferedEventFilters`, which can be added or changed with the `add_buffered_filter` method. It will stop recording when the `clear_buffered_filter` method is called.\n",
    "\n",
    "<font color=\"red\">\n",
    "- EventFilter and BufferedEventFilter\n",
    "</font>\n",
    "\n",
    "### Time constants for neurons\n",
    "For each core the neuron time constants can be set through the biases `IF_TAU1_N` and `IF_TAU2_N`. Higher values correspond to shorter time constants and effectively make it less likely that the neurons will fire. For each neuron you can choose which of the two time constant biases applies. This can be useful, for example by setting the value of `IF_TAU2_N` very high, making it almost impossible for a neuron to fire. Neurons that fire in an uncontrollable way (so-called hot neurons) can then be silenced by assigning them `TAU2` instead of `TAU1`.\n",
    "Neurons are assigned `TAU2` with the `silence_neurons` method. All neurons of specified cores are assigned `TAU1` with the `reset_silencing` method. Note that the names of these methods are chosen under the assumption that the bias for `TAU2` has been set to a high value. The neurons are not silenced per se by those methods.\n",
    "\n",
    "\n",
    "### Neuron allocation\n",
    "\n",
    "### Shadow state neurons\n",
    "\n",
    "<br>\n",
    "\n",
    "## Methods overview\n",
    "Now that a `DynapseControl` has been instantiated, there are many ways of using it to interact with the hardware. This section will give an overview over all mehtods that are currently implemented. For more details please consult the documentation within the source code. \n",
    "\n",
    "<br>\n",
    "\n",
    "### Neuron allocation and connections\n",
    "\n",
    "`allocate_hw_neurons`<br>\n",
    "Allocate neurons if available and return them in lists.\n",
    "\n",
    "`allocate_virtual_neurons`<br>\n",
    "Allocate virtual neurons if available and return them in list.\n",
    "\n",
    "`connect_to_virtual`<br>\n",
    "Connect populations of virtual and physical neurons.\n",
    "\n",
    "`set_virtual_connections_from_weights`<br>\n",
    "Set connections from virtual to physical neurons from weight matrix.\n",
    "\n",
    "`set_connections_from_weights`<br>\n",
    "Set connections between physical neurons from weight matrix.\n",
    "\n",
    "`remove_all_connections_to`<br>\n",
    "Remove all presynaptic connections to specified neurons.\n",
    "\n",
    "<br>\n",
    "\n",
    "### Resetting\n",
    "\n",
    "`clear_connections` <br>\n",
    "Reset connections for specified cores.\n",
    "\n",
    "`reset_silencing` <br>\n",
    "Assign time constant `TAU1` to all neurons on specified cores.\n",
    "\n",
    "`reset_cores` <br>\n",
    "Reset neuron assignments, time constants and presynaptic connections for specified cores.\n",
    "\n",
    "`reset_all` <br>\n",
    "Reset neuron assignments, time constants and presynaptic connections for all cores.\n",
    "\n",
    "<br>\n",
    "\n",
    "### Stimulation and event generation\n",
    "`start_cont_stim`<br>\n",
    "Start sending events to processor with fixed frequency.\n",
    "\n",
    "`stop_stim`<br>\n",
    "Stop any ongoing stimulation except poisson-rate stimulation.\n",
    "\n",
    "`start_poisson_stim`<br>\n",
    "Start generating events by poisson processes and send them.\n",
    "\n",
    "`stop_poisson_stim`<br>\n",
    "Stop generating events by poisson processes and send them.\n",
    "\n",
    "`reset_poisson_rates`<br>\n",
    "Set rates for poisson event generation to 0.\n",
    "\n",
    "`send_pulse`<br>\n",
    "Send a pulse of periodic input events.\n",
    "\n",
    "`send_TSEvent`<br>\n",
    "Extract events from a `TSEvent` object and send them to the processor. Can record neuron activity simultaneously.\n",
    "\n",
    "`send_arrays`<br>\n",
    "Extract events from arrays (times and channels) and send them to the processor. Can record neuron activity simultaneously.\n",
    "\n",
    "<br>\n",
    "\n",
    "### Tuning and observing activities\n",
    "\n",
    "`add_buffered_event_filter`<br>\n",
    "Add a `BufferedEventFilter` to record activities from specified neurons.\n",
    "\n",
    "`clear_buffered_event_filter`<br>\n",
    "Stop recording neuron activities.\n",
    "\n",
    "`collect_spiking_neurons`<br>\n",
    "Return a list of neurons that spike during a specified time.\n",
    "\n",
    "`silence_hot_neurons`<br>\n",
    "Set time constant to `TAU2` for neurons that spike during specified time.\n",
    "\n",
    "`measure_population_firing_rates`<br>\n",
    "Measure firing rates for multiple neuron populations.\n",
    "\n",
    "`measure_firing_rates`<br>\n",
    "Measure firing rates of specified neurons.\n",
    "\n",
    "`monitor_firing_rates`<br>\n",
    "Start periodically printing the average firing rates for specified neurons.\n",
    "\n",
    "`stop_monitor`<br>\n",
    "Stop measuring and printing firing rates.\n",
    "\n",
    "`sweep_freq_measure_rate`<br>\n",
    "Stimulate a group of neurons by sweeping over a list of input frequencies. Measure their firing rates.\n",
    "\n",
    "<br>\n",
    "\n",
    "### Load and save biases\n",
    "\n",
    "`load_biases`<br>\n",
    "Load biases from file.\n",
    "\n",
    "`save_biases`<br>\n",
    "Save biases to file.\n",
    "\n",
    "`copy_biases`<br>\n",
    "Copy biases from one core to other(s).\n",
    "\n",
    "<br>\n",
    "\n",
    "## Using RPyC\n",
    "\n",
    "This section contains useful information if you want to contribute own methods for interacting with the processor. For this we will use a few objects from the `dynapse_control`, in which also the `DynapseControl` class is defined. We will also import the `time` function from the eponymous built-in package to do compare efficiency of different approaches."
   ]
  },
  {
   "cell_type": "code",
   "execution_count": 2,
   "metadata": {},
   "outputs": [
    {
     "name": "stderr",
     "output_type": "stream",
     "text": [
      "/home/felix/miniconda3/lib/python3.7/site-packages/tqdm/autonotebook/__init__.py:14: TqdmExperimentalWarning: Using `tqdm.autonotebook.tqdm` in notebook mode. Use `tqdm.tqdm` instead to force console mode (e.g. in jupyter console)\n",
      "  \" (e.g. in jupyter console)\", TqdmExperimentalWarning)\n"
     ]
    },
    {
     "ename": "ImportError",
     "evalue": "cannot import name 'dynapse_control' from 'NetworksPython' (/home/felix/gitlab/network-architectures/NetworksPython/__init__.py)",
     "output_type": "error",
     "traceback": [
      "\u001b[0;31m---------------------------------------------------------------------------\u001b[0m",
      "\u001b[0;31mImportError\u001b[0m                               Traceback (most recent call last)",
      "\u001b[0;32m<ipython-input-2-90e21c890119>\u001b[0m in \u001b[0;36m<module>\u001b[0;34m\u001b[0m\n\u001b[1;32m      1\u001b[0m \u001b[0;31m# - Import NetworksPython.dynapse_control and built-in time package\u001b[0m\u001b[0;34m\u001b[0m\u001b[0;34m\u001b[0m\u001b[0;34m\u001b[0m\u001b[0m\n\u001b[0;32m----> 2\u001b[0;31m \u001b[0;32mfrom\u001b[0m \u001b[0mNetworksPython\u001b[0m \u001b[0;32mimport\u001b[0m \u001b[0mdynapse_control\u001b[0m \u001b[0;32mas\u001b[0m \u001b[0mDC\u001b[0m\u001b[0;34m\u001b[0m\u001b[0;34m\u001b[0m\u001b[0m\n\u001b[0m\u001b[1;32m      3\u001b[0m \u001b[0;32mfrom\u001b[0m \u001b[0mtime\u001b[0m \u001b[0;32mimport\u001b[0m \u001b[0mtime\u001b[0m\u001b[0;34m\u001b[0m\u001b[0;34m\u001b[0m\u001b[0m\n",
      "\u001b[0;31mImportError\u001b[0m: cannot import name 'dynapse_control' from 'NetworksPython' (/home/felix/gitlab/network-architectures/NetworksPython/__init__.py)"
     ]
    }
   ],
   "source": [
    "# - Import NetworksPython.dynapse_control and built-in time package\n",
    "from NetworksPython import dynapse_control as DC\n",
    "from time import time"
   ]
  },
  {
   "cell_type": "markdown",
   "metadata": {},
   "source": [
    "In order to communicate with `cortexcontrol`, the `dynapse_control` module uses the `RPyC` package (https://rpyc.readthedocs.io/en/latest/), which establishes a connection where `cortexcontrol` acts as a server that can execute python commands sent by the `dynapse_control` module. \n",
    "<br>\n",
    "\n",
    "#### Adding objects to `cortexcontrol` namespace\n",
    "It is important to note that `cortexcontrol` uses its own python interpreter with its own namespace. Therefore you need to make sure that objects and modules that are to be used there are properly defined. The `dynapse_control` module has a dictionary-like object called `conn.namespace`, where you can add items in order to add an object to the namespace of `cortexcontrol`, like in the following example:"
   ]
  },
  {
   "cell_type": "code",
   "execution_count": 1,
   "metadata": {},
   "outputs": [
    {
     "ename": "NameError",
     "evalue": "name 'DC' is not defined",
     "output_type": "error",
     "traceback": [
      "\u001b[0;31m---------------------------------------------------------------------------\u001b[0m",
      "\u001b[0;31mNameError\u001b[0m                                 Traceback (most recent call last)",
      "\u001b[0;32m<ipython-input-1-523d2b38979d>\u001b[0m in \u001b[0;36m<module>\u001b[0;34m\u001b[0m\n\u001b[1;32m      2\u001b[0m \u001b[0mlNumbers\u001b[0m \u001b[0;34m=\u001b[0m \u001b[0;34m[\u001b[0m\u001b[0;36m1\u001b[0m\u001b[0;34m,\u001b[0m\u001b[0;36m2\u001b[0m\u001b[0;34m,\u001b[0m\u001b[0;36m3\u001b[0m\u001b[0;34m,\u001b[0m\u001b[0;36m4\u001b[0m\u001b[0;34m,\u001b[0m\u001b[0;36m5\u001b[0m\u001b[0;34m]\u001b[0m\u001b[0;34m\u001b[0m\u001b[0;34m\u001b[0m\u001b[0m\n\u001b[1;32m      3\u001b[0m \u001b[0;31m# - Make it accessible in the namespace of cortexcontrol\u001b[0m\u001b[0;34m\u001b[0m\u001b[0;34m\u001b[0m\u001b[0;34m\u001b[0m\u001b[0m\n\u001b[0;32m----> 4\u001b[0;31m \u001b[0mDC\u001b[0m\u001b[0;34m.\u001b[0m\u001b[0mconn\u001b[0m\u001b[0;34m.\u001b[0m\u001b[0mnamespace\u001b[0m\u001b[0;34m[\u001b[0m\u001b[0;34m\"lNumbers\"\u001b[0m\u001b[0;34m]\u001b[0m \u001b[0;34m=\u001b[0m \u001b[0mlNumbers\u001b[0m\u001b[0;34m\u001b[0m\u001b[0;34m\u001b[0m\u001b[0m\n\u001b[0m",
      "\u001b[0;31mNameError\u001b[0m: name 'DC' is not defined"
     ]
    }
   ],
   "source": [
    "# - Define some object\n",
    "lNumbers = [1,2,3,4,5]\n",
    "# - Make it accessible in the namespace of cortexcontrol\n",
    "DC.conn.namespace[\"lNumbers\"] = lNumbers"
   ]
  },
  {
   "cell_type": "markdown",
   "metadata": {},
   "source": [
    "#### Using built-in python modules\n",
    "You can use built-in python modules such as `copy`, `time`, etc. within the `cortexcontrol` environment. For this you need to add `conn.modules.<built-in name>` to `conn.namespace`:"
   ]
  },
  {
   "cell_type": "code",
   "execution_count": null,
   "metadata": {},
   "outputs": [],
   "source": [
    "# - Add copy module to cortexcontrol namespace\n",
    "DC.conn.namespace[\"copy\"] = DC.conn.modules.copy"
   ]
  },
  {
   "cell_type": "markdown",
   "metadata": {},
   "source": [
    "### Pitfalls\n",
    "\n",
    "#### Non-built-in objects\n",
    " no additional packages available other than `RPyC`. This means it will not be able to run commands that use non-built-in packages. Even though sometimes it can process corresponding objects, such as `numpy.ndarray`s, it is in general safer to convert such objects into similar built-in objects, such as lists. \n",
    "\n",
    "#### Data transfer\n",
    "Repeatedly sending even small chunks of data through the `RPyC` connection takes a lot of time and should be avoided. This can happen for instance in loops that use objects on the other side of the connections. For example, a function in `dynapse_control` that loops over objects from the `cortexcontrol` environment, such as neurons, will be very inefficient:"
   ]
  },
  {
   "cell_type": "code",
   "execution_count": 12,
   "metadata": {},
   "outputs": [
    {
     "name": "stdout",
     "output_type": "stream",
     "text": [
      "Took 2.399355173110962 s\n"
     ]
    }
   ],
   "source": [
    "t0 = time()\n",
    "\n",
    "## -- Inefficient, avoid such loops:\n",
    "# - List of neurons - lives on other side of connection\n",
    "lNeurons = dc.model.get_neurons()\n",
    "# - List of neuron IDs\n",
    "lIDs = []\n",
    "for neuron in lNeurons:\n",
    "    # - At each iteration, data will be transferred to this side of the connection\n",
    "    lIDs.append(neuron.get_id())\n",
    "print(\"Took {} s\".format(time()-t0))"
   ]
  },
  {
   "cell_type": "markdown",
   "metadata": {},
   "source": [
    "A better solution in this case would be to define a function that lives on the `cortexcontrol`-side (using the `@teleport_function` or `@remote_function` decorators - more details below) and generates the list there before sending it our side:"
   ]
  },
  {
   "cell_type": "code",
   "execution_count": 13,
   "metadata": {},
   "outputs": [
    {
     "name": "stdout",
     "output_type": "stream",
     "text": [
      "Took 0.020653963088989258 s\n"
     ]
    }
   ],
   "source": [
    "## -- Better: Process objects locally, send data only once\n",
    "\n",
    "# - Define function on other side of connection wiht teleport_function decorator\n",
    "@DC.teleport_function\n",
    "def get_neuron_ids():\n",
    "    lNeurons = CtxDynapse.model.get_neurons()\n",
    "    # - List of neuron IDs\n",
    "    lIDs = []\n",
    "    for neuron in lNeurons:\n",
    "        # - Data remains on one side of connection\n",
    "        lIDs.append(neuron.get_id()) \n",
    "    return lIDs\n",
    "\n",
    "t0 = time()\n",
    "\n",
    "lIDs = get_neuron_ids()\n",
    "\n",
    "print(\"Took {} s\".format(time()-t0))"
   ]
  },
  {
   "cell_type": "markdown",
   "metadata": {},
   "source": [
    "Be careful with function arguments and returns - an object will live on the side of the connection where it has been created. Use the `copy` module (or `deepcopy` for nested objects) to make sure, all data is transmitted to where you want to work with it. \n",
    "\n",
    "You can always see where an object lives by using `print(type(<object>))`. If the object is on the other side of the connection, its type will contain `netref`. This is always relative to the place where the command is called, so if it is called from within a funciton on the `cortexcontrol`-side and the output contains `netref`, the object is on the `dynapse_control`-side. A print statement called within `cortexcontrol` will print into the `cortexcontrol`-console."
   ]
  },
  {
   "cell_type": "code",
   "execution_count": 23,
   "metadata": {},
   "outputs": [
    {
     "name": "stdout",
     "output_type": "stream",
     "text": [
      "<netref class 'builtins.list'>\n",
      "<class 'list'>\n"
     ]
    }
   ],
   "source": [
    "import copy\n",
    "\n",
    "# - List still lives in cortexcontrol. Looping over it would be inefficient.\n",
    "lIDs = get_neuron_ids()\n",
    "print(type(lIDs))\n",
    "# - Copy it to this side \n",
    "lIDs = copy.copy(lIDs)\n",
    "print(type(lIDs))"
   ]
  },
  {
   "cell_type": "markdown",
   "metadata": {},
   "source": [
    "Be particularly careful with container objects, such as lists. It may happen that the container lives on a different side of a connection than its contained elements. This will inevitably cause performance issues.\n",
    "\n",
    "One especially perfidious case are numbers that originate from `numpy` functions. They are often `numpy`-specific types such as `np.int64`. Even if you convert an array containing such numbers to a list, they will be of this special type. When this list is sent to a function on the other side of the loop, they will remain on your side of the connection, and `copy` or `deepcopy` on the `cortexcontrol`-side can't handle them. You should therefore loop over them and convert them to normal `int`s or `float`s. We will see below that there is a way to do this (semi-) automatically. The following code cell will throw an execption while the next one works."
   ]
  },
  {
   "cell_type": "code",
   "execution_count": 29,
   "metadata": {},
   "outputs": [
    {
     "name": "stdout",
     "output_type": "stream",
     "text": [
      "<class 'numpy.int64'>\n"
     ]
    },
    {
     "ename": "ModuleNotFoundError",
     "evalue": "No module named 'numpy'\n\n========= Remote Traceback (1) =========\nTraceback (most recent call last):\n  File \"/home/felix/cortexcontrol/python/site-packages/rpyc/core/protocol.py\", line 329, in _dispatch_request\n    res = self._HANDLERS[handler](self, *args)\n  File \"/home/felix/cortexcontrol/python/site-packages/rpyc/core/protocol.py\", line 590, in _handle_call\n    return obj(*args, **dict(kwargs))\n  File \"<ipython-input-29-8db39063a536>\", line 15, in print_values_copy\n  File \"/home/felix/cortexcontrol/python/lib/python3.7/copy.py\", line 106, in copy\n    return _reconstruct(x, None, *rv)\n  File \"/home/felix/cortexcontrol/python/lib/python3.7/copy.py\", line 274, in _reconstruct\n    y = func(*args)\nModuleNotFoundError: No module named 'numpy'\n",
     "output_type": "error",
     "traceback": [
      "\u001b[0;31m---------------------------------------------------------------------------\u001b[0m",
      "\u001b[0;31mModuleNotFoundError\u001b[0m                       Traceback (most recent call last)",
      "\u001b[0;32m<ipython-input-29-8db39063a536>\u001b[0m in \u001b[0;36m<module>\u001b[0;34m\u001b[0m\n\u001b[1;32m     21\u001b[0m \u001b[0mprint\u001b[0m\u001b[0;34m(\u001b[0m\u001b[0mtype\u001b[0m\u001b[0;34m(\u001b[0m\u001b[0mlNumbers\u001b[0m\u001b[0;34m[\u001b[0m\u001b[0;36m0\u001b[0m\u001b[0;34m]\u001b[0m\u001b[0;34m)\u001b[0m\u001b[0;34m)\u001b[0m\u001b[0;34m\u001b[0m\u001b[0;34m\u001b[0m\u001b[0m\n\u001b[1;32m     22\u001b[0m \u001b[0mprint_values\u001b[0m\u001b[0;34m(\u001b[0m\u001b[0mlNumbers\u001b[0m\u001b[0;34m)\u001b[0m\u001b[0;34m\u001b[0m\u001b[0;34m\u001b[0m\u001b[0m\n\u001b[0;32m---> 23\u001b[0;31m \u001b[0mprint_values_copy\u001b[0m\u001b[0;34m(\u001b[0m\u001b[0mlNumbers\u001b[0m\u001b[0;34m)\u001b[0m\u001b[0;34m\u001b[0m\u001b[0;34m\u001b[0m\u001b[0m\n\u001b[0m",
      "\u001b[0;32m~/miniconda3/lib/python3.7/site-packages/rpyc/core/netref.py\u001b[0m in \u001b[0;36m__call__\u001b[0;34m(_self, *args, **kwargs)\u001b[0m\n\u001b[1;32m    197\u001b[0m         \u001b[0;32mdef\u001b[0m \u001b[0m__call__\u001b[0m\u001b[0;34m(\u001b[0m\u001b[0m_self\u001b[0m\u001b[0;34m,\u001b[0m \u001b[0;34m*\u001b[0m\u001b[0margs\u001b[0m\u001b[0;34m,\u001b[0m \u001b[0;34m**\u001b[0m\u001b[0mkwargs\u001b[0m\u001b[0;34m)\u001b[0m\u001b[0;34m:\u001b[0m\u001b[0;34m\u001b[0m\u001b[0;34m\u001b[0m\u001b[0m\n\u001b[1;32m    198\u001b[0m             \u001b[0mkwargs\u001b[0m \u001b[0;34m=\u001b[0m \u001b[0mtuple\u001b[0m\u001b[0;34m(\u001b[0m\u001b[0mkwargs\u001b[0m\u001b[0;34m.\u001b[0m\u001b[0mitems\u001b[0m\u001b[0;34m(\u001b[0m\u001b[0;34m)\u001b[0m\u001b[0;34m)\u001b[0m\u001b[0;34m\u001b[0m\u001b[0;34m\u001b[0m\u001b[0m\n\u001b[0;32m--> 199\u001b[0;31m             \u001b[0;32mreturn\u001b[0m \u001b[0msyncreq\u001b[0m\u001b[0;34m(\u001b[0m\u001b[0m_self\u001b[0m\u001b[0;34m,\u001b[0m \u001b[0mconsts\u001b[0m\u001b[0;34m.\u001b[0m\u001b[0mHANDLE_CALL\u001b[0m\u001b[0;34m,\u001b[0m \u001b[0margs\u001b[0m\u001b[0;34m,\u001b[0m \u001b[0mkwargs\u001b[0m\u001b[0;34m)\u001b[0m\u001b[0;34m\u001b[0m\u001b[0;34m\u001b[0m\u001b[0m\n\u001b[0m\u001b[1;32m    200\u001b[0m         \u001b[0m__call__\u001b[0m\u001b[0;34m.\u001b[0m\u001b[0m__doc__\u001b[0m \u001b[0;34m=\u001b[0m \u001b[0mdoc\u001b[0m\u001b[0;34m\u001b[0m\u001b[0;34m\u001b[0m\u001b[0m\n\u001b[1;32m    201\u001b[0m         \u001b[0;32mreturn\u001b[0m \u001b[0m__call__\u001b[0m\u001b[0;34m\u001b[0m\u001b[0;34m\u001b[0m\u001b[0m\n",
      "\u001b[0;32m~/miniconda3/lib/python3.7/site-packages/rpyc/core/netref.py\u001b[0m in \u001b[0;36msyncreq\u001b[0;34m(proxy, handler, *args)\u001b[0m\n\u001b[1;32m     73\u001b[0m     \"\"\"\n\u001b[1;32m     74\u001b[0m     \u001b[0mconn\u001b[0m \u001b[0;34m=\u001b[0m \u001b[0mobject\u001b[0m\u001b[0;34m.\u001b[0m\u001b[0m__getattribute__\u001b[0m\u001b[0;34m(\u001b[0m\u001b[0mproxy\u001b[0m\u001b[0;34m,\u001b[0m \u001b[0;34m\"____conn__\"\u001b[0m\u001b[0;34m)\u001b[0m\u001b[0;34m\u001b[0m\u001b[0;34m\u001b[0m\u001b[0m\n\u001b[0;32m---> 75\u001b[0;31m     \u001b[0;32mreturn\u001b[0m \u001b[0mconn\u001b[0m\u001b[0;34m.\u001b[0m\u001b[0msync_request\u001b[0m\u001b[0;34m(\u001b[0m\u001b[0mhandler\u001b[0m\u001b[0;34m,\u001b[0m \u001b[0mproxy\u001b[0m\u001b[0;34m,\u001b[0m \u001b[0;34m*\u001b[0m\u001b[0margs\u001b[0m\u001b[0;34m)\u001b[0m\u001b[0;34m\u001b[0m\u001b[0;34m\u001b[0m\u001b[0m\n\u001b[0m\u001b[1;32m     76\u001b[0m \u001b[0;34m\u001b[0m\u001b[0m\n\u001b[1;32m     77\u001b[0m \u001b[0;32mdef\u001b[0m \u001b[0masyncreq\u001b[0m\u001b[0;34m(\u001b[0m\u001b[0mproxy\u001b[0m\u001b[0;34m,\u001b[0m \u001b[0mhandler\u001b[0m\u001b[0;34m,\u001b[0m \u001b[0;34m*\u001b[0m\u001b[0margs\u001b[0m\u001b[0;34m)\u001b[0m\u001b[0;34m:\u001b[0m\u001b[0;34m\u001b[0m\u001b[0;34m\u001b[0m\u001b[0m\n",
      "\u001b[0;32m~/miniconda3/lib/python3.7/site-packages/rpyc/core/protocol.py\u001b[0m in \u001b[0;36msync_request\u001b[0;34m(self, handler, *args)\u001b[0m\n\u001b[1;32m    469\u001b[0m         \"\"\"\n\u001b[1;32m    470\u001b[0m         \u001b[0mtimeout\u001b[0m \u001b[0;34m=\u001b[0m \u001b[0mself\u001b[0m\u001b[0;34m.\u001b[0m\u001b[0m_config\u001b[0m\u001b[0;34m[\u001b[0m\u001b[0;34m\"sync_request_timeout\"\u001b[0m\u001b[0;34m]\u001b[0m\u001b[0;34m\u001b[0m\u001b[0;34m\u001b[0m\u001b[0m\n\u001b[0;32m--> 471\u001b[0;31m         \u001b[0;32mreturn\u001b[0m \u001b[0mself\u001b[0m\u001b[0;34m.\u001b[0m\u001b[0masync_request\u001b[0m\u001b[0;34m(\u001b[0m\u001b[0mhandler\u001b[0m\u001b[0;34m,\u001b[0m \u001b[0;34m*\u001b[0m\u001b[0margs\u001b[0m\u001b[0;34m,\u001b[0m \u001b[0mtimeout\u001b[0m\u001b[0;34m=\u001b[0m\u001b[0mtimeout\u001b[0m\u001b[0;34m)\u001b[0m\u001b[0;34m.\u001b[0m\u001b[0mvalue\u001b[0m\u001b[0;34m\u001b[0m\u001b[0;34m\u001b[0m\u001b[0m\n\u001b[0m\u001b[1;32m    472\u001b[0m \u001b[0;34m\u001b[0m\u001b[0m\n\u001b[1;32m    473\u001b[0m     \u001b[0;32mdef\u001b[0m \u001b[0m_async_request\u001b[0m\u001b[0;34m(\u001b[0m\u001b[0mself\u001b[0m\u001b[0;34m,\u001b[0m \u001b[0mhandler\u001b[0m\u001b[0;34m,\u001b[0m \u001b[0margs\u001b[0m \u001b[0;34m=\u001b[0m \u001b[0;34m(\u001b[0m\u001b[0;34m)\u001b[0m\u001b[0;34m,\u001b[0m \u001b[0mcallback\u001b[0m \u001b[0;34m=\u001b[0m \u001b[0;34m(\u001b[0m\u001b[0;32mlambda\u001b[0m \u001b[0ma\u001b[0m\u001b[0;34m,\u001b[0m \u001b[0mb\u001b[0m\u001b[0;34m:\u001b[0m \u001b[0;32mNone\u001b[0m\u001b[0;34m)\u001b[0m\u001b[0;34m)\u001b[0m\u001b[0;34m:\u001b[0m\u001b[0;34m\u001b[0m\u001b[0;34m\u001b[0m\u001b[0m\n",
      "\u001b[0;32m~/miniconda3/lib/python3.7/site-packages/rpyc/core/async_.py\u001b[0m in \u001b[0;36mvalue\u001b[0;34m(self)\u001b[0m\n\u001b[1;32m     95\u001b[0m         \u001b[0mself\u001b[0m\u001b[0;34m.\u001b[0m\u001b[0mwait\u001b[0m\u001b[0;34m(\u001b[0m\u001b[0;34m)\u001b[0m\u001b[0;34m\u001b[0m\u001b[0;34m\u001b[0m\u001b[0m\n\u001b[1;32m     96\u001b[0m         \u001b[0;32mif\u001b[0m \u001b[0mself\u001b[0m\u001b[0;34m.\u001b[0m\u001b[0m_is_exc\u001b[0m\u001b[0;34m:\u001b[0m\u001b[0;34m\u001b[0m\u001b[0;34m\u001b[0m\u001b[0m\n\u001b[0;32m---> 97\u001b[0;31m             \u001b[0;32mraise\u001b[0m \u001b[0mself\u001b[0m\u001b[0;34m.\u001b[0m\u001b[0m_obj\u001b[0m\u001b[0;34m\u001b[0m\u001b[0;34m\u001b[0m\u001b[0m\n\u001b[0m\u001b[1;32m     98\u001b[0m         \u001b[0;32melse\u001b[0m\u001b[0;34m:\u001b[0m\u001b[0;34m\u001b[0m\u001b[0;34m\u001b[0m\u001b[0m\n\u001b[1;32m     99\u001b[0m             \u001b[0;32mreturn\u001b[0m \u001b[0mself\u001b[0m\u001b[0;34m.\u001b[0m\u001b[0m_obj\u001b[0m\u001b[0;34m\u001b[0m\u001b[0;34m\u001b[0m\u001b[0m\n",
      "\u001b[0;31mModuleNotFoundError\u001b[0m: No module named 'numpy'\n\n========= Remote Traceback (1) =========\nTraceback (most recent call last):\n  File \"/home/felix/cortexcontrol/python/site-packages/rpyc/core/protocol.py\", line 329, in _dispatch_request\n    res = self._HANDLERS[handler](self, *args)\n  File \"/home/felix/cortexcontrol/python/site-packages/rpyc/core/protocol.py\", line 590, in _handle_call\n    return obj(*args, **dict(kwargs))\n  File \"<ipython-input-29-8db39063a536>\", line 15, in print_values_copy\n  File \"/home/felix/cortexcontrol/python/lib/python3.7/copy.py\", line 106, in copy\n    return _reconstruct(x, None, *rv)\n  File \"/home/felix/cortexcontrol/python/lib/python3.7/copy.py\", line 274, in _reconstruct\n    y = func(*args)\nModuleNotFoundError: No module named 'numpy'\n"
     ]
    }
   ],
   "source": [
    "# - Print type of elements in lNumbers in cortexcontrol-console\n",
    "@DC.teleport_function\n",
    "def print_element_type(lNumbers: list):\n",
    "    print(type(lNumbers[0]))\n",
    "\n",
    "# - Try using (deep-)copy on lNumbers\n",
    "@DC.teleport_function\n",
    "def print_element_type_copy(lNumbers: list):\n",
    "    # - List is on correct side\n",
    "    print(type(lNumbers))\n",
    "    # - ...its elements not necessarily\n",
    "    print(type(lNumbers[0]))\n",
    "    # - (deep-)copy does not help\n",
    "    lNumbers = copy.copy(lNumbers)\n",
    "    # lNumbers = copy.deepcopy(lNumbers)\n",
    "    print(type(lNumbers[0]))\n",
    "\n",
    "# - Elements in lNumbers are not normal integers\n",
    "lNumbers = list(np.random.randint(10, size=5))\n",
    "print(type(lNumbers[0]))\n",
    "\n",
    "print_element_type(lNumbers)  # - Will print type of first element in lNumbers in cortexcontrol-console.\n",
    "                              #   Not that it is a netref.\n",
    "print_element_type_copy(lNumbers)  # - Will throw an exception"
   ]
  },
  {
   "cell_type": "code",
   "execution_count": 30,
   "metadata": {},
   "outputs": [],
   "source": [
    "# - Convert elements to normal integers\n",
    "lNumbers = [int(n) for n in lNumbers]\n",
    "print_values(lNumbers)  # - Will print type of new elements in cortexcontrol-console"
   ]
  },
  {
   "cell_type": "markdown",
   "metadata": {},
   "source": [
    "<b>In summary, there are three rules that you should always respect:</b>\n",
    "1. Do not use non-built-in types on the cortexcontrol side of the connection.\n",
    "2. Avoid loops containing objects on the other side of the connection.\n",
    "3. Copy data to the corresponding side before processing them. Be careful with nested types.\n",
    "\n",
    "In the following we will see a few tools that help complying with these rules."
   ]
  },
  {
   "cell_type": "markdown",
   "metadata": {},
   "source": [
    "### Defining objects and functions on cortexcontrol-side\n",
    "\n",
    "<font color=\"red\">\n",
    "    \n",
    "- Difference between where object lives and where it is defined.\n",
    "- How to include objects, modules and functions in cortexcontrol-namespace\n",
    "\n",
    "- Define functions on cortexcontrol-side (teleport_function, remote_function)\n",
    "\n",
    "- Make sure objects (function arguments) are only built-in types\n",
    "- Make sure objects (function arguments) live on correct side of connection\n",
    "</font>\n"
   ]
  },
  {
   "cell_type": "markdown",
   "metadata": {},
   "source": [
    "\n"
   ]
  },
  {
   "cell_type": "markdown",
   "metadata": {},
   "source": [
    "#### Colophon\n",
    "Live notebook requires a Jupyter Notebook server.\n",
    "\n",
    "GitLab repository location: https://gitlab.com/ai-ctx/network-architectures/blob/master/Projects/Documentation/FFCLIAF%20and%20RecCLIAF.ipynb"
   ]
  },
  {
   "cell_type": "code",
   "execution_count": null,
   "metadata": {},
   "outputs": [],
   "source": []
  }
 ],
 "metadata": {
  "kernelspec": {
   "display_name": "Python 3",
   "language": "python",
   "name": "python3"
  },
  "language_info": {
   "codemirror_mode": {
    "name": "ipython",
    "version": 3
   },
   "file_extension": ".py",
   "mimetype": "text/x-python",
   "name": "python",
   "nbconvert_exporter": "python",
   "pygments_lexer": "ipython3",
   "version": "3.7.2"
  },
  "toc": {
   "nav_menu": {},
   "number_sections": false,
   "sideBar": true,
   "skip_h1_title": false,
   "title_cell": "Table of Contents",
   "title_sidebar": "Contents",
   "toc_cell": false,
   "toc_position": {
    "height": "calc(100% - 180px)",
    "left": "10px",
    "top": "150px",
    "width": "430px"
   },
   "toc_section_display": true,
   "toc_window_display": true
  },
  "varInspector": {
   "cols": {
    "lenName": 16,
    "lenType": 16,
    "lenVar": 40
   },
   "kernels_config": {
    "python": {
     "delete_cmd_postfix": "",
     "delete_cmd_prefix": "del ",
     "library": "var_list.py",
     "varRefreshCmd": "print(var_dic_list())"
    },
    "r": {
     "delete_cmd_postfix": ") ",
     "delete_cmd_prefix": "rm(",
     "library": "var_list.r",
     "varRefreshCmd": "cat(var_dic_list()) "
    }
   },
   "types_to_exclude": [
    "module",
    "function",
    "builtin_function_or_method",
    "instance",
    "_Feature"
   ],
   "window_display": false
  }
 },
 "nbformat": 4,
 "nbformat_minor": 2
}
