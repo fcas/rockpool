{
 "cells": [
  {
   "cell_type": "markdown",
   "id": "c4e63e82-63ed-4f2c-8c05-4ae8711f5470",
   "metadata": {},
   "source": [
    "# Evaluation of the statistical effect of \"Divisive Normalization\"\n",
    "---\n",
    "\n",
    "As we already mentioned in the report, \"divisive normalization\" (DN) distorts the statistics of the input spikes. This distortion has two forms:\n",
    "- **time correlation distortion**: for each individual input channel,\n",
    "- **cross-channel correlation distortion**: across different input channels.\n",
    "\n",
    "*As an example of former*: consider an input channel in which spikes always appear in clusters. What happens is that in this case, because of using an LFSR with pseudo-random code for producing the output spikes, the cluster correlation disappears completely.\n",
    "\n",
    "*As an example of the latter*: consider two input channels that have the property thet they cannot fire simolteneously. Intutively speaking, these two channel have a negative correlation. However, since we use the same LFSR to produce the output spikes in both channels, the output spikes are **most of the time** positively correlated. This is simply beacuse if the LFSR number is very large, none of the channels can fire and viseversa if the LFSR number is very low, both channels will fire, thus, a positive correlation. \n",
    "\n",
    "In this file, we are going to investigate these effects more precisely using numerical simulations.\n",
    "\n"
   ]
  },
  {
   "cell_type": "markdown",
   "id": "f427b859-b0ba-442c-ae08-9fb926b6e064",
   "metadata": {
    "tags": []
   },
   "source": [
    "## Required packages\n",
    "Note that we may receive a warning due to JAX package. We may ignore this warning.\n"
   ]
  },
  {
   "cell_type": "code",
   "execution_count": null,
   "id": "8aa0d134-44e9-4475-8fe0-f1175a05d390",
   "metadata": {},
   "outputs": [],
   "source": [
    "# required packages\n",
    "# avoid printing output due to JAX warnings\n",
    "\n",
    "import numpy as np\n",
    "import matplotlib.pyplot as plt\n",
    "\n",
    "\n",
    "from scipy.special import ndtri\n",
    "\n",
    "from scipy import signal\n",
    "\n",
    "# we turn off the warnings from JAX\n",
    "import sys\n",
    "import warnings\n",
    "\n",
    "\n",
    "# divisive normalization module and axiliary functions\n",
    "from xylo_divisive_normalisation import DivisiveNormalisation, build_lfsr\n",
    "\n",
    "from simulation_divisive_normlisation import joint_rv_generator\n",
    ";\n",
    "\n",
    "\n"
   ]
  },
  {
   "cell_type": "markdown",
   "id": "22f2f7b1-9035-46b8-96d4-51daab995ac1",
   "metadata": {},
   "source": [
    "## Setting the parameters for the simulation\n",
    "Here we set the parameters of the DN module."
   ]
  },
  {
   "cell_type": "code",
   "execution_count": 93,
   "id": "a4226969-8697-4cfa-886a-82ca4d780e16",
   "metadata": {},
   "outputs": [],
   "source": [
    "## set the parameters for the simulation\n",
    "\n",
    "shape = (2, 1)  # shape of the Module\n",
    "\n",
    "chan_num = 2  # number of input channels (for correlation only 2 is enough)\n",
    "\n",
    "bits_counter = 10  # number of bits in counter\n",
    "E_frame_counter = np.zeros(chan_num)  # initialize internal counters to 0\n",
    "\n",
    "IAF_counter = np.zeros(chan_num)  # initialize the internal state of IAF counters\n",
    "\n",
    "bits_lowpass = 16  # number of bits for implementation of low-pass filter\n",
    "bits_shift_lowpass = 5  # number of bit shifts for low-pass filter\n",
    "init_lowpass = 0  # initial value of low-pass filter\n",
    "\n",
    "fs = 10e3  # global clock frequency in Hz\n",
    "\n",
    "frame_dt = 50e-3  # frame duration in sec\n",
    "\n",
    "bits_lfsr = 10  # number of LFSR bits\n",
    "\n",
    "lfsr_filename = './lfsr_data.txt'  # file name for loading the LFSR code\n",
    "code_lfsr = build_lfsr(lfsr_filename)  # build the LFSR code\n",
    "\n",
    "p_local = 12  # ratio  between the local and global clock (should be an even number)\n"
   ]
  },
  {
   "cell_type": "markdown",
   "id": "95a81ad2-1ee8-4960-8e40-2eefa1b5e1ea",
   "metadata": {},
   "source": [
    "# Test 1: spikes indepndent across channels and time\n",
    "---\n",
    "As our first example, we consider two independent Poisson spike processes. \n",
    "\n",
    "## Checking the cross-channel correlation\n",
    "The cross channel correlation of this process is 0 due to the independence. Then, we apply DN and see how much correlation is created between the two channels.\n"
   ]
  },
  {
   "cell_type": "code",
   "execution_count": 94,
   "id": "334e0538-9249-41fa-ba83-7677c31ecf8e",
   "metadata": {},
   "outputs": [
    {
     "name": "stdout",
     "output_type": "stream",
     "text": [
      "\n",
      " =============== Test 1 ===============\n",
      "empirical rate at the input: [ 998.1 1010.9] firings/sec\n",
      "empirical correlation factor at the input: 0.0005556467940032656\n",
      "\n",
      "\n",
      "empirical rate at the output: [117.2 116.6] firings/sec\n",
      "empirical correlation factor at the output: 0.2242236227654392\n"
     ]
    }
   ],
   "source": [
    "## Test 1:\n",
    "# see how across_channel independent input spikes get statistically correlated\n",
    "# as a result of using common LFSRs in the implementation\n",
    "# no correlation in time\n",
    "\n",
    "\n",
    "print('\\n', '='*15, \"Test 1\", '='*15)\n",
    "\n",
    "sim_time = 10  # simulation time in sec\n",
    "num_in_sample = np.ceil(fs * sim_time).astype('int')  # number of samples in input spikes signals\n",
    "\n",
    "# probability of firing of the Poisson point process\n",
    "poisson_prob_in = 0.1\n",
    "\n",
    "input_rate = np.ceil(fs * poisson_prob_in).astype('int')\n",
    "\n",
    "# joint histogram and spike generation\n",
    "marginal_hist = np.array([1 - poisson_prob_in, poisson_prob_in]).reshape(2, 1)\n",
    "joint_hist = np.outer(marginal_hist, marginal_hist)\n",
    "\n",
    "input_spike = joint_rv_generator(joint_hist, num_in_sample)\n",
    "\n",
    "# build the 2-channel simulator\n",
    "simulator_test1 = DivisiveNormalisation(shape=(chan_num, 1), chan_num=chan_num, bits_counter=bits_counter,\n",
    "                                        bits_lowpass=bits_lowpass,\n",
    "                                        bits_shift_lowpass=bits_shift_lowpass, fs=fs, frame_dt=frame_dt,\n",
    "                                        bits_lfsr=bits_lfsr, code_lfsr=code_lfsr, p_local=p_local)\n",
    "\n",
    "# simulate the system\n",
    "output_spike, state = simulator_test1.evolve(input_spike=input_spike, record=True)\n",
    "\n",
    "# compute the metrics\n",
    "corr_factor_mat_in, cov_mat_in, mean_vec_in = simulator_test1.corr_metric(input_spike)\n",
    "corr_factor_mat_out, cov_mat_out, mean_vec_out = simulator_test1.corr_metric(output_spike)\n",
    "\n",
    "print(f'empirical rate at the input: {mean_vec_in*fs} firings/sec')\n",
    "print(f'empirical correlation factor at the input: {corr_factor_mat_in[0,1]}\\n\\n')\n",
    "\n",
    "print(f'empirical rate at the output: {mean_vec_out*fs*p_local} firings/sec')\n",
    "print(f'empirical correlation factor at the output: {corr_factor_mat_out[0,1]}')\n",
    "\n"
   ]
  },
  {
   "cell_type": "markdown",
   "id": "db9e9a55-cc6c-4579-b21b-8fc6fe7065b5",
   "metadata": {},
   "source": [
    "## Checking effect of DN on the output rate\n",
    "\n",
    "To check that DN is indeed doing some good job in normalizing the firing rate of input spikes, we change the input rate and see how the output rate is affected.\n",
    "\n"
   ]
  },
  {
   "cell_type": "code",
   "execution_count": 95,
   "id": "8783ceaf-5803-4784-83a4-73fddbf978e1",
   "metadata": {},
   "outputs": [
    {
     "data": {
      "image/png": "[encoded data removed]",
      "text/plain": [
       "<Figure size 432x288 with 1 Axes>"
      ]
     },
     "metadata": {
      "needs_background": "light"
     },
     "output_type": "display_data"
    }
   ],
   "source": [
    "# probability of firing of the Poisson point process\n",
    "poisson_prob_in_vec = np.linspace(0.1,1,10)\n",
    "\n",
    "# vector of input & output rates\n",
    "input_rate = np.ceil(fs * poisson_prob_in_vec).astype('int')\n",
    "\n",
    "# number of simulations\n",
    "num_sim=5\n",
    "\n",
    "output_rate=np.zeros((num_sim,input_rate.size))\n",
    "\n",
    "\n",
    "\n",
    "for sim in range(num_sim):\n",
    "    for i, poisson_prob_in in enumerate(poisson_prob_in_vec):\n",
    "\n",
    "        # joint histogram and spike generation\n",
    "        marginal_hist = np.array([1 - poisson_prob_in, poisson_prob_in]).reshape(2, 1)\n",
    "        joint_hist = np.outer(marginal_hist, marginal_hist)\n",
    "\n",
    "        input_spike = joint_rv_generator(joint_hist, num_in_sample)\n",
    "\n",
    "        # use the previous simulator\n",
    "\n",
    "        # simulate the system\n",
    "        output_spike, state = simulator_test1.evolve(input_spike=input_spike, record=True)\n",
    "\n",
    "        # compute the metrics\n",
    "        corr_factor_mat_in, cov_mat_in, mean_vec_in = simulator_test1.corr_metric(output_spike)\n",
    "\n",
    "        # the output rate\n",
    "        output_rate[sim,i]=np.ceil(mean_vec_in[1]*fs*p_local).astype(int)\n",
    "        \n",
    "# plot the output rate as a function of input rate\n",
    "plt.figure(1)\n",
    "for sim in range(num_sim):\n",
    "    plt.plot(input_rate, output_rate[sim,:])\n",
    "plt.xlabel('input rate')\n",
    "plt.ylabel('output rate')\n",
    "plt.title(f'input-output rate of DN for {num_sim} simulations')\n",
    "plt.grid(True);\n",
    "plt.show()\n",
    "    \n",
    "\n",
    "    \n",
    "\n",
    "    "
   ]
  },
  {
   "cell_type": "markdown",
   "id": "88eb7517-25db-4e02-8a90-ae6086d1a1f9",
   "metadata": {},
   "source": [
    "**simple analysis**\n",
    "\n",
    "It is seen that the output rate is almost independent of the input rate. However, at lower rates there is some fluctation in output rate. This is due to the fact that at lower input rates, the counter values over frame $\\{E(t): t=0,1, \\dots\\}$ are avreaged over a very sparse set of binary-valued input firings, thus, have a higher variance. \n",
    "\n",
    "As we illustrated in the report, the ratio between the output and input firing pattern at frame $t$ is proportional to $\\frac{E(t)}{M(t)+ \\epsilon}$, which varies randomly across frames due to the random arrival of input spikes. We can plot the histogram of this ratio to gain an idea of how concentrated it is (thus, how regular the output firing would be).\n",
    "\n",
    "\n"
   ]
  },
  {
   "cell_type": "code",
   "execution_count": 98,
   "id": "a13516a3-a649-4d91-a8ca-ff280094f50b",
   "metadata": {},
   "outputs": [
    {
     "data": {
      "image/png": "[encoded data removed]",
      "text/plain": [
       "<Figure size 432x288 with 1 Axes>"
      ]
     },
     "metadata": {
      "needs_background": "light"
     },
     "output_type": "display_data"
    }
   ],
   "source": [
    "# probability of firing of the Poisson point process\n",
    "poisson_prob_in_vec = np.linspace(0.05,0.4,5)\n",
    "\n",
    "# vector of input & output rates\n",
    "input_rate = np.ceil(fs * poisson_prob_in_vec).astype('int')\n",
    "output_rate=np.zeros((num_sim,input_rate.size))\n",
    "\n",
    "for i, poisson_prob_in in enumerate(poisson_prob_in_vec):\n",
    "\n",
    "    # joint histogram and spike generation\n",
    "    marginal_hist = np.array([1 - poisson_prob_in, poisson_prob_in]).reshape(2, 1)\n",
    "    joint_hist = np.outer(marginal_hist, marginal_hist)\n",
    "\n",
    "    input_spike = joint_rv_generator(joint_hist, num_in_sample)\n",
    "\n",
    "    # use the previous simulator\n",
    "\n",
    "    # simulate the system\n",
    "    output_spike, state = simulator_test1.evolve(input_spike=input_spike, record=True)\n",
    "\n",
    "    # compute the ratio E(t)/M(t)\n",
    "    E_M=state['E'][:,0]/state['M'][:,0]\n",
    "    E_M=np.sort(E_M)\n",
    "    CCDF=np.linspace(1,0, E_M.size)\n",
    "    \n",
    "    # plot\n",
    "    plt.plot(E_M, CCDF)\n",
    "    plt.xlim([1,4])\n",
    "    plt.ylabel('CCDF')\n",
    "    plt.xlabel('Threshold on E/M')\n",
    "    plt.title(f'CCDF of E/M for diff. firing probabilities')\n",
    "    plt.grid(True)\n",
    "plt.legend(poisson_prob_in_vec)\n",
    "plt.show()\n"
   ]
  },
  {
   "cell_type": "markdown",
   "id": "67fcd5a5-7ce7-4aa3-8fba-f093e14dcbbb",
   "metadata": {},
   "source": [
    "It is seen that as the firing probability (thus, the input rate) increases, the CCDF in concentrated more and more around $1$, as we showed in our report."
   ]
  },
  {
   "cell_type": "markdown",
   "id": "0d8a2b12-0435-408f-852c-9e40b388ad48",
   "metadata": {},
   "source": [
    "# Test 2: Spikes correlated across channels but independent in time\n",
    "\n",
    "In the previous test simulation, we showed that DN makes independent spikes in different channels correlated.\n",
    "In this section, we want to investigate how DN affects the correlation between already correlated channels.\n",
    "\n",
    "For this simulation, we consider two input channels. Let us denote the binary input of these two channels at a specific time by $(I_1, I_2)$. We assume that the firings are still independent in time. So, to create cross-channel correlation we need to impose a joint probability of firing on $(I_1, I_2)$ that makes them correlated.\n",
    "\n",
    "We consider the following parametric model for the joint probability, where $\\rho \\in [0, 0.5]$ is a parametr:\n",
    "\n",
    "|prob. | 0 | 1\n",
    "|:---|:-----------------------|:--\n",
    "| 0| $1- 2 \\rho$ | $\\rho$\n",
    "| 1 | $\\rho$ | 0\n",
    "\n",
    "we can see that:\n",
    "- the marginal probability of firing for both $I_1$ and $I_2$ is given by $P(I_1=1)=P(I_2=1)=\\rho$.\n",
    "- $I_1$ and $I_2$ cannot fire at the same time because $P(I_1,I_2=(1,1))=0$.\n",
    "\n",
    "The last property indeed allows us to impose a negative correlation between the firing patterns of two channels. We perform  simulations for this case to investigate the effect of DN."
   ]
  },
  {
   "cell_type": "code",
   "execution_count": 99,
   "id": "f82d6b0b-207d-4978-a223-c988c5084728",
   "metadata": {},
   "outputs": [
    {
     "name": "stdout",
     "output_type": "stream",
     "text": [
      "\n",
      " =============== Test 2 =============== \n",
      "\n",
      "empirical rate at the input: [1000.1  990.6]\n",
      "empirical correlation factor at the input: -0.11053609018284644\n",
      "\n",
      "\n",
      "empirical rate at the output: [120.  121.7]\n",
      "empirical correlation factor at the output: 0.24831827368639878\n"
     ]
    }
   ],
   "source": [
    "## Test 2:\n",
    "# produce correlated firing patterns across channles\n",
    "# no correlation in time\n",
    "\n",
    "print('\\n', '='*15, \"Test 2\", '='*15, '\\n')\n",
    "\n",
    "sim_time = 10  # simulation time in sec\n",
    "num_in_sample = np.ceil(fs * sim_time).astype('int')  # number of samples in input spikes signals\n",
    "\n",
    "# probability of firing of the Poisson point process\n",
    "poisson_prob_in = 0.1\n",
    "\n",
    "input_rate = np.ceil(fs * poisson_prob_in).astype('int')\n",
    "\n",
    "# a toy example for creating correlation:\n",
    "# if one channel fires, the other does not\n",
    "# note that in this case \"poisson_prob_in\" should be in [0,0.5]\n",
    "joint_hist = np.zeros((2, 2))\n",
    "\n",
    "joint_hist[0, 0] = 1 - 2 * poisson_prob_in\n",
    "joint_hist[0, 1] = poisson_prob_in\n",
    "joint_hist[1, 0] = poisson_prob_in\n",
    "joint_hist[1, 1] = 0  # this avoid simultaneous firings\n",
    "\n",
    "# produce correlated spikes\n",
    "input_spike = joint_rv_generator(joint_hist, num_in_sample)\n",
    "\n",
    "# build the 2-channel simulator\n",
    "simulator_test2 = DivisiveNormalisation(shape=(chan_num, 1), chan_num=chan_num, bits_counter=bits_counter,\n",
    "                                        bits_lowpass=bits_lowpass,\n",
    "                                        bits_shift_lowpass=bits_shift_lowpass, fs=fs, frame_dt=frame_dt,\n",
    "                                        bits_lfsr=bits_lfsr, code_lfsr=code_lfsr, p_local=p_local)\n",
    "\n",
    "# simulate the system\n",
    "output_spike, state = simulator_test2.evolve(input_spike=input_spike, record=True)\n",
    "\n",
    "# compute the metrics\n",
    "corr_factor_mat_in, cov_mat_in, mean_vec_in = simulator_test2.corr_metric(input_spike)\n",
    "corr_factor_mat_out, cov_mat_out, mean_vec_out = simulator_test2.corr_metric(output_spike)\n",
    "\n",
    "print(f'empirical rate at the input: {mean_vec_in*fs}')\n",
    "print(f'empirical correlation factor at the input: {corr_factor_mat_in[0,1]}\\n\\n')\n",
    "\n",
    "print(f'empirical rate at the output: {mean_vec_out*fs*p_local}')\n",
    "print(f'empirical correlation factor at the output: {corr_factor_mat_out[0,1]}')\n",
    "\n"
   ]
  },
  {
   "cell_type": "markdown",
   "id": "80068739-d00e-47a3-ba67-09b61711f0a1",
   "metadata": {},
   "source": [
    "**remark**\n",
    "\n",
    "It is seen that the cross-channel correlation at the output is positive, which is not compatible with the negative cross-channel correlation at the input. As we already discussed, this positive correlation is artificially created due to use of the same LFSR for all channels and may create significant statistical distortion and signal processing issues in the next SNN layers."
   ]
  },
  {
   "cell_type": "markdown",
   "id": "f1e2e8cc-80a2-4802-81f4-53c385936968",
   "metadata": {},
   "source": [
    "# Test 3: spikes correlated in time but independent across channels\n",
    "\n",
    "As a last test, we consider a scenario where the input channels are independent but the firing patterns in each channel are correlated in time. This is typically the case in biological scenarios where a firing neuron cannot fire immediately after it has fired or in audio applications where firings happens in clusters as a specific frequency corresponding to a specific channel is triggered due to the presence of some keyword. \n",
    "In both cases, correlations in time contain significant information for signal processing applications such as detection and classification.\n",
    "\n",
    "In this test, we would like to investigate how the presence of LFSR distorts the time correlation. Note that for a given spike count $E(t)$ over a specific frame $t$, the LFSR output is compared (with clock frequency) with $E(t)$ and a spike is generated if it surpasses $E(t)$. Since the adjacent samples of LFSR are almost independent (pseudo-random), the spikes produced by LFSR will be almost uncorrelated in time, thus, distortion in the time correlation.\n",
    "\n",
    "## how to produce time-correlated spikes? \n",
    "Let $I_i, i=0,1,\\dots$ denote the consecutive input values in a channel (with a clock frequency) where $I_i=1$ if there is a firing. To induce time-correlation we need to produce correlated binary signal. This is unfortunately, very difficult because for $N$ binary random variables, we have a joint density over $2^N$ binary sequences. And as $N$ gets larger, it would be numerically impossible to create such a correlated sequence in a reasonable time.\n",
    "\n",
    "To avoid this problem, we use correlated Gaussian variables and apply truncation to produce binary vectors. One of the advantages of this method is that producing correlated Gaussain vectors of size $N$ simply requires producing $N$ i.i.d. Gaussian vectors and multiplying them with the square-root of the covariance matrix we desire to have, thus, the time complexity is at most of the order $O(N^2)$ or $O(N^3)$ if the square-root of the covariance is unknown.\n",
    "\n",
    "Here, we use the follwoing simple method. We produce independent zero-mean unit-variance Gaussian RVs $Z_0, Z_1, \\dots$ and pass them through a first-order filter of the form \n",
    "$$X_{n}= \\rho X_{n-1} + \\sqrt{1-\\rho^2} Z_n$$\n",
    "where $\\rho$ has an amplitude in the range $(0,1)$. The correlation of $X_0, X_1, \\dots$ can be checked to be of the form\n",
    "$$\\mathbf{E}(X_n X_{n-m})= \\rho^{|m|}.$$\n",
    "Therefore, by choosing $|\\rho|$ closer to $1$ we can create more correlated output RVs $X_0,X_1, \\dots$ whereas for $\\rho=1$ we obtain the i.i.d. input sequence $X_i=Z_i$.\n",
    "\n",
    "We can also check that all the output RVs $X_0, X_1, \\dots$ are zero-mean unit-variance Gassian variables.\n",
    "\n",
    "To convert the correlated Gaussian vector $X_0, X_1, \\dots$ to the desired binary vector we apply the following thresholding \n",
    "$$I_n=u(X_n-\\eta)$$\n",
    "where $\\eta$ is a threshold parameter and $u(.)$ is the step function. \n",
    "\n",
    "Using simple probabilistic analysis, we can show that:\n",
    "- $P(I_n=1)=P(X_n > a)= Q(a)$ where $Q(.)$ is the well-known Q-function corresponding to tail of the Gaussian PDF.\n",
    "\n",
    "- The correlation $\\mathbf{E}(I_{n} I_{n-m})=: c_I(m)$ is given by $g(c_X(m))$ in terms of the correlation $\\mathbf{E}(X_{n} X_{n-m})=: c_X(m)=\\rho^{|m|}$ where the function $g$ is given by \n",
    "$$g(s)= \\int_{0}^s \\frac{1}{2\\pi} \\exp(-\\frac{a^2}{1+t}) dt$$\n",
    "where $a$ is the value of the threshold we have selected.\n",
    "Note that $g(s)$ is an increasing function of $s$. As a result, more correlated Gaussian RVs ($X_n, X_{n-m}$) produce more correlated binary RVs ($I_n ,I_{n-m}$).\n",
    "\n",
    "\n",
    "For a given input rate:\n",
    "- we choose $a$ to fulfill the average input rate.\n",
    "- plugin the value of $a$ to compute the function $g(.)$. Then, we adjust the correlation parameter $\\rho$ such that we obtain the desired correlation for the output binary sequence $I_0, I_1, \\dots$.\n",
    "\n",
    "The following simulation applies this technique. To illustrate the effect of time correlation, we define a parameter **corr_length** which specifies until which depth (delay in time) we are interested to compute the time-correlation.\n",
    "\n",
    "**Important remark**\n",
    "\n",
    "One should note that the input spikes have a sampling rate given by the global clock frequency $fs$ whereas the output spikes have a higher clock rate $p_{local} f_s$ where $p_{local}$ is the ratio between the local and global clock frequency. Because of this difference in time scales, we need to compute the correlation of the output spikes over $p_{local} \\times$**corr-length**, and then downsample it by a factor $p_{local}$ to obtain comparable correlations between the input and the output.\n"
   ]
  },
  {
   "cell_type": "code",
   "execution_count": 100,
   "id": "bfc95569-2909-4810-9fdb-ffbe21fd3b77",
   "metadata": {},
   "outputs": [
    {
     "name": "stdout",
     "output_type": "stream",
     "text": [
      "\n",
      " =============== Test 3 =============== \n",
      "\n"
     ]
    },
    {
     "data": {
      "text/plain": [
       "<matplotlib.colorbar.Colorbar at 0x7fcb81333f70>"
      ]
     },
     "execution_count": 100,
     "metadata": {},
     "output_type": "execute_result"
    },
    {
     "data": {
      "image/png": "[encoded data removed]",
      "text/plain": [
       "<Figure size 1080x2880 with 4 Axes>"
      ]
     },
     "metadata": {
      "needs_background": "light"
     },
     "output_type": "display_data"
    }
   ],
   "source": [
    "## Test 3\n",
    "# take the effect of time correlation into account\n",
    "print('\\n', '='*15, \"Test 3\", '='*15, '\\n')\n",
    "\n",
    "sim_time = 10  # simulation time in sec\n",
    "num_in_sample = np.ceil(fs * sim_time).astype('int')  # number of samples in input spikes signals\n",
    "\n",
    "# Method:\n",
    "# (i) produce correlated Gaussian variables (X1,X2)\n",
    "# (ii) produce spike as (u(X1-trunc_thre), u(x2-trunc_thre)) with step function u(.)\n",
    "# and a truncation threshold \"trunc_thre\"\n",
    "\n",
    "# compute the truncation_threshold\n",
    "corr_factor = 0.999  # correlation factor\n",
    "poisson_prob_in = 0.1  # firing rates\n",
    "\n",
    "trunc_thre = ndtri(1 - poisson_prob_in)\n",
    "\n",
    "# i.i.d. Gaussain RV\n",
    "G = np.random.randn(2 * num_in_sample).reshape(num_in_sample, 2)\n",
    "\n",
    "\n",
    "# parameters of the 1-st order filter\n",
    "a_filt = np.array([1, -corr_factor])\n",
    "b_filt = np.array([np.sqrt(1 - corr_factor ** 2)])\n",
    "\n",
    "# rescale the first row of G to converge to the stationary solution at the first step\n",
    "G[0,:]/=b_filt\n",
    "\n",
    "G_corr = signal.lfilter(b_filt, a_filt, G, axis=0)\n",
    "\n",
    "# quantize using the threshold to obtain the correlated spikes (correlation just in time)\n",
    "input_spike=(G_corr>trunc_thre)\n",
    "\n",
    "# build the 2-channel simulator\n",
    "# change p_local for short-correlation checking\n",
    "p_local=2\n",
    "simulator_test3 = DivisiveNormalisation(shape=(chan_num, 1), chan_num=chan_num, bits_counter=bits_counter,\n",
    "                                        bits_lowpass=bits_lowpass,\n",
    "                                        bits_shift_lowpass=bits_shift_lowpass, fs=fs, frame_dt=frame_dt,\n",
    "                                        bits_lfsr=bits_lfsr, code_lfsr=code_lfsr, p_local=p_local)\n",
    "\n",
    "# simulate the system\n",
    "output_spike, state = simulator_test3.evolve(input_spike=input_spike, record=True)\n",
    "\n",
    "# also investigate the correlation across time\n",
    "# compute the correlation up to a specific delay \"corr_length\"\n",
    "# method: convert each channel into \"corr_length\" channels each having\n",
    "# a different delay\n",
    "\n",
    "corr_length=10\n",
    "channel=1\n",
    "\n",
    "# at the input\n",
    "delay_sample_in=np.zeros((input_spike.shape[0]-corr_length+1, corr_length))\n",
    "for i in range(corr_length):\n",
    "    delay_sample_in[:,i]=input_spike[i:i+delay_sample_in.shape[0], channel]\n",
    "\n",
    "\n",
    "# at the output\n",
    "# note that the time-scale of output is smaller by a factor p_local\n",
    "corr_length_out=p_local*corr_length\n",
    "delay_sample_out=np.zeros((output_spike.shape[0]-corr_length_out+1, corr_length_out))\n",
    "\n",
    "for i in range(corr_length_out):\n",
    "    delay_sample_out[:,i]=output_spike[i:i+delay_sample_out.shape[0], channel]\n",
    "\n",
    "# compute covariance matrix and correlation factors\n",
    "corr_factor_mat_in, cov_mat_in, mean_vec_in = simulator_test3.corr_metric(delay_sample_in)\n",
    "corr_factor_mat_out, cov_mat_out, mean_vec_out = simulator_test3.corr_metric(delay_sample_out)\n",
    "\n",
    "# average out corr_factor_mat_out by a factor p_local\n",
    "corr_factor_mat_out_adjusted=corr_factor_mat_out[::p_local, ::p_local]\n",
    "\n",
    "\n",
    "\"\"\"\n",
    "print(f'* input * empirical correlation-factor matrix for channel {channel}: {corr_factor_mat_in}')\n",
    "print(f'* output * empirical correlation-factor matrix for channel {channel}: {corr_factor_mat_out}')\n",
    "\"\"\"\n",
    "    \n",
    "    \n",
    "plt.figure(3, figsize=[15,40])\n",
    "plt.subplot(121)\n",
    "fig=plt.imshow(np.abs(corr_factor_mat_in))\n",
    "plt.colorbar(fig, shrink=0.13)\n",
    "plt.title(f'* input * correlation in time (length={corr_length})')\n",
    "plt.ylabel('channel #1')\n",
    "plt.subplot(122)\n",
    "fig=plt.imshow(np.abs(corr_factor_mat_out_adjusted))\n",
    "plt.title(f'* output * correlation in time (length={corr_length})')\n",
    "plt.colorbar(fig, shrink=0.13)\n"
   ]
  },
  {
   "cell_type": "markdown",
   "id": "e87b6921-fb3d-461f-aa3b-b954e5890ce1",
   "metadata": {},
   "source": [
    "The simulation results show that eventhough the input spikes are highly correlated, the resulting output spikes have almost zero-correlation even over very short intervals we have simulated here. As we explained before, this is due to the fact that the LFSR adopted in DN, always generates almost i.i.d. spikes, thus, it destroys the time-correlation of the input spikes."
   ]
  },
  {
   "cell_type": "markdown",
   "id": "b699ac7d-e64b-41f0-9f74-b19d437d02b2",
   "metadata": {},
   "source": [
    "# Symmary and conclusion\n",
    "In this report, we investigated the performance of the proposed devisive normalization scheme using numerical simulations. We showed that\n",
    "- the proposed method is able to normalize very well the output spike rate over a large range of input rates, although for very small rates it causes much larger statistical fluctuations for the output rate.\n",
    "\n",
    "- the shared LFSR adopted in the design may create significant statistical distortion in the input spike channels. We illustrated this by studying two types of correlation: cross-channel correlation (between different channels) and time correlation (for each channel across time)."
   ]
  }
 ],
 "metadata": {
  "kernelspec": {
   "display_name": "Python 3.8.11 64-bit ('py38_rp': conda)",
   "language": "python",
   "name": "python3811jvsc74a57bd066b54125119cf94c926e39185f6efd67b2fa71fd36ac0e57c42907b71379b03e"
  },
  "language_info": {
   "codemirror_mode": {
    "name": "ipython",
    "version": 3
   },
   "file_extension": ".py",
   "mimetype": "text/x-python",
   "name": "python",
   "nbconvert_exporter": "python",
   "pygments_lexer": "ipython3",
   "version": "3.8.11"
  }
 },
 "nbformat": 4,
 "nbformat_minor": 5
}
