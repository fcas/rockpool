{
 "cells": [
  {
   "cell_type": "code",
   "execution_count": 4,
   "metadata": {},
   "outputs": [
    {
     "ename": "ImportError",
     "evalue": "cannot import name 'LIFBaseTorch' from 'rockpool.nn.modules' (/home/mina/tools/rockpool/rockpool/nn/modules/__init__.py)",
     "output_type": "error",
     "traceback": [
      "\u001b[0;31m---------------------------------------------------------------------------\u001b[0m",
      "\u001b[0;31mImportError\u001b[0m                               Traceback (most recent call last)",
      "\u001b[1;32m/home/mina/tools/rockpool/tests/tests_default/ahp_Xylosim_MapperTest.ipynb Cell 1'\u001b[0m in \u001b[0;36m<cell line: 8>\u001b[0;34m()\u001b[0m\n\u001b[1;32m      <a href='vscode-notebook-cell:/home/mina/tools/rockpool/tests/tests_default/ahp_Xylosim_MapperTest.ipynb#ch0000000?line=5'>6</a>\u001b[0m \u001b[39mfrom\u001b[39;00m \u001b[39mrockpool\u001b[39;00m\u001b[39m.\u001b[39;00m\u001b[39mdevices\u001b[39;00m\u001b[39m.\u001b[39;00m\u001b[39mxylo\u001b[39;00m \u001b[39mimport\u001b[39;00m config_from_specification\n\u001b[1;32m      <a href='vscode-notebook-cell:/home/mina/tools/rockpool/tests/tests_default/ahp_Xylosim_MapperTest.ipynb#ch0000000?line=6'>7</a>\u001b[0m \u001b[39mfrom\u001b[39;00m \u001b[39mrockpool\u001b[39;00m\u001b[39m.\u001b[39;00m\u001b[39mdevices\u001b[39;00m\u001b[39m.\u001b[39;00m\u001b[39mxylo\u001b[39;00m \u001b[39mimport\u001b[39;00m XyloSim\n\u001b[0;32m----> <a href='vscode-notebook-cell:/home/mina/tools/rockpool/tests/tests_default/ahp_Xylosim_MapperTest.ipynb#ch0000000?line=7'>8</a>\u001b[0m \u001b[39mfrom\u001b[39;00m \u001b[39mrockpool\u001b[39;00m\u001b[39m.\u001b[39;00m\u001b[39mnn\u001b[39;00m\u001b[39m.\u001b[39;00m\u001b[39mmodules\u001b[39;00m \u001b[39mimport\u001b[39;00m LinearTorch, LIFTorch, ExpSynTorch, LIFBitshiftTorch, aLIFTorch, LIFBaseTorch\n\u001b[1;32m      <a href='vscode-notebook-cell:/home/mina/tools/rockpool/tests/tests_default/ahp_Xylosim_MapperTest.ipynb#ch0000000?line=8'>9</a>\u001b[0m \u001b[39mfrom\u001b[39;00m \u001b[39mrockpool\u001b[39;00m\u001b[39m.\u001b[39;00m\u001b[39mnn\u001b[39;00m\u001b[39m.\u001b[39;00m\u001b[39mcombinators\u001b[39;00m \u001b[39mimport\u001b[39;00m Sequential\n\u001b[1;32m     <a href='vscode-notebook-cell:/home/mina/tools/rockpool/tests/tests_default/ahp_Xylosim_MapperTest.ipynb#ch0000000?line=9'>10</a>\u001b[0m \u001b[39mfrom\u001b[39;00m \u001b[39mrockpool\u001b[39;00m\u001b[39m.\u001b[39;00m\u001b[39mparameters\u001b[39;00m \u001b[39mimport\u001b[39;00m Constant\n",
      "\u001b[0;31mImportError\u001b[0m: cannot import name 'LIFBaseTorch' from 'rockpool.nn.modules' (/home/mina/tools/rockpool/rockpool/nn/modules/__init__.py)"
     ]
    }
   ],
   "source": [
    "\n",
    "import numpy as np\n",
    "import torch\n",
    "#RockPool imports\n",
    "from rockpool.devices import xylo as x\n",
    "from rockpool.transform import quantize_methods as q\n",
    "from rockpool.devices.xylo import config_from_specification\n",
    "from rockpool.devices.xylo import XyloSim\n",
    "from rockpool.nn.modules import LinearTorch, LIFTorch, ExpSynTorch, LIFBitshiftTorch, aLIFTorch\n",
    "from rockpool.nn.combinators import Sequential\n",
    "from rockpool.parameters import Constant\n"
   ]
  },
  {
   "cell_type": "code",
   "execution_count": 2,
   "metadata": {},
   "outputs": [],
   "source": [
    "def ahp_snn(Nin=16, Nhid1=256, Nout=2, tau_mem = Constant(0.02), tau_syn = Constant(0.02), dt=0.001, wahp = -0.8):\n",
    "\n",
    "    input_layer = LinearTorch((Nin, Nhid1), has_bias=False)\n",
    "   \n",
    "    hid_layer1 = aLIFTorch((Nhid1, Nhid1), tau_syn=tau_syn, tau_mem=tau_mem, threshold=Constant(1.0), \n",
    "    max_spikes_per_dt = 31,learning_window=0.5, bias=Constant(0.0), has_ahp = True, w_ahp = Constant(torch.ones(Nhid1,1)*wahp), dt=dt)\n",
    "    \n",
    "    lin_out = LinearTorch((Nhid1, Nout), has_bias = False)\n",
    "\n",
    "    spk_out = LIFTorch((Nout, Nout), tau_syn=tau_syn, tau_mem=tau_mem, threshold=Constant(1e6), \n",
    "    max_spikes_per_dt = 1,learning_window=0.5, bias=Constant(0.0),dt=dt)\n",
    "\n",
    "    \n",
    "    model = Sequential(input_layer, hid_layer1, lin_out, spk_out)\n",
    "    \n",
    "    return model "
   ]
  },
  {
   "cell_type": "code",
   "execution_count": 3,
   "metadata": {},
   "outputs": [
    {
     "name": "stdout",
     "output_type": "stream",
     "text": [
      "TorchSequential  with shape (16, 2) {\n",
      "    LinearTorch '0_LinearTorch' with shape (16, 256)\n",
      "    aLIFTorch '1_aLIFTorch' with shape (256, 256)\n",
      "    LinearTorch '2_LinearTorch' with shape (256, 2)\n",
      "    LIFTorch '3_LIFTorch' with shape (2, 2)\n",
      "}\n"
     ]
    }
   ],
   "source": [
    "# trained model in RockPool\n",
    "# trained_model =  'models/' + 'wahp=-0_8_HeyNet_ahpLif_onelayer_model.json'\n",
    "trained_model = 'models/for_mapper_wahp=-0_8_HeyNet_ahpLif_onelayer_model_batchsize=256_lr=0_0001_acc=0_572.json'\n",
    "# building an instance of architecture and loading trained model into it\n",
    "model = ahp_snn()\n",
    "print(model)\n",
    "model.load(trained_model)\n",
    "g = model.as_graph()\n",
    "spec = x.mapper(g, weight_dtype='float', threshold_dtype='float', \n",
    "                   dash_dtype='float')"
   ]
  },
  {
   "cell_type": "code",
   "execution_count": null,
   "metadata": {},
   "outputs": [],
   "source": [
    "spec"
   ]
  },
  {
   "cell_type": "code",
   "execution_count": null,
   "metadata": {},
   "outputs": [],
   "source": []
  },
  {
   "cell_type": "code",
   "execution_count": null,
   "metadata": {},
   "outputs": [],
   "source": []
  }
 ],
 "metadata": {
  "interpreter": {
   "hash": "f7fd9ef7b31f6924d43d4d567b59fd1d0198dc1377f552c59e4333b5446b5bdc"
  },
  "kernelspec": {
   "display_name": "Python 3.8.7 64-bit ('dev_rp')",
   "language": "python",
   "name": "python3"
  },
  "language_info": {
   "codemirror_mode": {
    "name": "ipython",
    "version": 3
   },
   "file_extension": ".py",
   "mimetype": "text/x-python",
   "name": "python",
   "nbconvert_exporter": "python",
   "pygments_lexer": "ipython3",
   "version": "3.8.7"
  },
  "orig_nbformat": 4
 },
 "nbformat": 4,
 "nbformat_minor": 2
}
